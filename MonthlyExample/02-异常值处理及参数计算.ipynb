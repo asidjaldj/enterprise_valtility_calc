{
 "cells": [
  {
   "cell_type": "markdown",
   "metadata": {
    "toc": true
   },
   "source": [
    "<h1>Table of Contents<span class=\"tocSkip\"></span></h1>\n",
    "<div class=\"toc\"><ul class=\"toc-item\"><li><span><a href=\"#读取\" data-toc-modified-id=\"读取-1\"><span class=\"toc-item-num\">1&nbsp;&nbsp;</span>读取</a></span><ul class=\"toc-item\"><li><span><a href=\"#调整参数X18(临时更改)\" data-toc-modified-id=\"调整参数X18(临时更改)-1.1\"><span class=\"toc-item-num\">1.1&nbsp;&nbsp;</span>调整参数X18(临时更改)</a></span></li></ul></li><li><span><a href=\"#划分行业\" data-toc-modified-id=\"划分行业-2\"><span class=\"toc-item-num\">2&nbsp;&nbsp;</span>划分行业</a></span></li><li><span><a href=\"#异常值处理\" data-toc-modified-id=\"异常值处理-3\"><span class=\"toc-item-num\">3&nbsp;&nbsp;</span>异常值处理</a></span><ul class=\"toc-item\"><li><span><a href=\"#计算均值和标准差\" data-toc-modified-id=\"计算均值和标准差-3.1\"><span class=\"toc-item-num\">3.1&nbsp;&nbsp;</span>计算均值和标准差</a></span></li><li><span><a href=\"#空值填充\" data-toc-modified-id=\"空值填充-3.2\"><span class=\"toc-item-num\">3.2&nbsp;&nbsp;</span>空值填充</a></span></li><li><span><a href=\"#计算取值范围\" data-toc-modified-id=\"计算取值范围-3.3\"><span class=\"toc-item-num\">3.3&nbsp;&nbsp;</span>计算取值范围</a></span></li><li><span><a href=\"#将非0的数据标准化\" data-toc-modified-id=\"将非0的数据标准化-3.4\"><span class=\"toc-item-num\">3.4&nbsp;&nbsp;</span>将非0的数据标准化</a></span></li><li><span><a href=\"#重新计算平均值\" data-toc-modified-id=\"重新计算平均值-3.5\"><span class=\"toc-item-num\">3.5&nbsp;&nbsp;</span>重新计算平均值</a></span></li><li><span><a href=\"#join\" data-toc-modified-id=\"join-3.6\"><span class=\"toc-item-num\">3.6&nbsp;&nbsp;</span>join</a></span></li></ul></li><li><span><a href=\"#行业指标调节参数计算\" data-toc-modified-id=\"行业指标调节参数计算-4\"><span class=\"toc-item-num\">4&nbsp;&nbsp;</span>行业指标调节参数计算</a></span><ul class=\"toc-item\"><li><span><a href=\"#调节参数计算\" data-toc-modified-id=\"调节参数计算-4.1\"><span class=\"toc-item-num\">4.1&nbsp;&nbsp;</span>调节参数计算</a></span></li><li><span><a href=\"#调节参数存储\" data-toc-modified-id=\"调节参数存储-4.2\"><span class=\"toc-item-num\">4.2&nbsp;&nbsp;</span>调节参数存储</a></span><ul class=\"toc-item\"><li><span><a href=\"#保存\" data-toc-modified-id=\"保存-4.2.1\"><span class=\"toc-item-num\">4.2.1&nbsp;&nbsp;</span>保存</a></span></li></ul></li></ul></li><li><span><a href=\"#企业规模调节参数\" data-toc-modified-id=\"企业规模调节参数-5\"><span class=\"toc-item-num\">5&nbsp;&nbsp;</span>企业规模调节参数</a></span><ul class=\"toc-item\"><li><span><a href=\"#划分规模\" data-toc-modified-id=\"划分规模-5.1\"><span class=\"toc-item-num\">5.1&nbsp;&nbsp;</span>划分规模</a></span></li><li><span><a href=\"#按规模计算平均值\" data-toc-modified-id=\"按规模计算平均值-5.2\"><span class=\"toc-item-num\">5.2&nbsp;&nbsp;</span>按规模计算平均值</a></span></li><li><span><a href=\"#调节参数计算\" data-toc-modified-id=\"调节参数计算-5.3\"><span class=\"toc-item-num\">5.3&nbsp;&nbsp;</span>调节参数计算</a></span></li><li><span><a href=\"#调节参数存储\" data-toc-modified-id=\"调节参数存储-5.4\"><span class=\"toc-item-num\">5.4&nbsp;&nbsp;</span>调节参数存储</a></span><ul class=\"toc-item\"><li><span><a href=\"#保存\" data-toc-modified-id=\"保存-5.4.1\"><span class=\"toc-item-num\">5.4.1&nbsp;&nbsp;</span>保存</a></span></li></ul></li></ul></li><li><span><a href=\"#归一化处理(min-max标准化)\" data-toc-modified-id=\"归一化处理(min-max标准化)-6\"><span class=\"toc-item-num\">6&nbsp;&nbsp;</span>归一化处理(min-max标准化)</a></span></li><li><span><a href=\"#保存\" data-toc-modified-id=\"保存-7\"><span class=\"toc-item-num\">7&nbsp;&nbsp;</span>保存</a></span></li></ul></div>"
   ]
  },
  {
   "cell_type": "code",
   "execution_count": 1,
   "metadata": {
    "ExecuteTime": {
     "end_time": "2022-08-24T04:53:48.979935Z",
     "start_time": "2022-08-24T04:53:46.505431Z"
    }
   },
   "outputs": [],
   "source": [
    "import pandas as pd\n",
    "import numpy as np\n",
    "import warnings\n",
    "from tqdm import tqdm\n",
    "warnings.filterwarnings(\"ignore\")"
   ]
  },
  {
   "cell_type": "markdown",
   "metadata": {},
   "source": [
    "# 读取"
   ]
  },
  {
   "cell_type": "code",
   "execution_count": 2,
   "metadata": {
    "ExecuteTime": {
     "end_time": "2022-08-24T04:53:55.918971Z",
     "start_time": "2022-08-24T04:53:48.981898Z"
    },
    "scrolled": true
   },
   "outputs": [
    {
     "name": "stdout",
     "output_type": "stream",
     "text": [
      "<class 'pandas.core.frame.DataFrame'>\n",
      "Int64Index: 1839832 entries, 2420200000050231 to 442010000019652554\n",
      "Data columns (total 25 columns):\n",
      " #   Column      Non-Null Count    Dtype  \n",
      "---  ------      --------------    -----  \n",
      " 0   jjhklb      1839832 non-null  int64  \n",
      " 1   hydm        1839832 non-null  object \n",
      " 2   jyzt        1839832 non-null  float64\n",
      " 3   qylx        1839832 non-null  int64  \n",
      " 4   time_scale  1839832 non-null  int64  \n",
      " 5   city        1839832 non-null  object \n",
      " 6   three       1839832 non-null  int64  \n",
      " 7   scale       1839832 non-null  int64  \n",
      " 8   X1_2        1839832 non-null  int64  \n",
      " 9   X3          1839832 non-null  int64  \n",
      " 10  X4          1839832 non-null  int64  \n",
      " 11  X5          1839832 non-null  float64\n",
      " 12  X6          1839832 non-null  float64\n",
      " 13  X7          1839832 non-null  float64\n",
      " 14  X8          1839832 non-null  int64  \n",
      " 15  X9          1839832 non-null  int64  \n",
      " 16  X10         1839832 non-null  float64\n",
      " 17  X11         1839832 non-null  float64\n",
      " 18  X12         1839832 non-null  float64\n",
      " 19  X13         1839832 non-null  float64\n",
      " 20  X14         1839832 non-null  float64\n",
      " 21  X15         1839832 non-null  int64  \n",
      " 22  X16         1839832 non-null  int64  \n",
      " 23  X17         1839832 non-null  int64  \n",
      " 24  X18         1839832 non-null  int64  \n",
      "dtypes: float64(9), int64(14), object(2)\n",
      "memory usage: 365.0+ MB\n",
      "None\n"
     ]
    },
    {
     "data": {
      "text/html": [
       "<div>\n",
       "<style scoped>\n",
       "    .dataframe tbody tr th:only-of-type {\n",
       "        vertical-align: middle;\n",
       "    }\n",
       "\n",
       "    .dataframe tbody tr th {\n",
       "        vertical-align: top;\n",
       "    }\n",
       "\n",
       "    .dataframe thead th {\n",
       "        text-align: right;\n",
       "    }\n",
       "</style>\n",
       "<table border=\"1\" class=\"dataframe\">\n",
       "  <thead>\n",
       "    <tr style=\"text-align: right;\">\n",
       "      <th></th>\n",
       "      <th>jjhklb</th>\n",
       "      <th>hydm</th>\n",
       "      <th>jyzt</th>\n",
       "      <th>qylx</th>\n",
       "      <th>time_scale</th>\n",
       "      <th>city</th>\n",
       "      <th>three</th>\n",
       "      <th>scale</th>\n",
       "      <th>X1_2</th>\n",
       "      <th>X3</th>\n",
       "      <th>...</th>\n",
       "      <th>X9</th>\n",
       "      <th>X10</th>\n",
       "      <th>X11</th>\n",
       "      <th>X12</th>\n",
       "      <th>X13</th>\n",
       "      <th>X14</th>\n",
       "      <th>X15</th>\n",
       "      <th>X16</th>\n",
       "      <th>X17</th>\n",
       "      <th>X18</th>\n",
       "    </tr>\n",
       "    <tr>\n",
       "      <th>nbxh</th>\n",
       "      <th></th>\n",
       "      <th></th>\n",
       "      <th></th>\n",
       "      <th></th>\n",
       "      <th></th>\n",
       "      <th></th>\n",
       "      <th></th>\n",
       "      <th></th>\n",
       "      <th></th>\n",
       "      <th></th>\n",
       "      <th></th>\n",
       "      <th></th>\n",
       "      <th></th>\n",
       "      <th></th>\n",
       "      <th></th>\n",
       "      <th></th>\n",
       "      <th></th>\n",
       "      <th></th>\n",
       "      <th></th>\n",
       "      <th></th>\n",
       "      <th></th>\n",
       "    </tr>\n",
       "  </thead>\n",
       "  <tbody>\n",
       "    <tr>\n",
       "      <th>2420200000050231</th>\n",
       "      <td>3</td>\n",
       "      <td>R</td>\n",
       "      <td>1.0</td>\n",
       "      <td>4540</td>\n",
       "      <td>11</td>\n",
       "      <td>黄石市</td>\n",
       "      <td>3</td>\n",
       "      <td>1</td>\n",
       "      <td>1</td>\n",
       "      <td>1</td>\n",
       "      <td>...</td>\n",
       "      <td>0</td>\n",
       "      <td>0.0</td>\n",
       "      <td>0.0</td>\n",
       "      <td>0.0</td>\n",
       "      <td>0.0</td>\n",
       "      <td>0.0</td>\n",
       "      <td>0</td>\n",
       "      <td>0</td>\n",
       "      <td>0</td>\n",
       "      <td>0</td>\n",
       "    </tr>\n",
       "    <tr>\n",
       "      <th>2422800000117935</th>\n",
       "      <td>3</td>\n",
       "      <td>Z</td>\n",
       "      <td>1.0</td>\n",
       "      <td>2130</td>\n",
       "      <td>8</td>\n",
       "      <td>恩施州</td>\n",
       "      <td>3</td>\n",
       "      <td>1</td>\n",
       "      <td>1</td>\n",
       "      <td>1</td>\n",
       "      <td>...</td>\n",
       "      <td>0</td>\n",
       "      <td>0.0</td>\n",
       "      <td>0.0</td>\n",
       "      <td>0.0</td>\n",
       "      <td>0.0</td>\n",
       "      <td>0.0</td>\n",
       "      <td>0</td>\n",
       "      <td>0</td>\n",
       "      <td>0</td>\n",
       "      <td>0</td>\n",
       "    </tr>\n",
       "  </tbody>\n",
       "</table>\n",
       "<p>2 rows × 25 columns</p>\n",
       "</div>"
      ],
      "text/plain": [
       "                  jjhklb hydm  jyzt  qylx  time_scale city  three  scale  \\\n",
       "nbxh                                                                       \n",
       "2420200000050231       3    R   1.0  4540          11  黄石市      3      1   \n",
       "2422800000117935       3    Z   1.0  2130           8  恩施州      3      1   \n",
       "\n",
       "                  X1_2  X3  ...  X9  X10  X11  X12  X13  X14  X15  X16  X17  \\\n",
       "nbxh                        ...                                               \n",
       "2420200000050231     1   1  ...   0  0.0  0.0  0.0  0.0  0.0    0    0    0   \n",
       "2422800000117935     1   1  ...   0  0.0  0.0  0.0  0.0  0.0    0    0    0   \n",
       "\n",
       "                  X18  \n",
       "nbxh                   \n",
       "2420200000050231    0  \n",
       "2422800000117935    0  \n",
       "\n",
       "[2 rows x 25 columns]"
      ]
     },
     "execution_count": 2,
     "metadata": {},
     "output_type": "execute_result"
    }
   ],
   "source": [
    "path_dc = './DataCleaning_revised_1.csv'\n",
    "dc = pd.read_csv(path_dc, index_col=[0])\n",
    "print(dc.info(null_counts = True))\n",
    "dc[:2]"
   ]
  },
  {
   "cell_type": "markdown",
   "metadata": {},
   "source": [
    "## 调整参数X18(临时更改)"
   ]
  },
  {
   "cell_type": "code",
   "execution_count": 3,
   "metadata": {
    "ExecuteTime": {
     "end_time": "2022-08-24T04:53:56.073449Z",
     "start_time": "2022-08-24T04:53:55.921970Z"
    }
   },
   "outputs": [
    {
     "name": "stdout",
     "output_type": "stream",
     "text": [
      "6    184483\n",
      "2    184395\n",
      "4    184298\n",
      "3    184296\n",
      "8    184022\n",
      "9    183915\n",
      "7    183799\n",
      "1    183749\n",
      "5    183523\n",
      "0    183352\n",
      "Name: X18, dtype: int64\n"
     ]
    }
   ],
   "source": [
    "dc['X18'] = np.random.randint(0, 10, len(dc))\n",
    "print(dc['X18'].value_counts())"
   ]
  },
  {
   "cell_type": "markdown",
   "metadata": {},
   "source": [
    "# 划分行业"
   ]
  },
  {
   "cell_type": "code",
   "execution_count": 4,
   "metadata": {
    "ExecuteTime": {
     "end_time": "2022-08-24T04:53:56.198983Z",
     "start_time": "2022-08-24T04:53:56.075326Z"
    }
   },
   "outputs": [
    {
     "data": {
      "text/plain": [
       "hydm\n",
       "A     85327\n",
       "B      4130\n",
       "C    145107\n",
       "D     10719\n",
       "E    252734\n",
       "F    551677\n",
       "G     51766\n",
       "H     33122\n",
       "I     92805\n",
       "J     17864\n",
       "K     55654\n",
       "L    236948\n",
       "M    171695\n",
       "N     12732\n",
       "O     46804\n",
       "P     10253\n",
       "Q      7288\n",
       "R     41507\n",
       "S       203\n",
       "T        13\n",
       "Z     11484\n",
       "dtype: int64"
      ]
     },
     "execution_count": 4,
     "metadata": {},
     "output_type": "execute_result"
    }
   ],
   "source": [
    "grouped = dc.groupby('hydm')\n",
    "grouped.size()"
   ]
  },
  {
   "cell_type": "code",
   "execution_count": 5,
   "metadata": {
    "ExecuteTime": {
     "end_time": "2022-08-24T04:53:56.852836Z",
     "start_time": "2022-08-24T04:53:56.201986Z"
    }
   },
   "outputs": [],
   "source": [
    "group_A = grouped.get_group('A').reset_index()\n",
    "group_B = grouped.get_group('B').reset_index()\n",
    "group_C = grouped.get_group('C').reset_index()\n",
    "group_D = grouped.get_group('D').reset_index()\n",
    "group_E = grouped.get_group('E').reset_index()\n",
    "group_F = grouped.get_group('F').reset_index()\n",
    "group_G = grouped.get_group('G').reset_index()\n",
    "group_H = grouped.get_group('H').reset_index()\n",
    "group_I = grouped.get_group('I').reset_index()\n",
    "group_J = grouped.get_group('J').reset_index()\n",
    "group_K = grouped.get_group('K').reset_index()\n",
    "group_L = grouped.get_group('L').reset_index()\n",
    "group_M = grouped.get_group('M').reset_index()\n",
    "group_N = grouped.get_group('N').reset_index()\n",
    "group_O = grouped.get_group('O').reset_index()\n",
    "group_P = grouped.get_group('P').reset_index()\n",
    "group_Q = grouped.get_group('Q').reset_index()\n",
    "group_R = grouped.get_group('R').reset_index()\n",
    "group_S = grouped.get_group('S').reset_index()\n",
    "group_T = grouped.get_group('T').reset_index()\n",
    "group_Z = grouped.get_group('Z').reset_index()"
   ]
  },
  {
   "cell_type": "markdown",
   "metadata": {},
   "source": [
    "# 异常值处理"
   ]
  },
  {
   "cell_type": "markdown",
   "metadata": {},
   "source": [
    "定义超出 1.5 倍标准差范围的指标值为`异常值`     \n",
    "对于这些企业的指标取值，令其`等于` ***1.5 倍标准差***    \n",
    "为避免不同行业中各指标的取值差异比较大导致误判，**分行业**进行异常处理。\n",
    "\n",
    "> 由于存在大量的缺失值并填充为0，故只挑选!=0的值进行异常值计算\n",
    ">> 最后处理异常值的时候也只处理有值的位置"
   ]
  },
  {
   "cell_type": "markdown",
   "metadata": {},
   "source": [
    "共有8个特征包含真实值\n",
    "- X5\n",
    "- X6\n",
    "- X7\n",
    "- X10\n",
    "- X11\n",
    "- X12\n",
    "- X13\n",
    "- X14\n",
    "> 临时使X18包含随机数"
   ]
  },
  {
   "cell_type": "markdown",
   "metadata": {},
   "source": [
    "## 计算均值和标准差"
   ]
  },
  {
   "cell_type": "code",
   "execution_count": 6,
   "metadata": {
    "ExecuteTime": {
     "end_time": "2022-08-24T04:53:56.868768Z",
     "start_time": "2022-08-24T04:53:56.855784Z"
    }
   },
   "outputs": [
    {
     "name": "stdout",
     "output_type": "stream",
     "text": [
      "['A', 'B', 'C', 'D', 'E', 'F', 'G', 'H', 'I', 'J', 'K', 'L', 'M', 'N', 'O', 'P', 'Q', 'R', 'S', 'T', 'Z']\n"
     ]
    }
   ],
   "source": [
    "feature_list = ['X5', 'X6', 'X7', 'X10', 'X11', 'X12', 'X13', 'X14', 'X18']\n",
    "alphabet = [chr(i) for i in range(65, 85)] # 'B' - 'T'\n",
    "alphabet.append(chr(90)) # \"Z\"\n",
    "print(alphabet)"
   ]
  },
  {
   "cell_type": "code",
   "execution_count": 7,
   "metadata": {
    "ExecuteTime": {
     "end_time": "2022-08-24T04:53:56.884742Z",
     "start_time": "2022-08-24T04:53:56.871741Z"
    }
   },
   "outputs": [],
   "source": [
    "X5_mean, X5_std = [], []\n",
    "X6_mean, X6_std = [], []\n",
    "X7_mean, X7_std = [], []\n",
    "X10_mean, X10_std = [], []\n",
    "X11_mean, X11_std = [], []\n",
    "X12_mean, X12_std = [], []\n",
    "X13_mean, X13_std = [], []\n",
    "X14_mean, X14_std = [], []\n",
    "\n",
    "X18_mean, X18_std = [], []"
   ]
  },
  {
   "cell_type": "code",
   "execution_count": 8,
   "metadata": {
    "ExecuteTime": {
     "end_time": "2022-08-24T04:53:57.787341Z",
     "start_time": "2022-08-24T04:53:56.887710Z"
    }
   },
   "outputs": [
    {
     "name": "stderr",
     "output_type": "stream",
     "text": [
      "100%|█████████████████████████████████████████████████████████████████████████████████| 9/9 [00:00<00:00, 10.27it/s]\n"
     ]
    }
   ],
   "source": [
    "for i in tqdm(feature_list):\n",
    "    # 一下语句把固定的string改为变量名\n",
    "    temp_mean = np.str(i) + '_mean'\n",
    "    temp_std = np.str(i) + '_std'\n",
    "    for j in alphabet:\n",
    "        temp_alpha = 'group_' + np.str(j)\n",
    "        eval(temp_mean).append(eval(temp_alpha)[eval(temp_alpha)[i] > 0][i].mean())\n",
    "        # eval(temp_alpha)[eval(temp_alpha)[i] > 0][i]\n",
    "        '''\n",
    "        举例\n",
    "        group_A[group_A['X5'] > 0]\n",
    "        # dataframe\n",
    "        group_A[group_A['X5'] > 0]['X5']\n",
    "        # series\n",
    "        '''\n",
    "        eval(temp_std).append(eval(temp_alpha)[eval(temp_alpha)[i] > 0][i].std())"
   ]
  },
  {
   "cell_type": "markdown",
   "metadata": {},
   "source": [
    "## 空值填充"
   ]
  },
  {
   "cell_type": "code",
   "execution_count": 9,
   "metadata": {
    "ExecuteTime": {
     "end_time": "2022-08-24T04:53:57.802897Z",
     "start_time": "2022-08-24T04:53:57.792327Z"
    }
   },
   "outputs": [],
   "source": [
    "def fill_nan(temp_list):\n",
    "    temp_list_nan = np.isnan(temp_list)\n",
    "    for i in range(len(temp_list)):\n",
    "        if temp_list_nan[i] == True:\n",
    "            temp_list[i] = 0"
   ]
  },
  {
   "cell_type": "code",
   "execution_count": 10,
   "metadata": {
    "ExecuteTime": {
     "end_time": "2022-08-24T04:53:57.818053Z",
     "start_time": "2022-08-24T04:53:57.805249Z"
    }
   },
   "outputs": [],
   "source": [
    "for i in feature_list:\n",
    "    # 一下语句把固定的string改为变量名\n",
    "    temp_mean = np.str(i) + '_mean'\n",
    "    temp_std = np.str(i) + '_std'\n",
    "    fill_nan(eval(temp_mean))\n",
    "    fill_nan(eval(temp_std))"
   ]
  },
  {
   "cell_type": "markdown",
   "metadata": {},
   "source": [
    "## 计算取值范围"
   ]
  },
  {
   "cell_type": "code",
   "execution_count": 11,
   "metadata": {
    "ExecuteTime": {
     "end_time": "2022-08-24T04:53:57.833257Z",
     "start_time": "2022-08-24T04:53:57.821001Z"
    }
   },
   "outputs": [],
   "source": [
    "X5_min = np.array(X5_mean) - 1.5 * np.array(X5_std)\n",
    "X5_max = np.array(X5_mean) + 1.5 * np.array(X5_std)\n",
    "X6_min = np.array(X6_mean) - 1.5 * np.array(X6_std)\n",
    "X6_max = np.array(X6_mean) + 1.5 * np.array(X6_std)\n",
    "X7_min = np.array(X7_mean) - 1.5 * np.array(X7_std)\n",
    "X7_max = np.array(X7_mean) + 1.5 * np.array(X7_std)\n",
    "X10_min = np.array(X10_mean) - 1.5 * np.array(X10_std)\n",
    "X10_max = np.array(X10_mean) + 1.5 * np.array(X10_std)\n",
    "X11_min = np.array(X11_mean) - 1.5 * np.array(X11_std)\n",
    "X11_max = np.array(X11_mean) + 1.5 * np.array(X11_std)\n",
    "X12_min = np.array(X12_mean) - 1.5 * np.array(X12_std)\n",
    "X12_max = np.array(X12_mean) + 1.5 * np.array(X12_std)\n",
    "X13_min = np.array(X13_mean) - 1.5 * np.array(X13_std)\n",
    "X13_max = np.array(X13_mean) + 1.5 * np.array(X13_std)\n",
    "X14_min = np.array(X14_mean) - 1.5 * np.array(X14_std)\n",
    "X14_max = np.array(X14_mean) + 1.5 * np.array(X14_std)\n",
    "\n",
    "X18_min = np.array(X18_mean) - 1.5 * np.array(X18_std)\n",
    "X18_max = np.array(X18_mean) + 1.5 * np.array(X18_std)"
   ]
  },
  {
   "cell_type": "markdown",
   "metadata": {},
   "source": [
    "## 将非0的数据标准化"
   ]
  },
  {
   "cell_type": "code",
   "execution_count": 12,
   "metadata": {
    "ExecuteTime": {
     "end_time": "2022-08-24T04:53:58.438540Z",
     "start_time": "2022-08-24T04:53:57.837241Z"
    }
   },
   "outputs": [
    {
     "name": "stderr",
     "output_type": "stream",
     "text": [
      "100%|█████████████████████████████████████████████████████████████████████████████████| 9/9 [00:00<00:00, 15.56it/s]\n"
     ]
    }
   ],
   "source": [
    "for i in tqdm(feature_list):\n",
    "    for j in range(len(alphabet)):\n",
    "        temp_max = np.str(i) + '_max'\n",
    "        temp_min = np.str(i) + '_min'\n",
    "        temp_alpha = 'group_' + np.str(alphabet[j])\n",
    "        eval(temp_alpha).loc[(eval(temp_alpha)[i] > 0) & (eval(temp_alpha)[i] < eval(temp_min)[j]), i] = eval(temp_min)[j]\n",
    "        eval(temp_alpha).loc[eval(temp_alpha)[i] > eval(temp_max)[j], i] = eval(temp_max)[j]"
   ]
  },
  {
   "cell_type": "markdown",
   "metadata": {},
   "source": [
    "## 重新计算平均值\n",
    "\n",
    "> 计算调节指标时需要用到，由于这一步更改了列名称，固放到前面"
   ]
  },
  {
   "cell_type": "code",
   "execution_count": 13,
   "metadata": {
    "ExecuteTime": {
     "end_time": "2022-08-24T04:53:58.549243Z",
     "start_time": "2022-08-24T04:53:58.440534Z"
    }
   },
   "outputs": [
    {
     "name": "stderr",
     "output_type": "stream",
     "text": [
      "100%|█████████████████████████████████████████████████████████████████████████████████| 9/9 [00:00<00:00, 97.03it/s]\n"
     ]
    }
   ],
   "source": [
    "X5_mean = []\n",
    "X6_mean = []\n",
    "X7_mean = []\n",
    "X10_mean = []\n",
    "X11_mean = []\n",
    "X12_mean = []\n",
    "X13_mean = []\n",
    "X14_mean = []\n",
    "\n",
    "X18_mean = []\n",
    "\n",
    "for i in tqdm(feature_list):\n",
    "    # 一下语句把固定的string改为变量名\n",
    "    temp_mean = np.str(i) + '_mean'\n",
    "    for j in alphabet:\n",
    "        temp_alpha = 'group_' + np.str(j)\n",
    "        eval(temp_mean).append(eval(temp_alpha)[i].mean())"
   ]
  },
  {
   "cell_type": "markdown",
   "metadata": {},
   "source": [
    "## join"
   ]
  },
  {
   "cell_type": "markdown",
   "metadata": {},
   "source": [
    "按行业分类的数据已经经过了异常值处理，现在要将此数据放入到原文件`dc`中"
   ]
  },
  {
   "cell_type": "code",
   "execution_count": 14,
   "metadata": {
    "ExecuteTime": {
     "end_time": "2022-08-24T04:53:58.843385Z",
     "start_time": "2022-08-24T04:53:58.551239Z"
    }
   },
   "outputs": [],
   "source": [
    "# 由于要使用join函数，先将蓄更改的同名的列置为空值\n",
    "for i in feature_list:\n",
    "    dc[i] = None"
   ]
  },
  {
   "cell_type": "code",
   "execution_count": 15,
   "metadata": {
    "ExecuteTime": {
     "end_time": "2022-08-24T04:54:52.171642Z",
     "start_time": "2022-08-24T04:53:58.845212Z"
    }
   },
   "outputs": [
    {
     "name": "stderr",
     "output_type": "stream",
     "text": [
      "100%|███████████████████████████████████████████████████████████████████████████████| 21/21 [00:53<00:00,  2.54s/it]\n"
     ]
    }
   ],
   "source": [
    "for i in tqdm(alphabet):\n",
    "    temp_alpha = 'group_' + np.str(i)\n",
    "    eval(temp_alpha).set_index('nbxh', inplace=True)\n",
    "    globals()[temp_alpha] = eval(temp_alpha)[feature_list]# 提取出需要更改的列\n",
    "    # 更改列名\n",
    "    eval(temp_alpha).rename(\n",
    "        columns={'X5': 'X5_fill', 'X6': 'X6_fill', 'X7':'X7_fill', 'X10':'X10_fill', \n",
    "                 'X11': 'X11_fill', 'X12': 'X12_fill', 'X13':'X13_fill', 'X14':'X14_fill', 'X18':'X18_fill'}, \n",
    "        inplace=True)\n",
    "    dc = dc.join(eval(temp_alpha))\n",
    "    dc['X5'].fillna(dc['X5_fill'], inplace=True)\n",
    "    dc.drop(['X5_fill'], axis=1, inplace=True)\n",
    "    dc['X6'].fillna(dc['X6_fill'], inplace=True)\n",
    "    dc.drop(['X6_fill'], axis=1, inplace=True)\n",
    "    dc['X7'].fillna(dc['X7_fill'], inplace=True)\n",
    "    dc.drop(['X7_fill'], axis=1, inplace=True)\n",
    "    dc['X10'].fillna(dc['X10_fill'], inplace=True)\n",
    "    dc.drop(['X10_fill'], axis=1, inplace=True)\n",
    "    dc['X11'].fillna(dc['X11_fill'], inplace=True)\n",
    "    dc.drop(['X11_fill'], axis=1, inplace=True)\n",
    "    dc['X12'].fillna(dc['X12_fill'], inplace=True)\n",
    "    dc.drop(['X12_fill'], axis=1, inplace=True)\n",
    "    dc['X13'].fillna(dc['X13_fill'], inplace=True)\n",
    "    dc.drop(['X13_fill'], axis=1, inplace=True)\n",
    "    dc['X14'].fillna(dc['X14_fill'], inplace=True)\n",
    "    dc.drop(['X14_fill'], axis=1, inplace=True)\n",
    "    \n",
    "    dc['X18'].fillna(dc['X18_fill'], inplace=True)\n",
    "    dc.drop(['X18_fill'], axis=1, inplace=True)"
   ]
  },
  {
   "cell_type": "markdown",
   "metadata": {},
   "source": [
    "# 行业指标调节参数计算"
   ]
  },
  {
   "cell_type": "code",
   "execution_count": 16,
   "metadata": {
    "ExecuteTime": {
     "end_time": "2022-08-24T04:54:52.247558Z",
     "start_time": "2022-08-24T04:54:52.173656Z"
    }
   },
   "outputs": [],
   "source": [
    "X5_mean_all = dc['X5'].mean()\n",
    "X6_mean_all = dc['X6'].mean()\n",
    "X7_mean_all = dc['X7'].mean()\n",
    "X10_mean_all = dc['X10'].mean()\n",
    "X11_mean_all = dc['X11'].mean()\n",
    "X12_mean_all = dc['X12'].mean()\n",
    "X13_mean_all = dc['X13'].mean()\n",
    "X14_mean_all = dc['X14'].mean()\n",
    "\n",
    "X18_mean_all = dc['X18'].mean()"
   ]
  },
  {
   "cell_type": "markdown",
   "metadata": {},
   "source": [
    "## 调节参数计算"
   ]
  },
  {
   "cell_type": "code",
   "execution_count": 17,
   "metadata": {
    "ExecuteTime": {
     "end_time": "2022-08-24T04:54:52.263533Z",
     "start_time": "2022-08-24T04:54:52.250555Z"
    }
   },
   "outputs": [],
   "source": [
    "# 定义列表用来存储行业调节参数\n",
    "a_5 = []\n",
    "a_6 = []\n",
    "a_7 = []\n",
    "a_10 = []\n",
    "a_11 = []\n",
    "a_12 = []\n",
    "a_13 = []\n",
    "a_14 = []\n",
    "\n",
    "a_18 = []"
   ]
  },
  {
   "cell_type": "code",
   "execution_count": 18,
   "metadata": {
    "ExecuteTime": {
     "end_time": "2022-08-24T04:54:52.279485Z",
     "start_time": "2022-08-24T04:54:52.266512Z"
    }
   },
   "outputs": [],
   "source": [
    "industry_num = 21\n",
    "def industry_parameter(temp_mean_all, temp_mean, temp_list):\n",
    "    for i in range(industry_num):\n",
    "        if temp_mean[i] != 0:\n",
    "            temp_list.append(temp_mean_all / temp_mean[i])\n",
    "        else:\n",
    "            temp_list.append(1) "
   ]
  },
  {
   "cell_type": "code",
   "execution_count": 19,
   "metadata": {
    "ExecuteTime": {
     "end_time": "2022-08-24T04:54:52.295434Z",
     "start_time": "2022-08-24T04:54:52.281473Z"
    }
   },
   "outputs": [],
   "source": [
    "industry_parameter(X5_mean_all, X5_mean, a_5)\n",
    "industry_parameter(X6_mean_all, X6_mean, a_6)\n",
    "industry_parameter(X7_mean_all, X7_mean, a_7)\n",
    "industry_parameter(X10_mean_all, X10_mean, a_10)\n",
    "industry_parameter(X11_mean_all, X11_mean, a_11)\n",
    "industry_parameter(X12_mean_all, X12_mean, a_12)\n",
    "industry_parameter(X13_mean_all, X13_mean, a_13)\n",
    "industry_parameter(X14_mean_all, X14_mean, a_14)\n",
    "industry_parameter(X18_mean_all, X18_mean, a_18)"
   ]
  },
  {
   "cell_type": "markdown",
   "metadata": {},
   "source": [
    "## 调节参数存储"
   ]
  },
  {
   "cell_type": "code",
   "execution_count": 20,
   "metadata": {
    "ExecuteTime": {
     "end_time": "2022-08-24T04:54:52.311393Z",
     "start_time": "2022-08-24T04:54:52.297429Z"
    }
   },
   "outputs": [],
   "source": [
    "para_1 = pd.DataFrame(data=None, \n",
    "                      columns=['I_1_2', 'I_3', 'I_4', 'I_5', 'I_6', 'I_7', 'I_8', 'I_9', 'I_10', 'I_11', 'I_12', 'I_13', 'I_14', 'I_15', 'I_16', 'I_17', 'I_18'],\n",
    "                      index=alphabet)"
   ]
  },
  {
   "cell_type": "code",
   "execution_count": 21,
   "metadata": {
    "ExecuteTime": {
     "end_time": "2022-08-24T04:54:52.343307Z",
     "start_time": "2022-08-24T04:54:52.313387Z"
    }
   },
   "outputs": [
    {
     "data": {
      "text/html": [
       "<div>\n",
       "<style scoped>\n",
       "    .dataframe tbody tr th:only-of-type {\n",
       "        vertical-align: middle;\n",
       "    }\n",
       "\n",
       "    .dataframe tbody tr th {\n",
       "        vertical-align: top;\n",
       "    }\n",
       "\n",
       "    .dataframe thead th {\n",
       "        text-align: right;\n",
       "    }\n",
       "</style>\n",
       "<table border=\"1\" class=\"dataframe\">\n",
       "  <thead>\n",
       "    <tr style=\"text-align: right;\">\n",
       "      <th></th>\n",
       "      <th>I_1_2</th>\n",
       "      <th>I_3</th>\n",
       "      <th>I_4</th>\n",
       "      <th>I_5</th>\n",
       "      <th>I_6</th>\n",
       "      <th>I_7</th>\n",
       "      <th>I_8</th>\n",
       "      <th>I_9</th>\n",
       "      <th>I_10</th>\n",
       "      <th>I_11</th>\n",
       "      <th>I_12</th>\n",
       "      <th>I_13</th>\n",
       "      <th>I_14</th>\n",
       "      <th>I_15</th>\n",
       "      <th>I_16</th>\n",
       "      <th>I_17</th>\n",
       "      <th>I_18</th>\n",
       "    </tr>\n",
       "  </thead>\n",
       "  <tbody>\n",
       "    <tr>\n",
       "      <th>A</th>\n",
       "      <td>NaN</td>\n",
       "      <td>NaN</td>\n",
       "      <td>NaN</td>\n",
       "      <td>NaN</td>\n",
       "      <td>NaN</td>\n",
       "      <td>NaN</td>\n",
       "      <td>NaN</td>\n",
       "      <td>NaN</td>\n",
       "      <td>NaN</td>\n",
       "      <td>NaN</td>\n",
       "      <td>NaN</td>\n",
       "      <td>NaN</td>\n",
       "      <td>NaN</td>\n",
       "      <td>NaN</td>\n",
       "      <td>NaN</td>\n",
       "      <td>NaN</td>\n",
       "      <td>NaN</td>\n",
       "    </tr>\n",
       "    <tr>\n",
       "      <th>B</th>\n",
       "      <td>NaN</td>\n",
       "      <td>NaN</td>\n",
       "      <td>NaN</td>\n",
       "      <td>NaN</td>\n",
       "      <td>NaN</td>\n",
       "      <td>NaN</td>\n",
       "      <td>NaN</td>\n",
       "      <td>NaN</td>\n",
       "      <td>NaN</td>\n",
       "      <td>NaN</td>\n",
       "      <td>NaN</td>\n",
       "      <td>NaN</td>\n",
       "      <td>NaN</td>\n",
       "      <td>NaN</td>\n",
       "      <td>NaN</td>\n",
       "      <td>NaN</td>\n",
       "      <td>NaN</td>\n",
       "    </tr>\n",
       "    <tr>\n",
       "      <th>C</th>\n",
       "      <td>NaN</td>\n",
       "      <td>NaN</td>\n",
       "      <td>NaN</td>\n",
       "      <td>NaN</td>\n",
       "      <td>NaN</td>\n",
       "      <td>NaN</td>\n",
       "      <td>NaN</td>\n",
       "      <td>NaN</td>\n",
       "      <td>NaN</td>\n",
       "      <td>NaN</td>\n",
       "      <td>NaN</td>\n",
       "      <td>NaN</td>\n",
       "      <td>NaN</td>\n",
       "      <td>NaN</td>\n",
       "      <td>NaN</td>\n",
       "      <td>NaN</td>\n",
       "      <td>NaN</td>\n",
       "    </tr>\n",
       "    <tr>\n",
       "      <th>D</th>\n",
       "      <td>NaN</td>\n",
       "      <td>NaN</td>\n",
       "      <td>NaN</td>\n",
       "      <td>NaN</td>\n",
       "      <td>NaN</td>\n",
       "      <td>NaN</td>\n",
       "      <td>NaN</td>\n",
       "      <td>NaN</td>\n",
       "      <td>NaN</td>\n",
       "      <td>NaN</td>\n",
       "      <td>NaN</td>\n",
       "      <td>NaN</td>\n",
       "      <td>NaN</td>\n",
       "      <td>NaN</td>\n",
       "      <td>NaN</td>\n",
       "      <td>NaN</td>\n",
       "      <td>NaN</td>\n",
       "    </tr>\n",
       "    <tr>\n",
       "      <th>E</th>\n",
       "      <td>NaN</td>\n",
       "      <td>NaN</td>\n",
       "      <td>NaN</td>\n",
       "      <td>NaN</td>\n",
       "      <td>NaN</td>\n",
       "      <td>NaN</td>\n",
       "      <td>NaN</td>\n",
       "      <td>NaN</td>\n",
       "      <td>NaN</td>\n",
       "      <td>NaN</td>\n",
       "      <td>NaN</td>\n",
       "      <td>NaN</td>\n",
       "      <td>NaN</td>\n",
       "      <td>NaN</td>\n",
       "      <td>NaN</td>\n",
       "      <td>NaN</td>\n",
       "      <td>NaN</td>\n",
       "    </tr>\n",
       "    <tr>\n",
       "      <th>F</th>\n",
       "      <td>NaN</td>\n",
       "      <td>NaN</td>\n",
       "      <td>NaN</td>\n",
       "      <td>NaN</td>\n",
       "      <td>NaN</td>\n",
       "      <td>NaN</td>\n",
       "      <td>NaN</td>\n",
       "      <td>NaN</td>\n",
       "      <td>NaN</td>\n",
       "      <td>NaN</td>\n",
       "      <td>NaN</td>\n",
       "      <td>NaN</td>\n",
       "      <td>NaN</td>\n",
       "      <td>NaN</td>\n",
       "      <td>NaN</td>\n",
       "      <td>NaN</td>\n",
       "      <td>NaN</td>\n",
       "    </tr>\n",
       "    <tr>\n",
       "      <th>G</th>\n",
       "      <td>NaN</td>\n",
       "      <td>NaN</td>\n",
       "      <td>NaN</td>\n",
       "      <td>NaN</td>\n",
       "      <td>NaN</td>\n",
       "      <td>NaN</td>\n",
       "      <td>NaN</td>\n",
       "      <td>NaN</td>\n",
       "      <td>NaN</td>\n",
       "      <td>NaN</td>\n",
       "      <td>NaN</td>\n",
       "      <td>NaN</td>\n",
       "      <td>NaN</td>\n",
       "      <td>NaN</td>\n",
       "      <td>NaN</td>\n",
       "      <td>NaN</td>\n",
       "      <td>NaN</td>\n",
       "    </tr>\n",
       "    <tr>\n",
       "      <th>H</th>\n",
       "      <td>NaN</td>\n",
       "      <td>NaN</td>\n",
       "      <td>NaN</td>\n",
       "      <td>NaN</td>\n",
       "      <td>NaN</td>\n",
       "      <td>NaN</td>\n",
       "      <td>NaN</td>\n",
       "      <td>NaN</td>\n",
       "      <td>NaN</td>\n",
       "      <td>NaN</td>\n",
       "      <td>NaN</td>\n",
       "      <td>NaN</td>\n",
       "      <td>NaN</td>\n",
       "      <td>NaN</td>\n",
       "      <td>NaN</td>\n",
       "      <td>NaN</td>\n",
       "      <td>NaN</td>\n",
       "    </tr>\n",
       "    <tr>\n",
       "      <th>I</th>\n",
       "      <td>NaN</td>\n",
       "      <td>NaN</td>\n",
       "      <td>NaN</td>\n",
       "      <td>NaN</td>\n",
       "      <td>NaN</td>\n",
       "      <td>NaN</td>\n",
       "      <td>NaN</td>\n",
       "      <td>NaN</td>\n",
       "      <td>NaN</td>\n",
       "      <td>NaN</td>\n",
       "      <td>NaN</td>\n",
       "      <td>NaN</td>\n",
       "      <td>NaN</td>\n",
       "      <td>NaN</td>\n",
       "      <td>NaN</td>\n",
       "      <td>NaN</td>\n",
       "      <td>NaN</td>\n",
       "    </tr>\n",
       "    <tr>\n",
       "      <th>J</th>\n",
       "      <td>NaN</td>\n",
       "      <td>NaN</td>\n",
       "      <td>NaN</td>\n",
       "      <td>NaN</td>\n",
       "      <td>NaN</td>\n",
       "      <td>NaN</td>\n",
       "      <td>NaN</td>\n",
       "      <td>NaN</td>\n",
       "      <td>NaN</td>\n",
       "      <td>NaN</td>\n",
       "      <td>NaN</td>\n",
       "      <td>NaN</td>\n",
       "      <td>NaN</td>\n",
       "      <td>NaN</td>\n",
       "      <td>NaN</td>\n",
       "      <td>NaN</td>\n",
       "      <td>NaN</td>\n",
       "    </tr>\n",
       "    <tr>\n",
       "      <th>K</th>\n",
       "      <td>NaN</td>\n",
       "      <td>NaN</td>\n",
       "      <td>NaN</td>\n",
       "      <td>NaN</td>\n",
       "      <td>NaN</td>\n",
       "      <td>NaN</td>\n",
       "      <td>NaN</td>\n",
       "      <td>NaN</td>\n",
       "      <td>NaN</td>\n",
       "      <td>NaN</td>\n",
       "      <td>NaN</td>\n",
       "      <td>NaN</td>\n",
       "      <td>NaN</td>\n",
       "      <td>NaN</td>\n",
       "      <td>NaN</td>\n",
       "      <td>NaN</td>\n",
       "      <td>NaN</td>\n",
       "    </tr>\n",
       "    <tr>\n",
       "      <th>L</th>\n",
       "      <td>NaN</td>\n",
       "      <td>NaN</td>\n",
       "      <td>NaN</td>\n",
       "      <td>NaN</td>\n",
       "      <td>NaN</td>\n",
       "      <td>NaN</td>\n",
       "      <td>NaN</td>\n",
       "      <td>NaN</td>\n",
       "      <td>NaN</td>\n",
       "      <td>NaN</td>\n",
       "      <td>NaN</td>\n",
       "      <td>NaN</td>\n",
       "      <td>NaN</td>\n",
       "      <td>NaN</td>\n",
       "      <td>NaN</td>\n",
       "      <td>NaN</td>\n",
       "      <td>NaN</td>\n",
       "    </tr>\n",
       "    <tr>\n",
       "      <th>M</th>\n",
       "      <td>NaN</td>\n",
       "      <td>NaN</td>\n",
       "      <td>NaN</td>\n",
       "      <td>NaN</td>\n",
       "      <td>NaN</td>\n",
       "      <td>NaN</td>\n",
       "      <td>NaN</td>\n",
       "      <td>NaN</td>\n",
       "      <td>NaN</td>\n",
       "      <td>NaN</td>\n",
       "      <td>NaN</td>\n",
       "      <td>NaN</td>\n",
       "      <td>NaN</td>\n",
       "      <td>NaN</td>\n",
       "      <td>NaN</td>\n",
       "      <td>NaN</td>\n",
       "      <td>NaN</td>\n",
       "    </tr>\n",
       "    <tr>\n",
       "      <th>N</th>\n",
       "      <td>NaN</td>\n",
       "      <td>NaN</td>\n",
       "      <td>NaN</td>\n",
       "      <td>NaN</td>\n",
       "      <td>NaN</td>\n",
       "      <td>NaN</td>\n",
       "      <td>NaN</td>\n",
       "      <td>NaN</td>\n",
       "      <td>NaN</td>\n",
       "      <td>NaN</td>\n",
       "      <td>NaN</td>\n",
       "      <td>NaN</td>\n",
       "      <td>NaN</td>\n",
       "      <td>NaN</td>\n",
       "      <td>NaN</td>\n",
       "      <td>NaN</td>\n",
       "      <td>NaN</td>\n",
       "    </tr>\n",
       "    <tr>\n",
       "      <th>O</th>\n",
       "      <td>NaN</td>\n",
       "      <td>NaN</td>\n",
       "      <td>NaN</td>\n",
       "      <td>NaN</td>\n",
       "      <td>NaN</td>\n",
       "      <td>NaN</td>\n",
       "      <td>NaN</td>\n",
       "      <td>NaN</td>\n",
       "      <td>NaN</td>\n",
       "      <td>NaN</td>\n",
       "      <td>NaN</td>\n",
       "      <td>NaN</td>\n",
       "      <td>NaN</td>\n",
       "      <td>NaN</td>\n",
       "      <td>NaN</td>\n",
       "      <td>NaN</td>\n",
       "      <td>NaN</td>\n",
       "    </tr>\n",
       "    <tr>\n",
       "      <th>P</th>\n",
       "      <td>NaN</td>\n",
       "      <td>NaN</td>\n",
       "      <td>NaN</td>\n",
       "      <td>NaN</td>\n",
       "      <td>NaN</td>\n",
       "      <td>NaN</td>\n",
       "      <td>NaN</td>\n",
       "      <td>NaN</td>\n",
       "      <td>NaN</td>\n",
       "      <td>NaN</td>\n",
       "      <td>NaN</td>\n",
       "      <td>NaN</td>\n",
       "      <td>NaN</td>\n",
       "      <td>NaN</td>\n",
       "      <td>NaN</td>\n",
       "      <td>NaN</td>\n",
       "      <td>NaN</td>\n",
       "    </tr>\n",
       "    <tr>\n",
       "      <th>Q</th>\n",
       "      <td>NaN</td>\n",
       "      <td>NaN</td>\n",
       "      <td>NaN</td>\n",
       "      <td>NaN</td>\n",
       "      <td>NaN</td>\n",
       "      <td>NaN</td>\n",
       "      <td>NaN</td>\n",
       "      <td>NaN</td>\n",
       "      <td>NaN</td>\n",
       "      <td>NaN</td>\n",
       "      <td>NaN</td>\n",
       "      <td>NaN</td>\n",
       "      <td>NaN</td>\n",
       "      <td>NaN</td>\n",
       "      <td>NaN</td>\n",
       "      <td>NaN</td>\n",
       "      <td>NaN</td>\n",
       "    </tr>\n",
       "    <tr>\n",
       "      <th>R</th>\n",
       "      <td>NaN</td>\n",
       "      <td>NaN</td>\n",
       "      <td>NaN</td>\n",
       "      <td>NaN</td>\n",
       "      <td>NaN</td>\n",
       "      <td>NaN</td>\n",
       "      <td>NaN</td>\n",
       "      <td>NaN</td>\n",
       "      <td>NaN</td>\n",
       "      <td>NaN</td>\n",
       "      <td>NaN</td>\n",
       "      <td>NaN</td>\n",
       "      <td>NaN</td>\n",
       "      <td>NaN</td>\n",
       "      <td>NaN</td>\n",
       "      <td>NaN</td>\n",
       "      <td>NaN</td>\n",
       "    </tr>\n",
       "    <tr>\n",
       "      <th>S</th>\n",
       "      <td>NaN</td>\n",
       "      <td>NaN</td>\n",
       "      <td>NaN</td>\n",
       "      <td>NaN</td>\n",
       "      <td>NaN</td>\n",
       "      <td>NaN</td>\n",
       "      <td>NaN</td>\n",
       "      <td>NaN</td>\n",
       "      <td>NaN</td>\n",
       "      <td>NaN</td>\n",
       "      <td>NaN</td>\n",
       "      <td>NaN</td>\n",
       "      <td>NaN</td>\n",
       "      <td>NaN</td>\n",
       "      <td>NaN</td>\n",
       "      <td>NaN</td>\n",
       "      <td>NaN</td>\n",
       "    </tr>\n",
       "    <tr>\n",
       "      <th>T</th>\n",
       "      <td>NaN</td>\n",
       "      <td>NaN</td>\n",
       "      <td>NaN</td>\n",
       "      <td>NaN</td>\n",
       "      <td>NaN</td>\n",
       "      <td>NaN</td>\n",
       "      <td>NaN</td>\n",
       "      <td>NaN</td>\n",
       "      <td>NaN</td>\n",
       "      <td>NaN</td>\n",
       "      <td>NaN</td>\n",
       "      <td>NaN</td>\n",
       "      <td>NaN</td>\n",
       "      <td>NaN</td>\n",
       "      <td>NaN</td>\n",
       "      <td>NaN</td>\n",
       "      <td>NaN</td>\n",
       "    </tr>\n",
       "    <tr>\n",
       "      <th>Z</th>\n",
       "      <td>NaN</td>\n",
       "      <td>NaN</td>\n",
       "      <td>NaN</td>\n",
       "      <td>NaN</td>\n",
       "      <td>NaN</td>\n",
       "      <td>NaN</td>\n",
       "      <td>NaN</td>\n",
       "      <td>NaN</td>\n",
       "      <td>NaN</td>\n",
       "      <td>NaN</td>\n",
       "      <td>NaN</td>\n",
       "      <td>NaN</td>\n",
       "      <td>NaN</td>\n",
       "      <td>NaN</td>\n",
       "      <td>NaN</td>\n",
       "      <td>NaN</td>\n",
       "      <td>NaN</td>\n",
       "    </tr>\n",
       "  </tbody>\n",
       "</table>\n",
       "</div>"
      ],
      "text/plain": [
       "  I_1_2  I_3  I_4  I_5  I_6  I_7  I_8  I_9 I_10 I_11 I_12 I_13 I_14 I_15 I_16  \\\n",
       "A   NaN  NaN  NaN  NaN  NaN  NaN  NaN  NaN  NaN  NaN  NaN  NaN  NaN  NaN  NaN   \n",
       "B   NaN  NaN  NaN  NaN  NaN  NaN  NaN  NaN  NaN  NaN  NaN  NaN  NaN  NaN  NaN   \n",
       "C   NaN  NaN  NaN  NaN  NaN  NaN  NaN  NaN  NaN  NaN  NaN  NaN  NaN  NaN  NaN   \n",
       "D   NaN  NaN  NaN  NaN  NaN  NaN  NaN  NaN  NaN  NaN  NaN  NaN  NaN  NaN  NaN   \n",
       "E   NaN  NaN  NaN  NaN  NaN  NaN  NaN  NaN  NaN  NaN  NaN  NaN  NaN  NaN  NaN   \n",
       "F   NaN  NaN  NaN  NaN  NaN  NaN  NaN  NaN  NaN  NaN  NaN  NaN  NaN  NaN  NaN   \n",
       "G   NaN  NaN  NaN  NaN  NaN  NaN  NaN  NaN  NaN  NaN  NaN  NaN  NaN  NaN  NaN   \n",
       "H   NaN  NaN  NaN  NaN  NaN  NaN  NaN  NaN  NaN  NaN  NaN  NaN  NaN  NaN  NaN   \n",
       "I   NaN  NaN  NaN  NaN  NaN  NaN  NaN  NaN  NaN  NaN  NaN  NaN  NaN  NaN  NaN   \n",
       "J   NaN  NaN  NaN  NaN  NaN  NaN  NaN  NaN  NaN  NaN  NaN  NaN  NaN  NaN  NaN   \n",
       "K   NaN  NaN  NaN  NaN  NaN  NaN  NaN  NaN  NaN  NaN  NaN  NaN  NaN  NaN  NaN   \n",
       "L   NaN  NaN  NaN  NaN  NaN  NaN  NaN  NaN  NaN  NaN  NaN  NaN  NaN  NaN  NaN   \n",
       "M   NaN  NaN  NaN  NaN  NaN  NaN  NaN  NaN  NaN  NaN  NaN  NaN  NaN  NaN  NaN   \n",
       "N   NaN  NaN  NaN  NaN  NaN  NaN  NaN  NaN  NaN  NaN  NaN  NaN  NaN  NaN  NaN   \n",
       "O   NaN  NaN  NaN  NaN  NaN  NaN  NaN  NaN  NaN  NaN  NaN  NaN  NaN  NaN  NaN   \n",
       "P   NaN  NaN  NaN  NaN  NaN  NaN  NaN  NaN  NaN  NaN  NaN  NaN  NaN  NaN  NaN   \n",
       "Q   NaN  NaN  NaN  NaN  NaN  NaN  NaN  NaN  NaN  NaN  NaN  NaN  NaN  NaN  NaN   \n",
       "R   NaN  NaN  NaN  NaN  NaN  NaN  NaN  NaN  NaN  NaN  NaN  NaN  NaN  NaN  NaN   \n",
       "S   NaN  NaN  NaN  NaN  NaN  NaN  NaN  NaN  NaN  NaN  NaN  NaN  NaN  NaN  NaN   \n",
       "T   NaN  NaN  NaN  NaN  NaN  NaN  NaN  NaN  NaN  NaN  NaN  NaN  NaN  NaN  NaN   \n",
       "Z   NaN  NaN  NaN  NaN  NaN  NaN  NaN  NaN  NaN  NaN  NaN  NaN  NaN  NaN  NaN   \n",
       "\n",
       "  I_17 I_18  \n",
       "A  NaN  NaN  \n",
       "B  NaN  NaN  \n",
       "C  NaN  NaN  \n",
       "D  NaN  NaN  \n",
       "E  NaN  NaN  \n",
       "F  NaN  NaN  \n",
       "G  NaN  NaN  \n",
       "H  NaN  NaN  \n",
       "I  NaN  NaN  \n",
       "J  NaN  NaN  \n",
       "K  NaN  NaN  \n",
       "L  NaN  NaN  \n",
       "M  NaN  NaN  \n",
       "N  NaN  NaN  \n",
       "O  NaN  NaN  \n",
       "P  NaN  NaN  \n",
       "Q  NaN  NaN  \n",
       "R  NaN  NaN  \n",
       "S  NaN  NaN  \n",
       "T  NaN  NaN  \n",
       "Z  NaN  NaN  "
      ]
     },
     "execution_count": 21,
     "metadata": {},
     "output_type": "execute_result"
    }
   ],
   "source": [
    "para_1"
   ]
  },
  {
   "cell_type": "code",
   "execution_count": 22,
   "metadata": {
    "ExecuteTime": {
     "end_time": "2022-08-24T04:54:52.358266Z",
     "start_time": "2022-08-24T04:54:52.345301Z"
    }
   },
   "outputs": [],
   "source": [
    "para_1['I_5'] = a_5\n",
    "para_1['I_6'] = a_6\n",
    "para_1['I_7'] = a_7\n",
    "para_1['I_6'] = a_10\n",
    "para_1['I_11'] = a_11\n",
    "para_1['I_12'] = a_12\n",
    "para_1['I_13'] = a_13\n",
    "para_1['I_14'] = a_14\n",
    "\n",
    "para_1['I_18'] = a_18"
   ]
  },
  {
   "cell_type": "code",
   "execution_count": 23,
   "metadata": {
    "ExecuteTime": {
     "end_time": "2022-08-24T04:54:52.374238Z",
     "start_time": "2022-08-24T04:54:52.360261Z"
    }
   },
   "outputs": [],
   "source": [
    "para_1.fillna(value=1, inplace=True)"
   ]
  },
  {
   "cell_type": "code",
   "execution_count": 24,
   "metadata": {
    "ExecuteTime": {
     "end_time": "2022-08-24T04:54:52.406138Z",
     "start_time": "2022-08-24T04:54:52.377216Z"
    }
   },
   "outputs": [
    {
     "data": {
      "text/html": [
       "<div>\n",
       "<style scoped>\n",
       "    .dataframe tbody tr th:only-of-type {\n",
       "        vertical-align: middle;\n",
       "    }\n",
       "\n",
       "    .dataframe tbody tr th {\n",
       "        vertical-align: top;\n",
       "    }\n",
       "\n",
       "    .dataframe thead th {\n",
       "        text-align: right;\n",
       "    }\n",
       "</style>\n",
       "<table border=\"1\" class=\"dataframe\">\n",
       "  <thead>\n",
       "    <tr style=\"text-align: right;\">\n",
       "      <th></th>\n",
       "      <th>I_1_2</th>\n",
       "      <th>I_3</th>\n",
       "      <th>I_4</th>\n",
       "      <th>I_5</th>\n",
       "      <th>I_6</th>\n",
       "      <th>I_7</th>\n",
       "      <th>I_8</th>\n",
       "      <th>I_9</th>\n",
       "      <th>I_10</th>\n",
       "      <th>I_11</th>\n",
       "      <th>I_12</th>\n",
       "      <th>I_13</th>\n",
       "      <th>I_14</th>\n",
       "      <th>I_15</th>\n",
       "      <th>I_16</th>\n",
       "      <th>I_17</th>\n",
       "      <th>I_18</th>\n",
       "    </tr>\n",
       "  </thead>\n",
       "  <tbody>\n",
       "    <tr>\n",
       "      <th>A</th>\n",
       "      <td>1</td>\n",
       "      <td>1</td>\n",
       "      <td>1</td>\n",
       "      <td>2.422071</td>\n",
       "      <td>1</td>\n",
       "      <td>1.519628</td>\n",
       "      <td>1</td>\n",
       "      <td>1</td>\n",
       "      <td>1</td>\n",
       "      <td>1</td>\n",
       "      <td>2.603004</td>\n",
       "      <td>2.602602</td>\n",
       "      <td>5.207932</td>\n",
       "      <td>1</td>\n",
       "      <td>1</td>\n",
       "      <td>1</td>\n",
       "      <td>0.997129</td>\n",
       "    </tr>\n",
       "    <tr>\n",
       "      <th>B</th>\n",
       "      <td>1</td>\n",
       "      <td>1</td>\n",
       "      <td>1</td>\n",
       "      <td>1.277244</td>\n",
       "      <td>1</td>\n",
       "      <td>1.000000</td>\n",
       "      <td>1</td>\n",
       "      <td>1</td>\n",
       "      <td>1</td>\n",
       "      <td>1</td>\n",
       "      <td>0.965394</td>\n",
       "      <td>0.977637</td>\n",
       "      <td>4.285266</td>\n",
       "      <td>1</td>\n",
       "      <td>1</td>\n",
       "      <td>1</td>\n",
       "      <td>1.005984</td>\n",
       "    </tr>\n",
       "    <tr>\n",
       "      <th>C</th>\n",
       "      <td>1</td>\n",
       "      <td>1</td>\n",
       "      <td>1</td>\n",
       "      <td>1.197534</td>\n",
       "      <td>1</td>\n",
       "      <td>0.670937</td>\n",
       "      <td>1</td>\n",
       "      <td>1</td>\n",
       "      <td>1</td>\n",
       "      <td>1</td>\n",
       "      <td>0.969772</td>\n",
       "      <td>0.960480</td>\n",
       "      <td>5.790856</td>\n",
       "      <td>1</td>\n",
       "      <td>1</td>\n",
       "      <td>1</td>\n",
       "      <td>1.000870</td>\n",
       "    </tr>\n",
       "    <tr>\n",
       "      <th>D</th>\n",
       "      <td>1</td>\n",
       "      <td>1</td>\n",
       "      <td>1</td>\n",
       "      <td>0.867162</td>\n",
       "      <td>1</td>\n",
       "      <td>0.463563</td>\n",
       "      <td>1</td>\n",
       "      <td>1</td>\n",
       "      <td>1</td>\n",
       "      <td>1</td>\n",
       "      <td>0.846442</td>\n",
       "      <td>0.845878</td>\n",
       "      <td>0.397213</td>\n",
       "      <td>1</td>\n",
       "      <td>1</td>\n",
       "      <td>1</td>\n",
       "      <td>0.988949</td>\n",
       "    </tr>\n",
       "    <tr>\n",
       "      <th>E</th>\n",
       "      <td>1</td>\n",
       "      <td>1</td>\n",
       "      <td>1</td>\n",
       "      <td>0.861881</td>\n",
       "      <td>1</td>\n",
       "      <td>0.964226</td>\n",
       "      <td>1</td>\n",
       "      <td>1</td>\n",
       "      <td>1</td>\n",
       "      <td>1</td>\n",
       "      <td>0.788417</td>\n",
       "      <td>0.787615</td>\n",
       "      <td>0.649098</td>\n",
       "      <td>1</td>\n",
       "      <td>1</td>\n",
       "      <td>1</td>\n",
       "      <td>1.001801</td>\n",
       "    </tr>\n",
       "    <tr>\n",
       "      <th>F</th>\n",
       "      <td>1</td>\n",
       "      <td>1</td>\n",
       "      <td>1</td>\n",
       "      <td>1.282449</td>\n",
       "      <td>1</td>\n",
       "      <td>0.972304</td>\n",
       "      <td>1</td>\n",
       "      <td>1</td>\n",
       "      <td>1</td>\n",
       "      <td>1</td>\n",
       "      <td>1.443966</td>\n",
       "      <td>1.446515</td>\n",
       "      <td>1.061998</td>\n",
       "      <td>1</td>\n",
       "      <td>1</td>\n",
       "      <td>1</td>\n",
       "      <td>1.000100</td>\n",
       "    </tr>\n",
       "    <tr>\n",
       "      <th>G</th>\n",
       "      <td>1</td>\n",
       "      <td>1</td>\n",
       "      <td>1</td>\n",
       "      <td>1.037020</td>\n",
       "      <td>1</td>\n",
       "      <td>0.881758</td>\n",
       "      <td>1</td>\n",
       "      <td>1</td>\n",
       "      <td>1</td>\n",
       "      <td>1</td>\n",
       "      <td>0.936495</td>\n",
       "      <td>0.941145</td>\n",
       "      <td>1.013436</td>\n",
       "      <td>1</td>\n",
       "      <td>1</td>\n",
       "      <td>1</td>\n",
       "      <td>0.999819</td>\n",
       "    </tr>\n",
       "    <tr>\n",
       "      <th>H</th>\n",
       "      <td>1</td>\n",
       "      <td>1</td>\n",
       "      <td>1</td>\n",
       "      <td>1.112623</td>\n",
       "      <td>1</td>\n",
       "      <td>0.781298</td>\n",
       "      <td>1</td>\n",
       "      <td>1</td>\n",
       "      <td>1</td>\n",
       "      <td>1</td>\n",
       "      <td>1.116037</td>\n",
       "      <td>1.124588</td>\n",
       "      <td>0.414063</td>\n",
       "      <td>1</td>\n",
       "      <td>1</td>\n",
       "      <td>1</td>\n",
       "      <td>0.998638</td>\n",
       "    </tr>\n",
       "    <tr>\n",
       "      <th>I</th>\n",
       "      <td>1</td>\n",
       "      <td>1</td>\n",
       "      <td>1</td>\n",
       "      <td>0.761926</td>\n",
       "      <td>1</td>\n",
       "      <td>1.100584</td>\n",
       "      <td>1</td>\n",
       "      <td>1</td>\n",
       "      <td>1</td>\n",
       "      <td>1</td>\n",
       "      <td>0.861438</td>\n",
       "      <td>0.862333</td>\n",
       "      <td>0.764238</td>\n",
       "      <td>1</td>\n",
       "      <td>1</td>\n",
       "      <td>1</td>\n",
       "      <td>0.998719</td>\n",
       "    </tr>\n",
       "    <tr>\n",
       "      <th>J</th>\n",
       "      <td>1</td>\n",
       "      <td>1</td>\n",
       "      <td>1</td>\n",
       "      <td>0.769197</td>\n",
       "      <td>1</td>\n",
       "      <td>0.637380</td>\n",
       "      <td>1</td>\n",
       "      <td>1</td>\n",
       "      <td>1</td>\n",
       "      <td>1</td>\n",
       "      <td>1.661107</td>\n",
       "      <td>1.614089</td>\n",
       "      <td>0.208265</td>\n",
       "      <td>1</td>\n",
       "      <td>1</td>\n",
       "      <td>1</td>\n",
       "      <td>1.002292</td>\n",
       "    </tr>\n",
       "    <tr>\n",
       "      <th>K</th>\n",
       "      <td>1</td>\n",
       "      <td>1</td>\n",
       "      <td>1</td>\n",
       "      <td>0.932997</td>\n",
       "      <td>1</td>\n",
       "      <td>0.581803</td>\n",
       "      <td>1</td>\n",
       "      <td>1</td>\n",
       "      <td>1</td>\n",
       "      <td>1</td>\n",
       "      <td>0.933824</td>\n",
       "      <td>0.926793</td>\n",
       "      <td>0.995626</td>\n",
       "      <td>1</td>\n",
       "      <td>1</td>\n",
       "      <td>1</td>\n",
       "      <td>0.995881</td>\n",
       "    </tr>\n",
       "    <tr>\n",
       "      <th>L</th>\n",
       "      <td>1</td>\n",
       "      <td>1</td>\n",
       "      <td>1</td>\n",
       "      <td>0.846923</td>\n",
       "      <td>1</td>\n",
       "      <td>0.973467</td>\n",
       "      <td>1</td>\n",
       "      <td>1</td>\n",
       "      <td>1</td>\n",
       "      <td>1</td>\n",
       "      <td>0.836973</td>\n",
       "      <td>0.842474</td>\n",
       "      <td>1.165194</td>\n",
       "      <td>1</td>\n",
       "      <td>1</td>\n",
       "      <td>1</td>\n",
       "      <td>1.000103</td>\n",
       "    </tr>\n",
       "    <tr>\n",
       "      <th>M</th>\n",
       "      <td>1</td>\n",
       "      <td>1</td>\n",
       "      <td>1</td>\n",
       "      <td>0.682336</td>\n",
       "      <td>1</td>\n",
       "      <td>1.835422</td>\n",
       "      <td>1</td>\n",
       "      <td>1</td>\n",
       "      <td>1</td>\n",
       "      <td>1</td>\n",
       "      <td>0.652289</td>\n",
       "      <td>0.652997</td>\n",
       "      <td>1.106521</td>\n",
       "      <td>1</td>\n",
       "      <td>1</td>\n",
       "      <td>1</td>\n",
       "      <td>0.999053</td>\n",
       "    </tr>\n",
       "    <tr>\n",
       "      <th>N</th>\n",
       "      <td>1</td>\n",
       "      <td>1</td>\n",
       "      <td>1</td>\n",
       "      <td>0.879015</td>\n",
       "      <td>1</td>\n",
       "      <td>1.000000</td>\n",
       "      <td>1</td>\n",
       "      <td>1</td>\n",
       "      <td>1</td>\n",
       "      <td>1</td>\n",
       "      <td>0.853865</td>\n",
       "      <td>0.835666</td>\n",
       "      <td>1.467851</td>\n",
       "      <td>1</td>\n",
       "      <td>1</td>\n",
       "      <td>1</td>\n",
       "      <td>0.998329</td>\n",
       "    </tr>\n",
       "    <tr>\n",
       "      <th>O</th>\n",
       "      <td>1</td>\n",
       "      <td>1</td>\n",
       "      <td>1</td>\n",
       "      <td>1.254153</td>\n",
       "      <td>1</td>\n",
       "      <td>1.494450</td>\n",
       "      <td>1</td>\n",
       "      <td>1</td>\n",
       "      <td>1</td>\n",
       "      <td>1</td>\n",
       "      <td>1.255555</td>\n",
       "      <td>1.264245</td>\n",
       "      <td>0.882974</td>\n",
       "      <td>1</td>\n",
       "      <td>1</td>\n",
       "      <td>1</td>\n",
       "      <td>0.999950</td>\n",
       "    </tr>\n",
       "    <tr>\n",
       "      <th>P</th>\n",
       "      <td>1</td>\n",
       "      <td>1</td>\n",
       "      <td>1</td>\n",
       "      <td>0.930104</td>\n",
       "      <td>1</td>\n",
       "      <td>3.837860</td>\n",
       "      <td>1</td>\n",
       "      <td>1</td>\n",
       "      <td>1</td>\n",
       "      <td>1</td>\n",
       "      <td>0.896546</td>\n",
       "      <td>0.862721</td>\n",
       "      <td>1.519780</td>\n",
       "      <td>1</td>\n",
       "      <td>1</td>\n",
       "      <td>1</td>\n",
       "      <td>1.004134</td>\n",
       "    </tr>\n",
       "    <tr>\n",
       "      <th>Q</th>\n",
       "      <td>1</td>\n",
       "      <td>1</td>\n",
       "      <td>1</td>\n",
       "      <td>0.768852</td>\n",
       "      <td>1</td>\n",
       "      <td>2.728014</td>\n",
       "      <td>1</td>\n",
       "      <td>1</td>\n",
       "      <td>1</td>\n",
       "      <td>1</td>\n",
       "      <td>0.733263</td>\n",
       "      <td>0.693579</td>\n",
       "      <td>0.397999</td>\n",
       "      <td>1</td>\n",
       "      <td>1</td>\n",
       "      <td>1</td>\n",
       "      <td>1.000918</td>\n",
       "    </tr>\n",
       "    <tr>\n",
       "      <th>R</th>\n",
       "      <td>1</td>\n",
       "      <td>1</td>\n",
       "      <td>1</td>\n",
       "      <td>0.817752</td>\n",
       "      <td>1</td>\n",
       "      <td>2.219532</td>\n",
       "      <td>1</td>\n",
       "      <td>1</td>\n",
       "      <td>1</td>\n",
       "      <td>1</td>\n",
       "      <td>0.820002</td>\n",
       "      <td>0.826686</td>\n",
       "      <td>2.153372</td>\n",
       "      <td>1</td>\n",
       "      <td>1</td>\n",
       "      <td>1</td>\n",
       "      <td>1.003115</td>\n",
       "    </tr>\n",
       "    <tr>\n",
       "      <th>S</th>\n",
       "      <td>1</td>\n",
       "      <td>1</td>\n",
       "      <td>1</td>\n",
       "      <td>1.000000</td>\n",
       "      <td>1</td>\n",
       "      <td>1.000000</td>\n",
       "      <td>1</td>\n",
       "      <td>1</td>\n",
       "      <td>1</td>\n",
       "      <td>1</td>\n",
       "      <td>1.000000</td>\n",
       "      <td>1.000000</td>\n",
       "      <td>1.000000</td>\n",
       "      <td>1</td>\n",
       "      <td>1</td>\n",
       "      <td>1</td>\n",
       "      <td>1.026934</td>\n",
       "    </tr>\n",
       "    <tr>\n",
       "      <th>T</th>\n",
       "      <td>1</td>\n",
       "      <td>1</td>\n",
       "      <td>1</td>\n",
       "      <td>1.000000</td>\n",
       "      <td>1</td>\n",
       "      <td>1.000000</td>\n",
       "      <td>1</td>\n",
       "      <td>1</td>\n",
       "      <td>1</td>\n",
       "      <td>1</td>\n",
       "      <td>1.000000</td>\n",
       "      <td>1.000000</td>\n",
       "      <td>1.000000</td>\n",
       "      <td>1</td>\n",
       "      <td>1</td>\n",
       "      <td>1</td>\n",
       "      <td>1.581386</td>\n",
       "    </tr>\n",
       "    <tr>\n",
       "      <th>Z</th>\n",
       "      <td>1</td>\n",
       "      <td>1</td>\n",
       "      <td>1</td>\n",
       "      <td>2.052654</td>\n",
       "      <td>1</td>\n",
       "      <td>0.859729</td>\n",
       "      <td>1</td>\n",
       "      <td>1</td>\n",
       "      <td>1</td>\n",
       "      <td>1</td>\n",
       "      <td>2.656728</td>\n",
       "      <td>2.515705</td>\n",
       "      <td>3.971913</td>\n",
       "      <td>1</td>\n",
       "      <td>1</td>\n",
       "      <td>1</td>\n",
       "      <td>1.003702</td>\n",
       "    </tr>\n",
       "  </tbody>\n",
       "</table>\n",
       "</div>"
      ],
      "text/plain": [
       "   I_1_2  I_3  I_4       I_5  I_6       I_7  I_8  I_9  I_10  I_11      I_12  \\\n",
       "A      1    1    1  2.422071    1  1.519628    1    1     1     1  2.603004   \n",
       "B      1    1    1  1.277244    1  1.000000    1    1     1     1  0.965394   \n",
       "C      1    1    1  1.197534    1  0.670937    1    1     1     1  0.969772   \n",
       "D      1    1    1  0.867162    1  0.463563    1    1     1     1  0.846442   \n",
       "E      1    1    1  0.861881    1  0.964226    1    1     1     1  0.788417   \n",
       "F      1    1    1  1.282449    1  0.972304    1    1     1     1  1.443966   \n",
       "G      1    1    1  1.037020    1  0.881758    1    1     1     1  0.936495   \n",
       "H      1    1    1  1.112623    1  0.781298    1    1     1     1  1.116037   \n",
       "I      1    1    1  0.761926    1  1.100584    1    1     1     1  0.861438   \n",
       "J      1    1    1  0.769197    1  0.637380    1    1     1     1  1.661107   \n",
       "K      1    1    1  0.932997    1  0.581803    1    1     1     1  0.933824   \n",
       "L      1    1    1  0.846923    1  0.973467    1    1     1     1  0.836973   \n",
       "M      1    1    1  0.682336    1  1.835422    1    1     1     1  0.652289   \n",
       "N      1    1    1  0.879015    1  1.000000    1    1     1     1  0.853865   \n",
       "O      1    1    1  1.254153    1  1.494450    1    1     1     1  1.255555   \n",
       "P      1    1    1  0.930104    1  3.837860    1    1     1     1  0.896546   \n",
       "Q      1    1    1  0.768852    1  2.728014    1    1     1     1  0.733263   \n",
       "R      1    1    1  0.817752    1  2.219532    1    1     1     1  0.820002   \n",
       "S      1    1    1  1.000000    1  1.000000    1    1     1     1  1.000000   \n",
       "T      1    1    1  1.000000    1  1.000000    1    1     1     1  1.000000   \n",
       "Z      1    1    1  2.052654    1  0.859729    1    1     1     1  2.656728   \n",
       "\n",
       "       I_13      I_14  I_15  I_16  I_17      I_18  \n",
       "A  2.602602  5.207932     1     1     1  0.997129  \n",
       "B  0.977637  4.285266     1     1     1  1.005984  \n",
       "C  0.960480  5.790856     1     1     1  1.000870  \n",
       "D  0.845878  0.397213     1     1     1  0.988949  \n",
       "E  0.787615  0.649098     1     1     1  1.001801  \n",
       "F  1.446515  1.061998     1     1     1  1.000100  \n",
       "G  0.941145  1.013436     1     1     1  0.999819  \n",
       "H  1.124588  0.414063     1     1     1  0.998638  \n",
       "I  0.862333  0.764238     1     1     1  0.998719  \n",
       "J  1.614089  0.208265     1     1     1  1.002292  \n",
       "K  0.926793  0.995626     1     1     1  0.995881  \n",
       "L  0.842474  1.165194     1     1     1  1.000103  \n",
       "M  0.652997  1.106521     1     1     1  0.999053  \n",
       "N  0.835666  1.467851     1     1     1  0.998329  \n",
       "O  1.264245  0.882974     1     1     1  0.999950  \n",
       "P  0.862721  1.519780     1     1     1  1.004134  \n",
       "Q  0.693579  0.397999     1     1     1  1.000918  \n",
       "R  0.826686  2.153372     1     1     1  1.003115  \n",
       "S  1.000000  1.000000     1     1     1  1.026934  \n",
       "T  1.000000  1.000000     1     1     1  1.581386  \n",
       "Z  2.515705  3.971913     1     1     1  1.003702  "
      ]
     },
     "execution_count": 24,
     "metadata": {},
     "output_type": "execute_result"
    }
   ],
   "source": [
    "para_1"
   ]
  },
  {
   "cell_type": "markdown",
   "metadata": {},
   "source": [
    "### 保存"
   ]
  },
  {
   "cell_type": "code",
   "execution_count": 25,
   "metadata": {
    "ExecuteTime": {
     "end_time": "2022-08-24T04:54:52.422096Z",
     "start_time": "2022-08-24T04:54:52.408133Z"
    }
   },
   "outputs": [],
   "source": [
    "path_para = './para_1.csv'\n",
    "para_1.to_csv(path_para)"
   ]
  },
  {
   "cell_type": "markdown",
   "metadata": {},
   "source": [
    "# 企业规模调节参数"
   ]
  },
  {
   "cell_type": "markdown",
   "metadata": {},
   "source": [
    "## 划分规模"
   ]
  },
  {
   "cell_type": "code",
   "execution_count": 26,
   "metadata": {
    "ExecuteTime": {
     "end_time": "2022-08-24T04:54:52.467784Z",
     "start_time": "2022-08-24T04:54:52.423901Z"
    }
   },
   "outputs": [
    {
     "data": {
      "text/plain": [
       "scale\n",
       "1    1114064\n",
       "2     610286\n",
       "3     104991\n",
       "4       5338\n",
       "5       5153\n",
       "dtype: int64"
      ]
     },
     "execution_count": 26,
     "metadata": {},
     "output_type": "execute_result"
    }
   ],
   "source": [
    "grouped_scale = dc.groupby('scale')\n",
    "grouped_scale.size()"
   ]
  },
  {
   "cell_type": "code",
   "execution_count": 27,
   "metadata": {
    "ExecuteTime": {
     "end_time": "2022-08-24T04:54:52.901603Z",
     "start_time": "2022-08-24T04:54:52.472770Z"
    }
   },
   "outputs": [],
   "source": [
    "group_1 = grouped_scale.get_group(1).reset_index()\n",
    "group_2 = grouped_scale.get_group(2).reset_index()\n",
    "group_3 = grouped_scale.get_group(3).reset_index()\n",
    "group_4 = grouped_scale.get_group(4).reset_index()\n",
    "group_5 = grouped_scale.get_group(5).reset_index()"
   ]
  },
  {
   "cell_type": "markdown",
   "metadata": {},
   "source": [
    "## 按规模计算平均值"
   ]
  },
  {
   "cell_type": "code",
   "execution_count": 28,
   "metadata": {
    "ExecuteTime": {
     "end_time": "2022-08-24T04:54:52.994742Z",
     "start_time": "2022-08-24T04:54:52.904520Z"
    }
   },
   "outputs": [
    {
     "name": "stderr",
     "output_type": "stream",
     "text": [
      "100%|████████████████████████████████████████████████████████████████████████████████| 9/9 [00:00<00:00, 132.40it/s]\n"
     ]
    }
   ],
   "source": [
    "group_list = [1, 2, 3, 4, 5]\n",
    "\n",
    "X5_mean_S = []\n",
    "X6_mean_S = []\n",
    "X7_mean_S = []\n",
    "X10_mean_S = []\n",
    "X11_mean_S = []\n",
    "X12_mean_S = []\n",
    "X13_mean_S = []\n",
    "X14_mean_S = []\n",
    "\n",
    "X18_mean_S = []\n",
    "\n",
    "for i in tqdm(feature_list):\n",
    "    # 一下语句把固定的string改为变量名\n",
    "    temp_mean = np.str(i) + '_mean_S'\n",
    "    for j in group_list:\n",
    "        temp_alpha = 'group_' + np.str(j)\n",
    "        eval(temp_mean).append(eval(temp_alpha)[i].mean())"
   ]
  },
  {
   "cell_type": "markdown",
   "metadata": {},
   "source": [
    "## 调节参数计算"
   ]
  },
  {
   "cell_type": "code",
   "execution_count": 29,
   "metadata": {
    "ExecuteTime": {
     "end_time": "2022-08-24T04:54:53.010783Z",
     "start_time": "2022-08-24T04:54:52.996663Z"
    }
   },
   "outputs": [],
   "source": [
    "# 定义列表用来存储行业调节参数\n",
    "a_5_s = []\n",
    "a_6_s = []\n",
    "a_7_s = []\n",
    "a_10_s = []\n",
    "a_11_s = []\n",
    "a_12_s = []\n",
    "a_13_s = []\n",
    "a_14_s = []\n",
    "\n",
    "a_18_s = []"
   ]
  },
  {
   "cell_type": "code",
   "execution_count": 30,
   "metadata": {
    "ExecuteTime": {
     "end_time": "2022-08-24T04:54:53.026373Z",
     "start_time": "2022-08-24T04:54:53.012777Z"
    }
   },
   "outputs": [],
   "source": [
    "scale_num = 5\n",
    "def scale_parameter(temp_mean_all, temp_mean, temp_list):\n",
    "    for i in range(scale_num):\n",
    "        if temp_mean[i] != 0:\n",
    "            temp_list.append(temp_mean_all / temp_mean[i])\n",
    "        else:\n",
    "            temp_list.append(1) "
   ]
  },
  {
   "cell_type": "code",
   "execution_count": 31,
   "metadata": {
    "ExecuteTime": {
     "end_time": "2022-08-24T04:54:53.042381Z",
     "start_time": "2022-08-24T04:54:53.028368Z"
    }
   },
   "outputs": [],
   "source": [
    "scale_parameter(X5_mean_all, X5_mean_S, a_5_s)\n",
    "scale_parameter(X6_mean_all, X6_mean_S, a_6_s)\n",
    "scale_parameter(X7_mean_all, X7_mean_S, a_7_s)\n",
    "scale_parameter(X10_mean_all, X10_mean_S, a_10_s)\n",
    "scale_parameter(X11_mean_all, X11_mean_S, a_11_s)\n",
    "scale_parameter(X12_mean_all, X12_mean_S, a_12_s)\n",
    "scale_parameter(X13_mean_all, X13_mean_S, a_13_s)\n",
    "scale_parameter(X14_mean_all, X14_mean_S, a_14_s)\n",
    "\n",
    "scale_parameter(X18_mean_all, X18_mean_S, a_18_s)"
   ]
  },
  {
   "cell_type": "markdown",
   "metadata": {},
   "source": [
    "## 调节参数存储"
   ]
  },
  {
   "cell_type": "code",
   "execution_count": 32,
   "metadata": {
    "ExecuteTime": {
     "end_time": "2022-08-24T04:54:53.058338Z",
     "start_time": "2022-08-24T04:54:53.045373Z"
    }
   },
   "outputs": [],
   "source": [
    "lis = ['N1', 'N2', 'N3', 'N4', 'N5']\n",
    "para_2 = pd.DataFrame(data=None, \n",
    "                      columns=['S_1_2', 'S_3', 'S_4', 'S_5', 'S_6', 'S_7', 'S_8', 'S_9', 'S_10', 'S_11', 'S_12', 'S_13', 'S_14', 'S_15', 'S_16', 'S_17', 'S_18'],\n",
    "                      index=lis)"
   ]
  },
  {
   "cell_type": "code",
   "execution_count": 33,
   "metadata": {
    "ExecuteTime": {
     "end_time": "2022-08-24T04:54:53.090260Z",
     "start_time": "2022-08-24T04:54:53.060364Z"
    }
   },
   "outputs": [
    {
     "data": {
      "text/html": [
       "<div>\n",
       "<style scoped>\n",
       "    .dataframe tbody tr th:only-of-type {\n",
       "        vertical-align: middle;\n",
       "    }\n",
       "\n",
       "    .dataframe tbody tr th {\n",
       "        vertical-align: top;\n",
       "    }\n",
       "\n",
       "    .dataframe thead th {\n",
       "        text-align: right;\n",
       "    }\n",
       "</style>\n",
       "<table border=\"1\" class=\"dataframe\">\n",
       "  <thead>\n",
       "    <tr style=\"text-align: right;\">\n",
       "      <th></th>\n",
       "      <th>S_1_2</th>\n",
       "      <th>S_3</th>\n",
       "      <th>S_4</th>\n",
       "      <th>S_5</th>\n",
       "      <th>S_6</th>\n",
       "      <th>S_7</th>\n",
       "      <th>S_8</th>\n",
       "      <th>S_9</th>\n",
       "      <th>S_10</th>\n",
       "      <th>S_11</th>\n",
       "      <th>S_12</th>\n",
       "      <th>S_13</th>\n",
       "      <th>S_14</th>\n",
       "      <th>S_15</th>\n",
       "      <th>S_16</th>\n",
       "      <th>S_17</th>\n",
       "      <th>S_18</th>\n",
       "    </tr>\n",
       "  </thead>\n",
       "  <tbody>\n",
       "    <tr>\n",
       "      <th>N1</th>\n",
       "      <td>NaN</td>\n",
       "      <td>NaN</td>\n",
       "      <td>NaN</td>\n",
       "      <td>NaN</td>\n",
       "      <td>NaN</td>\n",
       "      <td>NaN</td>\n",
       "      <td>NaN</td>\n",
       "      <td>NaN</td>\n",
       "      <td>NaN</td>\n",
       "      <td>NaN</td>\n",
       "      <td>NaN</td>\n",
       "      <td>NaN</td>\n",
       "      <td>NaN</td>\n",
       "      <td>NaN</td>\n",
       "      <td>NaN</td>\n",
       "      <td>NaN</td>\n",
       "      <td>NaN</td>\n",
       "    </tr>\n",
       "    <tr>\n",
       "      <th>N2</th>\n",
       "      <td>NaN</td>\n",
       "      <td>NaN</td>\n",
       "      <td>NaN</td>\n",
       "      <td>NaN</td>\n",
       "      <td>NaN</td>\n",
       "      <td>NaN</td>\n",
       "      <td>NaN</td>\n",
       "      <td>NaN</td>\n",
       "      <td>NaN</td>\n",
       "      <td>NaN</td>\n",
       "      <td>NaN</td>\n",
       "      <td>NaN</td>\n",
       "      <td>NaN</td>\n",
       "      <td>NaN</td>\n",
       "      <td>NaN</td>\n",
       "      <td>NaN</td>\n",
       "      <td>NaN</td>\n",
       "    </tr>\n",
       "    <tr>\n",
       "      <th>N3</th>\n",
       "      <td>NaN</td>\n",
       "      <td>NaN</td>\n",
       "      <td>NaN</td>\n",
       "      <td>NaN</td>\n",
       "      <td>NaN</td>\n",
       "      <td>NaN</td>\n",
       "      <td>NaN</td>\n",
       "      <td>NaN</td>\n",
       "      <td>NaN</td>\n",
       "      <td>NaN</td>\n",
       "      <td>NaN</td>\n",
       "      <td>NaN</td>\n",
       "      <td>NaN</td>\n",
       "      <td>NaN</td>\n",
       "      <td>NaN</td>\n",
       "      <td>NaN</td>\n",
       "      <td>NaN</td>\n",
       "    </tr>\n",
       "    <tr>\n",
       "      <th>N4</th>\n",
       "      <td>NaN</td>\n",
       "      <td>NaN</td>\n",
       "      <td>NaN</td>\n",
       "      <td>NaN</td>\n",
       "      <td>NaN</td>\n",
       "      <td>NaN</td>\n",
       "      <td>NaN</td>\n",
       "      <td>NaN</td>\n",
       "      <td>NaN</td>\n",
       "      <td>NaN</td>\n",
       "      <td>NaN</td>\n",
       "      <td>NaN</td>\n",
       "      <td>NaN</td>\n",
       "      <td>NaN</td>\n",
       "      <td>NaN</td>\n",
       "      <td>NaN</td>\n",
       "      <td>NaN</td>\n",
       "    </tr>\n",
       "    <tr>\n",
       "      <th>N5</th>\n",
       "      <td>NaN</td>\n",
       "      <td>NaN</td>\n",
       "      <td>NaN</td>\n",
       "      <td>NaN</td>\n",
       "      <td>NaN</td>\n",
       "      <td>NaN</td>\n",
       "      <td>NaN</td>\n",
       "      <td>NaN</td>\n",
       "      <td>NaN</td>\n",
       "      <td>NaN</td>\n",
       "      <td>NaN</td>\n",
       "      <td>NaN</td>\n",
       "      <td>NaN</td>\n",
       "      <td>NaN</td>\n",
       "      <td>NaN</td>\n",
       "      <td>NaN</td>\n",
       "      <td>NaN</td>\n",
       "    </tr>\n",
       "  </tbody>\n",
       "</table>\n",
       "</div>"
      ],
      "text/plain": [
       "   S_1_2  S_3  S_4  S_5  S_6  S_7  S_8  S_9 S_10 S_11 S_12 S_13 S_14 S_15  \\\n",
       "N1   NaN  NaN  NaN  NaN  NaN  NaN  NaN  NaN  NaN  NaN  NaN  NaN  NaN  NaN   \n",
       "N2   NaN  NaN  NaN  NaN  NaN  NaN  NaN  NaN  NaN  NaN  NaN  NaN  NaN  NaN   \n",
       "N3   NaN  NaN  NaN  NaN  NaN  NaN  NaN  NaN  NaN  NaN  NaN  NaN  NaN  NaN   \n",
       "N4   NaN  NaN  NaN  NaN  NaN  NaN  NaN  NaN  NaN  NaN  NaN  NaN  NaN  NaN   \n",
       "N5   NaN  NaN  NaN  NaN  NaN  NaN  NaN  NaN  NaN  NaN  NaN  NaN  NaN  NaN   \n",
       "\n",
       "   S_16 S_17 S_18  \n",
       "N1  NaN  NaN  NaN  \n",
       "N2  NaN  NaN  NaN  \n",
       "N3  NaN  NaN  NaN  \n",
       "N4  NaN  NaN  NaN  \n",
       "N5  NaN  NaN  NaN  "
      ]
     },
     "execution_count": 33,
     "metadata": {},
     "output_type": "execute_result"
    }
   ],
   "source": [
    "para_2"
   ]
  },
  {
   "cell_type": "code",
   "execution_count": 34,
   "metadata": {
    "ExecuteTime": {
     "end_time": "2022-08-24T04:54:53.121954Z",
     "start_time": "2022-08-24T04:54:53.093258Z"
    }
   },
   "outputs": [
    {
     "data": {
      "text/html": [
       "<div>\n",
       "<style scoped>\n",
       "    .dataframe tbody tr th:only-of-type {\n",
       "        vertical-align: middle;\n",
       "    }\n",
       "\n",
       "    .dataframe tbody tr th {\n",
       "        vertical-align: top;\n",
       "    }\n",
       "\n",
       "    .dataframe thead th {\n",
       "        text-align: right;\n",
       "    }\n",
       "</style>\n",
       "<table border=\"1\" class=\"dataframe\">\n",
       "  <thead>\n",
       "    <tr style=\"text-align: right;\">\n",
       "      <th></th>\n",
       "      <th>S_1_2</th>\n",
       "      <th>S_3</th>\n",
       "      <th>S_4</th>\n",
       "      <th>S_5</th>\n",
       "      <th>S_6</th>\n",
       "      <th>S_7</th>\n",
       "      <th>S_8</th>\n",
       "      <th>S_9</th>\n",
       "      <th>S_10</th>\n",
       "      <th>S_11</th>\n",
       "      <th>S_12</th>\n",
       "      <th>S_13</th>\n",
       "      <th>S_14</th>\n",
       "      <th>S_15</th>\n",
       "      <th>S_16</th>\n",
       "      <th>S_17</th>\n",
       "      <th>S_18</th>\n",
       "    </tr>\n",
       "  </thead>\n",
       "  <tbody>\n",
       "    <tr>\n",
       "      <th>N1</th>\n",
       "      <td>1</td>\n",
       "      <td>1</td>\n",
       "      <td>1</td>\n",
       "      <td>1.419069</td>\n",
       "      <td>1.417319</td>\n",
       "      <td>1.488732</td>\n",
       "      <td>1</td>\n",
       "      <td>1</td>\n",
       "      <td>1</td>\n",
       "      <td>1</td>\n",
       "      <td>1.884896</td>\n",
       "      <td>1.891100</td>\n",
       "      <td>0.608073</td>\n",
       "      <td>1</td>\n",
       "      <td>1</td>\n",
       "      <td>1</td>\n",
       "      <td>0.999781</td>\n",
       "    </tr>\n",
       "    <tr>\n",
       "      <th>N2</th>\n",
       "      <td>1</td>\n",
       "      <td>1</td>\n",
       "      <td>1</td>\n",
       "      <td>0.747586</td>\n",
       "      <td>0.747996</td>\n",
       "      <td>1.019746</td>\n",
       "      <td>1</td>\n",
       "      <td>1</td>\n",
       "      <td>1</td>\n",
       "      <td>1</td>\n",
       "      <td>0.663345</td>\n",
       "      <td>0.662401</td>\n",
       "      <td>105.538257</td>\n",
       "      <td>1</td>\n",
       "      <td>1</td>\n",
       "      <td>1</td>\n",
       "      <td>1.000113</td>\n",
       "    </tr>\n",
       "    <tr>\n",
       "      <th>N3</th>\n",
       "      <td>1</td>\n",
       "      <td>1</td>\n",
       "      <td>1</td>\n",
       "      <td>0.504363</td>\n",
       "      <td>0.505718</td>\n",
       "      <td>0.270009</td>\n",
       "      <td>1</td>\n",
       "      <td>1</td>\n",
       "      <td>1</td>\n",
       "      <td>1</td>\n",
       "      <td>0.365857</td>\n",
       "      <td>0.364955</td>\n",
       "      <td>54.469055</td>\n",
       "      <td>1</td>\n",
       "      <td>1</td>\n",
       "      <td>1</td>\n",
       "      <td>1.000944</td>\n",
       "    </tr>\n",
       "    <tr>\n",
       "      <th>N4</th>\n",
       "      <td>1</td>\n",
       "      <td>1</td>\n",
       "      <td>1</td>\n",
       "      <td>0.409847</td>\n",
       "      <td>0.407989</td>\n",
       "      <td>0.099905</td>\n",
       "      <td>1</td>\n",
       "      <td>1</td>\n",
       "      <td>1</td>\n",
       "      <td>1</td>\n",
       "      <td>0.289974</td>\n",
       "      <td>0.290912</td>\n",
       "      <td>1.000000</td>\n",
       "      <td>1</td>\n",
       "      <td>1</td>\n",
       "      <td>1</td>\n",
       "      <td>1.016264</td>\n",
       "    </tr>\n",
       "    <tr>\n",
       "      <th>N5</th>\n",
       "      <td>1</td>\n",
       "      <td>1</td>\n",
       "      <td>1</td>\n",
       "      <td>0.299024</td>\n",
       "      <td>0.299433</td>\n",
       "      <td>0.101518</td>\n",
       "      <td>1</td>\n",
       "      <td>1</td>\n",
       "      <td>1</td>\n",
       "      <td>1</td>\n",
       "      <td>0.220308</td>\n",
       "      <td>0.220513</td>\n",
       "      <td>1.000000</td>\n",
       "      <td>1</td>\n",
       "      <td>1</td>\n",
       "      <td>1</td>\n",
       "      <td>0.998156</td>\n",
       "    </tr>\n",
       "  </tbody>\n",
       "</table>\n",
       "</div>"
      ],
      "text/plain": [
       "    S_1_2  S_3  S_4       S_5       S_6       S_7  S_8  S_9  S_10  S_11  \\\n",
       "N1      1    1    1  1.419069  1.417319  1.488732    1    1     1     1   \n",
       "N2      1    1    1  0.747586  0.747996  1.019746    1    1     1     1   \n",
       "N3      1    1    1  0.504363  0.505718  0.270009    1    1     1     1   \n",
       "N4      1    1    1  0.409847  0.407989  0.099905    1    1     1     1   \n",
       "N5      1    1    1  0.299024  0.299433  0.101518    1    1     1     1   \n",
       "\n",
       "        S_12      S_13        S_14  S_15  S_16  S_17      S_18  \n",
       "N1  1.884896  1.891100    0.608073     1     1     1  0.999781  \n",
       "N2  0.663345  0.662401  105.538257     1     1     1  1.000113  \n",
       "N3  0.365857  0.364955   54.469055     1     1     1  1.000944  \n",
       "N4  0.289974  0.290912    1.000000     1     1     1  1.016264  \n",
       "N5  0.220308  0.220513    1.000000     1     1     1  0.998156  "
      ]
     },
     "execution_count": 34,
     "metadata": {},
     "output_type": "execute_result"
    }
   ],
   "source": [
    "para_2['S_5'] = a_5_s\n",
    "para_2['S_6'] = a_6_s\n",
    "para_2['S_7'] = a_7_s\n",
    "para_2['S_10'] = a_10_s\n",
    "para_2['S_11'] = a_11_s\n",
    "para_2['S_12'] = a_12_s\n",
    "para_2['S_13'] = a_13_s\n",
    "para_2['S_14'] = a_14_s\n",
    "\n",
    "para_2['S_18'] = a_18_s\n",
    "\n",
    "para_2.fillna(value=1, inplace=True)\n",
    "para_2"
   ]
  },
  {
   "cell_type": "markdown",
   "metadata": {},
   "source": [
    "### 保存"
   ]
  },
  {
   "cell_type": "code",
   "execution_count": 35,
   "metadata": {
    "ExecuteTime": {
     "end_time": "2022-08-24T04:54:53.136914Z",
     "start_time": "2022-08-24T04:54:53.123916Z"
    }
   },
   "outputs": [],
   "source": [
    "path_para = './para_2.csv'\n",
    "para_2.to_csv(path_para)"
   ]
  },
  {
   "cell_type": "markdown",
   "metadata": {},
   "source": [
    "# 归一化处理(min-max标准化)"
   ]
  },
  {
   "cell_type": "code",
   "execution_count": 36,
   "metadata": {
    "ExecuteTime": {
     "end_time": "2022-08-24T04:54:53.449189Z",
     "start_time": "2022-08-24T04:54:53.138903Z"
    }
   },
   "outputs": [
    {
     "name": "stderr",
     "output_type": "stream",
     "text": [
      "100%|█████████████████████████████████████████████████████████████████████████████████| 9/9 [00:00<00:00, 29.87it/s]\n"
     ]
    }
   ],
   "source": [
    "for i in tqdm(feature_list):\n",
    "    dc[i] = (dc[i] - dc[i].min())/ (dc[i].max() - dc[i].min())"
   ]
  },
  {
   "cell_type": "code",
   "execution_count": 37,
   "metadata": {
    "ExecuteTime": {
     "end_time": "2022-08-24T04:54:53.712684Z",
     "start_time": "2022-08-24T04:54:53.451184Z"
    }
   },
   "outputs": [
    {
     "name": "stdout",
     "output_type": "stream",
     "text": [
      "<class 'pandas.core.frame.DataFrame'>\n",
      "Int64Index: 1839832 entries, 2420200000050231 to 442010000019652554\n",
      "Data columns (total 25 columns):\n",
      " #   Column      Non-Null Count    Dtype  \n",
      "---  ------      --------------    -----  \n",
      " 0   jjhklb      1839832 non-null  int64  \n",
      " 1   hydm        1839832 non-null  object \n",
      " 2   jyzt        1839832 non-null  float64\n",
      " 3   qylx        1839832 non-null  int64  \n",
      " 4   time_scale  1839832 non-null  int64  \n",
      " 5   city        1839832 non-null  object \n",
      " 6   three       1839832 non-null  int64  \n",
      " 7   scale       1839832 non-null  int64  \n",
      " 8   X1_2        1839832 non-null  int64  \n",
      " 9   X3          1839832 non-null  int64  \n",
      " 10  X4          1839832 non-null  int64  \n",
      " 11  X5          1839832 non-null  float64\n",
      " 12  X6          1839832 non-null  float64\n",
      " 13  X7          1839832 non-null  float64\n",
      " 14  X8          1839832 non-null  int64  \n",
      " 15  X9          1839832 non-null  int64  \n",
      " 16  X10         0 non-null        float64\n",
      " 17  X11         0 non-null        float64\n",
      " 18  X12         1839832 non-null  float64\n",
      " 19  X13         1839832 non-null  float64\n",
      " 20  X14         1839832 non-null  float64\n",
      " 21  X15         1839832 non-null  int64  \n",
      " 22  X16         1839832 non-null  int64  \n",
      " 23  X17         1839832 non-null  int64  \n",
      " 24  X18         1839832 non-null  float64\n",
      "dtypes: float64(10), int64(13), object(2)\n",
      "memory usage: 429.5+ MB\n"
     ]
    }
   ],
   "source": [
    "dc.info(null_counts = True)"
   ]
  },
  {
   "cell_type": "code",
   "execution_count": 38,
   "metadata": {
    "ExecuteTime": {
     "end_time": "2022-08-24T04:54:53.930223Z",
     "start_time": "2022-08-24T04:54:53.714572Z"
    }
   },
   "outputs": [],
   "source": [
    "dc.fillna(value = 0.0, inplace=True)"
   ]
  },
  {
   "cell_type": "markdown",
   "metadata": {},
   "source": [
    "# 保存"
   ]
  },
  {
   "cell_type": "code",
   "execution_count": 39,
   "metadata": {
    "ExecuteTime": {
     "end_time": "2022-08-24T04:55:18.926934Z",
     "start_time": "2022-08-24T04:54:53.932222Z"
    }
   },
   "outputs": [],
   "source": [
    "path_dataclean_2 = './DataCleaning_revised_2.csv'\n",
    "dc.to_csv(path_dataclean_2)"
   ]
  }
 ],
 "metadata": {
  "hide_input": false,
  "kernelspec": {
   "display_name": "Python 3 (ipykernel)",
   "language": "python",
   "name": "python3"
  },
  "language_info": {
   "codemirror_mode": {
    "name": "ipython",
    "version": 3
   },
   "file_extension": ".py",
   "mimetype": "text/x-python",
   "name": "python",
   "nbconvert_exporter": "python",
   "pygments_lexer": "ipython3",
   "version": "3.8.11"
  },
  "toc": {
   "base_numbering": 1,
   "nav_menu": {},
   "number_sections": true,
   "sideBar": true,
   "skip_h1_title": false,
   "title_cell": "Table of Contents",
   "title_sidebar": "Contents",
   "toc_cell": true,
   "toc_position": {
    "height": "calc(100% - 180px)",
    "left": "10px",
    "top": "150px",
    "width": "384px"
   },
   "toc_section_display": true,
   "toc_window_display": true
  },
  "varInspector": {
   "cols": {
    "lenName": 16,
    "lenType": 16,
    "lenVar": 40
   },
   "kernels_config": {
    "python": {
     "delete_cmd_postfix": "",
     "delete_cmd_prefix": "del ",
     "library": "var_list.py",
     "varRefreshCmd": "print(var_dic_list())"
    },
    "r": {
     "delete_cmd_postfix": ") ",
     "delete_cmd_prefix": "rm(",
     "library": "var_list.r",
     "varRefreshCmd": "cat(var_dic_list()) "
    }
   },
   "types_to_exclude": [
    "module",
    "function",
    "builtin_function_or_method",
    "instance",
    "_Feature"
   ],
   "window_display": false
  }
 },
 "nbformat": 4,
 "nbformat_minor": 2
}
