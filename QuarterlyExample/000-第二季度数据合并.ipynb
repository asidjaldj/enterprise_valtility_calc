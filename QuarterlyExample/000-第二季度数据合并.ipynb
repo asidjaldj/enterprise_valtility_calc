{
 "cells": [
  {
   "cell_type": "code",
   "execution_count": 1,
   "metadata": {
    "ExecuteTime": {
     "end_time": "2022-06-30T02:10:38.916638Z",
     "start_time": "2022-06-30T02:10:38.624515Z"
    }
   },
   "outputs": [],
   "source": [
    "import pandas as pd\n",
    "import numpy as np\n",
    "import warnings\n",
    "from tqdm import tqdm\n",
    "warnings.filterwarnings(\"ignore\")"
   ]
  },
  {
   "cell_type": "markdown",
   "metadata": {},
   "source": [
    "# 读取企业变更"
   ]
  },
  {
   "cell_type": "code",
   "execution_count": 2,
   "metadata": {
    "ExecuteTime": {
     "end_time": "2022-06-30T02:11:21.568803Z",
     "start_time": "2022-06-30T02:10:38.918532Z"
    }
   },
   "outputs": [
    {
     "name": "stdout",
     "output_type": "stream",
     "text": [
      "<class 'pandas.core.frame.DataFrame'>\n",
      "RangeIndex: 162700 entries, 0 to 162699\n",
      "Data columns (total 3 columns):\n",
      " #   Column      Non-Null Count   Dtype \n",
      "---  ------      --------------   ----- \n",
      " 0   nbxh(C|50)  162700 non-null  int64 \n",
      " 1   bgsx(C|10)  162700 non-null  int64 \n",
      " 2   cqrq(D)     162700 non-null  object\n",
      "dtypes: int64(2), object(1)\n",
      "memory usage: 3.7+ MB\n",
      "None\n",
      "<class 'pandas.core.frame.DataFrame'>\n",
      "RangeIndex: 152982 entries, 0 to 152981\n",
      "Data columns (total 3 columns):\n",
      " #   Column      Non-Null Count   Dtype \n",
      "---  ------      --------------   ----- \n",
      " 0   nbxh(C|50)  152982 non-null  int64 \n",
      " 1   bgsx(C|10)  152982 non-null  int64 \n",
      " 2   cqrq(D)     152982 non-null  object\n",
      "dtypes: int64(2), object(1)\n",
      "memory usage: 3.5+ MB\n",
      "None\n",
      "<class 'pandas.core.frame.DataFrame'>\n",
      "RangeIndex: 157734 entries, 0 to 157733\n",
      "Data columns (total 3 columns):\n",
      " #   Column      Non-Null Count   Dtype \n",
      "---  ------      --------------   ----- \n",
      " 0   nbxh(C|50)  157734 non-null  int64 \n",
      " 1   bgsx(C|10)  157734 non-null  int64 \n",
      " 2   cqrq(D)     157734 non-null  object\n",
      "dtypes: int64(2), object(1)\n",
      "memory usage: 3.6+ MB\n",
      "None\n"
     ]
    }
   ],
   "source": [
    "qybg_4 = pd.read_excel('./四月份活跃度涉及表/F_BGQK企业变更.xlsx')\n",
    "qybg_5 = pd.read_excel('./五月份活跃度涉及表/F_BGQK企业变更.xlsx')\n",
    "qybg_6 = pd.read_excel('./六月份活跃度涉及表/F_BGQK企业变更.xlsx')\n",
    "\n",
    "print(qybg_4.info(null_counts = True))\n",
    "print(qybg_5.info(null_counts = True))\n",
    "print(qybg_6.info(null_counts = True))"
   ]
  },
  {
   "cell_type": "markdown",
   "metadata": {},
   "source": [
    "## 更改列名"
   ]
  },
  {
   "cell_type": "code",
   "execution_count": 3,
   "metadata": {
    "ExecuteTime": {
     "end_time": "2022-06-30T02:11:21.663554Z",
     "start_time": "2022-06-30T02:11:21.569799Z"
    }
   },
   "outputs": [
    {
     "name": "stdout",
     "output_type": "stream",
     "text": [
      "<class 'pandas.core.frame.DataFrame'>\n",
      "RangeIndex: 162700 entries, 0 to 162699\n",
      "Data columns (total 3 columns):\n",
      " #   Column      Non-Null Count   Dtype \n",
      "---  ------      --------------   ----- \n",
      " 0   nbxh(C|50)  162700 non-null  int64 \n",
      " 1   bgsx(C|10)  162700 non-null  int64 \n",
      " 2   cqrq(D)     162700 non-null  object\n",
      "dtypes: int64(2), object(1)\n",
      "memory usage: 3.7+ MB\n",
      "None\n",
      "<class 'pandas.core.frame.DataFrame'>\n",
      "RangeIndex: 152982 entries, 0 to 152981\n",
      "Data columns (total 3 columns):\n",
      " #   Column      Non-Null Count   Dtype \n",
      "---  ------      --------------   ----- \n",
      " 0   nbxh(C|50)  152982 non-null  int64 \n",
      " 1   bgsx(C|10)  152982 non-null  int64 \n",
      " 2   cqrq(D)     152982 non-null  object\n",
      "dtypes: int64(2), object(1)\n",
      "memory usage: 3.5+ MB\n",
      "None\n",
      "<class 'pandas.core.frame.DataFrame'>\n",
      "RangeIndex: 157734 entries, 0 to 157733\n",
      "Data columns (total 3 columns):\n",
      " #   Column      Non-Null Count   Dtype \n",
      "---  ------      --------------   ----- \n",
      " 0   nbxh(C|50)  157734 non-null  int64 \n",
      " 1   bgsx(C|10)  157734 non-null  int64 \n",
      " 2   cqrq(D)     157734 non-null  object\n",
      "dtypes: int64(2), object(1)\n",
      "memory usage: 3.6+ MB\n",
      "None\n"
     ]
    }
   ],
   "source": [
    "print(qybg_4.info(null_counts = True))\n",
    "print(qybg_5.info(null_counts = True))\n",
    "print(qybg_6.info(null_counts = True))"
   ]
  },
  {
   "cell_type": "markdown",
   "metadata": {},
   "source": [
    "## 合并"
   ]
  },
  {
   "cell_type": "code",
   "execution_count": 4,
   "metadata": {
    "ExecuteTime": {
     "end_time": "2022-06-30T02:11:21.758267Z",
     "start_time": "2022-06-30T02:11:21.665515Z"
    }
   },
   "outputs": [
    {
     "name": "stdout",
     "output_type": "stream",
     "text": [
      "<class 'pandas.core.frame.DataFrame'>\n",
      "Int64Index: 473416 entries, 0 to 157733\n",
      "Data columns (total 3 columns):\n",
      " #   Column      Non-Null Count   Dtype \n",
      "---  ------      --------------   ----- \n",
      " 0   nbxh(C|50)  473416 non-null  int64 \n",
      " 1   bgsx(C|10)  473416 non-null  int64 \n",
      " 2   cqrq(D)     473416 non-null  object\n",
      "dtypes: int64(2), object(1)\n",
      "memory usage: 14.4+ MB\n",
      "None\n"
     ]
    },
    {
     "data": {
      "text/html": [
       "<div>\n",
       "<style scoped>\n",
       "    .dataframe tbody tr th:only-of-type {\n",
       "        vertical-align: middle;\n",
       "    }\n",
       "\n",
       "    .dataframe tbody tr th {\n",
       "        vertical-align: top;\n",
       "    }\n",
       "\n",
       "    .dataframe thead th {\n",
       "        text-align: right;\n",
       "    }\n",
       "</style>\n",
       "<table border=\"1\" class=\"dataframe\">\n",
       "  <thead>\n",
       "    <tr style=\"text-align: right;\">\n",
       "      <th></th>\n",
       "      <th>nbxh(C|50)</th>\n",
       "      <th>bgsx(C|10)</th>\n",
       "      <th>cqrq(D)</th>\n",
       "    </tr>\n",
       "  </thead>\n",
       "  <tbody>\n",
       "    <tr>\n",
       "      <th>0</th>\n",
       "      <td>160000021416568559</td>\n",
       "      <td>930</td>\n",
       "      <td>2022-04-11</td>\n",
       "    </tr>\n",
       "    <tr>\n",
       "      <th>1</th>\n",
       "      <td>160000020835375502</td>\n",
       "      <td>120</td>\n",
       "      <td>2022-04-22</td>\n",
       "    </tr>\n",
       "  </tbody>\n",
       "</table>\n",
       "</div>"
      ],
      "text/plain": [
       "           nbxh(C|50)  bgsx(C|10)     cqrq(D)\n",
       "0  160000021416568559         930  2022-04-11\n",
       "1  160000020835375502         120  2022-04-22"
      ]
     },
     "execution_count": 4,
     "metadata": {},
     "output_type": "execute_result"
    }
   ],
   "source": [
    "qybg = pd.concat([qybg_4, qybg_5, qybg_6])\n",
    "print(qybg.info(null_counts = True))\n",
    "qybg[:2]"
   ]
  },
  {
   "cell_type": "markdown",
   "metadata": {},
   "source": [
    "## 存储"
   ]
  },
  {
   "cell_type": "code",
   "execution_count": 5,
   "metadata": {
    "ExecuteTime": {
     "end_time": "2022-06-30T02:11:22.536992Z",
     "start_time": "2022-06-30T02:11:21.759264Z"
    }
   },
   "outputs": [],
   "source": [
    "path_qybg = './第二季度活跃度涉及表/企业变更.csv'\n",
    "qybg.to_csv(path_qybg, index=False)"
   ]
  },
  {
   "cell_type": "markdown",
   "metadata": {},
   "source": [
    "# 读取分支机构"
   ]
  },
  {
   "cell_type": "code",
   "execution_count": 6,
   "metadata": {
    "ExecuteTime": {
     "end_time": "2022-06-30T02:11:24.856360Z",
     "start_time": "2022-06-30T02:11:22.538986Z"
    }
   },
   "outputs": [
    {
     "name": "stdout",
     "output_type": "stream",
     "text": [
      "<class 'pandas.core.frame.DataFrame'>\n",
      "RangeIndex: 2896 entries, 0 to 2895\n",
      "Data columns (total 11 columns):\n",
      " #   Column           Non-Null Count  Dtype  \n",
      "---  ------           --------------  -----  \n",
      " 0   nbxh(C|50)       2896 non-null   int64  \n",
      " 1   qymc(C|300)      2896 non-null   object \n",
      " 2   uniscid(C|50)    2896 non-null   object \n",
      " 3   zch(C|50)        2896 non-null   int64  \n",
      " 4   fzrxm(C|500)     2896 non-null   object \n",
      " 5   ENTNAME(C|301)   2886 non-null   object \n",
      " 6   LEREP(C|151)     1512 non-null   object \n",
      " 7   REGCAP(N|18|6)   1434 non-null   float64\n",
      " 8   ACCONAM(N|18|6)  0 non-null      float64\n",
      " 9   OPLOC(C|451)     1413 non-null   object \n",
      " 10  OPSCOPE(C|3001)  1425 non-null   object \n",
      "dtypes: float64(2), int64(2), object(7)\n",
      "memory usage: 249.0+ KB\n",
      "None\n",
      "<class 'pandas.core.frame.DataFrame'>\n",
      "RangeIndex: 5142 entries, 0 to 5141\n",
      "Data columns (total 11 columns):\n",
      " #   Column           Non-Null Count  Dtype  \n",
      "---  ------           --------------  -----  \n",
      " 0   nbxh(C|50)       5142 non-null   int64  \n",
      " 1   qymc(C|300)      5142 non-null   object \n",
      " 2   uniscid(C|50)    5142 non-null   object \n",
      " 3   zch(C|50)        5141 non-null   float64\n",
      " 4   fzrxm(C|500)     5142 non-null   object \n",
      " 5   ENTNAME(C|301)   5132 non-null   object \n",
      " 6   LEREP(C|151)     2667 non-null   object \n",
      " 7   REGCAP(N|18|6)   2513 non-null   float64\n",
      " 8   ACCONAM(N|18|6)  0 non-null      float64\n",
      " 9   OPLOC(C|451)     2459 non-null   object \n",
      " 10  OPSCOPE(C|3001)  2493 non-null   object \n",
      "dtypes: float64(3), int64(1), object(7)\n",
      "memory usage: 442.0+ KB\n",
      "None\n"
     ]
    }
   ],
   "source": [
    "fzjg_4 = pd.read_excel('./四月份活跃度涉及表/F_FZJG 分支机构表.xlsx')\n",
    "fzjg_5 = pd.read_excel('./五月份活跃度涉及表/F_FZJG 分支机构表.xlsx')\n",
    "# fzjg_6 = pd.read_excel('./六月份活跃度涉及表/F_FZJG 分支机构表.xlsx')\n",
    "\n",
    "print(fzjg_4.info(null_counts = True))\n",
    "print(fzjg_5.info(null_counts = True))\n",
    "# print(fzjg_6.info(null_counts = True))"
   ]
  },
  {
   "cell_type": "markdown",
   "metadata": {},
   "source": [
    "## 更改列名"
   ]
  },
  {
   "cell_type": "code",
   "execution_count": 8,
   "metadata": {
    "ExecuteTime": {
     "end_time": "2022-06-30T02:12:26.971241Z",
     "start_time": "2022-06-30T02:12:26.920294Z"
    }
   },
   "outputs": [
    {
     "name": "stdout",
     "output_type": "stream",
     "text": [
      "<class 'pandas.core.frame.DataFrame'>\n",
      "RangeIndex: 2896 entries, 0 to 2895\n",
      "Data columns (total 11 columns):\n",
      " #   Column           Non-Null Count  Dtype  \n",
      "---  ------           --------------  -----  \n",
      " 0   nbxh(C|50)       2896 non-null   int64  \n",
      " 1   qymc(C|300)      2896 non-null   object \n",
      " 2   uniscid(C|50)    2896 non-null   object \n",
      " 3   zch(C|50)        2896 non-null   int64  \n",
      " 4   fzrxm(C|500)     2896 non-null   object \n",
      " 5   ENTNAME(C|301)   2886 non-null   object \n",
      " 6   LEREP(C|151)     1512 non-null   object \n",
      " 7   REGCAP(N|18|6)   1434 non-null   float64\n",
      " 8   ACCONAM(N|18|6)  0 non-null      float64\n",
      " 9   OPLOC(C|451)     1413 non-null   object \n",
      " 10  OPSCOPE(C|3001)  1425 non-null   object \n",
      "dtypes: float64(2), int64(2), object(7)\n",
      "memory usage: 249.0+ KB\n",
      "None\n",
      "<class 'pandas.core.frame.DataFrame'>\n",
      "RangeIndex: 5142 entries, 0 to 5141\n",
      "Data columns (total 11 columns):\n",
      " #   Column           Non-Null Count  Dtype  \n",
      "---  ------           --------------  -----  \n",
      " 0   nbxh(C|50)       5142 non-null   int64  \n",
      " 1   qymc(C|300)      5142 non-null   object \n",
      " 2   uniscid(C|50)    5142 non-null   object \n",
      " 3   zch(C|50)        5141 non-null   float64\n",
      " 4   fzrxm(C|500)     5142 non-null   object \n",
      " 5   ENTNAME(C|301)   5132 non-null   object \n",
      " 6   LEREP(C|151)     2667 non-null   object \n",
      " 7   REGCAP(N|18|6)   2513 non-null   float64\n",
      " 8   ACCONAM(N|18|6)  0 non-null      float64\n",
      " 9   OPLOC(C|451)     2459 non-null   object \n",
      " 10  OPSCOPE(C|3001)  2493 non-null   object \n",
      "dtypes: float64(3), int64(1), object(7)\n",
      "memory usage: 442.0+ KB\n",
      "None\n"
     ]
    }
   ],
   "source": [
    "print(fzjg_4.info(null_counts = True))\n",
    "print(fzjg_5.info(null_counts = True))\n",
    "# print(fzjg_6.info(null_counts = True))"
   ]
  },
  {
   "cell_type": "markdown",
   "metadata": {},
   "source": [
    "## 合并"
   ]
  },
  {
   "cell_type": "code",
   "execution_count": 9,
   "metadata": {
    "ExecuteTime": {
     "end_time": "2022-06-30T02:12:27.774706Z",
     "start_time": "2022-06-30T02:12:27.734812Z"
    }
   },
   "outputs": [
    {
     "name": "stdout",
     "output_type": "stream",
     "text": [
      "<class 'pandas.core.frame.DataFrame'>\n",
      "Int64Index: 8038 entries, 0 to 5141\n",
      "Data columns (total 11 columns):\n",
      " #   Column           Non-Null Count  Dtype  \n",
      "---  ------           --------------  -----  \n",
      " 0   nbxh(C|50)       8038 non-null   int64  \n",
      " 1   qymc(C|300)      8038 non-null   object \n",
      " 2   uniscid(C|50)    8038 non-null   object \n",
      " 3   zch(C|50)        8037 non-null   float64\n",
      " 4   fzrxm(C|500)     8038 non-null   object \n",
      " 5   ENTNAME(C|301)   8018 non-null   object \n",
      " 6   LEREP(C|151)     4179 non-null   object \n",
      " 7   REGCAP(N|18|6)   3947 non-null   float64\n",
      " 8   ACCONAM(N|18|6)  0 non-null      float64\n",
      " 9   OPLOC(C|451)     3872 non-null   object \n",
      " 10  OPSCOPE(C|3001)  3918 non-null   object \n",
      "dtypes: float64(3), int64(1), object(7)\n",
      "memory usage: 753.6+ KB\n",
      "None\n"
     ]
    },
    {
     "data": {
      "text/html": [
       "<div>\n",
       "<style scoped>\n",
       "    .dataframe tbody tr th:only-of-type {\n",
       "        vertical-align: middle;\n",
       "    }\n",
       "\n",
       "    .dataframe tbody tr th {\n",
       "        vertical-align: top;\n",
       "    }\n",
       "\n",
       "    .dataframe thead th {\n",
       "        text-align: right;\n",
       "    }\n",
       "</style>\n",
       "<table border=\"1\" class=\"dataframe\">\n",
       "  <thead>\n",
       "    <tr style=\"text-align: right;\">\n",
       "      <th></th>\n",
       "      <th>nbxh(C|50)</th>\n",
       "      <th>qymc(C|300)</th>\n",
       "      <th>uniscid(C|50)</th>\n",
       "      <th>zch(C|50)</th>\n",
       "      <th>fzrxm(C|500)</th>\n",
       "      <th>ENTNAME(C|301)</th>\n",
       "      <th>LEREP(C|151)</th>\n",
       "      <th>REGCAP(N|18|6)</th>\n",
       "      <th>ACCONAM(N|18|6)</th>\n",
       "      <th>OPLOC(C|451)</th>\n",
       "      <th>OPSCOPE(C|3001)</th>\n",
       "    </tr>\n",
       "  </thead>\n",
       "  <tbody>\n",
       "    <tr>\n",
       "      <th>0</th>\n",
       "      <td>160000020462414055</td>\n",
       "      <td>北京润昌保险代理有限公司湖北分公司蕲春营业部</td>\n",
       "      <td>91421126MA49GDNK5T</td>\n",
       "      <td>4.211260e+14</td>\n",
       "      <td>张红梅</td>\n",
       "      <td>北京润昌保险代理有限公司</td>\n",
       "      <td>万金坤</td>\n",
       "      <td>5000.0</td>\n",
       "      <td>NaN</td>\n",
       "      <td>北京市平谷区迎宾街1号院26幢2层</td>\n",
       "      <td>保险代理业务。</td>\n",
       "    </tr>\n",
       "    <tr>\n",
       "      <th>1</th>\n",
       "      <td>160000020462421635</td>\n",
       "      <td>湖北鄂武建设工程有限公司长阳分公司</td>\n",
       "      <td>91420528MA49GDNYXM</td>\n",
       "      <td>4.205280e+14</td>\n",
       "      <td>丁开红</td>\n",
       "      <td>湖北鄂武建设工程有限公司</td>\n",
       "      <td>田志敏</td>\n",
       "      <td>10000.0</td>\n",
       "      <td>NaN</td>\n",
       "      <td>武汉市汉南区纱帽街汉南大道353号</td>\n",
       "      <td>房屋建筑工程、市政工程、机电设备安装工程、地基与基础工程、钢结构工程、土石方工程施工，室内外...</td>\n",
       "    </tr>\n",
       "  </tbody>\n",
       "</table>\n",
       "</div>"
      ],
      "text/plain": [
       "           nbxh(C|50)             qymc(C|300)       uniscid(C|50)  \\\n",
       "0  160000020462414055  北京润昌保险代理有限公司湖北分公司蕲春营业部  91421126MA49GDNK5T   \n",
       "1  160000020462421635       湖北鄂武建设工程有限公司长阳分公司  91420528MA49GDNYXM   \n",
       "\n",
       "      zch(C|50) fzrxm(C|500) ENTNAME(C|301) LEREP(C|151)  REGCAP(N|18|6)  \\\n",
       "0  4.211260e+14          张红梅   北京润昌保险代理有限公司          万金坤          5000.0   \n",
       "1  4.205280e+14          丁开红   湖北鄂武建设工程有限公司          田志敏         10000.0   \n",
       "\n",
       "   ACCONAM(N|18|6)       OPLOC(C|451)  \\\n",
       "0              NaN  北京市平谷区迎宾街1号院26幢2层   \n",
       "1              NaN  武汉市汉南区纱帽街汉南大道353号   \n",
       "\n",
       "                                     OPSCOPE(C|3001)  \n",
       "0                                            保险代理业务。  \n",
       "1  房屋建筑工程、市政工程、机电设备安装工程、地基与基础工程、钢结构工程、土石方工程施工，室内外...  "
      ]
     },
     "execution_count": 9,
     "metadata": {},
     "output_type": "execute_result"
    }
   ],
   "source": [
    "fzjg = pd.concat([fzjg_4, fzjg_5])\n",
    "# fzjg = pd.concat([fzjg_1, fzjg_2, fzjg_3, fzjg_4, fzjg_5, fzjg_6])\n",
    "print(fzjg.info(null_counts = True))\n",
    "fzjg[:2]"
   ]
  },
  {
   "cell_type": "markdown",
   "metadata": {},
   "source": [
    "## 存储 "
   ]
  },
  {
   "cell_type": "code",
   "execution_count": 10,
   "metadata": {
    "ExecuteTime": {
     "end_time": "2022-06-30T02:12:28.711967Z",
     "start_time": "2022-06-30T02:12:28.631183Z"
    }
   },
   "outputs": [],
   "source": [
    "path_fzjg = './第二季度活跃度涉及表/分支机构.csv'\n",
    "fzjg.to_csv(path_fzjg, index=False)"
   ]
  },
  {
   "cell_type": "markdown",
   "metadata": {},
   "source": [
    "# 读取企业关系人表"
   ]
  },
  {
   "cell_type": "code",
   "execution_count": 11,
   "metadata": {
    "ExecuteTime": {
     "end_time": "2022-06-30T02:12:29.997258Z",
     "start_time": "2022-06-30T02:12:29.655576Z"
    }
   },
   "outputs": [
    {
     "name": "stdout",
     "output_type": "stream",
     "text": [
      "<class 'pandas.core.frame.DataFrame'>\n",
      "RangeIndex: 613 entries, 0 to 612\n",
      "Data columns (total 6 columns):\n",
      " #   Column           Non-Null Count  Dtype  \n",
      "---  ------           --------------  -----  \n",
      " 0   tznbxh(C|250)    86 non-null     float64\n",
      " 1   tze(N|18|6)      84 non-null     float64\n",
      " 2   zrrlx(C|2)       613 non-null    int64  \n",
      " 3   person_id(C|45)  613 non-null    int64  \n",
      " 4   rjcze(N|18|6)    613 non-null    float64\n",
      " 5   czsj(D)          613 non-null    object \n",
      "dtypes: float64(3), int64(2), object(1)\n",
      "memory usage: 28.9+ KB\n",
      "None\n",
      "<class 'pandas.core.frame.DataFrame'>\n",
      "RangeIndex: 681 entries, 0 to 680\n",
      "Data columns (total 6 columns):\n",
      " #   Column           Non-Null Count  Dtype  \n",
      "---  ------           --------------  -----  \n",
      " 0   tznbxh(C|250)    95 non-null     float64\n",
      " 1   tze(N|18|6)      117 non-null    float64\n",
      " 2   zrrlx(C|2)       681 non-null    int64  \n",
      " 3   person_id(C|45)  681 non-null    int64  \n",
      " 4   rjcze(N|18|6)    681 non-null    float64\n",
      " 5   czsj(D)          681 non-null    object \n",
      "dtypes: float64(3), int64(2), object(1)\n",
      "memory usage: 32.0+ KB\n",
      "None\n",
      "<class 'pandas.core.frame.DataFrame'>\n",
      "RangeIndex: 524 entries, 0 to 523\n",
      "Data columns (total 6 columns):\n",
      " #   Column           Non-Null Count  Dtype  \n",
      "---  ------           --------------  -----  \n",
      " 0   tznbxh(C|250)    524 non-null    int64  \n",
      " 1   tze(N|18|6)      84 non-null     float64\n",
      " 2   zrrlx(C|2)       524 non-null    int64  \n",
      " 3   person_id(C|45)  524 non-null    int64  \n",
      " 4   rjcze(N|18|6)    524 non-null    float64\n",
      " 5   czsj(D)          524 non-null    object \n",
      "dtypes: float64(2), int64(3), object(1)\n",
      "memory usage: 24.7+ KB\n",
      "None\n"
     ]
    }
   ],
   "source": [
    "qygx_4 = pd.read_excel('./四月份活跃度涉及表/F_TZJYZRR企业关系人表.xlsx')\n",
    "qygx_5 = pd.read_excel('./五月份活跃度涉及表/F_TZJYZRR企业关系人表.xlsx')\n",
    "qygx_6 = pd.read_excel('./六月份活跃度涉及表/F_TZJYZRR企业关系人表.xlsx')\n",
    "\n",
    "print(qygx_4.info(null_counts = True))\n",
    "print(qygx_5.info(null_counts = True))\n",
    "print(qygx_6.info(null_counts = True))"
   ]
  },
  {
   "cell_type": "markdown",
   "metadata": {},
   "source": [
    "## 更改列名"
   ]
  },
  {
   "cell_type": "code",
   "execution_count": 12,
   "metadata": {
    "ExecuteTime": {
     "end_time": "2022-06-30T02:12:30.698895Z",
     "start_time": "2022-06-30T02:12:30.654919Z"
    }
   },
   "outputs": [
    {
     "name": "stdout",
     "output_type": "stream",
     "text": [
      "<class 'pandas.core.frame.DataFrame'>\n",
      "RangeIndex: 613 entries, 0 to 612\n",
      "Data columns (total 6 columns):\n",
      " #   Column           Non-Null Count  Dtype  \n",
      "---  ------           --------------  -----  \n",
      " 0   tznbxh(C|250)    86 non-null     float64\n",
      " 1   tze(N|18|6)      84 non-null     float64\n",
      " 2   zrrlx(C|2)       613 non-null    int64  \n",
      " 3   person_id(C|45)  613 non-null    int64  \n",
      " 4   rjcze(N|18|6)    613 non-null    float64\n",
      " 5   czsj(D)          613 non-null    object \n",
      "dtypes: float64(3), int64(2), object(1)\n",
      "memory usage: 28.9+ KB\n",
      "None\n",
      "<class 'pandas.core.frame.DataFrame'>\n",
      "RangeIndex: 681 entries, 0 to 680\n",
      "Data columns (total 6 columns):\n",
      " #   Column           Non-Null Count  Dtype  \n",
      "---  ------           --------------  -----  \n",
      " 0   tznbxh(C|250)    95 non-null     float64\n",
      " 1   tze(N|18|6)      117 non-null    float64\n",
      " 2   zrrlx(C|2)       681 non-null    int64  \n",
      " 3   person_id(C|45)  681 non-null    int64  \n",
      " 4   rjcze(N|18|6)    681 non-null    float64\n",
      " 5   czsj(D)          681 non-null    object \n",
      "dtypes: float64(3), int64(2), object(1)\n",
      "memory usage: 32.0+ KB\n",
      "None\n",
      "<class 'pandas.core.frame.DataFrame'>\n",
      "RangeIndex: 524 entries, 0 to 523\n",
      "Data columns (total 6 columns):\n",
      " #   Column           Non-Null Count  Dtype  \n",
      "---  ------           --------------  -----  \n",
      " 0   tznbxh(C|250)    524 non-null    int64  \n",
      " 1   tze(N|18|6)      84 non-null     float64\n",
      " 2   zrrlx(C|2)       524 non-null    int64  \n",
      " 3   person_id(C|45)  524 non-null    int64  \n",
      " 4   rjcze(N|18|6)    524 non-null    float64\n",
      " 5   czsj(D)          524 non-null    object \n",
      "dtypes: float64(2), int64(3), object(1)\n",
      "memory usage: 24.7+ KB\n",
      "None\n"
     ]
    }
   ],
   "source": [
    "print(qygx_4.info(null_counts = True))\n",
    "print(qygx_5.info(null_counts = True))\n",
    "print(qygx_6.info(null_counts = True))"
   ]
  },
  {
   "cell_type": "markdown",
   "metadata": {},
   "source": [
    "## 合并"
   ]
  },
  {
   "cell_type": "code",
   "execution_count": 13,
   "metadata": {
    "ExecuteTime": {
     "end_time": "2022-06-30T02:12:31.613560Z",
     "start_time": "2022-06-30T02:12:31.582642Z"
    }
   },
   "outputs": [
    {
     "name": "stdout",
     "output_type": "stream",
     "text": [
      "<class 'pandas.core.frame.DataFrame'>\n",
      "Int64Index: 1818 entries, 0 to 523\n",
      "Data columns (total 6 columns):\n",
      " #   Column           Non-Null Count  Dtype  \n",
      "---  ------           --------------  -----  \n",
      " 0   tznbxh(C|250)    705 non-null    float64\n",
      " 1   tze(N|18|6)      285 non-null    float64\n",
      " 2   zrrlx(C|2)       1818 non-null   int64  \n",
      " 3   person_id(C|45)  1818 non-null   int64  \n",
      " 4   rjcze(N|18|6)    1818 non-null   float64\n",
      " 5   czsj(D)          1818 non-null   object \n",
      "dtypes: float64(3), int64(2), object(1)\n",
      "memory usage: 99.4+ KB\n",
      "None\n"
     ]
    },
    {
     "data": {
      "text/html": [
       "<div>\n",
       "<style scoped>\n",
       "    .dataframe tbody tr th:only-of-type {\n",
       "        vertical-align: middle;\n",
       "    }\n",
       "\n",
       "    .dataframe tbody tr th {\n",
       "        vertical-align: top;\n",
       "    }\n",
       "\n",
       "    .dataframe thead th {\n",
       "        text-align: right;\n",
       "    }\n",
       "</style>\n",
       "<table border=\"1\" class=\"dataframe\">\n",
       "  <thead>\n",
       "    <tr style=\"text-align: right;\">\n",
       "      <th></th>\n",
       "      <th>tznbxh(C|250)</th>\n",
       "      <th>tze(N|18|6)</th>\n",
       "      <th>zrrlx(C|2)</th>\n",
       "      <th>person_id(C|45)</th>\n",
       "      <th>rjcze(N|18|6)</th>\n",
       "      <th>czsj(D)</th>\n",
       "    </tr>\n",
       "  </thead>\n",
       "  <tbody>\n",
       "    <tr>\n",
       "      <th>0</th>\n",
       "      <td>NaN</td>\n",
       "      <td>NaN</td>\n",
       "      <td>4</td>\n",
       "      <td>160000021464782794</td>\n",
       "      <td>50.0</td>\n",
       "      <td>2022-04-02</td>\n",
       "    </tr>\n",
       "    <tr>\n",
       "      <th>1</th>\n",
       "      <td>NaN</td>\n",
       "      <td>10.0</td>\n",
       "      <td>4</td>\n",
       "      <td>4420100002313980</td>\n",
       "      <td>10.0</td>\n",
       "      <td>2022-04-09</td>\n",
       "    </tr>\n",
       "  </tbody>\n",
       "</table>\n",
       "</div>"
      ],
      "text/plain": [
       "   tznbxh(C|250)  tze(N|18|6)  zrrlx(C|2)     person_id(C|45)  rjcze(N|18|6)  \\\n",
       "0            NaN          NaN           4  160000021464782794           50.0   \n",
       "1            NaN         10.0           4    4420100002313980           10.0   \n",
       "\n",
       "      czsj(D)  \n",
       "0  2022-04-02  \n",
       "1  2022-04-09  "
      ]
     },
     "execution_count": 13,
     "metadata": {},
     "output_type": "execute_result"
    }
   ],
   "source": [
    "qygx = pd.concat([qygx_4, qygx_5, qygx_6])\n",
    "print(qygx.info(null_counts = True))\n",
    "qygx[:2]"
   ]
  },
  {
   "cell_type": "markdown",
   "metadata": {},
   "source": [
    "## 存储"
   ]
  },
  {
   "cell_type": "code",
   "execution_count": 14,
   "metadata": {
    "ExecuteTime": {
     "end_time": "2022-06-30T02:12:32.160568Z",
     "start_time": "2022-06-30T02:12:32.135315Z"
    }
   },
   "outputs": [],
   "source": [
    "path_qygx = './第二季度活跃度涉及表/企业关系人.csv'\n",
    "qygx.to_csv(path_qygx, index=False)"
   ]
  },
  {
   "cell_type": "markdown",
   "metadata": {},
   "source": [
    "# 读取迁移表"
   ]
  },
  {
   "cell_type": "code",
   "execution_count": 15,
   "metadata": {
    "ExecuteTime": {
     "end_time": "2022-06-30T02:12:39.749633Z",
     "start_time": "2022-06-30T02:12:32.614805Z"
    },
    "scrolled": false
   },
   "outputs": [
    {
     "name": "stdout",
     "output_type": "stream",
     "text": [
      "<class 'pandas.core.frame.DataFrame'>\n",
      "RangeIndex: 2826 entries, 0 to 2825\n",
      "Data columns (total 34 columns):\n",
      " #   Column                    Non-Null Count  Dtype  \n",
      "---  ------                    --------------  -----  \n",
      " 0   ID(C|75)                  2826 non-null   int64  \n",
      " 1   MARPRID(C|75)             2826 non-null   int64  \n",
      " 2   ENTNAME(C|500)            2826 non-null   object \n",
      " 3   LEREP(C|300)              1544 non-null   object \n",
      " 4   REGCAP(N|18|6)            1428 non-null   float64\n",
      " 5   ACCONAM(N|18|6)           11 non-null     float64\n",
      " 6   CURRENCY(C|5)             127 non-null    float64\n",
      " 7   OPLOC(C|500)              1485 non-null   object \n",
      " 8   OPSCOPE(C|4000)           1422 non-null   object \n",
      " 9   ENTTYPE(C|10)             2793 non-null   float64\n",
      " 10  ENTTYPEITEM(C|10)         2681 non-null   float64\n",
      " 11  OPFROM(P)                 2747 non-null   object \n",
      " 12  OPTO(P)                   533 non-null    object \n",
      " 13  REGNO(C|75)               478 non-null    object \n",
      " 14  EMAIL(C|200)              10 non-null     object \n",
      " 15  COUNTRY(C|5)              0 non-null      float64\n",
      " 16  INSYSSIGN(N|10|0)         2826 non-null   int64  \n",
      " 17  BATCH(C|1)                2826 non-null   int64  \n",
      " 18  MODIDATE(P)               2826 non-null   object \n",
      " 19  ESTDATE(P)                1477 non-null   object \n",
      " 20  PROVCODE(C|75)            2826 non-null   int64  \n",
      " 21  REMARK(C|2000)            28 non-null     object \n",
      " 22  REGORGNAME(C|200)         2826 non-null   object \n",
      " 23  FORENTNAME(C|300)         0 non-null      float64\n",
      " 24  STUFFTYPE(C|10)           2826 non-null   int64  \n",
      " 25  STUFFNAME(C|75)           2826 non-null   object \n",
      " 26  SURPERFROM(P)             0 non-null      float64\n",
      " 27  SURPERTO(P)               0 non-null      float64\n",
      " 28  FORENTAUTSIGNNAME(C|300)  0 non-null      float64\n",
      " 29  FORENLIAFOR(C|5)          0 non-null      float64\n",
      " 30  UNISCID(C|75)             2811 non-null   object \n",
      " 31  ACCOUNTTYPE(C|5)          638 non-null    float64\n",
      " 32  DISTCODE(C|50)            405 non-null    float64\n",
      " 33  BUSIADDRESS(C|500)        1151 non-null   object \n",
      "dtypes: float64(13), int64(6), object(15)\n",
      "memory usage: 750.8+ KB\n",
      "None\n",
      "<class 'pandas.core.frame.DataFrame'>\n",
      "RangeIndex: 2548 entries, 0 to 2547\n",
      "Data columns (total 34 columns):\n",
      " #   Column                    Non-Null Count  Dtype  \n",
      "---  ------                    --------------  -----  \n",
      " 0   ID(C|75)                  2548 non-null   int64  \n",
      " 1   MARPRID(C|75)             2548 non-null   int64  \n",
      " 2   ENTNAME(C|500)            2548 non-null   object \n",
      " 3   LEREP(C|300)              1473 non-null   object \n",
      " 4   REGCAP(N|18|6)            1351 non-null   float64\n",
      " 5   ACCONAM(N|18|6)           4 non-null      float64\n",
      " 6   CURRENCY(C|5)             82 non-null     float64\n",
      " 7   OPLOC(C|500)              1420 non-null   object \n",
      " 8   OPSCOPE(C|4000)           1401 non-null   object \n",
      " 9   ENTTYPE(C|10)             2527 non-null   float64\n",
      " 10  ENTTYPEITEM(C|10)         2408 non-null   float64\n",
      " 11  OPFROM(P)                 2472 non-null   object \n",
      " 12  OPTO(P)                   469 non-null    object \n",
      " 13  REGNO(C|75)               523 non-null    object \n",
      " 14  EMAIL(C|200)              11 non-null     object \n",
      " 15  COUNTRY(C|5)              1 non-null      float64\n",
      " 16  INSYSSIGN(N|10|0)         2548 non-null   int64  \n",
      " 17  BATCH(C|1)                2548 non-null   int64  \n",
      " 18  MODIDATE(P)               2548 non-null   object \n",
      " 19  ESTDATE(P)                1425 non-null   object \n",
      " 20  PROVCODE(C|75)            2548 non-null   int64  \n",
      " 21  REMARK(C|2000)            17 non-null     object \n",
      " 22  REGORGNAME(C|200)         2548 non-null   object \n",
      " 23  FORENTNAME(C|300)         0 non-null      float64\n",
      " 24  STUFFTYPE(C|10)           2548 non-null   int64  \n",
      " 25  STUFFNAME(C|75)           2548 non-null   object \n",
      " 26  SURPERFROM(P)             0 non-null      float64\n",
      " 27  SURPERTO(P)               0 non-null      float64\n",
      " 28  FORENTAUTSIGNNAME(C|300)  0 non-null      float64\n",
      " 29  FORENLIAFOR(C|5)          0 non-null      float64\n",
      " 30  UNISCID(C|75)             2543 non-null   object \n",
      " 31  ACCOUNTTYPE(C|5)          613 non-null    float64\n",
      " 32  DISTCODE(C|50)            304 non-null    float64\n",
      " 33  BUSIADDRESS(C|500)        993 non-null    object \n",
      "dtypes: float64(13), int64(6), object(15)\n",
      "memory usage: 676.9+ KB\n",
      "None\n",
      "<class 'pandas.core.frame.DataFrame'>\n",
      "RangeIndex: 3228 entries, 0 to 3227\n",
      "Data columns (total 34 columns):\n",
      " #   Column                    Non-Null Count  Dtype  \n",
      "---  ------                    --------------  -----  \n",
      " 0   ID(C|75)                  3228 non-null   int64  \n",
      " 1   MARPRID(C|75)             3228 non-null   int64  \n",
      " 2   ENTNAME(C|500)            3228 non-null   object \n",
      " 3   LEREP(C|300)              1768 non-null   object \n",
      " 4   REGCAP(N|18|6)            1631 non-null   float64\n",
      " 5   ACCONAM(N|18|6)           1 non-null      float64\n",
      " 6   CURRENCY(C|5)             98 non-null     float64\n",
      " 7   OPLOC(C|500)              1716 non-null   object \n",
      " 8   OPSCOPE(C|4000)           1766 non-null   object \n",
      " 9   ENTTYPE(C|10)             3217 non-null   float64\n",
      " 10  ENTTYPEITEM(C|10)         3110 non-null   float64\n",
      " 11  OPFROM(P)                 2962 non-null   object \n",
      " 12  OPTO(P)                   565 non-null    object \n",
      " 13  REGNO(C|75)               605 non-null    object \n",
      " 14  EMAIL(C|200)              17 non-null     object \n",
      " 15  COUNTRY(C|5)              0 non-null      float64\n",
      " 16  INSYSSIGN(N|10|0)         3228 non-null   int64  \n",
      " 17  BATCH(C|1)                3228 non-null   int64  \n",
      " 18  MODIDATE(P)               3228 non-null   object \n",
      " 19  ESTDATE(P)                1701 non-null   object \n",
      " 20  PROVCODE(C|75)            3228 non-null   int64  \n",
      " 21  REMARK(C|2000)            18 non-null     object \n",
      " 22  REGORGNAME(C|200)         3228 non-null   object \n",
      " 23  FORENTNAME(C|300)         0 non-null      float64\n",
      " 24  STUFFTYPE(C|10)           3228 non-null   int64  \n",
      " 25  STUFFNAME(C|75)           3228 non-null   object \n",
      " 26  SURPERFROM(P)             0 non-null      float64\n",
      " 27  SURPERTO(P)               0 non-null      float64\n",
      " 28  FORENTAUTSIGNNAME(C|300)  0 non-null      float64\n",
      " 29  FORENLIAFOR(C|5)          0 non-null      float64\n",
      " 30  UNISCID(C|75)             3216 non-null   object \n",
      " 31  ACCOUNTTYPE(C|5)          790 non-null    float64\n",
      " 32  DISTCODE(C|50)            377 non-null    float64\n",
      " 33  BUSIADDRESS(C|500)        1244 non-null   object \n",
      "dtypes: float64(13), int64(6), object(15)\n",
      "memory usage: 857.6+ KB\n",
      "None\n"
     ]
    }
   ],
   "source": [
    "qyb_4 = pd.read_excel('./四月份活跃度涉及表/ODS_REG_PARENTENT 迁移表.xlsx')\n",
    "qyb_5 = pd.read_excel('./五月份活跃度涉及表/ODS_REG_PARENTENT 迁移表.xlsx')\n",
    "qyb_6 = pd.read_excel('./六月份活跃度涉及表/ODS_REG_PARENTENT 迁移表.xlsx')\n",
    "\n",
    "print(qyb_4.info(null_counts = True))\n",
    "print(qyb_5.info(null_counts = True))\n",
    "print(qyb_6.info(null_counts = True))"
   ]
  },
  {
   "cell_type": "markdown",
   "metadata": {},
   "source": [
    "## 更改列名"
   ]
  },
  {
   "cell_type": "code",
   "execution_count": 16,
   "metadata": {
    "ExecuteTime": {
     "end_time": "2022-06-30T02:12:40.209635Z",
     "start_time": "2022-06-30T02:12:40.147767Z"
    },
    "scrolled": false
   },
   "outputs": [
    {
     "name": "stdout",
     "output_type": "stream",
     "text": [
      "<class 'pandas.core.frame.DataFrame'>\n",
      "RangeIndex: 2826 entries, 0 to 2825\n",
      "Data columns (total 34 columns):\n",
      " #   Column                    Non-Null Count  Dtype  \n",
      "---  ------                    --------------  -----  \n",
      " 0   ID(C|75)                  2826 non-null   int64  \n",
      " 1   MARPRID(C|75)             2826 non-null   int64  \n",
      " 2   ENTNAME(C|500)            2826 non-null   object \n",
      " 3   LEREP(C|300)              1544 non-null   object \n",
      " 4   REGCAP(N|18|6)            1428 non-null   float64\n",
      " 5   ACCONAM(N|18|6)           11 non-null     float64\n",
      " 6   CURRENCY(C|5)             127 non-null    float64\n",
      " 7   OPLOC(C|500)              1485 non-null   object \n",
      " 8   OPSCOPE(C|4000)           1422 non-null   object \n",
      " 9   ENTTYPE(C|10)             2793 non-null   float64\n",
      " 10  ENTTYPEITEM(C|10)         2681 non-null   float64\n",
      " 11  OPFROM(P)                 2747 non-null   object \n",
      " 12  OPTO(P)                   533 non-null    object \n",
      " 13  REGNO(C|75)               478 non-null    object \n",
      " 14  EMAIL(C|200)              10 non-null     object \n",
      " 15  COUNTRY(C|5)              0 non-null      float64\n",
      " 16  INSYSSIGN(N|10|0)         2826 non-null   int64  \n",
      " 17  BATCH(C|1)                2826 non-null   int64  \n",
      " 18  MODIDATE(P)               2826 non-null   object \n",
      " 19  ESTDATE(P)                1477 non-null   object \n",
      " 20  PROVCODE(C|75)            2826 non-null   int64  \n",
      " 21  REMARK(C|2000)            28 non-null     object \n",
      " 22  REGORGNAME(C|200)         2826 non-null   object \n",
      " 23  FORENTNAME(C|300)         0 non-null      float64\n",
      " 24  STUFFTYPE(C|10)           2826 non-null   int64  \n",
      " 25  STUFFNAME(C|75)           2826 non-null   object \n",
      " 26  SURPERFROM(P)             0 non-null      float64\n",
      " 27  SURPERTO(P)               0 non-null      float64\n",
      " 28  FORENTAUTSIGNNAME(C|300)  0 non-null      float64\n",
      " 29  FORENLIAFOR(C|5)          0 non-null      float64\n",
      " 30  UNISCID(C|75)             2811 non-null   object \n",
      " 31  ACCOUNTTYPE(C|5)          638 non-null    float64\n",
      " 32  DISTCODE(C|50)            405 non-null    float64\n",
      " 33  BUSIADDRESS(C|500)        1151 non-null   object \n",
      "dtypes: float64(13), int64(6), object(15)\n",
      "memory usage: 750.8+ KB\n",
      "None\n",
      "<class 'pandas.core.frame.DataFrame'>\n",
      "RangeIndex: 2548 entries, 0 to 2547\n",
      "Data columns (total 34 columns):\n",
      " #   Column                    Non-Null Count  Dtype  \n",
      "---  ------                    --------------  -----  \n",
      " 0   ID(C|75)                  2548 non-null   int64  \n",
      " 1   MARPRID(C|75)             2548 non-null   int64  \n",
      " 2   ENTNAME(C|500)            2548 non-null   object \n",
      " 3   LEREP(C|300)              1473 non-null   object \n",
      " 4   REGCAP(N|18|6)            1351 non-null   float64\n",
      " 5   ACCONAM(N|18|6)           4 non-null      float64\n",
      " 6   CURRENCY(C|5)             82 non-null     float64\n",
      " 7   OPLOC(C|500)              1420 non-null   object \n",
      " 8   OPSCOPE(C|4000)           1401 non-null   object \n",
      " 9   ENTTYPE(C|10)             2527 non-null   float64\n",
      " 10  ENTTYPEITEM(C|10)         2408 non-null   float64\n",
      " 11  OPFROM(P)                 2472 non-null   object \n",
      " 12  OPTO(P)                   469 non-null    object \n",
      " 13  REGNO(C|75)               523 non-null    object \n",
      " 14  EMAIL(C|200)              11 non-null     object \n",
      " 15  COUNTRY(C|5)              1 non-null      float64\n",
      " 16  INSYSSIGN(N|10|0)         2548 non-null   int64  \n",
      " 17  BATCH(C|1)                2548 non-null   int64  \n",
      " 18  MODIDATE(P)               2548 non-null   object \n",
      " 19  ESTDATE(P)                1425 non-null   object \n",
      " 20  PROVCODE(C|75)            2548 non-null   int64  \n",
      " 21  REMARK(C|2000)            17 non-null     object \n",
      " 22  REGORGNAME(C|200)         2548 non-null   object \n",
      " 23  FORENTNAME(C|300)         0 non-null      float64\n",
      " 24  STUFFTYPE(C|10)           2548 non-null   int64  \n",
      " 25  STUFFNAME(C|75)           2548 non-null   object \n",
      " 26  SURPERFROM(P)             0 non-null      float64\n",
      " 27  SURPERTO(P)               0 non-null      float64\n",
      " 28  FORENTAUTSIGNNAME(C|300)  0 non-null      float64\n",
      " 29  FORENLIAFOR(C|5)          0 non-null      float64\n",
      " 30  UNISCID(C|75)             2543 non-null   object \n",
      " 31  ACCOUNTTYPE(C|5)          613 non-null    float64\n",
      " 32  DISTCODE(C|50)            304 non-null    float64\n",
      " 33  BUSIADDRESS(C|500)        993 non-null    object \n",
      "dtypes: float64(13), int64(6), object(15)\n",
      "memory usage: 676.9+ KB\n",
      "None\n",
      "<class 'pandas.core.frame.DataFrame'>\n",
      "RangeIndex: 3228 entries, 0 to 3227\n",
      "Data columns (total 34 columns):\n",
      " #   Column                    Non-Null Count  Dtype  \n",
      "---  ------                    --------------  -----  \n",
      " 0   ID(C|75)                  3228 non-null   int64  \n",
      " 1   MARPRID(C|75)             3228 non-null   int64  \n",
      " 2   ENTNAME(C|500)            3228 non-null   object \n",
      " 3   LEREP(C|300)              1768 non-null   object \n",
      " 4   REGCAP(N|18|6)            1631 non-null   float64\n",
      " 5   ACCONAM(N|18|6)           1 non-null      float64\n",
      " 6   CURRENCY(C|5)             98 non-null     float64\n",
      " 7   OPLOC(C|500)              1716 non-null   object \n",
      " 8   OPSCOPE(C|4000)           1766 non-null   object \n",
      " 9   ENTTYPE(C|10)             3217 non-null   float64\n",
      " 10  ENTTYPEITEM(C|10)         3110 non-null   float64\n",
      " 11  OPFROM(P)                 2962 non-null   object \n",
      " 12  OPTO(P)                   565 non-null    object \n",
      " 13  REGNO(C|75)               605 non-null    object \n",
      " 14  EMAIL(C|200)              17 non-null     object \n",
      " 15  COUNTRY(C|5)              0 non-null      float64\n",
      " 16  INSYSSIGN(N|10|0)         3228 non-null   int64  \n",
      " 17  BATCH(C|1)                3228 non-null   int64  \n",
      " 18  MODIDATE(P)               3228 non-null   object \n",
      " 19  ESTDATE(P)                1701 non-null   object \n",
      " 20  PROVCODE(C|75)            3228 non-null   int64  \n",
      " 21  REMARK(C|2000)            18 non-null     object \n",
      " 22  REGORGNAME(C|200)         3228 non-null   object \n",
      " 23  FORENTNAME(C|300)         0 non-null      float64\n",
      " 24  STUFFTYPE(C|10)           3228 non-null   int64  \n",
      " 25  STUFFNAME(C|75)           3228 non-null   object \n",
      " 26  SURPERFROM(P)             0 non-null      float64\n",
      " 27  SURPERTO(P)               0 non-null      float64\n",
      " 28  FORENTAUTSIGNNAME(C|300)  0 non-null      float64\n",
      " 29  FORENLIAFOR(C|5)          0 non-null      float64\n",
      " 30  UNISCID(C|75)             3216 non-null   object \n",
      " 31  ACCOUNTTYPE(C|5)          790 non-null    float64\n",
      " 32  DISTCODE(C|50)            377 non-null    float64\n",
      " 33  BUSIADDRESS(C|500)        1244 non-null   object \n",
      "dtypes: float64(13), int64(6), object(15)\n",
      "memory usage: 857.6+ KB\n",
      "None\n"
     ]
    }
   ],
   "source": [
    "print(qyb_4.info(null_counts = True))\n",
    "print(qyb_5.info(null_counts = True))\n",
    "print(qyb_6.info(null_counts = True))"
   ]
  },
  {
   "cell_type": "markdown",
   "metadata": {},
   "source": [
    "## 合并"
   ]
  },
  {
   "cell_type": "code",
   "execution_count": 17,
   "metadata": {
    "ExecuteTime": {
     "end_time": "2022-06-30T02:12:40.666592Z",
     "start_time": "2022-06-30T02:12:40.604845Z"
    }
   },
   "outputs": [
    {
     "name": "stdout",
     "output_type": "stream",
     "text": [
      "<class 'pandas.core.frame.DataFrame'>\n",
      "Int64Index: 8602 entries, 0 to 3227\n",
      "Data columns (total 34 columns):\n",
      " #   Column                    Non-Null Count  Dtype  \n",
      "---  ------                    --------------  -----  \n",
      " 0   ID(C|75)                  8602 non-null   int64  \n",
      " 1   MARPRID(C|75)             8602 non-null   int64  \n",
      " 2   ENTNAME(C|500)            8602 non-null   object \n",
      " 3   LEREP(C|300)              4785 non-null   object \n",
      " 4   REGCAP(N|18|6)            4410 non-null   float64\n",
      " 5   ACCONAM(N|18|6)           16 non-null     float64\n",
      " 6   CURRENCY(C|5)             307 non-null    float64\n",
      " 7   OPLOC(C|500)              4621 non-null   object \n",
      " 8   OPSCOPE(C|4000)           4589 non-null   object \n",
      " 9   ENTTYPE(C|10)             8537 non-null   float64\n",
      " 10  ENTTYPEITEM(C|10)         8199 non-null   float64\n",
      " 11  OPFROM(P)                 8181 non-null   object \n",
      " 12  OPTO(P)                   1567 non-null   object \n",
      " 13  REGNO(C|75)               1606 non-null   object \n",
      " 14  EMAIL(C|200)              38 non-null     object \n",
      " 15  COUNTRY(C|5)              1 non-null      float64\n",
      " 16  INSYSSIGN(N|10|0)         8602 non-null   int64  \n",
      " 17  BATCH(C|1)                8602 non-null   int64  \n",
      " 18  MODIDATE(P)               8602 non-null   object \n",
      " 19  ESTDATE(P)                4603 non-null   object \n",
      " 20  PROVCODE(C|75)            8602 non-null   int64  \n",
      " 21  REMARK(C|2000)            63 non-null     object \n",
      " 22  REGORGNAME(C|200)         8602 non-null   object \n",
      " 23  FORENTNAME(C|300)         0 non-null      float64\n",
      " 24  STUFFTYPE(C|10)           8602 non-null   int64  \n",
      " 25  STUFFNAME(C|75)           8602 non-null   object \n",
      " 26  SURPERFROM(P)             0 non-null      float64\n",
      " 27  SURPERTO(P)               0 non-null      float64\n",
      " 28  FORENTAUTSIGNNAME(C|300)  0 non-null      float64\n",
      " 29  FORENLIAFOR(C|5)          0 non-null      float64\n",
      " 30  UNISCID(C|75)             8570 non-null   object \n",
      " 31  ACCOUNTTYPE(C|5)          2041 non-null   float64\n",
      " 32  DISTCODE(C|50)            1086 non-null   float64\n",
      " 33  BUSIADDRESS(C|500)        3388 non-null   object \n",
      "dtypes: float64(13), int64(6), object(15)\n",
      "memory usage: 2.3+ MB\n",
      "None\n"
     ]
    },
    {
     "data": {
      "text/html": [
       "<div>\n",
       "<style scoped>\n",
       "    .dataframe tbody tr th:only-of-type {\n",
       "        vertical-align: middle;\n",
       "    }\n",
       "\n",
       "    .dataframe tbody tr th {\n",
       "        vertical-align: top;\n",
       "    }\n",
       "\n",
       "    .dataframe thead th {\n",
       "        text-align: right;\n",
       "    }\n",
       "</style>\n",
       "<table border=\"1\" class=\"dataframe\">\n",
       "  <thead>\n",
       "    <tr style=\"text-align: right;\">\n",
       "      <th></th>\n",
       "      <th>ID(C|75)</th>\n",
       "      <th>MARPRID(C|75)</th>\n",
       "      <th>ENTNAME(C|500)</th>\n",
       "      <th>LEREP(C|300)</th>\n",
       "      <th>REGCAP(N|18|6)</th>\n",
       "      <th>ACCONAM(N|18|6)</th>\n",
       "      <th>CURRENCY(C|5)</th>\n",
       "      <th>OPLOC(C|500)</th>\n",
       "      <th>OPSCOPE(C|4000)</th>\n",
       "      <th>ENTTYPE(C|10)</th>\n",
       "      <th>...</th>\n",
       "      <th>STUFFTYPE(C|10)</th>\n",
       "      <th>STUFFNAME(C|75)</th>\n",
       "      <th>SURPERFROM(P)</th>\n",
       "      <th>SURPERTO(P)</th>\n",
       "      <th>FORENTAUTSIGNNAME(C|300)</th>\n",
       "      <th>FORENLIAFOR(C|5)</th>\n",
       "      <th>UNISCID(C|75)</th>\n",
       "      <th>ACCOUNTTYPE(C|5)</th>\n",
       "      <th>DISTCODE(C|50)</th>\n",
       "      <th>BUSIADDRESS(C|500)</th>\n",
       "    </tr>\n",
       "  </thead>\n",
       "  <tbody>\n",
       "    <tr>\n",
       "      <th>0</th>\n",
       "      <td>160000021461771286</td>\n",
       "      <td>24250000012460114</td>\n",
       "      <td>新十建设集团有限公司</td>\n",
       "      <td>王建东</td>\n",
       "      <td>50059.0</td>\n",
       "      <td>NaN</td>\n",
       "      <td>NaN</td>\n",
       "      <td>武汉市新洲区邾城街齐安大道352号（邾城街道办事处院内）</td>\n",
       "      <td>建筑工程施工总承包壹级，市政公用工程施工总承包贰级，钢结构工程专业承包贰级，地基基础工程专业...</td>\n",
       "      <td>1100.0</td>\n",
       "      <td>...</td>\n",
       "      <td>8</td>\n",
       "      <td>隶属企业</td>\n",
       "      <td>NaN</td>\n",
       "      <td>NaN</td>\n",
       "      <td>NaN</td>\n",
       "      <td>NaN</td>\n",
       "      <td>91420117178364864Y</td>\n",
       "      <td>1.0</td>\n",
       "      <td>420117.0</td>\n",
       "      <td>武汉市新洲区邾城街齐安大道352号（邾城街道办事处院内）</td>\n",
       "    </tr>\n",
       "    <tr>\n",
       "      <th>1</th>\n",
       "      <td>160000021461828012</td>\n",
       "      <td>160000012277492502</td>\n",
       "      <td>中国石油天然气股份有限公司</td>\n",
       "      <td>戴厚良</td>\n",
       "      <td>18302097.0</td>\n",
       "      <td>NaN</td>\n",
       "      <td>NaN</td>\n",
       "      <td>北京市东城区安德路16号</td>\n",
       "      <td>石油天然气勘查、开采（有效期以许可证为准）；煤层气、页岩气开采、勘察（仅限外埠经营，经营项目...</td>\n",
       "      <td>1200.0</td>\n",
       "      <td>...</td>\n",
       "      <td>8</td>\n",
       "      <td>隶属企业</td>\n",
       "      <td>NaN</td>\n",
       "      <td>NaN</td>\n",
       "      <td>NaN</td>\n",
       "      <td>NaN</td>\n",
       "      <td>91110000710925462X</td>\n",
       "      <td>NaN</td>\n",
       "      <td>NaN</td>\n",
       "      <td>NaN</td>\n",
       "    </tr>\n",
       "  </tbody>\n",
       "</table>\n",
       "<p>2 rows × 34 columns</p>\n",
       "</div>"
      ],
      "text/plain": [
       "             ID(C|75)       MARPRID(C|75) ENTNAME(C|500) LEREP(C|300)  \\\n",
       "0  160000021461771286   24250000012460114     新十建设集团有限公司          王建东   \n",
       "1  160000021461828012  160000012277492502  中国石油天然气股份有限公司          戴厚良   \n",
       "\n",
       "   REGCAP(N|18|6)  ACCONAM(N|18|6)  CURRENCY(C|5)  \\\n",
       "0         50059.0              NaN            NaN   \n",
       "1      18302097.0              NaN            NaN   \n",
       "\n",
       "                   OPLOC(C|500)  \\\n",
       "0  武汉市新洲区邾城街齐安大道352号（邾城街道办事处院内）   \n",
       "1                  北京市东城区安德路16号   \n",
       "\n",
       "                                     OPSCOPE(C|4000)  ENTTYPE(C|10)  ...  \\\n",
       "0  建筑工程施工总承包壹级，市政公用工程施工总承包贰级，钢结构工程专业承包贰级，地基基础工程专业...         1100.0  ...   \n",
       "1  石油天然气勘查、开采（有效期以许可证为准）；煤层气、页岩气开采、勘察（仅限外埠经营，经营项目...         1200.0  ...   \n",
       "\n",
       "   STUFFTYPE(C|10) STUFFNAME(C|75) SURPERFROM(P) SURPERTO(P)  \\\n",
       "0                8            隶属企业           NaN         NaN   \n",
       "1                8            隶属企业           NaN         NaN   \n",
       "\n",
       "  FORENTAUTSIGNNAME(C|300)  FORENLIAFOR(C|5)       UNISCID(C|75)  \\\n",
       "0                      NaN               NaN  91420117178364864Y   \n",
       "1                      NaN               NaN  91110000710925462X   \n",
       "\n",
       "   ACCOUNTTYPE(C|5) DISTCODE(C|50)             BUSIADDRESS(C|500)  \n",
       "0               1.0       420117.0  武汉市新洲区邾城街齐安大道352号（邾城街道办事处院内）   \n",
       "1               NaN            NaN                            NaN  \n",
       "\n",
       "[2 rows x 34 columns]"
      ]
     },
     "execution_count": 17,
     "metadata": {},
     "output_type": "execute_result"
    }
   ],
   "source": [
    "qyb = pd.concat([qyb_4, qyb_5, qyb_6])\n",
    "print(qyb.info(null_counts = True))\n",
    "qyb[:2]"
   ]
  },
  {
   "cell_type": "markdown",
   "metadata": {},
   "source": [
    "## 存储"
   ]
  },
  {
   "cell_type": "code",
   "execution_count": 18,
   "metadata": {
    "ExecuteTime": {
     "end_time": "2022-06-30T02:12:41.281684Z",
     "start_time": "2022-06-30T02:12:41.126094Z"
    }
   },
   "outputs": [],
   "source": [
    "path_qyb = './第二季度活跃度涉及表/迁移.csv'\n",
    "qyb.to_csv(path_qyb, index=False)"
   ]
  }
 ],
 "metadata": {
  "hide_input": false,
  "kernelspec": {
   "display_name": "Python 3 (ipykernel)",
   "language": "python",
   "name": "python3"
  },
  "language_info": {
   "codemirror_mode": {
    "name": "ipython",
    "version": 3
   },
   "file_extension": ".py",
   "mimetype": "text/x-python",
   "name": "python",
   "nbconvert_exporter": "python",
   "pygments_lexer": "ipython3",
   "version": "3.8.0"
  },
  "toc": {
   "base_numbering": 1,
   "nav_menu": {},
   "number_sections": true,
   "sideBar": true,
   "skip_h1_title": false,
   "title_cell": "Table of Contents",
   "title_sidebar": "Contents",
   "toc_cell": false,
   "toc_position": {
    "height": "calc(100% - 180px)",
    "left": "10px",
    "top": "150px",
    "width": "426.662px"
   },
   "toc_section_display": true,
   "toc_window_display": true
  },
  "varInspector": {
   "cols": {
    "lenName": 16,
    "lenType": 16,
    "lenVar": 40
   },
   "kernels_config": {
    "python": {
     "delete_cmd_postfix": "",
     "delete_cmd_prefix": "del ",
     "library": "var_list.py",
     "varRefreshCmd": "print(var_dic_list())"
    },
    "r": {
     "delete_cmd_postfix": ") ",
     "delete_cmd_prefix": "rm(",
     "library": "var_list.r",
     "varRefreshCmd": "cat(var_dic_list()) "
    }
   },
   "types_to_exclude": [
    "module",
    "function",
    "builtin_function_or_method",
    "instance",
    "_Feature"
   ],
   "window_display": false
  }
 },
 "nbformat": 4,
 "nbformat_minor": 2
}
