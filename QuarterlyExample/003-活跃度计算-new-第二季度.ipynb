{
 "cells": [
  {
   "cell_type": "markdown",
   "metadata": {
    "toc": true
   },
   "source": [
    "<h1>Table of Contents<span class=\"tocSkip\"></span></h1>\n",
    "<div class=\"toc\"><ul class=\"toc-item\"><li><span><a href=\"#读取\" data-toc-modified-id=\"读取-1\"><span class=\"toc-item-num\">1&nbsp;&nbsp;</span>读取</a></span><ul class=\"toc-item\"><li><span><a href=\"#读取主表\" data-toc-modified-id=\"读取主表-1.1\"><span class=\"toc-item-num\">1.1&nbsp;&nbsp;</span>读取主表</a></span></li><li><span><a href=\"#读取调节参数\" data-toc-modified-id=\"读取调节参数-1.2\"><span class=\"toc-item-num\">1.2&nbsp;&nbsp;</span>读取调节参数</a></span></li></ul></li><li><span><a href=\"#活跃度计算\" data-toc-modified-id=\"活跃度计算-2\"><span class=\"toc-item-num\">2&nbsp;&nbsp;</span>活跃度计算</a></span><ul class=\"toc-item\"><li><span><a href=\"#添加临时列\" data-toc-modified-id=\"添加临时列-2.1\"><span class=\"toc-item-num\">2.1&nbsp;&nbsp;</span>添加临时列</a></span></li><li><span><a href=\"#计算整体活跃度\" data-toc-modified-id=\"计算整体活跃度-2.2\"><span class=\"toc-item-num\">2.2&nbsp;&nbsp;</span>计算整体活跃度</a></span></li><li><span><a href=\"#groupby\" data-toc-modified-id=\"groupby-2.3\"><span class=\"toc-item-num\">2.3&nbsp;&nbsp;</span>groupby</a></span></li><li><span><a href=\"#定义分类活跃度函数\" data-toc-modified-id=\"定义分类活跃度函数-2.4\"><span class=\"toc-item-num\">2.4&nbsp;&nbsp;</span>定义分类活跃度函数</a></span></li><li><span><a href=\"#按行业\" data-toc-modified-id=\"按行业-2.5\"><span class=\"toc-item-num\">2.5&nbsp;&nbsp;</span>按行业</a></span><ul class=\"toc-item\"><li><span><a href=\"#保存\" data-toc-modified-id=\"保存-2.5.1\"><span class=\"toc-item-num\">2.5.1&nbsp;&nbsp;</span>保存</a></span></li></ul></li><li><span><a href=\"#按规模\" data-toc-modified-id=\"按规模-2.6\"><span class=\"toc-item-num\">2.6&nbsp;&nbsp;</span>按规模</a></span><ul class=\"toc-item\"><li><span><a href=\"#保存\" data-toc-modified-id=\"保存-2.6.1\"><span class=\"toc-item-num\">2.6.1&nbsp;&nbsp;</span>保存</a></span></li></ul></li><li><span><a href=\"#按城市\" data-toc-modified-id=\"按城市-2.7\"><span class=\"toc-item-num\">2.7&nbsp;&nbsp;</span>按城市</a></span><ul class=\"toc-item\"><li><span><a href=\"#保存\" data-toc-modified-id=\"保存-2.7.1\"><span class=\"toc-item-num\">2.7.1&nbsp;&nbsp;</span>保存</a></span></li></ul></li><li><span><a href=\"#按三次产业\" data-toc-modified-id=\"按三次产业-2.8\"><span class=\"toc-item-num\">2.8&nbsp;&nbsp;</span>按三次产业</a></span><ul class=\"toc-item\"><li><span><a href=\"#保存\" data-toc-modified-id=\"保存-2.8.1\"><span class=\"toc-item-num\">2.8.1&nbsp;&nbsp;</span>保存</a></span></li></ul></li><li><span><a href=\"#按经济户口类别\" data-toc-modified-id=\"按经济户口类别-2.9\"><span class=\"toc-item-num\">2.9&nbsp;&nbsp;</span>按经济户口类别</a></span><ul class=\"toc-item\"><li><span><a href=\"#保存\" data-toc-modified-id=\"保存-2.9.1\"><span class=\"toc-item-num\">2.9.1&nbsp;&nbsp;</span>保存</a></span></li></ul></li><li><span><a href=\"#按企业存续时间\" data-toc-modified-id=\"按企业存续时间-2.10\"><span class=\"toc-item-num\">2.10&nbsp;&nbsp;</span>按企业存续时间</a></span><ul class=\"toc-item\"><li><span><a href=\"#保存\" data-toc-modified-id=\"保存-2.10.1\"><span class=\"toc-item-num\">2.10.1&nbsp;&nbsp;</span>保存</a></span></li></ul></li><li><span><a href=\"#按是否外商投资\" data-toc-modified-id=\"按是否外商投资-2.11\"><span class=\"toc-item-num\">2.11&nbsp;&nbsp;</span>按是否外商投资</a></span><ul class=\"toc-item\"><li><span><a href=\"#保存\" data-toc-modified-id=\"保存-2.11.1\"><span class=\"toc-item-num\">2.11.1&nbsp;&nbsp;</span>保存</a></span></li></ul></li><li><span><a href=\"#三次产业的分行业占比\" data-toc-modified-id=\"三次产业的分行业占比-2.12\"><span class=\"toc-item-num\">2.12&nbsp;&nbsp;</span>三次产业的分行业占比</a></span><ul class=\"toc-item\"><li><span><a href=\"#保存\" data-toc-modified-id=\"保存-2.12.1\"><span class=\"toc-item-num\">2.12.1&nbsp;&nbsp;</span>保存</a></span></li></ul></li></ul></li></ul></div>"
   ]
  },
  {
   "cell_type": "code",
   "execution_count": 1,
   "metadata": {
    "ExecuteTime": {
     "end_time": "2022-06-30T02:31:39.238216Z",
     "start_time": "2022-06-30T02:31:38.948136Z"
    }
   },
   "outputs": [],
   "source": [
    "import pandas as pd\n",
    "import numpy as np\n",
    "import warnings\n",
    "from tqdm import tqdm\n",
    "import datetime\n",
    "import time\n",
    "import os\n",
    "warnings.filterwarnings(\"ignore\")"
   ]
  },
  {
   "cell_type": "code",
   "execution_count": 2,
   "metadata": {
    "ExecuteTime": {
     "end_time": "2022-06-30T02:31:39.254038Z",
     "start_time": "2022-06-30T02:31:39.240103Z"
    }
   },
   "outputs": [],
   "source": [
    "def mkdir(path):\n",
    " \n",
    "    # 去除首位空格\n",
    "    path=path.strip()\n",
    "    # 去除尾部 \\ 符号\n",
    "    path=path.rstrip(\"\\\\\")\n",
    " \n",
    "    # 判断路径是否存在\n",
    "    # 存在     True\n",
    "    # 不存在   False\n",
    "    isExists=os.path.exists(path)\n",
    "    \n",
    "    # 判断结果\n",
    "    if not isExists:\n",
    "        # 如果不存在则创建目录\n",
    "        # 创建目录操作函数\n",
    "        os.makedirs(path) \n",
    " \n",
    "        print(path+' 创建成功')\n",
    "        return True\n",
    "    else:\n",
    "        # 如果目录存在则不创建，并提示目录已存在\n",
    "        print(path+' 目录已存在')\n",
    "        return False"
   ]
  },
  {
   "cell_type": "code",
   "execution_count": 3,
   "metadata": {
    "ExecuteTime": {
     "end_time": "2022-06-30T02:31:39.269995Z",
     "start_time": "2022-06-30T02:31:39.256029Z"
    }
   },
   "outputs": [
    {
     "name": "stdout",
     "output_type": "stream",
     "text": [
      ".\\2022_6_30_hour10(half) 目录已存在\n"
     ]
    },
    {
     "data": {
      "text/plain": [
       "False"
      ]
     },
     "execution_count": 3,
     "metadata": {},
     "output_type": "execute_result"
    }
   ],
   "source": [
    "i = datetime.datetime.now()\n",
    "time_str = str(i.year) + '_' + str(i.month) + '_' + str(i.day) + '_hour' + str(i.hour)+ '(half)'\n",
    "# 定义要创建的文件夹\n",
    "mkpath = '.\\\\' + time_str \n",
    "# 调用函数\n",
    "mkdir(mkpath)"
   ]
  },
  {
   "cell_type": "markdown",
   "metadata": {},
   "source": [
    "# 读取"
   ]
  },
  {
   "cell_type": "markdown",
   "metadata": {},
   "source": [
    "## 读取主表"
   ]
  },
  {
   "cell_type": "code",
   "execution_count": 4,
   "metadata": {
    "ExecuteTime": {
     "end_time": "2022-06-30T02:31:44.438660Z",
     "start_time": "2022-06-30T02:31:39.271986Z"
    }
   },
   "outputs": [
    {
     "name": "stdout",
     "output_type": "stream",
     "text": [
      "<class 'pandas.core.frame.DataFrame'>\n",
      "Int64Index: 1827023 entries, 2420200000050231 to 442010000019652554\n",
      "Data columns (total 29 columns):\n",
      " #   Column      Non-Null Count    Dtype  \n",
      "---  ------      --------------    -----  \n",
      " 0   jjhklb      1827023 non-null  int64  \n",
      " 1   hydm        1827023 non-null  object \n",
      " 2   zczb        1827023 non-null  float64\n",
      " 3   jyzt        1827023 non-null  float64\n",
      " 4   qylx        1827023 non-null  int64  \n",
      " 5   tslx        1827023 non-null  int64  \n",
      " 6   new         1827023 non-null  object \n",
      " 7   time_scale  1827023 non-null  int64  \n",
      " 8   city        1827023 non-null  object \n",
      " 9   three       1827023 non-null  int64  \n",
      " 10  scale       1827023 non-null  int64  \n",
      " 11  foreign     1827023 non-null  int64  \n",
      " 12  X1_2        1827023 non-null  int64  \n",
      " 13  X3          1827023 non-null  int64  \n",
      " 14  X4          1827023 non-null  int64  \n",
      " 15  X5          1827023 non-null  float64\n",
      " 16  X6          1827023 non-null  float64\n",
      " 17  X7          1827023 non-null  float64\n",
      " 18  X8          1827023 non-null  int64  \n",
      " 19  X9          1827023 non-null  int64  \n",
      " 20  X10         1827023 non-null  float64\n",
      " 21  X11         1827023 non-null  float64\n",
      " 22  X12         1827023 non-null  float64\n",
      " 23  X13         1827023 non-null  float64\n",
      " 24  X14         1827023 non-null  float64\n",
      " 25  X15         1827023 non-null  int64  \n",
      " 26  X16         1827023 non-null  int64  \n",
      " 27  X17         1827023 non-null  int64  \n",
      " 28  X18         1827023 non-null  float64\n",
      "dtypes: float64(11), int64(15), object(3)\n",
      "memory usage: 418.2+ MB\n",
      "None\n"
     ]
    },
    {
     "data": {
      "text/html": [
       "<div>\n",
       "<style scoped>\n",
       "    .dataframe tbody tr th:only-of-type {\n",
       "        vertical-align: middle;\n",
       "    }\n",
       "\n",
       "    .dataframe tbody tr th {\n",
       "        vertical-align: top;\n",
       "    }\n",
       "\n",
       "    .dataframe thead th {\n",
       "        text-align: right;\n",
       "    }\n",
       "</style>\n",
       "<table border=\"1\" class=\"dataframe\">\n",
       "  <thead>\n",
       "    <tr style=\"text-align: right;\">\n",
       "      <th></th>\n",
       "      <th>jjhklb</th>\n",
       "      <th>hydm</th>\n",
       "      <th>zczb</th>\n",
       "      <th>jyzt</th>\n",
       "      <th>qylx</th>\n",
       "      <th>tslx</th>\n",
       "      <th>new</th>\n",
       "      <th>time_scale</th>\n",
       "      <th>city</th>\n",
       "      <th>three</th>\n",
       "      <th>...</th>\n",
       "      <th>X9</th>\n",
       "      <th>X10</th>\n",
       "      <th>X11</th>\n",
       "      <th>X12</th>\n",
       "      <th>X13</th>\n",
       "      <th>X14</th>\n",
       "      <th>X15</th>\n",
       "      <th>X16</th>\n",
       "      <th>X17</th>\n",
       "      <th>X18</th>\n",
       "    </tr>\n",
       "    <tr>\n",
       "      <th>nbxh</th>\n",
       "      <th></th>\n",
       "      <th></th>\n",
       "      <th></th>\n",
       "      <th></th>\n",
       "      <th></th>\n",
       "      <th></th>\n",
       "      <th></th>\n",
       "      <th></th>\n",
       "      <th></th>\n",
       "      <th></th>\n",
       "      <th></th>\n",
       "      <th></th>\n",
       "      <th></th>\n",
       "      <th></th>\n",
       "      <th></th>\n",
       "      <th></th>\n",
       "      <th></th>\n",
       "      <th></th>\n",
       "      <th></th>\n",
       "      <th></th>\n",
       "      <th></th>\n",
       "    </tr>\n",
       "  </thead>\n",
       "  <tbody>\n",
       "    <tr>\n",
       "      <th>2420200000050231</th>\n",
       "      <td>3</td>\n",
       "      <td>R</td>\n",
       "      <td>50.0</td>\n",
       "      <td>1.0</td>\n",
       "      <td>4540</td>\n",
       "      <td>6</td>\n",
       "      <td>2007-04</td>\n",
       "      <td>4</td>\n",
       "      <td>黄石市</td>\n",
       "      <td>3</td>\n",
       "      <td>...</td>\n",
       "      <td>0</td>\n",
       "      <td>0.0</td>\n",
       "      <td>0.0</td>\n",
       "      <td>0.0</td>\n",
       "      <td>0.0</td>\n",
       "      <td>0.0</td>\n",
       "      <td>0</td>\n",
       "      <td>0</td>\n",
       "      <td>0</td>\n",
       "      <td>0.334727</td>\n",
       "    </tr>\n",
       "    <tr>\n",
       "      <th>2422800000117935</th>\n",
       "      <td>3</td>\n",
       "      <td>Z</td>\n",
       "      <td>1.0</td>\n",
       "      <td>1.0</td>\n",
       "      <td>2130</td>\n",
       "      <td>6</td>\n",
       "      <td>2014-01</td>\n",
       "      <td>3</td>\n",
       "      <td>恩施州</td>\n",
       "      <td>3</td>\n",
       "      <td>...</td>\n",
       "      <td>0</td>\n",
       "      <td>0.0</td>\n",
       "      <td>0.0</td>\n",
       "      <td>0.0</td>\n",
       "      <td>0.0</td>\n",
       "      <td>0.0</td>\n",
       "      <td>0</td>\n",
       "      <td>0</td>\n",
       "      <td>0</td>\n",
       "      <td>0.990135</td>\n",
       "    </tr>\n",
       "  </tbody>\n",
       "</table>\n",
       "<p>2 rows × 29 columns</p>\n",
       "</div>"
      ],
      "text/plain": [
       "                  jjhklb hydm  zczb  jyzt  qylx  tslx      new  time_scale  \\\n",
       "nbxh                                                                         \n",
       "2420200000050231       3    R  50.0   1.0  4540     6  2007-04           4   \n",
       "2422800000117935       3    Z   1.0   1.0  2130     6  2014-01           3   \n",
       "\n",
       "                 city  three  ...  X9  X10  X11  X12  X13  X14  X15  X16  X17  \\\n",
       "nbxh                          ...                                               \n",
       "2420200000050231  黄石市      3  ...   0  0.0  0.0  0.0  0.0  0.0    0    0    0   \n",
       "2422800000117935  恩施州      3  ...   0  0.0  0.0  0.0  0.0  0.0    0    0    0   \n",
       "\n",
       "                       X18  \n",
       "nbxh                        \n",
       "2420200000050231  0.334727  \n",
       "2422800000117935  0.990135  \n",
       "\n",
       "[2 rows x 29 columns]"
      ]
     },
     "execution_count": 4,
     "metadata": {},
     "output_type": "execute_result"
    }
   ],
   "source": [
    "path_dc = './DataCleaning_quarterTwo_2.csv'\n",
    "dc = pd.read_csv(path_dc, index_col=[0])\n",
    "print(dc.info(null_counts = True))\n",
    "dc[:2]"
   ]
  },
  {
   "cell_type": "markdown",
   "metadata": {},
   "source": [
    "## 读取调节参数"
   ]
  },
  {
   "cell_type": "code",
   "execution_count": 5,
   "metadata": {
    "ExecuteTime": {
     "end_time": "2022-06-30T02:31:44.470574Z",
     "start_time": "2022-06-30T02:31:44.440690Z"
    }
   },
   "outputs": [
    {
     "data": {
      "text/html": [
       "<div>\n",
       "<style scoped>\n",
       "    .dataframe tbody tr th:only-of-type {\n",
       "        vertical-align: middle;\n",
       "    }\n",
       "\n",
       "    .dataframe tbody tr th {\n",
       "        vertical-align: top;\n",
       "    }\n",
       "\n",
       "    .dataframe thead th {\n",
       "        text-align: right;\n",
       "    }\n",
       "</style>\n",
       "<table border=\"1\" class=\"dataframe\">\n",
       "  <thead>\n",
       "    <tr style=\"text-align: right;\">\n",
       "      <th></th>\n",
       "      <th>I_1_2</th>\n",
       "      <th>I_3</th>\n",
       "      <th>I_4</th>\n",
       "      <th>I_5</th>\n",
       "      <th>I_6</th>\n",
       "      <th>I_7</th>\n",
       "      <th>I_8</th>\n",
       "      <th>I_9</th>\n",
       "      <th>I_10</th>\n",
       "      <th>I_11</th>\n",
       "      <th>I_12</th>\n",
       "      <th>I_13</th>\n",
       "      <th>I_14</th>\n",
       "      <th>I_15</th>\n",
       "      <th>I_16</th>\n",
       "      <th>I_17</th>\n",
       "      <th>I_18</th>\n",
       "    </tr>\n",
       "  </thead>\n",
       "  <tbody>\n",
       "    <tr>\n",
       "      <th>A</th>\n",
       "      <td>1</td>\n",
       "      <td>1</td>\n",
       "      <td>1</td>\n",
       "      <td>1.978303</td>\n",
       "      <td>1.000000</td>\n",
       "      <td>1.450562</td>\n",
       "      <td>1</td>\n",
       "      <td>1</td>\n",
       "      <td>1</td>\n",
       "      <td>1.000000</td>\n",
       "      <td>2.097394</td>\n",
       "      <td>2.083647</td>\n",
       "      <td>1.510394</td>\n",
       "      <td>1</td>\n",
       "      <td>1</td>\n",
       "      <td>1</td>\n",
       "      <td>0.998879</td>\n",
       "    </tr>\n",
       "    <tr>\n",
       "      <th>B</th>\n",
       "      <td>1</td>\n",
       "      <td>1</td>\n",
       "      <td>1</td>\n",
       "      <td>1.289234</td>\n",
       "      <td>1.000000</td>\n",
       "      <td>1.000000</td>\n",
       "      <td>1</td>\n",
       "      <td>1</td>\n",
       "      <td>1</td>\n",
       "      <td>1.000000</td>\n",
       "      <td>1.247905</td>\n",
       "      <td>1.135235</td>\n",
       "      <td>2.667904</td>\n",
       "      <td>1</td>\n",
       "      <td>1</td>\n",
       "      <td>1</td>\n",
       "      <td>1.004093</td>\n",
       "    </tr>\n",
       "    <tr>\n",
       "      <th>C</th>\n",
       "      <td>1</td>\n",
       "      <td>1</td>\n",
       "      <td>1</td>\n",
       "      <td>1.058908</td>\n",
       "      <td>1.000000</td>\n",
       "      <td>0.663964</td>\n",
       "      <td>1</td>\n",
       "      <td>1</td>\n",
       "      <td>1</td>\n",
       "      <td>1.000000</td>\n",
       "      <td>0.920723</td>\n",
       "      <td>0.915734</td>\n",
       "      <td>3.750890</td>\n",
       "      <td>1</td>\n",
       "      <td>1</td>\n",
       "      <td>1</td>\n",
       "      <td>0.999527</td>\n",
       "    </tr>\n",
       "    <tr>\n",
       "      <th>D</th>\n",
       "      <td>1</td>\n",
       "      <td>1</td>\n",
       "      <td>1</td>\n",
       "      <td>0.944195</td>\n",
       "      <td>1.000000</td>\n",
       "      <td>0.507686</td>\n",
       "      <td>1</td>\n",
       "      <td>1</td>\n",
       "      <td>1</td>\n",
       "      <td>1.000000</td>\n",
       "      <td>1.124056</td>\n",
       "      <td>1.125592</td>\n",
       "      <td>0.389686</td>\n",
       "      <td>1</td>\n",
       "      <td>1</td>\n",
       "      <td>1</td>\n",
       "      <td>0.985332</td>\n",
       "    </tr>\n",
       "    <tr>\n",
       "      <th>E</th>\n",
       "      <td>1</td>\n",
       "      <td>1</td>\n",
       "      <td>1</td>\n",
       "      <td>0.935678</td>\n",
       "      <td>1.000000</td>\n",
       "      <td>0.978687</td>\n",
       "      <td>1</td>\n",
       "      <td>1</td>\n",
       "      <td>1</td>\n",
       "      <td>1.000000</td>\n",
       "      <td>0.863557</td>\n",
       "      <td>0.862135</td>\n",
       "      <td>0.727364</td>\n",
       "      <td>1</td>\n",
       "      <td>1</td>\n",
       "      <td>1</td>\n",
       "      <td>0.999382</td>\n",
       "    </tr>\n",
       "    <tr>\n",
       "      <th>F</th>\n",
       "      <td>1</td>\n",
       "      <td>1</td>\n",
       "      <td>1</td>\n",
       "      <td>1.250299</td>\n",
       "      <td>1.000000</td>\n",
       "      <td>0.975942</td>\n",
       "      <td>1</td>\n",
       "      <td>1</td>\n",
       "      <td>1</td>\n",
       "      <td>1.000000</td>\n",
       "      <td>1.388019</td>\n",
       "      <td>1.393393</td>\n",
       "      <td>0.920263</td>\n",
       "      <td>1</td>\n",
       "      <td>1</td>\n",
       "      <td>1</td>\n",
       "      <td>1.000938</td>\n",
       "    </tr>\n",
       "    <tr>\n",
       "      <th>G</th>\n",
       "      <td>1</td>\n",
       "      <td>1</td>\n",
       "      <td>1</td>\n",
       "      <td>0.849113</td>\n",
       "      <td>1.000000</td>\n",
       "      <td>1.014035</td>\n",
       "      <td>1</td>\n",
       "      <td>1</td>\n",
       "      <td>1</td>\n",
       "      <td>1.000000</td>\n",
       "      <td>1.028075</td>\n",
       "      <td>1.033862</td>\n",
       "      <td>0.795692</td>\n",
       "      <td>1</td>\n",
       "      <td>1</td>\n",
       "      <td>1</td>\n",
       "      <td>1.000799</td>\n",
       "    </tr>\n",
       "    <tr>\n",
       "      <th>H</th>\n",
       "      <td>1</td>\n",
       "      <td>1</td>\n",
       "      <td>1</td>\n",
       "      <td>1.174423</td>\n",
       "      <td>1.000000</td>\n",
       "      <td>0.844239</td>\n",
       "      <td>1</td>\n",
       "      <td>1</td>\n",
       "      <td>1</td>\n",
       "      <td>1.000000</td>\n",
       "      <td>1.257724</td>\n",
       "      <td>1.253172</td>\n",
       "      <td>0.570023</td>\n",
       "      <td>1</td>\n",
       "      <td>1</td>\n",
       "      <td>1</td>\n",
       "      <td>1.008774</td>\n",
       "    </tr>\n",
       "    <tr>\n",
       "      <th>I</th>\n",
       "      <td>1</td>\n",
       "      <td>1</td>\n",
       "      <td>1</td>\n",
       "      <td>0.833604</td>\n",
       "      <td>1.000000</td>\n",
       "      <td>1.051559</td>\n",
       "      <td>1</td>\n",
       "      <td>1</td>\n",
       "      <td>1</td>\n",
       "      <td>1.000000</td>\n",
       "      <td>0.816644</td>\n",
       "      <td>0.818977</td>\n",
       "      <td>1.033493</td>\n",
       "      <td>1</td>\n",
       "      <td>1</td>\n",
       "      <td>1</td>\n",
       "      <td>0.999004</td>\n",
       "    </tr>\n",
       "    <tr>\n",
       "      <th>J</th>\n",
       "      <td>1</td>\n",
       "      <td>1</td>\n",
       "      <td>1</td>\n",
       "      <td>0.584896</td>\n",
       "      <td>1.000000</td>\n",
       "      <td>0.611796</td>\n",
       "      <td>1</td>\n",
       "      <td>1</td>\n",
       "      <td>1</td>\n",
       "      <td>1.000000</td>\n",
       "      <td>1.875924</td>\n",
       "      <td>1.843071</td>\n",
       "      <td>0.238046</td>\n",
       "      <td>1</td>\n",
       "      <td>1</td>\n",
       "      <td>1</td>\n",
       "      <td>0.994502</td>\n",
       "    </tr>\n",
       "    <tr>\n",
       "      <th>K</th>\n",
       "      <td>1</td>\n",
       "      <td>1</td>\n",
       "      <td>1</td>\n",
       "      <td>0.907061</td>\n",
       "      <td>1.000000</td>\n",
       "      <td>0.525003</td>\n",
       "      <td>1</td>\n",
       "      <td>1</td>\n",
       "      <td>1</td>\n",
       "      <td>1.000000</td>\n",
       "      <td>0.919030</td>\n",
       "      <td>0.919356</td>\n",
       "      <td>1.415501</td>\n",
       "      <td>1</td>\n",
       "      <td>1</td>\n",
       "      <td>1</td>\n",
       "      <td>1.005918</td>\n",
       "    </tr>\n",
       "    <tr>\n",
       "      <th>L</th>\n",
       "      <td>1</td>\n",
       "      <td>1</td>\n",
       "      <td>1</td>\n",
       "      <td>0.872548</td>\n",
       "      <td>0.128603</td>\n",
       "      <td>0.962771</td>\n",
       "      <td>1</td>\n",
       "      <td>1</td>\n",
       "      <td>1</td>\n",
       "      <td>0.128603</td>\n",
       "      <td>0.834264</td>\n",
       "      <td>0.836717</td>\n",
       "      <td>1.156349</td>\n",
       "      <td>1</td>\n",
       "      <td>1</td>\n",
       "      <td>1</td>\n",
       "      <td>0.999809</td>\n",
       "    </tr>\n",
       "    <tr>\n",
       "      <th>M</th>\n",
       "      <td>1</td>\n",
       "      <td>1</td>\n",
       "      <td>1</td>\n",
       "      <td>0.705307</td>\n",
       "      <td>1.000000</td>\n",
       "      <td>1.893373</td>\n",
       "      <td>1</td>\n",
       "      <td>1</td>\n",
       "      <td>1</td>\n",
       "      <td>1.000000</td>\n",
       "      <td>0.639991</td>\n",
       "      <td>0.639660</td>\n",
       "      <td>1.221732</td>\n",
       "      <td>1</td>\n",
       "      <td>1</td>\n",
       "      <td>1</td>\n",
       "      <td>1.000529</td>\n",
       "    </tr>\n",
       "    <tr>\n",
       "      <th>N</th>\n",
       "      <td>1</td>\n",
       "      <td>1</td>\n",
       "      <td>1</td>\n",
       "      <td>0.886648</td>\n",
       "      <td>1.000000</td>\n",
       "      <td>1.000000</td>\n",
       "      <td>1</td>\n",
       "      <td>1</td>\n",
       "      <td>1</td>\n",
       "      <td>1.000000</td>\n",
       "      <td>0.873911</td>\n",
       "      <td>0.856901</td>\n",
       "      <td>1.144807</td>\n",
       "      <td>1</td>\n",
       "      <td>1</td>\n",
       "      <td>1</td>\n",
       "      <td>0.997649</td>\n",
       "    </tr>\n",
       "    <tr>\n",
       "      <th>O</th>\n",
       "      <td>1</td>\n",
       "      <td>1</td>\n",
       "      <td>1</td>\n",
       "      <td>1.270474</td>\n",
       "      <td>1.000000</td>\n",
       "      <td>1.610536</td>\n",
       "      <td>1</td>\n",
       "      <td>1</td>\n",
       "      <td>1</td>\n",
       "      <td>1.000000</td>\n",
       "      <td>1.227886</td>\n",
       "      <td>1.227852</td>\n",
       "      <td>1.298691</td>\n",
       "      <td>1</td>\n",
       "      <td>1</td>\n",
       "      <td>1</td>\n",
       "      <td>0.993040</td>\n",
       "    </tr>\n",
       "    <tr>\n",
       "      <th>P</th>\n",
       "      <td>1</td>\n",
       "      <td>1</td>\n",
       "      <td>1</td>\n",
       "      <td>0.892950</td>\n",
       "      <td>1.000000</td>\n",
       "      <td>3.010385</td>\n",
       "      <td>1</td>\n",
       "      <td>1</td>\n",
       "      <td>1</td>\n",
       "      <td>1.000000</td>\n",
       "      <td>0.935034</td>\n",
       "      <td>0.942992</td>\n",
       "      <td>1.276961</td>\n",
       "      <td>1</td>\n",
       "      <td>1</td>\n",
       "      <td>1</td>\n",
       "      <td>0.992163</td>\n",
       "    </tr>\n",
       "    <tr>\n",
       "      <th>Q</th>\n",
       "      <td>1</td>\n",
       "      <td>1</td>\n",
       "      <td>1</td>\n",
       "      <td>0.795029</td>\n",
       "      <td>1.000000</td>\n",
       "      <td>2.038749</td>\n",
       "      <td>1</td>\n",
       "      <td>1</td>\n",
       "      <td>1</td>\n",
       "      <td>1.000000</td>\n",
       "      <td>0.885958</td>\n",
       "      <td>0.861969</td>\n",
       "      <td>0.513479</td>\n",
       "      <td>1</td>\n",
       "      <td>1</td>\n",
       "      <td>1</td>\n",
       "      <td>1.003949</td>\n",
       "    </tr>\n",
       "    <tr>\n",
       "      <th>R</th>\n",
       "      <td>1</td>\n",
       "      <td>1</td>\n",
       "      <td>1</td>\n",
       "      <td>0.861443</td>\n",
       "      <td>1.000000</td>\n",
       "      <td>2.136305</td>\n",
       "      <td>1</td>\n",
       "      <td>1</td>\n",
       "      <td>1</td>\n",
       "      <td>1.000000</td>\n",
       "      <td>0.879120</td>\n",
       "      <td>0.882303</td>\n",
       "      <td>1.721760</td>\n",
       "      <td>1</td>\n",
       "      <td>1</td>\n",
       "      <td>1</td>\n",
       "      <td>0.997937</td>\n",
       "    </tr>\n",
       "    <tr>\n",
       "      <th>S</th>\n",
       "      <td>1</td>\n",
       "      <td>1</td>\n",
       "      <td>1</td>\n",
       "      <td>1.377391</td>\n",
       "      <td>1.000000</td>\n",
       "      <td>1.000000</td>\n",
       "      <td>1</td>\n",
       "      <td>1</td>\n",
       "      <td>1</td>\n",
       "      <td>1.000000</td>\n",
       "      <td>4.525884</td>\n",
       "      <td>4.671129</td>\n",
       "      <td>0.233845</td>\n",
       "      <td>1</td>\n",
       "      <td>1</td>\n",
       "      <td>1</td>\n",
       "      <td>1.012338</td>\n",
       "    </tr>\n",
       "    <tr>\n",
       "      <th>T</th>\n",
       "      <td>1</td>\n",
       "      <td>1</td>\n",
       "      <td>1</td>\n",
       "      <td>1.000000</td>\n",
       "      <td>1.000000</td>\n",
       "      <td>1.000000</td>\n",
       "      <td>1</td>\n",
       "      <td>1</td>\n",
       "      <td>1</td>\n",
       "      <td>1.000000</td>\n",
       "      <td>1.000000</td>\n",
       "      <td>1.000000</td>\n",
       "      <td>1.000000</td>\n",
       "      <td>1</td>\n",
       "      <td>1</td>\n",
       "      <td>1</td>\n",
       "      <td>1.200569</td>\n",
       "    </tr>\n",
       "    <tr>\n",
       "      <th>Z</th>\n",
       "      <td>1</td>\n",
       "      <td>1</td>\n",
       "      <td>1</td>\n",
       "      <td>1.813709</td>\n",
       "      <td>1.000000</td>\n",
       "      <td>0.951258</td>\n",
       "      <td>1</td>\n",
       "      <td>1</td>\n",
       "      <td>1</td>\n",
       "      <td>1.000000</td>\n",
       "      <td>1.543613</td>\n",
       "      <td>1.459483</td>\n",
       "      <td>10.733361</td>\n",
       "      <td>1</td>\n",
       "      <td>1</td>\n",
       "      <td>1</td>\n",
       "      <td>0.993239</td>\n",
       "    </tr>\n",
       "  </tbody>\n",
       "</table>\n",
       "</div>"
      ],
      "text/plain": [
       "   I_1_2  I_3  I_4       I_5       I_6       I_7  I_8  I_9  I_10      I_11  \\\n",
       "A      1    1    1  1.978303  1.000000  1.450562    1    1     1  1.000000   \n",
       "B      1    1    1  1.289234  1.000000  1.000000    1    1     1  1.000000   \n",
       "C      1    1    1  1.058908  1.000000  0.663964    1    1     1  1.000000   \n",
       "D      1    1    1  0.944195  1.000000  0.507686    1    1     1  1.000000   \n",
       "E      1    1    1  0.935678  1.000000  0.978687    1    1     1  1.000000   \n",
       "F      1    1    1  1.250299  1.000000  0.975942    1    1     1  1.000000   \n",
       "G      1    1    1  0.849113  1.000000  1.014035    1    1     1  1.000000   \n",
       "H      1    1    1  1.174423  1.000000  0.844239    1    1     1  1.000000   \n",
       "I      1    1    1  0.833604  1.000000  1.051559    1    1     1  1.000000   \n",
       "J      1    1    1  0.584896  1.000000  0.611796    1    1     1  1.000000   \n",
       "K      1    1    1  0.907061  1.000000  0.525003    1    1     1  1.000000   \n",
       "L      1    1    1  0.872548  0.128603  0.962771    1    1     1  0.128603   \n",
       "M      1    1    1  0.705307  1.000000  1.893373    1    1     1  1.000000   \n",
       "N      1    1    1  0.886648  1.000000  1.000000    1    1     1  1.000000   \n",
       "O      1    1    1  1.270474  1.000000  1.610536    1    1     1  1.000000   \n",
       "P      1    1    1  0.892950  1.000000  3.010385    1    1     1  1.000000   \n",
       "Q      1    1    1  0.795029  1.000000  2.038749    1    1     1  1.000000   \n",
       "R      1    1    1  0.861443  1.000000  2.136305    1    1     1  1.000000   \n",
       "S      1    1    1  1.377391  1.000000  1.000000    1    1     1  1.000000   \n",
       "T      1    1    1  1.000000  1.000000  1.000000    1    1     1  1.000000   \n",
       "Z      1    1    1  1.813709  1.000000  0.951258    1    1     1  1.000000   \n",
       "\n",
       "       I_12      I_13       I_14  I_15  I_16  I_17      I_18  \n",
       "A  2.097394  2.083647   1.510394     1     1     1  0.998879  \n",
       "B  1.247905  1.135235   2.667904     1     1     1  1.004093  \n",
       "C  0.920723  0.915734   3.750890     1     1     1  0.999527  \n",
       "D  1.124056  1.125592   0.389686     1     1     1  0.985332  \n",
       "E  0.863557  0.862135   0.727364     1     1     1  0.999382  \n",
       "F  1.388019  1.393393   0.920263     1     1     1  1.000938  \n",
       "G  1.028075  1.033862   0.795692     1     1     1  1.000799  \n",
       "H  1.257724  1.253172   0.570023     1     1     1  1.008774  \n",
       "I  0.816644  0.818977   1.033493     1     1     1  0.999004  \n",
       "J  1.875924  1.843071   0.238046     1     1     1  0.994502  \n",
       "K  0.919030  0.919356   1.415501     1     1     1  1.005918  \n",
       "L  0.834264  0.836717   1.156349     1     1     1  0.999809  \n",
       "M  0.639991  0.639660   1.221732     1     1     1  1.000529  \n",
       "N  0.873911  0.856901   1.144807     1     1     1  0.997649  \n",
       "O  1.227886  1.227852   1.298691     1     1     1  0.993040  \n",
       "P  0.935034  0.942992   1.276961     1     1     1  0.992163  \n",
       "Q  0.885958  0.861969   0.513479     1     1     1  1.003949  \n",
       "R  0.879120  0.882303   1.721760     1     1     1  0.997937  \n",
       "S  4.525884  4.671129   0.233845     1     1     1  1.012338  \n",
       "T  1.000000  1.000000   1.000000     1     1     1  1.200569  \n",
       "Z  1.543613  1.459483  10.733361     1     1     1  0.993239  "
      ]
     },
     "execution_count": 5,
     "metadata": {},
     "output_type": "execute_result"
    }
   ],
   "source": [
    "path_para_1 = './para_half_1.csv'\n",
    "industry = pd.read_csv(path_para_1, index_col=[0])\n",
    "industry"
   ]
  },
  {
   "cell_type": "code",
   "execution_count": 6,
   "metadata": {
    "ExecuteTime": {
     "end_time": "2022-06-30T02:31:44.500522Z",
     "start_time": "2022-06-30T02:31:44.472570Z"
    }
   },
   "outputs": [
    {
     "data": {
      "text/html": [
       "<div>\n",
       "<style scoped>\n",
       "    .dataframe tbody tr th:only-of-type {\n",
       "        vertical-align: middle;\n",
       "    }\n",
       "\n",
       "    .dataframe tbody tr th {\n",
       "        vertical-align: top;\n",
       "    }\n",
       "\n",
       "    .dataframe thead th {\n",
       "        text-align: right;\n",
       "    }\n",
       "</style>\n",
       "<table border=\"1\" class=\"dataframe\">\n",
       "  <thead>\n",
       "    <tr style=\"text-align: right;\">\n",
       "      <th></th>\n",
       "      <th>S_1_2</th>\n",
       "      <th>S_3</th>\n",
       "      <th>S_4</th>\n",
       "      <th>S_5</th>\n",
       "      <th>S_6</th>\n",
       "      <th>S_7</th>\n",
       "      <th>S_8</th>\n",
       "      <th>S_9</th>\n",
       "      <th>S_10</th>\n",
       "      <th>S_11</th>\n",
       "      <th>S_12</th>\n",
       "      <th>S_13</th>\n",
       "      <th>S_14</th>\n",
       "      <th>S_15</th>\n",
       "      <th>S_16</th>\n",
       "      <th>S_17</th>\n",
       "      <th>S_18</th>\n",
       "    </tr>\n",
       "  </thead>\n",
       "  <tbody>\n",
       "    <tr>\n",
       "      <th>N1</th>\n",
       "      <td>1</td>\n",
       "      <td>1</td>\n",
       "      <td>1</td>\n",
       "      <td>1.396227</td>\n",
       "      <td>1.385332</td>\n",
       "      <td>1.512315</td>\n",
       "      <td>1</td>\n",
       "      <td>1</td>\n",
       "      <td>1.00000</td>\n",
       "      <td>1.00000</td>\n",
       "      <td>1.879091</td>\n",
       "      <td>1.887042</td>\n",
       "      <td>0.608735</td>\n",
       "      <td>1</td>\n",
       "      <td>1</td>\n",
       "      <td>1</td>\n",
       "      <td>0.999994</td>\n",
       "    </tr>\n",
       "    <tr>\n",
       "      <th>N2</th>\n",
       "      <td>1</td>\n",
       "      <td>1</td>\n",
       "      <td>1</td>\n",
       "      <td>0.757198</td>\n",
       "      <td>0.760318</td>\n",
       "      <td>1.006513</td>\n",
       "      <td>1</td>\n",
       "      <td>1</td>\n",
       "      <td>0.33094</td>\n",
       "      <td>0.33094</td>\n",
       "      <td>0.659953</td>\n",
       "      <td>0.660917</td>\n",
       "      <td>126.637482</td>\n",
       "      <td>1</td>\n",
       "      <td>1</td>\n",
       "      <td>1</td>\n",
       "      <td>1.000170</td>\n",
       "    </tr>\n",
       "    <tr>\n",
       "      <th>N3</th>\n",
       "      <td>1</td>\n",
       "      <td>1</td>\n",
       "      <td>1</td>\n",
       "      <td>0.503396</td>\n",
       "      <td>0.510089</td>\n",
       "      <td>0.256194</td>\n",
       "      <td>1</td>\n",
       "      <td>1</td>\n",
       "      <td>1.00000</td>\n",
       "      <td>1.00000</td>\n",
       "      <td>0.370237</td>\n",
       "      <td>0.366315</td>\n",
       "      <td>68.303087</td>\n",
       "      <td>1</td>\n",
       "      <td>1</td>\n",
       "      <td>1</td>\n",
       "      <td>0.999899</td>\n",
       "    </tr>\n",
       "    <tr>\n",
       "      <th>N4</th>\n",
       "      <td>1</td>\n",
       "      <td>1</td>\n",
       "      <td>1</td>\n",
       "      <td>0.387299</td>\n",
       "      <td>0.393095</td>\n",
       "      <td>0.146174</td>\n",
       "      <td>1</td>\n",
       "      <td>1</td>\n",
       "      <td>1.00000</td>\n",
       "      <td>1.00000</td>\n",
       "      <td>0.277971</td>\n",
       "      <td>0.273545</td>\n",
       "      <td>1.000000</td>\n",
       "      <td>1</td>\n",
       "      <td>1</td>\n",
       "      <td>1</td>\n",
       "      <td>1.002125</td>\n",
       "    </tr>\n",
       "    <tr>\n",
       "      <th>N5</th>\n",
       "      <td>1</td>\n",
       "      <td>1</td>\n",
       "      <td>1</td>\n",
       "      <td>0.335244</td>\n",
       "      <td>0.336635</td>\n",
       "      <td>0.095877</td>\n",
       "      <td>1</td>\n",
       "      <td>1</td>\n",
       "      <td>1.00000</td>\n",
       "      <td>1.00000</td>\n",
       "      <td>0.230168</td>\n",
       "      <td>0.224861</td>\n",
       "      <td>1.000000</td>\n",
       "      <td>1</td>\n",
       "      <td>1</td>\n",
       "      <td>1</td>\n",
       "      <td>0.981058</td>\n",
       "    </tr>\n",
       "  </tbody>\n",
       "</table>\n",
       "</div>"
      ],
      "text/plain": [
       "    S_1_2  S_3  S_4       S_5       S_6       S_7  S_8  S_9     S_10     S_11  \\\n",
       "N1      1    1    1  1.396227  1.385332  1.512315    1    1  1.00000  1.00000   \n",
       "N2      1    1    1  0.757198  0.760318  1.006513    1    1  0.33094  0.33094   \n",
       "N3      1    1    1  0.503396  0.510089  0.256194    1    1  1.00000  1.00000   \n",
       "N4      1    1    1  0.387299  0.393095  0.146174    1    1  1.00000  1.00000   \n",
       "N5      1    1    1  0.335244  0.336635  0.095877    1    1  1.00000  1.00000   \n",
       "\n",
       "        S_12      S_13        S_14  S_15  S_16  S_17      S_18  \n",
       "N1  1.879091  1.887042    0.608735     1     1     1  0.999994  \n",
       "N2  0.659953  0.660917  126.637482     1     1     1  1.000170  \n",
       "N3  0.370237  0.366315   68.303087     1     1     1  0.999899  \n",
       "N4  0.277971  0.273545    1.000000     1     1     1  1.002125  \n",
       "N5  0.230168  0.224861    1.000000     1     1     1  0.981058  "
      ]
     },
     "execution_count": 6,
     "metadata": {},
     "output_type": "execute_result"
    }
   ],
   "source": [
    "path_para_2 = './para_half_2.csv'\n",
    "scale = pd.read_csv(path_para_2, index_col=[0])\n",
    "scale"
   ]
  },
  {
   "cell_type": "code",
   "execution_count": 7,
   "metadata": {
    "ExecuteTime": {
     "end_time": "2022-06-30T02:31:44.516451Z",
     "start_time": "2022-06-30T02:31:44.501492Z"
    }
   },
   "outputs": [
    {
     "name": "stdout",
     "output_type": "stream",
     "text": [
      "[0.4, 0.15, 0.15, 0.05, 0.05, 0.05, 0.02, 0.02, 0.025, 0.025, 0.01, 0.01, 0.04, -0.03, -0.01, -0.01, 0.05]\n",
      "['A', 'B', 'C', 'D', 'E', 'F', 'G', 'H', 'I', 'J', 'K', 'L', 'M', 'N', 'O', 'P', 'Q', 'R', 'S', 'T', 'Z']\n"
     ]
    }
   ],
   "source": [
    "# 给定权重\n",
    "weight = [0.4, 0.15, 0.15, 0.05, 0.05, 0.05, 0.02, 0.02, 0.025, 0.025, 0.01, 0.01, 0.04, -0.03, -0.01, -0.01, 0.05]\n",
    "print(weight)\n",
    "\n",
    "alphabet_all = [chr(i) for i in range(65, 85)]\n",
    "alphabet_all.append(chr(90))\n",
    "print(alphabet_all)"
   ]
  },
  {
   "cell_type": "markdown",
   "metadata": {},
   "source": [
    "# 活跃度计算"
   ]
  },
  {
   "cell_type": "markdown",
   "metadata": {},
   "source": [
    "接下来的操作是将`行业调节参数`&`规模调节参数`&`权重`按位相乘，得到一个 （行业类别 * 规模类别） * 特征数 大小的矩阵"
   ]
  },
  {
   "cell_type": "code",
   "execution_count": 8,
   "metadata": {
    "ExecuteTime": {
     "end_time": "2022-06-30T02:31:44.532410Z",
     "start_time": "2022-06-30T02:31:44.518447Z"
    }
   },
   "outputs": [
    {
     "name": "stdout",
     "output_type": "stream",
     "text": [
      "(21, 17) \t (5, 17)\n"
     ]
    }
   ],
   "source": [
    "industry_matrix = industry.values\n",
    "scale_matrix = scale.values\n",
    "\n",
    "print(industry_matrix.shape, '\\t', scale_matrix.shape)"
   ]
  },
  {
   "cell_type": "code",
   "execution_count": 9,
   "metadata": {
    "ExecuteTime": {
     "end_time": "2022-06-30T02:31:44.563326Z",
     "start_time": "2022-06-30T02:31:44.534403Z"
    }
   },
   "outputs": [
    {
     "name": "stderr",
     "output_type": "stream",
     "text": [
      "100%|████████████████████████████████████████████████████████████████████████████████████████████| 4/4 [00:00<?, ?it/s]"
     ]
    },
    {
     "name": "stdout",
     "output_type": "stream",
     "text": [
      "(105, 17)\n"
     ]
    },
    {
     "name": "stderr",
     "output_type": "stream",
     "text": [
      "\n"
     ]
    }
   ],
   "source": [
    "IS_matrix = industry_matrix * scale_matrix[0]\n",
    "for i in tqdm(range(1, 5)):\n",
    "    IS_matrix = np.concatenate((IS_matrix, (industry_matrix * scale_matrix[i])))\n",
    "print(IS_matrix.shape)"
   ]
  },
  {
   "cell_type": "code",
   "execution_count": 10,
   "metadata": {
    "ExecuteTime": {
     "end_time": "2022-06-30T02:31:44.579284Z",
     "start_time": "2022-06-30T02:31:44.567315Z"
    }
   },
   "outputs": [
    {
     "name": "stdout",
     "output_type": "stream",
     "text": [
      "(105, 17)\n"
     ]
    }
   ],
   "source": [
    "ISW_matrix = IS_matrix * np.array(weight)\n",
    "print(ISW_matrix.shape)"
   ]
  },
  {
   "cell_type": "code",
   "execution_count": 11,
   "metadata": {
    "ExecuteTime": {
     "end_time": "2022-06-30T02:31:44.610711Z",
     "start_time": "2022-06-30T02:31:44.580282Z"
    }
   },
   "outputs": [
    {
     "data": {
      "text/html": [
       "<div>\n",
       "<style scoped>\n",
       "    .dataframe tbody tr th:only-of-type {\n",
       "        vertical-align: middle;\n",
       "    }\n",
       "\n",
       "    .dataframe tbody tr th {\n",
       "        vertical-align: top;\n",
       "    }\n",
       "\n",
       "    .dataframe thead th {\n",
       "        text-align: right;\n",
       "    }\n",
       "</style>\n",
       "<table border=\"1\" class=\"dataframe\">\n",
       "  <thead>\n",
       "    <tr style=\"text-align: right;\">\n",
       "      <th></th>\n",
       "      <th>0</th>\n",
       "      <th>1</th>\n",
       "      <th>2</th>\n",
       "      <th>3</th>\n",
       "      <th>4</th>\n",
       "      <th>5</th>\n",
       "      <th>6</th>\n",
       "      <th>7</th>\n",
       "      <th>8</th>\n",
       "      <th>9</th>\n",
       "      <th>10</th>\n",
       "      <th>11</th>\n",
       "      <th>12</th>\n",
       "      <th>13</th>\n",
       "      <th>14</th>\n",
       "      <th>15</th>\n",
       "      <th>16</th>\n",
       "    </tr>\n",
       "  </thead>\n",
       "  <tbody>\n",
       "    <tr>\n",
       "      <th>0</th>\n",
       "      <td>0.4</td>\n",
       "      <td>0.15</td>\n",
       "      <td>0.15</td>\n",
       "      <td>0.138108</td>\n",
       "      <td>0.069267</td>\n",
       "      <td>0.109685</td>\n",
       "      <td>0.02</td>\n",
       "      <td>0.02</td>\n",
       "      <td>0.025</td>\n",
       "      <td>0.025</td>\n",
       "      <td>0.039412</td>\n",
       "      <td>0.039319</td>\n",
       "      <td>0.036777</td>\n",
       "      <td>-0.03</td>\n",
       "      <td>-0.01</td>\n",
       "      <td>-0.01</td>\n",
       "      <td>0.049944</td>\n",
       "    </tr>\n",
       "    <tr>\n",
       "      <th>1</th>\n",
       "      <td>0.4</td>\n",
       "      <td>0.15</td>\n",
       "      <td>0.15</td>\n",
       "      <td>0.090003</td>\n",
       "      <td>0.069267</td>\n",
       "      <td>0.075616</td>\n",
       "      <td>0.02</td>\n",
       "      <td>0.02</td>\n",
       "      <td>0.025</td>\n",
       "      <td>0.025</td>\n",
       "      <td>0.023449</td>\n",
       "      <td>0.021422</td>\n",
       "      <td>0.064962</td>\n",
       "      <td>-0.03</td>\n",
       "      <td>-0.01</td>\n",
       "      <td>-0.01</td>\n",
       "      <td>0.050204</td>\n",
       "    </tr>\n",
       "    <tr>\n",
       "      <th>2</th>\n",
       "      <td>0.4</td>\n",
       "      <td>0.15</td>\n",
       "      <td>0.15</td>\n",
       "      <td>0.073924</td>\n",
       "      <td>0.069267</td>\n",
       "      <td>0.050206</td>\n",
       "      <td>0.02</td>\n",
       "      <td>0.02</td>\n",
       "      <td>0.025</td>\n",
       "      <td>0.025</td>\n",
       "      <td>0.017301</td>\n",
       "      <td>0.017280</td>\n",
       "      <td>0.091332</td>\n",
       "      <td>-0.03</td>\n",
       "      <td>-0.01</td>\n",
       "      <td>-0.01</td>\n",
       "      <td>0.049976</td>\n",
       "    </tr>\n",
       "    <tr>\n",
       "      <th>3</th>\n",
       "      <td>0.4</td>\n",
       "      <td>0.15</td>\n",
       "      <td>0.15</td>\n",
       "      <td>0.065916</td>\n",
       "      <td>0.069267</td>\n",
       "      <td>0.038389</td>\n",
       "      <td>0.02</td>\n",
       "      <td>0.02</td>\n",
       "      <td>0.025</td>\n",
       "      <td>0.025</td>\n",
       "      <td>0.021122</td>\n",
       "      <td>0.021240</td>\n",
       "      <td>0.009489</td>\n",
       "      <td>-0.03</td>\n",
       "      <td>-0.01</td>\n",
       "      <td>-0.01</td>\n",
       "      <td>0.049266</td>\n",
       "    </tr>\n",
       "    <tr>\n",
       "      <th>4</th>\n",
       "      <td>0.4</td>\n",
       "      <td>0.15</td>\n",
       "      <td>0.15</td>\n",
       "      <td>0.065321</td>\n",
       "      <td>0.069267</td>\n",
       "      <td>0.074004</td>\n",
       "      <td>0.02</td>\n",
       "      <td>0.02</td>\n",
       "      <td>0.025</td>\n",
       "      <td>0.025</td>\n",
       "      <td>0.016227</td>\n",
       "      <td>0.016269</td>\n",
       "      <td>0.017711</td>\n",
       "      <td>-0.03</td>\n",
       "      <td>-0.01</td>\n",
       "      <td>-0.01</td>\n",
       "      <td>0.049969</td>\n",
       "    </tr>\n",
       "  </tbody>\n",
       "</table>\n",
       "</div>"
      ],
      "text/plain": [
       "    0     1     2         3         4         5     6     7      8      9   \\\n",
       "0  0.4  0.15  0.15  0.138108  0.069267  0.109685  0.02  0.02  0.025  0.025   \n",
       "1  0.4  0.15  0.15  0.090003  0.069267  0.075616  0.02  0.02  0.025  0.025   \n",
       "2  0.4  0.15  0.15  0.073924  0.069267  0.050206  0.02  0.02  0.025  0.025   \n",
       "3  0.4  0.15  0.15  0.065916  0.069267  0.038389  0.02  0.02  0.025  0.025   \n",
       "4  0.4  0.15  0.15  0.065321  0.069267  0.074004  0.02  0.02  0.025  0.025   \n",
       "\n",
       "         10        11        12    13    14    15        16  \n",
       "0  0.039412  0.039319  0.036777 -0.03 -0.01 -0.01  0.049944  \n",
       "1  0.023449  0.021422  0.064962 -0.03 -0.01 -0.01  0.050204  \n",
       "2  0.017301  0.017280  0.091332 -0.03 -0.01 -0.01  0.049976  \n",
       "3  0.021122  0.021240  0.009489 -0.03 -0.01 -0.01  0.049266  \n",
       "4  0.016227  0.016269  0.017711 -0.03 -0.01 -0.01  0.049969  "
      ]
     },
     "execution_count": 11,
     "metadata": {},
     "output_type": "execute_result"
    }
   ],
   "source": [
    "ISW_matrix_df = pd.DataFrame(ISW_matrix)\n",
    "ISW_matrix_df[:5]"
   ]
  },
  {
   "cell_type": "code",
   "execution_count": 12,
   "metadata": {
    "ExecuteTime": {
     "end_time": "2022-06-30T02:31:44.625673Z",
     "start_time": "2022-06-30T02:31:44.612704Z"
    }
   },
   "outputs": [
    {
     "name": "stdout",
     "output_type": "stream",
     "text": [
      "105\n",
      "17\n"
     ]
    }
   ],
   "source": [
    "reindex = ['A_1', 'B_1', 'C_1', 'D_1', 'E_1', 'F_1', 'G_1', 'H_1', 'I_1', 'J_1', 'K_1', 'L_1', 'M_1', 'N_1', 'O_1', 'P_1', 'Q_1', 'R_1', 'S_1', 'T_1', 'Z_1', 'A_2', 'B_2', 'C_2', 'D_2', 'E_2', 'F_2', 'G_2', 'H_2', 'I_2', 'J_2', 'K_2', 'L_2', 'M_2', 'N_2', 'O_2', 'P_2', 'Q_2', 'R_2', 'S_2', 'T_2', 'Z_2', 'A_3', 'B_3', 'C_3', 'D_3', 'E_3', 'F_3', 'G_3', 'H_3', 'I_3', 'J_3', 'K_3', 'L_3', 'M_3', 'N_3', 'O_3', 'P_3', 'Q_3', 'R_3', 'S_3', 'T_3', 'Z_3', 'A_4', 'B_4', 'C_4', 'D_4', 'E_4', 'F_4', 'G_4', 'H_4', 'I_4', 'J_4', 'K_4', 'L_4', 'M_4', 'N_4', 'O_4', 'P_4', 'Q_4', 'R_4', 'S_4', 'T_4', 'Z_4', 'A_5', 'B_5', 'C_5', 'D_5', 'E_5', 'F_5', 'G_5', 'H_5', 'I_5', 'J_5', 'K_5', 'L_5', 'M_5', 'N_5', 'O_5', 'P_5', 'Q_5', 'R_5', 'S_5', 'T_5', 'Z_5']\n",
    "print(len(reindex))\n",
    "\n",
    "recolumns = ['a_1_2', 'a_3', 'a_4', 'a_5', 'a_6', 'a_7', 'a_8', 'a_9', 'a_10', 'a_11', 'a_12', 'a_13', 'a_14', 'a_15', 'a_16', 'a_17', 'a_18']\n",
    "print(len(recolumns))"
   ]
  },
  {
   "cell_type": "code",
   "execution_count": 13,
   "metadata": {
    "ExecuteTime": {
     "end_time": "2022-06-30T02:31:44.657584Z",
     "start_time": "2022-06-30T02:31:44.626667Z"
    }
   },
   "outputs": [
    {
     "data": {
      "text/html": [
       "<div>\n",
       "<style scoped>\n",
       "    .dataframe tbody tr th:only-of-type {\n",
       "        vertical-align: middle;\n",
       "    }\n",
       "\n",
       "    .dataframe tbody tr th {\n",
       "        vertical-align: top;\n",
       "    }\n",
       "\n",
       "    .dataframe thead th {\n",
       "        text-align: right;\n",
       "    }\n",
       "</style>\n",
       "<table border=\"1\" class=\"dataframe\">\n",
       "  <thead>\n",
       "    <tr style=\"text-align: right;\">\n",
       "      <th></th>\n",
       "      <th>a_1_2</th>\n",
       "      <th>a_3</th>\n",
       "      <th>a_4</th>\n",
       "      <th>a_5</th>\n",
       "      <th>a_6</th>\n",
       "      <th>a_7</th>\n",
       "      <th>a_8</th>\n",
       "      <th>a_9</th>\n",
       "      <th>a_10</th>\n",
       "      <th>a_11</th>\n",
       "      <th>a_12</th>\n",
       "      <th>a_13</th>\n",
       "      <th>a_14</th>\n",
       "      <th>a_15</th>\n",
       "      <th>a_16</th>\n",
       "      <th>a_17</th>\n",
       "      <th>a_18</th>\n",
       "    </tr>\n",
       "  </thead>\n",
       "  <tbody>\n",
       "    <tr>\n",
       "      <th>A_1</th>\n",
       "      <td>0.4</td>\n",
       "      <td>0.15</td>\n",
       "      <td>0.15</td>\n",
       "      <td>0.138108</td>\n",
       "      <td>0.069267</td>\n",
       "      <td>0.109685</td>\n",
       "      <td>0.02</td>\n",
       "      <td>0.02</td>\n",
       "      <td>0.025</td>\n",
       "      <td>0.025</td>\n",
       "      <td>0.039412</td>\n",
       "      <td>0.039319</td>\n",
       "      <td>0.036777</td>\n",
       "      <td>-0.03</td>\n",
       "      <td>-0.01</td>\n",
       "      <td>-0.01</td>\n",
       "      <td>0.049944</td>\n",
       "    </tr>\n",
       "    <tr>\n",
       "      <th>B_1</th>\n",
       "      <td>0.4</td>\n",
       "      <td>0.15</td>\n",
       "      <td>0.15</td>\n",
       "      <td>0.090003</td>\n",
       "      <td>0.069267</td>\n",
       "      <td>0.075616</td>\n",
       "      <td>0.02</td>\n",
       "      <td>0.02</td>\n",
       "      <td>0.025</td>\n",
       "      <td>0.025</td>\n",
       "      <td>0.023449</td>\n",
       "      <td>0.021422</td>\n",
       "      <td>0.064962</td>\n",
       "      <td>-0.03</td>\n",
       "      <td>-0.01</td>\n",
       "      <td>-0.01</td>\n",
       "      <td>0.050204</td>\n",
       "    </tr>\n",
       "    <tr>\n",
       "      <th>C_1</th>\n",
       "      <td>0.4</td>\n",
       "      <td>0.15</td>\n",
       "      <td>0.15</td>\n",
       "      <td>0.073924</td>\n",
       "      <td>0.069267</td>\n",
       "      <td>0.050206</td>\n",
       "      <td>0.02</td>\n",
       "      <td>0.02</td>\n",
       "      <td>0.025</td>\n",
       "      <td>0.025</td>\n",
       "      <td>0.017301</td>\n",
       "      <td>0.017280</td>\n",
       "      <td>0.091332</td>\n",
       "      <td>-0.03</td>\n",
       "      <td>-0.01</td>\n",
       "      <td>-0.01</td>\n",
       "      <td>0.049976</td>\n",
       "    </tr>\n",
       "    <tr>\n",
       "      <th>D_1</th>\n",
       "      <td>0.4</td>\n",
       "      <td>0.15</td>\n",
       "      <td>0.15</td>\n",
       "      <td>0.065916</td>\n",
       "      <td>0.069267</td>\n",
       "      <td>0.038389</td>\n",
       "      <td>0.02</td>\n",
       "      <td>0.02</td>\n",
       "      <td>0.025</td>\n",
       "      <td>0.025</td>\n",
       "      <td>0.021122</td>\n",
       "      <td>0.021240</td>\n",
       "      <td>0.009489</td>\n",
       "      <td>-0.03</td>\n",
       "      <td>-0.01</td>\n",
       "      <td>-0.01</td>\n",
       "      <td>0.049266</td>\n",
       "    </tr>\n",
       "    <tr>\n",
       "      <th>E_1</th>\n",
       "      <td>0.4</td>\n",
       "      <td>0.15</td>\n",
       "      <td>0.15</td>\n",
       "      <td>0.065321</td>\n",
       "      <td>0.069267</td>\n",
       "      <td>0.074004</td>\n",
       "      <td>0.02</td>\n",
       "      <td>0.02</td>\n",
       "      <td>0.025</td>\n",
       "      <td>0.025</td>\n",
       "      <td>0.016227</td>\n",
       "      <td>0.016269</td>\n",
       "      <td>0.017711</td>\n",
       "      <td>-0.03</td>\n",
       "      <td>-0.01</td>\n",
       "      <td>-0.01</td>\n",
       "      <td>0.049969</td>\n",
       "    </tr>\n",
       "  </tbody>\n",
       "</table>\n",
       "</div>"
      ],
      "text/plain": [
       "     a_1_2   a_3   a_4       a_5       a_6       a_7   a_8   a_9   a_10  \\\n",
       "A_1    0.4  0.15  0.15  0.138108  0.069267  0.109685  0.02  0.02  0.025   \n",
       "B_1    0.4  0.15  0.15  0.090003  0.069267  0.075616  0.02  0.02  0.025   \n",
       "C_1    0.4  0.15  0.15  0.073924  0.069267  0.050206  0.02  0.02  0.025   \n",
       "D_1    0.4  0.15  0.15  0.065916  0.069267  0.038389  0.02  0.02  0.025   \n",
       "E_1    0.4  0.15  0.15  0.065321  0.069267  0.074004  0.02  0.02  0.025   \n",
       "\n",
       "      a_11      a_12      a_13      a_14  a_15  a_16  a_17      a_18  \n",
       "A_1  0.025  0.039412  0.039319  0.036777 -0.03 -0.01 -0.01  0.049944  \n",
       "B_1  0.025  0.023449  0.021422  0.064962 -0.03 -0.01 -0.01  0.050204  \n",
       "C_1  0.025  0.017301  0.017280  0.091332 -0.03 -0.01 -0.01  0.049976  \n",
       "D_1  0.025  0.021122  0.021240  0.009489 -0.03 -0.01 -0.01  0.049266  \n",
       "E_1  0.025  0.016227  0.016269  0.017711 -0.03 -0.01 -0.01  0.049969  "
      ]
     },
     "execution_count": 13,
     "metadata": {},
     "output_type": "execute_result"
    }
   ],
   "source": [
    "ISW_matrix_df.index = reindex\n",
    "ISW_matrix_df.columns = recolumns\n",
    "\n",
    "ISW_matrix_df[:5]"
   ]
  },
  {
   "cell_type": "code",
   "execution_count": 14,
   "metadata": {
    "ExecuteTime": {
     "end_time": "2022-06-30T02:32:51.549816Z",
     "start_time": "2022-06-30T02:31:44.659578Z"
    },
    "scrolled": false
   },
   "outputs": [
    {
     "name": "stdout",
     "output_type": "stream",
     "text": [
      "1 /105:  Running time: 1.0136 Seconds\n",
      "2 /105:  Running time: 0.6890 Seconds\n",
      "3 /105:  Running time: 0.6089 Seconds\n",
      "4 /105:  Running time: 0.6784 Seconds\n",
      "5 /105:  Running time: 0.7065 Seconds\n",
      "6 /105:  Running time: 0.7574 Seconds\n",
      "7 /105:  Running time: 0.6247 Seconds\n",
      "8 /105:  Running time: 0.6657 Seconds\n",
      "9 /105:  Running time: 0.7085 Seconds\n",
      "10 /105:  Running time: 0.6647 Seconds\n",
      "11 /105:  Running time: 0.8112 Seconds\n",
      "12 /105:  Running time: 0.8506 Seconds\n",
      "13 /105:  Running time: 0.7905 Seconds\n",
      "14 /105:  Running time: 0.6465 Seconds\n",
      "15 /105:  Running time: 0.7294 Seconds\n",
      "16 /105:  Running time: 0.6717 Seconds\n",
      "17 /105:  Running time: 0.6196 Seconds\n",
      "18 /105:  Running time: 0.7277 Seconds\n",
      "19 /105:  Running time: 0.6280 Seconds\n",
      "20 /105:  Running time: 0.5888 Seconds\n",
      "21 /105:  Running time: 0.7047 Seconds\n",
      "22 /105:  Running time: 0.6392 Seconds\n",
      "23 /105:  Running time: 0.5788 Seconds\n",
      "24 /105:  Running time: 0.7321 Seconds\n",
      "25 /105:  Running time: 0.6235 Seconds\n",
      "26 /105:  Running time: 0.6695 Seconds\n",
      "27 /105:  Running time: 0.8065 Seconds\n",
      "28 /105:  Running time: 0.6723 Seconds\n",
      "29 /105:  Running time: 0.6192 Seconds\n",
      "30 /105:  Running time: 0.7106 Seconds\n",
      "31 /105:  Running time: 0.6081 Seconds\n",
      "32 /105:  Running time: 0.6291 Seconds\n",
      "33 /105:  Running time: 0.7192 Seconds\n",
      "34 /105:  Running time: 0.6593 Seconds\n",
      "35 /105:  Running time: 0.5949 Seconds\n",
      "36 /105:  Running time: 0.7186 Seconds\n",
      "37 /105:  Running time: 0.6276 Seconds\n",
      "38 /105:  Running time: 0.5728 Seconds\n",
      "39 /105:  Running time: 0.6977 Seconds\n",
      "40 /105:  Running time: 0.5820 Seconds\n",
      "41 /105:  Running time: 0.6236 Seconds\n",
      "42 /105:  Running time: 0.6835 Seconds\n",
      "43 /105:  Running time: 0.6538 Seconds\n",
      "44 /105:  Running time: 0.6809 Seconds\n",
      "45 /105:  Running time: 0.6429 Seconds\n",
      "46 /105:  Running time: 0.5646 Seconds\n",
      "47 /105:  Running time: 0.6752 Seconds\n",
      "48 /105:  Running time: 0.5871 Seconds\n",
      "49 /105:  Running time: 0.6196 Seconds\n",
      "50 /105:  Running time: 0.6439 Seconds\n",
      "51 /105:  Running time: 0.5451 Seconds\n",
      "52 /105:  Running time: 0.6516 Seconds\n",
      "53 /105:  Running time: 0.5901 Seconds\n",
      "54 /105:  Running time: 0.6008 Seconds\n",
      "55 /105:  Running time: 0.6652 Seconds\n",
      "56 /105:  Running time: 0.5460 Seconds\n",
      "57 /105:  Running time: 0.6199 Seconds\n",
      "58 /105:  Running time: 0.5852 Seconds\n",
      "59 /105:  Running time: 0.5835 Seconds\n",
      "60 /105:  Running time: 0.6520 Seconds\n",
      "61 /105:  Running time: 0.5409 Seconds\n",
      "62 /105:  Running time: 0.6279 Seconds\n",
      "63 /105:  Running time: 0.5831 Seconds\n",
      "64 /105:  Running time: 0.5917 Seconds\n",
      "65 /105:  Running time: 0.6512 Seconds\n",
      "66 /105:  Running time: 0.5468 Seconds\n",
      "67 /105:  Running time: 0.6546 Seconds\n",
      "68 /105:  Running time: 0.5932 Seconds\n",
      "69 /105:  Running time: 0.5757 Seconds\n",
      "70 /105:  Running time: 0.6522 Seconds\n",
      "71 /105:  Running time: 0.5538 Seconds\n",
      "72 /105:  Running time: 0.6045 Seconds\n",
      "73 /105:  Running time: 0.5862 Seconds\n",
      "74 /105:  Running time: 0.5845 Seconds\n",
      "75 /105:  Running time: 0.6471 Seconds\n",
      "76 /105:  Running time: 0.5459 Seconds\n",
      "77 /105:  Running time: 0.6212 Seconds\n",
      "78 /105:  Running time: 0.5824 Seconds\n",
      "79 /105:  Running time: 0.6081 Seconds\n",
      "80 /105:  Running time: 0.6322 Seconds\n",
      "81 /105:  Running time: 0.5433 Seconds\n",
      "82 /105:  Running time: 0.6769 Seconds\n",
      "83 /105:  Running time: 0.5987 Seconds\n",
      "84 /105:  Running time: 0.5585 Seconds\n",
      "85 /105:  Running time: 0.6512 Seconds\n",
      "86 /105:  Running time: 0.5366 Seconds\n",
      "87 /105:  Running time: 0.6188 Seconds\n",
      "88 /105:  Running time: 0.5798 Seconds\n",
      "89 /105:  Running time: 0.6264 Seconds\n",
      "90 /105:  Running time: 0.7217 Seconds\n",
      "91 /105:  Running time: 0.5572 Seconds\n",
      "92 /105:  Running time: 0.5644 Seconds\n",
      "93 /105:  Running time: 0.6158 Seconds\n",
      "94 /105:  Running time: 0.6128 Seconds\n",
      "95 /105:  Running time: 0.6346 Seconds\n",
      "96 /105:  Running time: 0.5570 Seconds\n",
      "97 /105:  Running time: 0.6268 Seconds\n",
      "98 /105:  Running time: 0.6225 Seconds\n",
      "99 /105:  Running time: 0.5484 Seconds\n",
      "100 /105:  Running time: 0.6580 Seconds\n",
      "101 /105:  Running time: 0.5628 Seconds\n",
      "102 /105:  Running time: 0.6196 Seconds\n",
      "103 /105:  Running time: 0.6220 Seconds\n",
      "104 /105:  Running time: 0.5470 Seconds\n",
      "105 /105:  Running time: 0.6570 Seconds\n"
     ]
    }
   ],
   "source": [
    "k = 0\n",
    "dc_2 = dc\n",
    "dc_2['EA'] = None\n",
    "for i in range(5):\n",
    "    for j in alphabet_all:\n",
    "        k = k+1\n",
    "        start = time.perf_counter() \n",
    "        dc_T = dc[((dc['hydm'] == j) & (dc['scale'] == i+1))]\n",
    "        # 选择需要的17个特征\n",
    "        dc_T_feature = dc_T.loc[:, 'X1_2':'X18']\n",
    "        col = j + '_' + str(i+1)\n",
    "        # 显示进度\n",
    "        print(k, '/105:  ',  end='')\n",
    "        EA_T = dc_T_feature.values * ISW_matrix_df.loc[col].values\n",
    "        EA_T = EA_T.sum(axis=1) * dc_T['jyzt'].values\n",
    "        dc_T_feature['EA'] = EA_T\n",
    "        dc_T_feature = dc_T_feature['EA']\n",
    "        dc_T_feature = pd.DataFrame({'nbxh':dc_T_feature.index, 'EA_fill':dc_T_feature.values})\n",
    "        dc_T_feature.set_index('nbxh', inplace=True)\n",
    "        # 使用join和fillna方法\n",
    "        dc_2 = dc_2.join(dc_T_feature)\n",
    "        dc_2[\"EA\"].fillna(dc_2[\"EA_fill\"], inplace=True)\n",
    "        dc_2.drop(['EA_fill'], axis=1, inplace=True)\n",
    "        end = time.perf_counter()\n",
    "        print('Running time: %.4f Seconds' % (end - start))"
   ]
  },
  {
   "cell_type": "code",
   "execution_count": 15,
   "metadata": {
    "ExecuteTime": {
     "end_time": "2022-06-30T02:32:51.644792Z",
     "start_time": "2022-06-30T02:32:51.551810Z"
    }
   },
   "outputs": [
    {
     "data": {
      "text/plain": [
       "0.577924855022144"
      ]
     },
     "execution_count": 15,
     "metadata": {},
     "output_type": "execute_result"
    }
   ],
   "source": [
    "temp_EA75 = dc_2['EA'].describe()['25%']\n",
    "temp_EA75"
   ]
  },
  {
   "cell_type": "code",
   "execution_count": 16,
   "metadata": {
    "ExecuteTime": {
     "end_time": "2022-06-30T02:32:51.676674Z",
     "start_time": "2022-06-30T02:32:51.646754Z"
    }
   },
   "outputs": [],
   "source": [
    "dc = dc_2"
   ]
  },
  {
   "cell_type": "markdown",
   "metadata": {},
   "source": [
    "## 添加临时列 "
   ]
  },
  {
   "cell_type": "code",
   "execution_count": 17,
   "metadata": {
    "ExecuteTime": {
     "end_time": "2022-06-30T02:32:52.611899Z",
     "start_time": "2022-06-30T02:32:51.678669Z"
    }
   },
   "outputs": [
    {
     "name": "stdout",
     "output_type": "stream",
     "text": [
      "<class 'pandas.core.frame.DataFrame'>\n",
      "Int64Index: 1827023 entries, 2420200000050231 to 442010000019652554\n",
      "Data columns (total 31 columns):\n",
      " #   Column      Non-Null Count    Dtype  \n",
      "---  ------      --------------    -----  \n",
      " 0   jjhklb      1827023 non-null  int64  \n",
      " 1   hydm        1827023 non-null  object \n",
      " 2   zczb        1827023 non-null  float64\n",
      " 3   jyzt        1827023 non-null  float64\n",
      " 4   qylx        1827023 non-null  int64  \n",
      " 5   tslx        1827023 non-null  int64  \n",
      " 6   new         1827023 non-null  object \n",
      " 7   time_scale  1827023 non-null  int64  \n",
      " 8   city        1827023 non-null  object \n",
      " 9   three       1827023 non-null  int64  \n",
      " 10  scale       1827023 non-null  int64  \n",
      " 11  foreign     1827023 non-null  int64  \n",
      " 12  X1_2        1827023 non-null  int64  \n",
      " 13  X3          1827023 non-null  int64  \n",
      " 14  X4          1827023 non-null  int64  \n",
      " 15  X5          1827023 non-null  float64\n",
      " 16  X6          1827023 non-null  float64\n",
      " 17  X7          1827023 non-null  float64\n",
      " 18  X8          1827023 non-null  int64  \n",
      " 19  X9          1827023 non-null  int64  \n",
      " 20  X10         1827023 non-null  float64\n",
      " 21  X11         1827023 non-null  float64\n",
      " 22  X12         1827023 non-null  float64\n",
      " 23  X13         1827023 non-null  float64\n",
      " 24  X14         1827023 non-null  float64\n",
      " 25  X15         1827023 non-null  int64  \n",
      " 26  X16         1827023 non-null  int64  \n",
      " 27  X17         1827023 non-null  int64  \n",
      " 28  X18         1827023 non-null  float64\n",
      " 29  EA          1827023 non-null  float64\n",
      " 30  EA_temp     1827023 non-null  object \n",
      "dtypes: float64(12), int64(15), object(4)\n",
      "memory usage: 510.6+ MB\n"
     ]
    }
   ],
   "source": [
    "dc['EA_temp'] = None\n",
    "dc.loc[dc['EA'] >= temp_EA75, 'EA_temp'] = 1\n",
    "dc.loc[dc['EA'] < temp_EA75, 'EA_temp'] = 0\n",
    "dc.info(null_counts = True)"
   ]
  },
  {
   "cell_type": "code",
   "execution_count": 18,
   "metadata": {
    "ExecuteTime": {
     "end_time": "2022-06-30T02:32:52.643808Z",
     "start_time": "2022-06-30T02:32:52.613888Z"
    }
   },
   "outputs": [
    {
     "data": {
      "text/html": [
       "<div>\n",
       "<style scoped>\n",
       "    .dataframe tbody tr th:only-of-type {\n",
       "        vertical-align: middle;\n",
       "    }\n",
       "\n",
       "    .dataframe tbody tr th {\n",
       "        vertical-align: top;\n",
       "    }\n",
       "\n",
       "    .dataframe thead th {\n",
       "        text-align: right;\n",
       "    }\n",
       "</style>\n",
       "<table border=\"1\" class=\"dataframe\">\n",
       "  <thead>\n",
       "    <tr style=\"text-align: right;\">\n",
       "      <th></th>\n",
       "      <th>jjhklb</th>\n",
       "      <th>hydm</th>\n",
       "      <th>zczb</th>\n",
       "      <th>jyzt</th>\n",
       "      <th>qylx</th>\n",
       "      <th>tslx</th>\n",
       "      <th>new</th>\n",
       "      <th>time_scale</th>\n",
       "      <th>city</th>\n",
       "      <th>three</th>\n",
       "      <th>...</th>\n",
       "      <th>X11</th>\n",
       "      <th>X12</th>\n",
       "      <th>X13</th>\n",
       "      <th>X14</th>\n",
       "      <th>X15</th>\n",
       "      <th>X16</th>\n",
       "      <th>X17</th>\n",
       "      <th>X18</th>\n",
       "      <th>EA</th>\n",
       "      <th>EA_temp</th>\n",
       "    </tr>\n",
       "    <tr>\n",
       "      <th>nbxh</th>\n",
       "      <th></th>\n",
       "      <th></th>\n",
       "      <th></th>\n",
       "      <th></th>\n",
       "      <th></th>\n",
       "      <th></th>\n",
       "      <th></th>\n",
       "      <th></th>\n",
       "      <th></th>\n",
       "      <th></th>\n",
       "      <th></th>\n",
       "      <th></th>\n",
       "      <th></th>\n",
       "      <th></th>\n",
       "      <th></th>\n",
       "      <th></th>\n",
       "      <th></th>\n",
       "      <th></th>\n",
       "      <th></th>\n",
       "      <th></th>\n",
       "      <th></th>\n",
       "    </tr>\n",
       "  </thead>\n",
       "  <tbody>\n",
       "    <tr>\n",
       "      <th>2420200000050231</th>\n",
       "      <td>3</td>\n",
       "      <td>R</td>\n",
       "      <td>50.0</td>\n",
       "      <td>1.0</td>\n",
       "      <td>4540</td>\n",
       "      <td>6</td>\n",
       "      <td>2007-04</td>\n",
       "      <td>4</td>\n",
       "      <td>黄石市</td>\n",
       "      <td>3</td>\n",
       "      <td>...</td>\n",
       "      <td>0.0</td>\n",
       "      <td>0.0</td>\n",
       "      <td>0.0</td>\n",
       "      <td>0.0</td>\n",
       "      <td>0</td>\n",
       "      <td>0</td>\n",
       "      <td>0</td>\n",
       "      <td>0.334727</td>\n",
       "      <td>0.566702</td>\n",
       "      <td>0</td>\n",
       "    </tr>\n",
       "    <tr>\n",
       "      <th>2422800000117935</th>\n",
       "      <td>3</td>\n",
       "      <td>Z</td>\n",
       "      <td>1.0</td>\n",
       "      <td>1.0</td>\n",
       "      <td>2130</td>\n",
       "      <td>6</td>\n",
       "      <td>2014-01</td>\n",
       "      <td>3</td>\n",
       "      <td>恩施州</td>\n",
       "      <td>3</td>\n",
       "      <td>...</td>\n",
       "      <td>0.0</td>\n",
       "      <td>0.0</td>\n",
       "      <td>0.0</td>\n",
       "      <td>0.0</td>\n",
       "      <td>0</td>\n",
       "      <td>0</td>\n",
       "      <td>0</td>\n",
       "      <td>0.990135</td>\n",
       "      <td>0.749172</td>\n",
       "      <td>1</td>\n",
       "    </tr>\n",
       "    <tr>\n",
       "      <th>3420800000070431</th>\n",
       "      <td>3</td>\n",
       "      <td>C</td>\n",
       "      <td>300.0</td>\n",
       "      <td>1.0</td>\n",
       "      <td>4540</td>\n",
       "      <td>6</td>\n",
       "      <td>2003-08</td>\n",
       "      <td>4</td>\n",
       "      <td>荆门市</td>\n",
       "      <td>2</td>\n",
       "      <td>...</td>\n",
       "      <td>0.0</td>\n",
       "      <td>0.0</td>\n",
       "      <td>0.0</td>\n",
       "      <td>0.0</td>\n",
       "      <td>0</td>\n",
       "      <td>0</td>\n",
       "      <td>0</td>\n",
       "      <td>0.000000</td>\n",
       "      <td>0.550000</td>\n",
       "      <td>0</td>\n",
       "    </tr>\n",
       "    <tr>\n",
       "      <th>3421100000105274</th>\n",
       "      <td>3</td>\n",
       "      <td>H</td>\n",
       "      <td>8.0</td>\n",
       "      <td>1.0</td>\n",
       "      <td>4540</td>\n",
       "      <td>6</td>\n",
       "      <td>2013-11</td>\n",
       "      <td>3</td>\n",
       "      <td>黄冈市</td>\n",
       "      <td>3</td>\n",
       "      <td>...</td>\n",
       "      <td>0.0</td>\n",
       "      <td>0.0</td>\n",
       "      <td>0.0</td>\n",
       "      <td>0.0</td>\n",
       "      <td>0</td>\n",
       "      <td>0</td>\n",
       "      <td>0</td>\n",
       "      <td>0.557879</td>\n",
       "      <td>0.578139</td>\n",
       "      <td>1</td>\n",
       "    </tr>\n",
       "    <tr>\n",
       "      <th>3429004000003400</th>\n",
       "      <td>3</td>\n",
       "      <td>Z</td>\n",
       "      <td>1.0</td>\n",
       "      <td>1.0</td>\n",
       "      <td>4540</td>\n",
       "      <td>6</td>\n",
       "      <td>2010-09</td>\n",
       "      <td>4</td>\n",
       "      <td>仙桃市</td>\n",
       "      <td>3</td>\n",
       "      <td>...</td>\n",
       "      <td>0.0</td>\n",
       "      <td>0.0</td>\n",
       "      <td>0.0</td>\n",
       "      <td>0.0</td>\n",
       "      <td>0</td>\n",
       "      <td>0</td>\n",
       "      <td>0</td>\n",
       "      <td>0.781030</td>\n",
       "      <td>0.588787</td>\n",
       "      <td>1</td>\n",
       "    </tr>\n",
       "  </tbody>\n",
       "</table>\n",
       "<p>5 rows × 31 columns</p>\n",
       "</div>"
      ],
      "text/plain": [
       "                  jjhklb hydm   zczb  jyzt  qylx  tslx      new  time_scale  \\\n",
       "nbxh                                                                          \n",
       "2420200000050231       3    R   50.0   1.0  4540     6  2007-04           4   \n",
       "2422800000117935       3    Z    1.0   1.0  2130     6  2014-01           3   \n",
       "3420800000070431       3    C  300.0   1.0  4540     6  2003-08           4   \n",
       "3421100000105274       3    H    8.0   1.0  4540     6  2013-11           3   \n",
       "3429004000003400       3    Z    1.0   1.0  4540     6  2010-09           4   \n",
       "\n",
       "                 city  three  ...  X11  X12  X13  X14  X15  X16  X17  \\\n",
       "nbxh                          ...                                      \n",
       "2420200000050231  黄石市      3  ...  0.0  0.0  0.0  0.0    0    0    0   \n",
       "2422800000117935  恩施州      3  ...  0.0  0.0  0.0  0.0    0    0    0   \n",
       "3420800000070431  荆门市      2  ...  0.0  0.0  0.0  0.0    0    0    0   \n",
       "3421100000105274  黄冈市      3  ...  0.0  0.0  0.0  0.0    0    0    0   \n",
       "3429004000003400  仙桃市      3  ...  0.0  0.0  0.0  0.0    0    0    0   \n",
       "\n",
       "                       X18        EA  EA_temp  \n",
       "nbxh                                           \n",
       "2420200000050231  0.334727  0.566702        0  \n",
       "2422800000117935  0.990135  0.749172        1  \n",
       "3420800000070431  0.000000  0.550000        0  \n",
       "3421100000105274  0.557879  0.578139        1  \n",
       "3429004000003400  0.781030  0.588787        1  \n",
       "\n",
       "[5 rows x 31 columns]"
      ]
     },
     "execution_count": 18,
     "metadata": {},
     "output_type": "execute_result"
    }
   ],
   "source": [
    "dc[:5]"
   ]
  },
  {
   "cell_type": "markdown",
   "metadata": {},
   "source": [
    "## 计算整体活跃度 "
   ]
  },
  {
   "cell_type": "code",
   "execution_count": 19,
   "metadata": {
    "ExecuteTime": {
     "end_time": "2022-06-30T02:32:52.833306Z",
     "start_time": "2022-06-30T02:32:52.645804Z"
    }
   },
   "outputs": [
    {
     "data": {
      "text/plain": [
       "0.7517672191318884"
      ]
     },
     "execution_count": 19,
     "metadata": {},
     "output_type": "execute_result"
    }
   ],
   "source": [
    "EA_all = dc['EA_temp'].value_counts()[1] / (dc['EA_temp'].value_counts()[1] + dc['EA_temp'].value_counts()[0])\n",
    "EA_all"
   ]
  },
  {
   "cell_type": "code",
   "execution_count": 20,
   "metadata": {
    "ExecuteTime": {
     "end_time": "2022-06-30T02:32:52.849259Z",
     "start_time": "2022-06-30T02:32:52.835296Z"
    }
   },
   "outputs": [],
   "source": [
    "with open('.\\\\'+ time_str + '\\整体活跃度.txt', 'w') as f:\n",
    "    f.write(str(EA_all))  "
   ]
  },
  {
   "cell_type": "markdown",
   "metadata": {},
   "source": [
    "## groupby"
   ]
  },
  {
   "cell_type": "code",
   "execution_count": 21,
   "metadata": {
    "ExecuteTime": {
     "end_time": "2022-06-30T02:32:52.864225Z",
     "start_time": "2022-06-30T02:32:52.851255Z"
    }
   },
   "outputs": [],
   "source": [
    "industry_grouped = dc.groupby('hydm')['EA_temp']\n",
    "scale_grouped = dc.groupby('scale')['EA_temp']\n",
    "city_grouped = dc.groupby('city')['EA_temp']\n",
    "three_grouped = dc.groupby('three')['EA_temp']\n",
    "economic_grouped = dc.groupby('jjhklb')['EA_temp']\n",
    "time_grouped = dc.groupby('time_scale')['EA_temp']\n",
    "foreign_grouped = dc.groupby('foreign')['EA_temp']"
   ]
  },
  {
   "cell_type": "markdown",
   "metadata": {},
   "source": [
    "## 定义分类活跃度函数"
   ]
  },
  {
   "cell_type": "code",
   "execution_count": 22,
   "metadata": {
    "ExecuteTime": {
     "end_time": "2022-06-30T02:32:52.880193Z",
     "start_time": "2022-06-30T02:32:52.866219Z"
    }
   },
   "outputs": [],
   "source": [
    "def class_EA(grouped):\n",
    "    name_value = grouped.value_counts()\n",
    "    name_all = [] # 0,1两类，会有重复的name\n",
    "    for i in list(name_value.index):\n",
    "        name_all.append(i[0])\n",
    "    name_clean = []\n",
    "    # 列表推导式，去除列表重复值\n",
    "    [name_clean.append(i) for i in name_all if not i in name_clean]\n",
    "    df_name =  pd.DataFrame(index=name_clean, columns=['proportion', 'sum'])\n",
    "    \n",
    "    for n in name_clean:\n",
    "        temp_sum = 0\n",
    "        for j in list(name_value[n]):\n",
    "            # 每个类别的value一般都有1， 0两类\n",
    "            temp_sum = temp_sum + j\n",
    "        temp_num = name_value[n, 1] / temp_sum\n",
    "        df_name.loc[n, 'proportion'] = temp_num\n",
    "        df_name.loc[n, 'sum'] = temp_sum\n",
    "    return df_name"
   ]
  },
  {
   "cell_type": "markdown",
   "metadata": {},
   "source": [
    "## 按行业"
   ]
  },
  {
   "cell_type": "code",
   "execution_count": 23,
   "metadata": {
    "ExecuteTime": {
     "end_time": "2022-06-30T02:32:53.432711Z",
     "start_time": "2022-06-30T02:32:52.882181Z"
    },
    "cell_style": "center"
   },
   "outputs": [
    {
     "data": {
      "text/html": [
       "<div>\n",
       "<style scoped>\n",
       "    .dataframe tbody tr th:only-of-type {\n",
       "        vertical-align: middle;\n",
       "    }\n",
       "\n",
       "    .dataframe tbody tr th {\n",
       "        vertical-align: top;\n",
       "    }\n",
       "\n",
       "    .dataframe thead th {\n",
       "        text-align: right;\n",
       "    }\n",
       "</style>\n",
       "<table border=\"1\" class=\"dataframe\">\n",
       "  <thead>\n",
       "    <tr style=\"text-align: right;\">\n",
       "      <th></th>\n",
       "      <th>proportion</th>\n",
       "      <th>sum</th>\n",
       "    </tr>\n",
       "  </thead>\n",
       "  <tbody>\n",
       "    <tr>\n",
       "      <th>A</th>\n",
       "      <td>0.619738</td>\n",
       "      <td>83587</td>\n",
       "    </tr>\n",
       "    <tr>\n",
       "      <th>B</th>\n",
       "      <td>0.8717</td>\n",
       "      <td>4053</td>\n",
       "    </tr>\n",
       "    <tr>\n",
       "      <th>C</th>\n",
       "      <td>0.786243</td>\n",
       "      <td>142456</td>\n",
       "    </tr>\n",
       "    <tr>\n",
       "      <th>D</th>\n",
       "      <td>0.893487</td>\n",
       "      <td>10656</td>\n",
       "    </tr>\n",
       "    <tr>\n",
       "      <th>E</th>\n",
       "      <td>0.743162</td>\n",
       "      <td>249286</td>\n",
       "    </tr>\n",
       "    <tr>\n",
       "      <th>F</th>\n",
       "      <td>0.713025</td>\n",
       "      <td>551560</td>\n",
       "    </tr>\n",
       "    <tr>\n",
       "      <th>G</th>\n",
       "      <td>0.785115</td>\n",
       "      <td>51460</td>\n",
       "    </tr>\n",
       "    <tr>\n",
       "      <th>H</th>\n",
       "      <td>0.802302</td>\n",
       "      <td>32671</td>\n",
       "    </tr>\n",
       "    <tr>\n",
       "      <th>I</th>\n",
       "      <td>0.770098</td>\n",
       "      <td>90482</td>\n",
       "    </tr>\n",
       "    <tr>\n",
       "      <th>J</th>\n",
       "      <td>0.980592</td>\n",
       "      <td>17776</td>\n",
       "    </tr>\n",
       "    <tr>\n",
       "      <th>K</th>\n",
       "      <td>0.847937</td>\n",
       "      <td>56253</td>\n",
       "    </tr>\n",
       "    <tr>\n",
       "      <th>L</th>\n",
       "      <td>0.774333</td>\n",
       "      <td>234961</td>\n",
       "    </tr>\n",
       "    <tr>\n",
       "      <th>M</th>\n",
       "      <td>0.804042</td>\n",
       "      <td>171634</td>\n",
       "    </tr>\n",
       "    <tr>\n",
       "      <th>N</th>\n",
       "      <td>0.785179</td>\n",
       "      <td>12671</td>\n",
       "    </tr>\n",
       "    <tr>\n",
       "      <th>O</th>\n",
       "      <td>0.696647</td>\n",
       "      <td>46886</td>\n",
       "    </tr>\n",
       "    <tr>\n",
       "      <th>P</th>\n",
       "      <td>0.761086</td>\n",
       "      <td>10531</td>\n",
       "    </tr>\n",
       "    <tr>\n",
       "      <th>Q</th>\n",
       "      <td>0.80272</td>\n",
       "      <td>7132</td>\n",
       "    </tr>\n",
       "    <tr>\n",
       "      <th>R</th>\n",
       "      <td>0.755127</td>\n",
       "      <td>41103</td>\n",
       "    </tr>\n",
       "    <tr>\n",
       "      <th>S</th>\n",
       "      <td>0.906404</td>\n",
       "      <td>203</td>\n",
       "    </tr>\n",
       "    <tr>\n",
       "      <th>T</th>\n",
       "      <td>0.866667</td>\n",
       "      <td>15</td>\n",
       "    </tr>\n",
       "    <tr>\n",
       "      <th>Z</th>\n",
       "      <td>0.785524</td>\n",
       "      <td>11647</td>\n",
       "    </tr>\n",
       "  </tbody>\n",
       "</table>\n",
       "</div>"
      ],
      "text/plain": [
       "  proportion     sum\n",
       "A   0.619738   83587\n",
       "B     0.8717    4053\n",
       "C   0.786243  142456\n",
       "D   0.893487   10656\n",
       "E   0.743162  249286\n",
       "F   0.713025  551560\n",
       "G   0.785115   51460\n",
       "H   0.802302   32671\n",
       "I   0.770098   90482\n",
       "J   0.980592   17776\n",
       "K   0.847937   56253\n",
       "L   0.774333  234961\n",
       "M   0.804042  171634\n",
       "N   0.785179   12671\n",
       "O   0.696647   46886\n",
       "P   0.761086   10531\n",
       "Q    0.80272    7132\n",
       "R   0.755127   41103\n",
       "S   0.906404     203\n",
       "T   0.866667      15\n",
       "Z   0.785524   11647"
      ]
     },
     "execution_count": 23,
     "metadata": {},
     "output_type": "execute_result"
    }
   ],
   "source": [
    "df_industry = class_EA(industry_grouped)\n",
    "df_industry"
   ]
  },
  {
   "cell_type": "markdown",
   "metadata": {},
   "source": [
    "### 保存"
   ]
  },
  {
   "cell_type": "code",
   "execution_count": 24,
   "metadata": {
    "ExecuteTime": {
     "end_time": "2022-06-30T02:32:53.477634Z",
     "start_time": "2022-06-30T02:32:53.434706Z"
    }
   },
   "outputs": [],
   "source": [
    "df_industry.to_excel('./' + time_str + '/行业活跃度.xlsx')"
   ]
  },
  {
   "cell_type": "markdown",
   "metadata": {},
   "source": [
    "## 按规模"
   ]
  },
  {
   "cell_type": "code",
   "execution_count": 25,
   "metadata": {
    "ExecuteTime": {
     "end_time": "2022-06-30T02:32:53.839503Z",
     "start_time": "2022-06-30T02:32:53.479628Z"
    },
    "cell_style": "center"
   },
   "outputs": [
    {
     "data": {
      "text/html": [
       "<div>\n",
       "<style scoped>\n",
       "    .dataframe tbody tr th:only-of-type {\n",
       "        vertical-align: middle;\n",
       "    }\n",
       "\n",
       "    .dataframe tbody tr th {\n",
       "        vertical-align: top;\n",
       "    }\n",
       "\n",
       "    .dataframe thead th {\n",
       "        text-align: right;\n",
       "    }\n",
       "</style>\n",
       "<table border=\"1\" class=\"dataframe\">\n",
       "  <thead>\n",
       "    <tr style=\"text-align: right;\">\n",
       "      <th></th>\n",
       "      <th>proportion</th>\n",
       "      <th>sum</th>\n",
       "    </tr>\n",
       "  </thead>\n",
       "  <tbody>\n",
       "    <tr>\n",
       "      <th>1</th>\n",
       "      <td>0.712351</td>\n",
       "      <td>1108341</td>\n",
       "    </tr>\n",
       "    <tr>\n",
       "      <th>2</th>\n",
       "      <td>0.794542</td>\n",
       "      <td>604635</td>\n",
       "    </tr>\n",
       "    <tr>\n",
       "      <th>3</th>\n",
       "      <td>0.901642</td>\n",
       "      <td>103764</td>\n",
       "    </tr>\n",
       "    <tr>\n",
       "      <th>4</th>\n",
       "      <td>0.970487</td>\n",
       "      <td>5252</td>\n",
       "    </tr>\n",
       "    <tr>\n",
       "      <th>5</th>\n",
       "      <td>0.974955</td>\n",
       "      <td>5031</td>\n",
       "    </tr>\n",
       "  </tbody>\n",
       "</table>\n",
       "</div>"
      ],
      "text/plain": [
       "  proportion      sum\n",
       "1   0.712351  1108341\n",
       "2   0.794542   604635\n",
       "3   0.901642   103764\n",
       "4   0.970487     5252\n",
       "5   0.974955     5031"
      ]
     },
     "execution_count": 25,
     "metadata": {},
     "output_type": "execute_result"
    }
   ],
   "source": [
    "df_scale = class_EA(scale_grouped)\n",
    "df_scale"
   ]
  },
  {
   "cell_type": "markdown",
   "metadata": {},
   "source": [
    "### 保存"
   ]
  },
  {
   "cell_type": "code",
   "execution_count": 26,
   "metadata": {
    "ExecuteTime": {
     "end_time": "2022-06-30T02:32:53.870429Z",
     "start_time": "2022-06-30T02:32:53.840500Z"
    }
   },
   "outputs": [],
   "source": [
    "df_scale.to_excel('./' + time_str + '/规模活跃度.xlsx')"
   ]
  },
  {
   "cell_type": "markdown",
   "metadata": {},
   "source": [
    "## 按城市"
   ]
  },
  {
   "cell_type": "code",
   "execution_count": 27,
   "metadata": {
    "ExecuteTime": {
     "end_time": "2022-06-30T02:32:54.392029Z",
     "start_time": "2022-06-30T02:32:53.873417Z"
    },
    "cell_style": "center"
   },
   "outputs": [
    {
     "data": {
      "text/html": [
       "<div>\n",
       "<style scoped>\n",
       "    .dataframe tbody tr th:only-of-type {\n",
       "        vertical-align: middle;\n",
       "    }\n",
       "\n",
       "    .dataframe tbody tr th {\n",
       "        vertical-align: top;\n",
       "    }\n",
       "\n",
       "    .dataframe thead th {\n",
       "        text-align: right;\n",
       "    }\n",
       "</style>\n",
       "<table border=\"1\" class=\"dataframe\">\n",
       "  <thead>\n",
       "    <tr style=\"text-align: right;\">\n",
       "      <th></th>\n",
       "      <th>proportion</th>\n",
       "      <th>sum</th>\n",
       "    </tr>\n",
       "  </thead>\n",
       "  <tbody>\n",
       "    <tr>\n",
       "      <th>仙桃市</th>\n",
       "      <td>0.673065</td>\n",
       "      <td>32820</td>\n",
       "    </tr>\n",
       "    <tr>\n",
       "      <th>十堰市</th>\n",
       "      <td>0.771512</td>\n",
       "      <td>73912</td>\n",
       "    </tr>\n",
       "    <tr>\n",
       "      <th>咸宁市</th>\n",
       "      <td>0.699785</td>\n",
       "      <td>76302</td>\n",
       "    </tr>\n",
       "    <tr>\n",
       "      <th>天门市</th>\n",
       "      <td>0.698914</td>\n",
       "      <td>25129</td>\n",
       "    </tr>\n",
       "    <tr>\n",
       "      <th>孝感市</th>\n",
       "      <td>0.749515</td>\n",
       "      <td>74799</td>\n",
       "    </tr>\n",
       "    <tr>\n",
       "      <th>宜昌市</th>\n",
       "      <td>0.728143</td>\n",
       "      <td>117470</td>\n",
       "    </tr>\n",
       "    <tr>\n",
       "      <th>恩施州</th>\n",
       "      <td>0.745547</td>\n",
       "      <td>79610</td>\n",
       "    </tr>\n",
       "    <tr>\n",
       "      <th>武汉市</th>\n",
       "      <td>0.790118</td>\n",
       "      <td>766388</td>\n",
       "    </tr>\n",
       "    <tr>\n",
       "      <th>潜江市</th>\n",
       "      <td>0.659839</td>\n",
       "      <td>18065</td>\n",
       "    </tr>\n",
       "    <tr>\n",
       "      <th>神农架林区</th>\n",
       "      <td>0.764666</td>\n",
       "      <td>2932</td>\n",
       "    </tr>\n",
       "    <tr>\n",
       "      <th>荆州市</th>\n",
       "      <td>0.704687</td>\n",
       "      <td>95116</td>\n",
       "    </tr>\n",
       "    <tr>\n",
       "      <th>荆门市</th>\n",
       "      <td>0.702336</td>\n",
       "      <td>63518</td>\n",
       "    </tr>\n",
       "    <tr>\n",
       "      <th>襄阳市</th>\n",
       "      <td>0.692057</td>\n",
       "      <td>140367</td>\n",
       "    </tr>\n",
       "    <tr>\n",
       "      <th>鄂州市</th>\n",
       "      <td>0.762757</td>\n",
       "      <td>34159</td>\n",
       "    </tr>\n",
       "    <tr>\n",
       "      <th>随州市</th>\n",
       "      <td>0.723616</td>\n",
       "      <td>41124</td>\n",
       "    </tr>\n",
       "    <tr>\n",
       "      <th>黄冈市</th>\n",
       "      <td>0.754954</td>\n",
       "      <td>109265</td>\n",
       "    </tr>\n",
       "    <tr>\n",
       "      <th>黄石市</th>\n",
       "      <td>0.732323</td>\n",
       "      <td>76047</td>\n",
       "    </tr>\n",
       "  </tbody>\n",
       "</table>\n",
       "</div>"
      ],
      "text/plain": [
       "      proportion     sum\n",
       "仙桃市     0.673065   32820\n",
       "十堰市     0.771512   73912\n",
       "咸宁市     0.699785   76302\n",
       "天门市     0.698914   25129\n",
       "孝感市     0.749515   74799\n",
       "宜昌市     0.728143  117470\n",
       "恩施州     0.745547   79610\n",
       "武汉市     0.790118  766388\n",
       "潜江市     0.659839   18065\n",
       "神农架林区   0.764666    2932\n",
       "荆州市     0.704687   95116\n",
       "荆门市     0.702336   63518\n",
       "襄阳市     0.692057  140367\n",
       "鄂州市     0.762757   34159\n",
       "随州市     0.723616   41124\n",
       "黄冈市     0.754954  109265\n",
       "黄石市     0.732323   76047"
      ]
     },
     "execution_count": 27,
     "metadata": {},
     "output_type": "execute_result"
    }
   ],
   "source": [
    "df_city = class_EA(city_grouped)\n",
    "df_city"
   ]
  },
  {
   "cell_type": "markdown",
   "metadata": {},
   "source": [
    "### 保存"
   ]
  },
  {
   "cell_type": "code",
   "execution_count": 28,
   "metadata": {
    "ExecuteTime": {
     "end_time": "2022-06-30T02:32:54.423944Z",
     "start_time": "2022-06-30T02:32:54.399011Z"
    }
   },
   "outputs": [],
   "source": [
    "df_city.to_excel('./' + time_str + '/地区活跃度.xlsx')"
   ]
  },
  {
   "cell_type": "markdown",
   "metadata": {},
   "source": [
    "## 按三次产业"
   ]
  },
  {
   "cell_type": "code",
   "execution_count": 29,
   "metadata": {
    "ExecuteTime": {
     "end_time": "2022-06-30T02:32:54.770595Z",
     "start_time": "2022-06-30T02:32:54.425939Z"
    }
   },
   "outputs": [
    {
     "data": {
      "text/html": [
       "<div>\n",
       "<style scoped>\n",
       "    .dataframe tbody tr th:only-of-type {\n",
       "        vertical-align: middle;\n",
       "    }\n",
       "\n",
       "    .dataframe tbody tr th {\n",
       "        vertical-align: top;\n",
       "    }\n",
       "\n",
       "    .dataframe thead th {\n",
       "        text-align: right;\n",
       "    }\n",
       "</style>\n",
       "<table border=\"1\" class=\"dataframe\">\n",
       "  <thead>\n",
       "    <tr style=\"text-align: right;\">\n",
       "      <th></th>\n",
       "      <th>proportion</th>\n",
       "      <th>sum</th>\n",
       "    </tr>\n",
       "  </thead>\n",
       "  <tbody>\n",
       "    <tr>\n",
       "      <th>1</th>\n",
       "      <td>0.619738</td>\n",
       "      <td>83587</td>\n",
       "    </tr>\n",
       "    <tr>\n",
       "      <th>2</th>\n",
       "      <td>0.763484</td>\n",
       "      <td>406451</td>\n",
       "    </tr>\n",
       "    <tr>\n",
       "      <th>3</th>\n",
       "      <td>0.756459</td>\n",
       "      <td>1336985</td>\n",
       "    </tr>\n",
       "  </tbody>\n",
       "</table>\n",
       "</div>"
      ],
      "text/plain": [
       "  proportion      sum\n",
       "1   0.619738    83587\n",
       "2   0.763484   406451\n",
       "3   0.756459  1336985"
      ]
     },
     "execution_count": 29,
     "metadata": {},
     "output_type": "execute_result"
    }
   ],
   "source": [
    "df_three = class_EA(three_grouped)\n",
    "df_three"
   ]
  },
  {
   "cell_type": "markdown",
   "metadata": {},
   "source": [
    "### 保存"
   ]
  },
  {
   "cell_type": "code",
   "execution_count": 30,
   "metadata": {
    "ExecuteTime": {
     "end_time": "2022-06-30T02:32:54.801511Z",
     "start_time": "2022-06-30T02:32:54.772563Z"
    }
   },
   "outputs": [],
   "source": [
    "df_three.to_excel('./' + time_str + '/三次产业活跃度.xlsx')"
   ]
  },
  {
   "cell_type": "markdown",
   "metadata": {},
   "source": [
    "## 按经济户口类别"
   ]
  },
  {
   "cell_type": "code",
   "execution_count": 31,
   "metadata": {
    "ExecuteTime": {
     "end_time": "2022-06-30T02:32:55.115783Z",
     "start_time": "2022-06-30T02:32:54.802508Z"
    }
   },
   "outputs": [
    {
     "data": {
      "text/html": [
       "<div>\n",
       "<style scoped>\n",
       "    .dataframe tbody tr th:only-of-type {\n",
       "        vertical-align: middle;\n",
       "    }\n",
       "\n",
       "    .dataframe tbody tr th {\n",
       "        vertical-align: top;\n",
       "    }\n",
       "\n",
       "    .dataframe thead th {\n",
       "        text-align: right;\n",
       "    }\n",
       "</style>\n",
       "<table border=\"1\" class=\"dataframe\">\n",
       "  <thead>\n",
       "    <tr style=\"text-align: right;\">\n",
       "      <th></th>\n",
       "      <th>proportion</th>\n",
       "      <th>sum</th>\n",
       "    </tr>\n",
       "  </thead>\n",
       "  <tbody>\n",
       "    <tr>\n",
       "      <th>1</th>\n",
       "      <td>0.982819</td>\n",
       "      <td>131657</td>\n",
       "    </tr>\n",
       "    <tr>\n",
       "      <th>2</th>\n",
       "      <td>0.977805</td>\n",
       "      <td>13652</td>\n",
       "    </tr>\n",
       "    <tr>\n",
       "      <th>3</th>\n",
       "      <td>0.731844</td>\n",
       "      <td>1681714</td>\n",
       "    </tr>\n",
       "  </tbody>\n",
       "</table>\n",
       "</div>"
      ],
      "text/plain": [
       "  proportion      sum\n",
       "1   0.982819   131657\n",
       "2   0.977805    13652\n",
       "3   0.731844  1681714"
      ]
     },
     "execution_count": 31,
     "metadata": {},
     "output_type": "execute_result"
    }
   ],
   "source": [
    "df_economic = class_EA(economic_grouped)\n",
    "df_economic"
   ]
  },
  {
   "cell_type": "markdown",
   "metadata": {},
   "source": [
    "### 保存"
   ]
  },
  {
   "cell_type": "code",
   "execution_count": 32,
   "metadata": {
    "ExecuteTime": {
     "end_time": "2022-06-30T02:32:55.147679Z",
     "start_time": "2022-06-30T02:32:55.117750Z"
    }
   },
   "outputs": [],
   "source": [
    "df_economic.to_excel('./' + time_str + '/经济户口活跃度.xlsx')"
   ]
  },
  {
   "cell_type": "markdown",
   "metadata": {},
   "source": [
    "## 按企业存续时间"
   ]
  },
  {
   "cell_type": "code",
   "execution_count": 33,
   "metadata": {
    "ExecuteTime": {
     "end_time": "2022-06-30T02:32:55.446487Z",
     "start_time": "2022-06-30T02:32:55.149703Z"
    },
    "cell_style": "center"
   },
   "outputs": [
    {
     "data": {
      "text/html": [
       "<div>\n",
       "<style scoped>\n",
       "    .dataframe tbody tr th:only-of-type {\n",
       "        vertical-align: middle;\n",
       "    }\n",
       "\n",
       "    .dataframe tbody tr th {\n",
       "        vertical-align: top;\n",
       "    }\n",
       "\n",
       "    .dataframe thead th {\n",
       "        text-align: right;\n",
       "    }\n",
       "</style>\n",
       "<table border=\"1\" class=\"dataframe\">\n",
       "  <thead>\n",
       "    <tr style=\"text-align: right;\">\n",
       "      <th></th>\n",
       "      <th>proportion</th>\n",
       "      <th>sum</th>\n",
       "    </tr>\n",
       "  </thead>\n",
       "  <tbody>\n",
       "    <tr>\n",
       "      <th>1</th>\n",
       "      <td>0.694415</td>\n",
       "      <td>501840</td>\n",
       "    </tr>\n",
       "    <tr>\n",
       "      <th>2</th>\n",
       "      <td>0.731262</td>\n",
       "      <td>711378</td>\n",
       "    </tr>\n",
       "    <tr>\n",
       "      <th>3</th>\n",
       "      <td>0.769333</td>\n",
       "      <td>371730</td>\n",
       "    </tr>\n",
       "    <tr>\n",
       "      <th>4</th>\n",
       "      <td>0.903947</td>\n",
       "      <td>242075</td>\n",
       "    </tr>\n",
       "  </tbody>\n",
       "</table>\n",
       "</div>"
      ],
      "text/plain": [
       "  proportion     sum\n",
       "1   0.694415  501840\n",
       "2   0.731262  711378\n",
       "3   0.769333  371730\n",
       "4   0.903947  242075"
      ]
     },
     "execution_count": 33,
     "metadata": {},
     "output_type": "execute_result"
    }
   ],
   "source": [
    "df_time = class_EA(time_grouped)\n",
    "df_time"
   ]
  },
  {
   "cell_type": "markdown",
   "metadata": {},
   "source": [
    "### 保存"
   ]
  },
  {
   "cell_type": "code",
   "execution_count": 34,
   "metadata": {
    "ExecuteTime": {
     "end_time": "2022-06-30T02:32:55.477417Z",
     "start_time": "2022-06-30T02:32:55.448460Z"
    }
   },
   "outputs": [],
   "source": [
    "df_time.to_excel('./' + time_str + '/企业存续时间活跃度.xlsx')"
   ]
  },
  {
   "cell_type": "markdown",
   "metadata": {},
   "source": [
    "## 按是否外商投资"
   ]
  },
  {
   "cell_type": "code",
   "execution_count": 35,
   "metadata": {
    "ExecuteTime": {
     "end_time": "2022-06-30T02:32:55.744212Z",
     "start_time": "2022-06-30T02:32:55.479413Z"
    }
   },
   "outputs": [
    {
     "data": {
      "text/html": [
       "<div>\n",
       "<style scoped>\n",
       "    .dataframe tbody tr th:only-of-type {\n",
       "        vertical-align: middle;\n",
       "    }\n",
       "\n",
       "    .dataframe tbody tr th {\n",
       "        vertical-align: top;\n",
       "    }\n",
       "\n",
       "    .dataframe thead th {\n",
       "        text-align: right;\n",
       "    }\n",
       "</style>\n",
       "<table border=\"1\" class=\"dataframe\">\n",
       "  <thead>\n",
       "    <tr style=\"text-align: right;\">\n",
       "      <th></th>\n",
       "      <th>proportion</th>\n",
       "      <th>sum</th>\n",
       "    </tr>\n",
       "  </thead>\n",
       "  <tbody>\n",
       "    <tr>\n",
       "      <th>0</th>\n",
       "      <td>0.751269</td>\n",
       "      <td>1822960</td>\n",
       "    </tr>\n",
       "    <tr>\n",
       "      <th>1</th>\n",
       "      <td>0.975388</td>\n",
       "      <td>4063</td>\n",
       "    </tr>\n",
       "  </tbody>\n",
       "</table>\n",
       "</div>"
      ],
      "text/plain": [
       "  proportion      sum\n",
       "0   0.751269  1822960\n",
       "1   0.975388     4063"
      ]
     },
     "execution_count": 35,
     "metadata": {},
     "output_type": "execute_result"
    }
   ],
   "source": [
    "df_foreign = class_EA(foreign_grouped)\n",
    "df_foreign"
   ]
  },
  {
   "cell_type": "markdown",
   "metadata": {},
   "source": [
    "### 保存"
   ]
  },
  {
   "cell_type": "code",
   "execution_count": 36,
   "metadata": {
    "ExecuteTime": {
     "end_time": "2022-06-30T02:32:55.775132Z",
     "start_time": "2022-06-30T02:32:55.746207Z"
    }
   },
   "outputs": [],
   "source": [
    "df_foreign.to_excel('./' + time_str + '/是否外商投资活跃度.xlsx')"
   ]
  },
  {
   "cell_type": "markdown",
   "metadata": {},
   "source": [
    "## 三次产业的分行业占比"
   ]
  },
  {
   "cell_type": "code",
   "execution_count": 37,
   "metadata": {
    "ExecuteTime": {
     "end_time": "2022-06-30T02:32:56.262827Z",
     "start_time": "2022-06-30T02:32:55.777123Z"
    }
   },
   "outputs": [],
   "source": [
    "first = dc[dc['three'] == 1]['hydm'].value_counts()\n",
    "second = dc[dc['three'] == 2]['hydm'].value_counts()\n",
    "third = dc[dc['three'] == 3]['hydm'].value_counts()"
   ]
  },
  {
   "cell_type": "code",
   "execution_count": 38,
   "metadata": {
    "ExecuteTime": {
     "end_time": "2022-06-30T02:32:56.278805Z",
     "start_time": "2022-06-30T02:32:56.263822Z"
    }
   },
   "outputs": [],
   "source": [
    "def industry_num(value):\n",
    "    df_name = pd.DataFrame(index=value.index, columns=['num', 'proportion'])\n",
    "    df_name['num'] = value\n",
    "    df_name['proportion'] = value / value.sum()\n",
    "    return df_name"
   ]
  },
  {
   "cell_type": "code",
   "execution_count": 39,
   "metadata": {
    "ExecuteTime": {
     "end_time": "2022-06-30T02:32:56.294763Z",
     "start_time": "2022-06-30T02:32:56.279799Z"
    }
   },
   "outputs": [],
   "source": [
    "df_first =  industry_num(first)\n",
    "df_second = industry_num(second)\n",
    "df_third = industry_num(third)"
   ]
  },
  {
   "cell_type": "markdown",
   "metadata": {},
   "source": [
    "### 保存"
   ]
  },
  {
   "cell_type": "code",
   "execution_count": 40,
   "metadata": {
    "ExecuteTime": {
     "end_time": "2022-06-30T02:32:56.342634Z",
     "start_time": "2022-06-30T02:32:56.296753Z"
    }
   },
   "outputs": [],
   "source": [
    "df_first.to_excel('./' + time_str + '/分行业：一产行业数量及占比.xlsx')\n",
    "df_second.to_excel('./' + time_str + '/分行业：二产行业数量及占比.xlsx')\n",
    "df_third.to_excel('./' + time_str + '/分行业：三产行业数量及占比.xlsx')"
   ]
  }
 ],
 "metadata": {
  "hide_input": false,
  "kernelspec": {
   "display_name": "Python 3 (ipykernel)",
   "language": "python",
   "name": "python3"
  },
  "language_info": {
   "codemirror_mode": {
    "name": "ipython",
    "version": 3
   },
   "file_extension": ".py",
   "mimetype": "text/x-python",
   "name": "python",
   "nbconvert_exporter": "python",
   "pygments_lexer": "ipython3",
   "version": "3.8.0"
  },
  "toc": {
   "base_numbering": 1,
   "nav_menu": {},
   "number_sections": true,
   "sideBar": true,
   "skip_h1_title": false,
   "title_cell": "Table of Contents",
   "title_sidebar": "Contents",
   "toc_cell": true,
   "toc_position": {
    "height": "calc(100% - 180px)",
    "left": "10px",
    "top": "150px",
    "width": "201.989px"
   },
   "toc_section_display": true,
   "toc_window_display": true
  },
  "varInspector": {
   "cols": {
    "lenName": 16,
    "lenType": 16,
    "lenVar": 40
   },
   "kernels_config": {
    "python": {
     "delete_cmd_postfix": "",
     "delete_cmd_prefix": "del ",
     "library": "var_list.py",
     "varRefreshCmd": "print(var_dic_list())"
    },
    "r": {
     "delete_cmd_postfix": ") ",
     "delete_cmd_prefix": "rm(",
     "library": "var_list.r",
     "varRefreshCmd": "cat(var_dic_list()) "
    }
   },
   "types_to_exclude": [
    "module",
    "function",
    "builtin_function_or_method",
    "instance",
    "_Feature"
   ],
   "window_display": false
  }
 },
 "nbformat": 4,
 "nbformat_minor": 2
}
