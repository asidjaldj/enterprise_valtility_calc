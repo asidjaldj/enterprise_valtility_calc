{
 "cells": [
  {
   "cell_type": "markdown",
   "metadata": {
    "toc": true
   },
   "source": [
    "<h1>Table of Contents<span class=\"tocSkip\"></span></h1>\n",
    "<div class=\"toc\"><ul class=\"toc-item\"><li><span><a href=\"#读取主体登记信息\" data-toc-modified-id=\"读取主体登记信息-1\"><span class=\"toc-item-num\">1&nbsp;&nbsp;</span>读取主体登记信息</a></span><ul class=\"toc-item\"><li><span><a href=\"#读取\" data-toc-modified-id=\"读取-1.1\"><span class=\"toc-item-num\">1.1&nbsp;&nbsp;</span>读取</a></span><ul class=\"toc-item\"><li><span><a href=\"#读取主体登记\" data-toc-modified-id=\"读取主体登记-1.1.1\"><span class=\"toc-item-num\">1.1.1&nbsp;&nbsp;</span>读取主体登记</a></span></li><li><span><a href=\"#查看当月成立的企业数量\" data-toc-modified-id=\"查看当月成立的企业数量-1.1.2\"><span class=\"toc-item-num\">1.1.2&nbsp;&nbsp;</span>查看当月成立的企业数量</a></span></li><li><span><a href=\"#提取本月注吊销及迁出数据\" data-toc-modified-id=\"提取本月注吊销及迁出数据-1.1.3\"><span class=\"toc-item-num\">1.1.3&nbsp;&nbsp;</span>提取本月注吊销及迁出数据</a></span></li><li><span><a href=\"#删除注吊销及迁出数据\" data-toc-modified-id=\"删除注吊销及迁出数据-1.1.4\"><span class=\"toc-item-num\">1.1.4&nbsp;&nbsp;</span>删除注吊销及迁出数据</a></span></li></ul></li><li><span><a href=\"#提取需要特征\" data-toc-modified-id=\"提取需要特征-1.2\"><span class=\"toc-item-num\">1.2&nbsp;&nbsp;</span>提取需要特征</a></span><ul class=\"toc-item\"><li><span><a href=\"#提取主体登记表\" data-toc-modified-id=\"提取主体登记表-1.2.1\"><span class=\"toc-item-num\">1.2.1&nbsp;&nbsp;</span>提取主体登记表</a></span></li><li><span><a href=\"#提取注吊销表\" data-toc-modified-id=\"提取注吊销表-1.2.2\"><span class=\"toc-item-num\">1.2.2&nbsp;&nbsp;</span>提取注吊销表</a></span></li></ul></li><li><span><a href=\"#更改经营状态\" data-toc-modified-id=\"更改经营状态-1.3\"><span class=\"toc-item-num\">1.3&nbsp;&nbsp;</span>更改经营状态</a></span></li><li><span><a href=\"#合并两表\" data-toc-modified-id=\"合并两表-1.4\"><span class=\"toc-item-num\">1.4&nbsp;&nbsp;</span>合并两表</a></span></li><li><span><a href=\"#更改列名\" data-toc-modified-id=\"更改列名-1.5\"><span class=\"toc-item-num\">1.5&nbsp;&nbsp;</span>更改列名</a></span></li><li><span><a href=\"#缺失值填补\" data-toc-modified-id=\"缺失值填补-1.6\"><span class=\"toc-item-num\">1.6&nbsp;&nbsp;</span>缺失值填补</a></span></li><li><span><a href=\"#类型转换\" data-toc-modified-id=\"类型转换-1.7\"><span class=\"toc-item-num\">1.7&nbsp;&nbsp;</span>类型转换</a></span></li><li><span><a href=\"#行业代码只提取第一个\" data-toc-modified-id=\"行业代码只提取第一个-1.8\"><span class=\"toc-item-num\">1.8&nbsp;&nbsp;</span>行业代码只提取第一个</a></span></li><li><span><a href=\"#设置nbxh为索引\" data-toc-modified-id=\"设置nbxh为索引-1.9\"><span class=\"toc-item-num\">1.9&nbsp;&nbsp;</span>设置nbxh为索引</a></span></li></ul></li><li><span><a href=\"#分类\" data-toc-modified-id=\"分类-2\"><span class=\"toc-item-num\">2&nbsp;&nbsp;</span>分类</a></span><ul class=\"toc-item\"><li><span><a href=\"#划分企业年限\" data-toc-modified-id=\"划分企业年限-2.1\"><span class=\"toc-item-num\">2.1&nbsp;&nbsp;</span>划分企业年限</a></span></li><li><span><a href=\"#地区分类\" data-toc-modified-id=\"地区分类-2.2\"><span class=\"toc-item-num\">2.2&nbsp;&nbsp;</span>地区分类</a></span></li><li><span><a href=\"#三次产业分类\" data-toc-modified-id=\"三次产业分类-2.3\"><span class=\"toc-item-num\">2.3&nbsp;&nbsp;</span>三次产业分类</a></span></li><li><span><a href=\"#规模分类\" data-toc-modified-id=\"规模分类-2.4\"><span class=\"toc-item-num\">2.4&nbsp;&nbsp;</span>规模分类</a></span></li><li><span><a href=\"#是否为外商投资\" data-toc-modified-id=\"是否为外商投资-2.5\"><span class=\"toc-item-num\">2.5&nbsp;&nbsp;</span>是否为外商投资</a></span></li></ul></li><li><span><a href=\"#添加特征\" data-toc-modified-id=\"添加特征-3\"><span class=\"toc-item-num\">3&nbsp;&nbsp;</span>添加特征</a></span><ul class=\"toc-item\"><li><span><a href=\"#添加特征X1_2、X3、X4\" data-toc-modified-id=\"添加特征X1_2、X3、X4-3.1\"><span class=\"toc-item-num\">3.1&nbsp;&nbsp;</span>添加特征X1_2、X3、X4</a></span></li><li><span><a href=\"#将固定企业类型的公积金赋值为0\" data-toc-modified-id=\"将固定企业类型的公积金赋值为0-3.2\"><span class=\"toc-item-num\">3.2&nbsp;&nbsp;</span>将固定企业类型的公积金赋值为0</a></span></li><li><span><a href=\"#添加特征X5、X6、X12、X13、X15（来自企业变更表）\" data-toc-modified-id=\"添加特征X5、X6、X12、X13、X15（来自企业变更表）-3.3\"><span class=\"toc-item-num\">3.3&nbsp;&nbsp;</span>添加特征X5、X6、X12、X13、X15（来自企业变更表）</a></span><ul class=\"toc-item\"><li><span><a href=\"#读取企业变更表\" data-toc-modified-id=\"读取企业变更表-3.3.1\"><span class=\"toc-item-num\">3.3.1&nbsp;&nbsp;</span>读取企业变更表</a></span></li><li><span><a href=\"#提取特征X5\" data-toc-modified-id=\"提取特征X5-3.3.2\"><span class=\"toc-item-num\">3.3.2&nbsp;&nbsp;</span>提取特征X5</a></span><ul class=\"toc-item\"><li><span><a href=\"#nums为series,将其变为dataframes\" data-toc-modified-id=\"nums为series,将其变为dataframes-3.3.2.1\"><span class=\"toc-item-num\">3.3.2.1&nbsp;&nbsp;</span>nums为series,将其变为dataframes</a></span></li><li><span><a href=\"#join\" data-toc-modified-id=\"join-3.3.2.2\"><span class=\"toc-item-num\">3.3.2.2&nbsp;&nbsp;</span>join</a></span></li></ul></li><li><span><a href=\"#提取特征X6\" data-toc-modified-id=\"提取特征X6-3.3.3\"><span class=\"toc-item-num\">3.3.3&nbsp;&nbsp;</span>提取特征X6</a></span><ul class=\"toc-item\"><li><span><a href=\"#统计每个nbxh的每个变更事项出现次数\" data-toc-modified-id=\"统计每个nbxh的每个变更事项出现次数-3.3.3.1\"><span class=\"toc-item-num\">3.3.3.1&nbsp;&nbsp;</span>统计每个nbxh的每个变更事项出现次数</a></span></li><li><span><a href=\"#nums为series,将其变为dataframes\" data-toc-modified-id=\"nums为series,将其变为dataframes-3.3.3.2\"><span class=\"toc-item-num\">3.3.3.2&nbsp;&nbsp;</span>nums为series,将其变为dataframes</a></span></li><li><span><a href=\"#join\" data-toc-modified-id=\"join-3.3.3.3\"><span class=\"toc-item-num\">3.3.3.3&nbsp;&nbsp;</span>join</a></span></li></ul></li><li><span><a href=\"#X12、X13（保留变更事项与投资资本相关列）\" data-toc-modified-id=\"X12、X13（保留变更事项与投资资本相关列）-3.3.4\"><span class=\"toc-item-num\">3.3.4&nbsp;&nbsp;</span>X12、X13（保留变更事项与投资资本相关列）</a></span></li><li><span><a href=\"#提取特征X12\" data-toc-modified-id=\"提取特征X12-3.3.5\"><span class=\"toc-item-num\">3.3.5&nbsp;&nbsp;</span>提取特征X12</a></span><ul class=\"toc-item\"><li><span><a href=\"#统计每个nbxh的每个变更事项出现次数\" data-toc-modified-id=\"统计每个nbxh的每个变更事项出现次数-3.3.5.1\"><span class=\"toc-item-num\">3.3.5.1&nbsp;&nbsp;</span>统计每个nbxh的每个变更事项出现次数</a></span></li><li><span><a href=\"#nums为series,将其变为dataframes\" data-toc-modified-id=\"nums为series,将其变为dataframes-3.3.5.2\"><span class=\"toc-item-num\">3.3.5.2&nbsp;&nbsp;</span>nums为series,将其变为dataframes</a></span></li><li><span><a href=\"#join\" data-toc-modified-id=\"join-3.3.5.3\"><span class=\"toc-item-num\">3.3.5.3&nbsp;&nbsp;</span>join</a></span></li></ul></li><li><span><a href=\"#提取特征X13\" data-toc-modified-id=\"提取特征X13-3.3.6\"><span class=\"toc-item-num\">3.3.6&nbsp;&nbsp;</span>提取特征X13</a></span><ul class=\"toc-item\"><li><span><a href=\"#nums为series,将其变为dataframes\" data-toc-modified-id=\"nums为series,将其变为dataframes-3.3.6.1\"><span class=\"toc-item-num\">3.3.6.1&nbsp;&nbsp;</span>nums为series,将其变为dataframes</a></span></li><li><span><a href=\"#join\" data-toc-modified-id=\"join-3.3.6.2\"><span class=\"toc-item-num\">3.3.6.2&nbsp;&nbsp;</span>join</a></span></li></ul></li><li><span><a href=\"#提取特征X15（本月没有）\" data-toc-modified-id=\"提取特征X15（本月没有）-3.3.7\"><span class=\"toc-item-num\">3.3.7&nbsp;&nbsp;</span>提取特征X15（本月没有）</a></span><ul class=\"toc-item\"><li><span><a href=\"#将X15列赋值为0\" data-toc-modified-id=\"将X15列赋值为0-3.3.7.1\"><span class=\"toc-item-num\">3.3.7.1&nbsp;&nbsp;</span>将X15列赋值为0</a></span></li></ul></li></ul></li><li><span><a href=\"#添加特征X7(分支机构开设数量，来自分支机构表)\" data-toc-modified-id=\"添加特征X7(分支机构开设数量，来自分支机构表)-3.4\"><span class=\"toc-item-num\">3.4&nbsp;&nbsp;</span>添加特征X7(分支机构开设数量，来自分支机构表)</a></span><ul class=\"toc-item\"><li><span><a href=\"#读取文件\" data-toc-modified-id=\"读取文件-3.4.1\"><span class=\"toc-item-num\">3.4.1&nbsp;&nbsp;</span>读取文件</a></span></li><li><span><a href=\"#fzjg_nums为series,将其变为dataframes\" data-toc-modified-id=\"fzjg_nums为series,将其变为dataframes-3.4.2\"><span class=\"toc-item-num\">3.4.2&nbsp;&nbsp;</span>fzjg_nums为series,将其变为dataframes</a></span></li><li><span><a href=\"#找到对应的nbxh\" data-toc-modified-id=\"找到对应的nbxh-3.4.3\"><span class=\"toc-item-num\">3.4.3&nbsp;&nbsp;</span>找到对应的nbxh</a></span></li><li><span><a href=\"#删除空值\" data-toc-modified-id=\"删除空值-3.4.4\"><span class=\"toc-item-num\">3.4.4&nbsp;&nbsp;</span>删除空值</a></span></li><li><span><a href=\"#join\" data-toc-modified-id=\"join-3.4.5\"><span class=\"toc-item-num\">3.4.5&nbsp;&nbsp;</span>join</a></span></li></ul></li><li><span><a href=\"#添加特征X10、-X11（来自企业关系人表）\" data-toc-modified-id=\"添加特征X10、-X11（来自企业关系人表）-3.5\"><span class=\"toc-item-num\">3.5&nbsp;&nbsp;</span>添加特征X10、 X11（来自企业关系人表）</a></span><ul class=\"toc-item\"><li><span><a href=\"#提取特征X10\" data-toc-modified-id=\"提取特征X10-3.5.1\"><span class=\"toc-item-num\">3.5.1&nbsp;&nbsp;</span>提取特征X10</a></span><ul class=\"toc-item\"><li><span><a href=\"#nums为series,将其变为dataframes\" data-toc-modified-id=\"nums为series,将其变为dataframes-3.5.1.1\"><span class=\"toc-item-num\">3.5.1.1&nbsp;&nbsp;</span>nums为series,将其变为dataframes</a></span></li><li><span><a href=\"#join\" data-toc-modified-id=\"join-3.5.1.2\"><span class=\"toc-item-num\">3.5.1.2&nbsp;&nbsp;</span>join</a></span></li></ul></li><li><span><a href=\"#提取特征X11\" data-toc-modified-id=\"提取特征X11-3.5.2\"><span class=\"toc-item-num\">3.5.2&nbsp;&nbsp;</span>提取特征X11</a></span><ul class=\"toc-item\"><li><span><a href=\"#sums为series,将其变为dataframes\" data-toc-modified-id=\"sums为series,将其变为dataframes-3.5.2.1\"><span class=\"toc-item-num\">3.5.2.1&nbsp;&nbsp;</span>sums为series,将其变为dataframes</a></span></li><li><span><a href=\"#join\" data-toc-modified-id=\"join-3.5.2.2\"><span class=\"toc-item-num\">3.5.2.2&nbsp;&nbsp;</span>join</a></span></li></ul></li></ul></li><li><span><a href=\"#添加特征X14（迁移申请次数，来自迁移表）\" data-toc-modified-id=\"添加特征X14（迁移申请次数，来自迁移表）-3.6\"><span class=\"toc-item-num\">3.6&nbsp;&nbsp;</span>添加特征X14（迁移申请次数，来自迁移表）</a></span><ul class=\"toc-item\"><li><span><a href=\"#读取并查看\" data-toc-modified-id=\"读取并查看-3.6.1\"><span class=\"toc-item-num\">3.6.1&nbsp;&nbsp;</span>读取并查看</a></span></li><li><span><a href=\"#sums为series,将其变为dataframes\" data-toc-modified-id=\"sums为series,将其变为dataframes-3.6.2\"><span class=\"toc-item-num\">3.6.2&nbsp;&nbsp;</span>sums为series,将其变为dataframes</a></span></li><li><span><a href=\"#join\" data-toc-modified-id=\"join-3.6.3\"><span class=\"toc-item-num\">3.6.3&nbsp;&nbsp;</span>join</a></span></li></ul></li><li><span><a href=\"#添加特征X8、X9、X16、X17、X18\" data-toc-modified-id=\"添加特征X8、X9、X16、X17、X18-3.7\"><span class=\"toc-item-num\">3.7&nbsp;&nbsp;</span>添加特征X8、X9、X16、X17、X18</a></span></li></ul></li><li><span><a href=\"#调整顺序\" data-toc-modified-id=\"调整顺序-4\"><span class=\"toc-item-num\">4&nbsp;&nbsp;</span>调整顺序</a></span></li><li><span><a href=\"#去除重复值\" data-toc-modified-id=\"去除重复值-5\"><span class=\"toc-item-num\">5&nbsp;&nbsp;</span>去除重复值</a></span><ul class=\"toc-item\"><li><span><a href=\"#重设索引\" data-toc-modified-id=\"重设索引-5.1\"><span class=\"toc-item-num\">5.1&nbsp;&nbsp;</span>重设索引</a></span></li><li><span><a href=\"#统计重复\" data-toc-modified-id=\"统计重复-5.2\"><span class=\"toc-item-num\">5.2&nbsp;&nbsp;</span>统计重复</a></span></li><li><span><a href=\"#删除重复\" data-toc-modified-id=\"删除重复-5.3\"><span class=\"toc-item-num\">5.3&nbsp;&nbsp;</span>删除重复</a></span></li></ul></li><li><span><a href=\"#保存\" data-toc-modified-id=\"保存-6\"><span class=\"toc-item-num\">6&nbsp;&nbsp;</span>保存</a></span></li></ul></div>"
   ]
  },
  {
   "cell_type": "code",
   "execution_count": 1,
   "metadata": {
    "ExecuteTime": {
     "end_time": "2022-06-30T02:15:43.110905Z",
     "start_time": "2022-06-30T02:15:42.784952Z"
    }
   },
   "outputs": [],
   "source": [
    "import pandas as pd\n",
    "import numpy as np\n",
    "import warnings\n",
    "from tqdm import tqdm\n",
    "import gc\n",
    "warnings.filterwarnings(\"ignore\")"
   ]
  },
  {
   "cell_type": "markdown",
   "metadata": {},
   "source": [
    "# 读取主体登记信息"
   ]
  },
  {
   "cell_type": "markdown",
   "metadata": {},
   "source": [
    "## 读取"
   ]
  },
  {
   "cell_type": "markdown",
   "metadata": {},
   "source": [
    "### 读取主体登记"
   ]
  },
  {
   "cell_type": "code",
   "execution_count": 2,
   "metadata": {
    "ExecuteTime": {
     "end_time": "2022-06-30T02:16:10.863366Z",
     "start_time": "2022-06-30T02:15:43.112873Z"
    }
   },
   "outputs": [
    {
     "name": "stdout",
     "output_type": "stream",
     "text": [
      "<class 'pandas.core.frame.DataFrame'>\n",
      "RangeIndex: 3018638 entries, 0 to 3018637\n",
      "Data columns (total 15 columns):\n",
      " #   Column         Non-Null Count    Dtype  \n",
      "---  ------         --------------    -----  \n",
      " 0   #nbxh(C|50)    3018638 non-null  int64  \n",
      " 1   qymc(C|300)    3018626 non-null  object \n",
      " 2   uniscid(C|50)  2488461 non-null  object \n",
      " 3   zch(C|50)      3018182 non-null  object \n",
      " 4   fzrxm(C|500)   3017921 non-null  object \n",
      " 5   jjhklb(C|2)    3018638 non-null  int64  \n",
      " 6   qylx(C|6)      3018638 non-null  int64  \n",
      " 7   hydm(C|8)      3018638 non-null  object \n",
      " 8   djjg(C|20)     3018638 non-null  int64  \n",
      " 9   clrq(D)        3018638 non-null  object \n",
      " 10  hzrq(D)        3018637 non-null  object \n",
      " 11  zczb(N|21|6)   3018634 non-null  float64\n",
      " 12  jyzt(C|4)      2097098 non-null  float64\n",
      " 13  tslx(C|2)      3018638 non-null  int64  \n",
      " 14  jyfw(C|4000)   3017236 non-null  object \n",
      "dtypes: float64(2), int64(5), object(8)\n",
      "memory usage: 345.5+ MB\n",
      "None\n"
     ]
    },
    {
     "data": {
      "text/html": [
       "<div>\n",
       "<style scoped>\n",
       "    .dataframe tbody tr th:only-of-type {\n",
       "        vertical-align: middle;\n",
       "    }\n",
       "\n",
       "    .dataframe tbody tr th {\n",
       "        vertical-align: top;\n",
       "    }\n",
       "\n",
       "    .dataframe thead th {\n",
       "        text-align: right;\n",
       "    }\n",
       "</style>\n",
       "<table border=\"1\" class=\"dataframe\">\n",
       "  <thead>\n",
       "    <tr style=\"text-align: right;\">\n",
       "      <th></th>\n",
       "      <th>#nbxh(C|50)</th>\n",
       "      <th>qymc(C|300)</th>\n",
       "      <th>uniscid(C|50)</th>\n",
       "      <th>zch(C|50)</th>\n",
       "      <th>fzrxm(C|500)</th>\n",
       "      <th>jjhklb(C|2)</th>\n",
       "      <th>qylx(C|6)</th>\n",
       "      <th>hydm(C|8)</th>\n",
       "      <th>djjg(C|20)</th>\n",
       "      <th>clrq(D)</th>\n",
       "      <th>hzrq(D)</th>\n",
       "      <th>zczb(N|21|6)</th>\n",
       "      <th>jyzt(C|4)</th>\n",
       "      <th>tslx(C|2)</th>\n",
       "      <th>jyfw(C|4000)</th>\n",
       "    </tr>\n",
       "  </thead>\n",
       "  <tbody>\n",
       "    <tr>\n",
       "      <th>0</th>\n",
       "      <td>160000020664661198</td>\n",
       "      <td>湖北碧元科技有限公司</td>\n",
       "      <td>91421087MA49K6DJ6L</td>\n",
       "      <td>421087000090179</td>\n",
       "      <td>石峰</td>\n",
       "      <td>3</td>\n",
       "      <td>1130</td>\n",
       "      <td>I6490</td>\n",
       "      <td>421087999</td>\n",
       "      <td>2020-09-09</td>\n",
       "      <td>2022-04-21</td>\n",
       "      <td>100.0</td>\n",
       "      <td>1.0</td>\n",
       "      <td>6</td>\n",
       "      <td>许可项目：互联网信息服务；食品销售；食品互联网销售（依法须经批准的项目，经相关部门批准后方可...</td>\n",
       "    </tr>\n",
       "    <tr>\n",
       "      <th>1</th>\n",
       "      <td>160000020664665571</td>\n",
       "      <td>湖北葛仙楼餐饮管理有限公司</td>\n",
       "      <td>91420700MA49K6DM0U</td>\n",
       "      <td>420710000033988</td>\n",
       "      <td>阮亮亮</td>\n",
       "      <td>3</td>\n",
       "      <td>1151</td>\n",
       "      <td>H6210</td>\n",
       "      <td>420710999</td>\n",
       "      <td>2020-09-09</td>\n",
       "      <td>2020-09-16</td>\n",
       "      <td>110.0</td>\n",
       "      <td>1.0</td>\n",
       "      <td>6</td>\n",
       "      <td>餐饮管理；承包食堂；餐饮服务（依法须经批准的项目，经相关部门批准后方可开展经营活动）。</td>\n",
       "    </tr>\n",
       "  </tbody>\n",
       "</table>\n",
       "</div>"
      ],
      "text/plain": [
       "          #nbxh(C|50)    qymc(C|300)       uniscid(C|50)        zch(C|50)  \\\n",
       "0  160000020664661198     湖北碧元科技有限公司  91421087MA49K6DJ6L  421087000090179   \n",
       "1  160000020664665571  湖北葛仙楼餐饮管理有限公司  91420700MA49K6DM0U  420710000033988   \n",
       "\n",
       "  fzrxm(C|500)  jjhklb(C|2)  qylx(C|6) hydm(C|8)  djjg(C|20)     clrq(D)  \\\n",
       "0           石峰            3       1130     I6490   421087999  2020-09-09   \n",
       "1          阮亮亮            3       1151     H6210   420710999  2020-09-09   \n",
       "\n",
       "      hzrq(D)  zczb(N|21|6)  jyzt(C|4)  tslx(C|2)  \\\n",
       "0  2022-04-21         100.0        1.0          6   \n",
       "1  2020-09-16         110.0        1.0          6   \n",
       "\n",
       "                                        jyfw(C|4000)  \n",
       "0  许可项目：互联网信息服务；食品销售；食品互联网销售（依法须经批准的项目，经相关部门批准后方可...  \n",
       "1        餐饮管理；承包食堂；餐饮服务（依法须经批准的项目，经相关部门批准后方可开展经营活动）。  "
      ]
     },
     "execution_count": 2,
     "metadata": {},
     "output_type": "execute_result"
    }
   ],
   "source": [
    "file = pd.read_csv('./exportsql.20220629201307.utf-8.csv')\n",
    "print(file.info(null_counts = True))\n",
    "file[:2]"
   ]
  },
  {
   "cell_type": "code",
   "execution_count": 3,
   "metadata": {
    "ExecuteTime": {
     "end_time": "2022-06-30T02:16:11.845633Z",
     "start_time": "2022-06-30T02:16:10.865360Z"
    }
   },
   "outputs": [
    {
     "name": "stdout",
     "output_type": "stream",
     "text": [
      "2022-03    88951\n",
      "2022-06    81759\n",
      "2022-05    78930\n",
      "2021-12    74866\n",
      "2022-04    72501\n",
      "           ...  \n",
      "1983-02        1\n",
      "2027-05        1\n",
      "2037-04        1\n",
      "1984-02        1\n",
      "1980-03        1\n",
      "Name: year-month, Length: 525, dtype: int64\n"
     ]
    }
   ],
   "source": [
    "file['year-month'] = file['hzrq(D)'].str[:7]\n",
    "print(file['year-month'].value_counts())"
   ]
  },
  {
   "cell_type": "code",
   "execution_count": 4,
   "metadata": {
    "ExecuteTime": {
     "end_time": "2022-06-30T02:16:12.842906Z",
     "start_time": "2022-06-30T02:16:11.848135Z"
    }
   },
   "outputs": [
    {
     "name": "stdout",
     "output_type": "stream",
     "text": [
      "2013-12    54342\n",
      "2022-03    52575\n",
      "2021-12    44455\n",
      "2021-11    34433\n",
      "2022-04    34259\n",
      "           ...  \n",
      "1965-06        1\n",
      "1954-04        1\n",
      "1953-07        1\n",
      "1963-06        1\n",
      "1967-05        1\n",
      "Name: new, Length: 770, dtype: int64\n"
     ]
    }
   ],
   "source": [
    "file['new'] = file['clrq(D)'].str[:7]\n",
    "print(file['new'].value_counts())"
   ]
  },
  {
   "cell_type": "markdown",
   "metadata": {},
   "source": [
    "### 查看当月成立的企业数量"
   ]
  },
  {
   "cell_type": "code",
   "execution_count": 5,
   "metadata": {
    "ExecuteTime": {
     "end_time": "2022-06-30T02:16:14.552945Z",
     "start_time": "2022-06-30T02:16:12.845407Z"
    }
   },
   "outputs": [
    {
     "name": "stdout",
     "output_type": "stream",
     "text": [
      "<class 'pandas.core.frame.DataFrame'>\n",
      "Int64Index: 102680 entries, 40532 to 2143372\n",
      "Data columns (total 17 columns):\n",
      " #   Column         Non-Null Count   Dtype  \n",
      "---  ------         --------------   -----  \n",
      " 0   #nbxh(C|50)    102680 non-null  int64  \n",
      " 1   qymc(C|300)    102680 non-null  object \n",
      " 2   uniscid(C|50)  102679 non-null  object \n",
      " 3   zch(C|50)      102678 non-null  object \n",
      " 4   fzrxm(C|500)   102680 non-null  object \n",
      " 5   jjhklb(C|2)    102680 non-null  int64  \n",
      " 6   qylx(C|6)      102680 non-null  int64  \n",
      " 7   hydm(C|8)      102680 non-null  object \n",
      " 8   djjg(C|20)     102680 non-null  int64  \n",
      " 9   clrq(D)        102680 non-null  object \n",
      " 10  hzrq(D)        102680 non-null  object \n",
      " 11  zczb(N|21|6)   102680 non-null  float64\n",
      " 12  jyzt(C|4)      101657 non-null  float64\n",
      " 13  tslx(C|2)      102680 non-null  int64  \n",
      " 14  jyfw(C|4000)   102680 non-null  object \n",
      " 15  year-month     102680 non-null  object \n",
      " 16  new            102680 non-null  object \n",
      "dtypes: float64(2), int64(5), object(10)\n",
      "memory usage: 14.1+ MB\n"
     ]
    }
   ],
   "source": [
    "quarter = ['2022-04', '2022-05', '2022-06']\n",
    "new_company = pd.DataFrame()\n",
    "for month in quarter:\n",
    "    new_company = new_company.append(file[file['new'] == month])\n",
    "\n",
    "new_company.info(null_counts = True)"
   ]
  },
  {
   "cell_type": "markdown",
   "metadata": {},
   "source": [
    "### 提取本月注吊销及迁出数据"
   ]
  },
  {
   "cell_type": "code",
   "execution_count": 6,
   "metadata": {
    "ExecuteTime": {
     "end_time": "2022-06-30T02:16:16.359404Z",
     "start_time": "2022-06-30T02:16:14.553915Z"
    }
   },
   "outputs": [
    {
     "name": "stdout",
     "output_type": "stream",
     "text": [
      "<class 'pandas.core.frame.DataFrame'>\n",
      "Int64Index: 46300 entries, 287 to 3018574\n",
      "Data columns (total 17 columns):\n",
      " #   Column         Non-Null Count  Dtype  \n",
      "---  ------         --------------  -----  \n",
      " 0   #nbxh(C|50)    46300 non-null  int64  \n",
      " 1   qymc(C|300)    46300 non-null  object \n",
      " 2   uniscid(C|50)  45923 non-null  object \n",
      " 3   zch(C|50)      46300 non-null  object \n",
      " 4   fzrxm(C|500)   46300 non-null  object \n",
      " 5   jjhklb(C|2)    46300 non-null  int64  \n",
      " 6   qylx(C|6)      46300 non-null  int64  \n",
      " 7   hydm(C|8)      46300 non-null  object \n",
      " 8   djjg(C|20)     46300 non-null  int64  \n",
      " 9   clrq(D)        46300 non-null  object \n",
      " 10  hzrq(D)        46300 non-null  object \n",
      " 11  zczb(N|21|6)   46300 non-null  float64\n",
      " 12  jyzt(C|4)      46257 non-null  float64\n",
      " 13  tslx(C|2)      46300 non-null  int64  \n",
      " 14  jyfw(C|4000)   46299 non-null  object \n",
      " 15  year-month     46300 non-null  object \n",
      " 16  new            46300 non-null  object \n",
      "dtypes: float64(2), int64(5), object(10)\n",
      "memory usage: 6.4+ MB\n",
      "None\n",
      "注销： 41112\n",
      "吊销： 5060\n",
      "迁出： 128\n"
     ]
    }
   ],
   "source": [
    "# 注销（07）、吊销（11）、迁入（09）、迁出（13）\n",
    "revoke = pd.DataFrame()\n",
    "for month in quarter:\n",
    "    revoke = revoke.append(file[((file['year-month'] == month) & (file['tslx(C|2)'] == 7)) | ((file['year-month'] == month) & (file['tslx(C|2)'] == 11)) | ((file['year-month'] == month) & (file['tslx(C|2)'] == 13))])\n",
    "print(revoke.info(null_counts = True))\n",
    "print('注销：', len(revoke[revoke['tslx(C|2)'] == 7]))\n",
    "print('吊销：', len(revoke[revoke['tslx(C|2)'] == 11]))\n",
    "print('迁出：', len(revoke[revoke['tslx(C|2)'] == 13]))"
   ]
  },
  {
   "cell_type": "markdown",
   "metadata": {},
   "source": [
    "### 删除注吊销及迁出数据"
   ]
  },
  {
   "cell_type": "code",
   "execution_count": 7,
   "metadata": {
    "ExecuteTime": {
     "end_time": "2022-06-30T02:16:20.831734Z",
     "start_time": "2022-06-30T02:16:16.360401Z"
    },
    "scrolled": false
   },
   "outputs": [
    {
     "name": "stdout",
     "output_type": "stream",
     "text": [
      "<class 'pandas.core.frame.DataFrame'>\n",
      "Int64Index: 1780723 entries, 0 to 3018636\n",
      "Data columns (total 17 columns):\n",
      " #   Column         Non-Null Count    Dtype  \n",
      "---  ------         --------------    -----  \n",
      " 0   #nbxh(C|50)    1780723 non-null  int64  \n",
      " 1   qymc(C|300)    1780720 non-null  object \n",
      " 2   uniscid(C|50)  1777752 non-null  object \n",
      " 3   zch(C|50)      1780694 non-null  object \n",
      " 4   fzrxm(C|500)   1780666 non-null  object \n",
      " 5   jjhklb(C|2)    1780723 non-null  int64  \n",
      " 6   qylx(C|6)      1780723 non-null  int64  \n",
      " 7   hydm(C|8)      1780723 non-null  object \n",
      " 8   djjg(C|20)     1780723 non-null  int64  \n",
      " 9   clrq(D)        1780723 non-null  object \n",
      " 10  hzrq(D)        1780722 non-null  object \n",
      " 11  zczb(N|21|6)   1780720 non-null  float64\n",
      " 12  jyzt(C|4)      1355279 non-null  float64\n",
      " 13  tslx(C|2)      1780723 non-null  int64  \n",
      " 14  jyfw(C|4000)   1780682 non-null  object \n",
      " 15  year-month     1780722 non-null  object \n",
      " 16  new            1780723 non-null  object \n",
      "dtypes: float64(2), int64(5), object(10)\n",
      "memory usage: 244.5+ MB\n"
     ]
    }
   ],
   "source": [
    "# 删除所有注吊销数据\n",
    "file.drop(file[file['tslx(C|2)'] == 7].index, inplace=True)\n",
    "file.drop(file[file['tslx(C|2)'] == 11].index, inplace=True)\n",
    "file.drop(file[file['tslx(C|2)'] == 13].index, inplace=True)\n",
    "file.info(null_counts = True)"
   ]
  },
  {
   "cell_type": "markdown",
   "metadata": {},
   "source": [
    "## 提取需要特征"
   ]
  },
  {
   "cell_type": "markdown",
   "metadata": {},
   "source": [
    "提取\n",
    "> `jjhklb`经济户口类别：用于经济户口**分类**     \n",
    "    `nbxh`内部序号：索引    \n",
    "    `hydm`行业代码：用于行业**分类**    \n",
    "    `djjg`登记机关：用于地区**分类**    \n",
    "    `zczb`注册资本：用于规模**分类**    \n",
    "    `jyzt`经营状态：0， 1    \n",
    "    `clrq`成立日期：用于存续时间**分类**   \n",
    "    `qylx(C|6)` 用于决定哪些企业公积金为0"
   ]
  },
  {
   "cell_type": "markdown",
   "metadata": {},
   "source": [
    "### 提取主体登记表"
   ]
  },
  {
   "cell_type": "code",
   "execution_count": 8,
   "metadata": {
    "ExecuteTime": {
     "end_time": "2022-06-30T02:16:21.528126Z",
     "start_time": "2022-06-30T02:16:20.833701Z"
    }
   },
   "outputs": [
    {
     "name": "stdout",
     "output_type": "stream",
     "text": [
      "<class 'pandas.core.frame.DataFrame'>\n",
      "Int64Index: 1780723 entries, 0 to 3018636\n",
      "Data columns (total 10 columns):\n",
      " #   Column        Non-Null Count    Dtype  \n",
      "---  ------        --------------    -----  \n",
      " 0   jjhklb(C|2)   1780723 non-null  int64  \n",
      " 1   #nbxh(C|50)   1780723 non-null  int64  \n",
      " 2   hydm(C|8)     1780723 non-null  object \n",
      " 3   djjg(C|20)    1780723 non-null  int64  \n",
      " 4   zczb(N|21|6)  1780720 non-null  float64\n",
      " 5   jyzt(C|4)     1355279 non-null  float64\n",
      " 6   clrq(D)       1780723 non-null  object \n",
      " 7   qylx(C|6)     1780723 non-null  int64  \n",
      " 8   tslx(C|2)     1780723 non-null  int64  \n",
      " 9   new           1780723 non-null  object \n",
      "dtypes: float64(2), int64(5), object(3)\n",
      "memory usage: 149.4+ MB\n"
     ]
    }
   ],
   "source": [
    "new_file = file[['jjhklb(C|2)', '#nbxh(C|50)', 'hydm(C|8)', 'djjg(C|20)', 'zczb(N|21|6)', 'jyzt(C|4)', 'clrq(D)', 'qylx(C|6)', 'tslx(C|2)', 'new']]\n",
    "new_file.info(null_counts = True)"
   ]
  },
  {
   "cell_type": "markdown",
   "metadata": {},
   "source": [
    "### 提取注吊销表"
   ]
  },
  {
   "cell_type": "code",
   "execution_count": 9,
   "metadata": {
    "ExecuteTime": {
     "end_time": "2022-06-30T02:16:21.575082Z",
     "start_time": "2022-06-30T02:16:21.530119Z"
    }
   },
   "outputs": [
    {
     "name": "stdout",
     "output_type": "stream",
     "text": [
      "<class 'pandas.core.frame.DataFrame'>\n",
      "Int64Index: 46300 entries, 287 to 3018574\n",
      "Data columns (total 10 columns):\n",
      " #   Column        Non-Null Count  Dtype  \n",
      "---  ------        --------------  -----  \n",
      " 0   jjhklb(C|2)   46300 non-null  int64  \n",
      " 1   #nbxh(C|50)   46300 non-null  int64  \n",
      " 2   hydm(C|8)     46300 non-null  object \n",
      " 3   djjg(C|20)    46300 non-null  int64  \n",
      " 4   zczb(N|21|6)  46300 non-null  float64\n",
      " 5   jyzt(C|4)     46257 non-null  float64\n",
      " 6   clrq(D)       46300 non-null  object \n",
      " 7   qylx(C|6)     46300 non-null  int64  \n",
      " 8   tslx(C|2)     46300 non-null  int64  \n",
      " 9   new           46300 non-null  object \n",
      "dtypes: float64(2), int64(5), object(3)\n",
      "memory usage: 3.9+ MB\n"
     ]
    }
   ],
   "source": [
    "new_revoke = revoke[['jjhklb(C|2)', '#nbxh(C|50)', 'hydm(C|8)', 'djjg(C|20)', 'zczb(N|21|6)', 'jyzt(C|4)', 'clrq(D)', 'qylx(C|6)', 'tslx(C|2)', 'new']]\n",
    "new_revoke.info(null_counts = True)"
   ]
  },
  {
   "cell_type": "markdown",
   "metadata": {},
   "source": [
    "## 更改经营状态"
   ]
  },
  {
   "cell_type": "code",
   "execution_count": 10,
   "metadata": {
    "ExecuteTime": {
     "end_time": "2022-06-30T02:16:21.590928Z",
     "start_time": "2022-06-30T02:16:21.577997Z"
    }
   },
   "outputs": [
    {
     "data": {
      "text/html": [
       "<div>\n",
       "<style scoped>\n",
       "    .dataframe tbody tr th:only-of-type {\n",
       "        vertical-align: middle;\n",
       "    }\n",
       "\n",
       "    .dataframe tbody tr th {\n",
       "        vertical-align: top;\n",
       "    }\n",
       "\n",
       "    .dataframe thead th {\n",
       "        text-align: right;\n",
       "    }\n",
       "</style>\n",
       "<table border=\"1\" class=\"dataframe\">\n",
       "  <thead>\n",
       "    <tr style=\"text-align: right;\">\n",
       "      <th></th>\n",
       "      <th>jjhklb(C|2)</th>\n",
       "      <th>#nbxh(C|50)</th>\n",
       "      <th>hydm(C|8)</th>\n",
       "      <th>djjg(C|20)</th>\n",
       "      <th>zczb(N|21|6)</th>\n",
       "      <th>jyzt(C|4)</th>\n",
       "      <th>clrq(D)</th>\n",
       "      <th>qylx(C|6)</th>\n",
       "      <th>tslx(C|2)</th>\n",
       "      <th>new</th>\n",
       "    </tr>\n",
       "  </thead>\n",
       "  <tbody>\n",
       "    <tr>\n",
       "      <th>0</th>\n",
       "      <td>3</td>\n",
       "      <td>160000020664661198</td>\n",
       "      <td>I6490</td>\n",
       "      <td>421087999</td>\n",
       "      <td>100.0</td>\n",
       "      <td>1.0</td>\n",
       "      <td>2020-09-09</td>\n",
       "      <td>1130</td>\n",
       "      <td>6</td>\n",
       "      <td>2020-09</td>\n",
       "    </tr>\n",
       "    <tr>\n",
       "      <th>1</th>\n",
       "      <td>3</td>\n",
       "      <td>160000020664665571</td>\n",
       "      <td>H6210</td>\n",
       "      <td>420710999</td>\n",
       "      <td>110.0</td>\n",
       "      <td>1.0</td>\n",
       "      <td>2020-09-09</td>\n",
       "      <td>1151</td>\n",
       "      <td>6</td>\n",
       "      <td>2020-09</td>\n",
       "    </tr>\n",
       "  </tbody>\n",
       "</table>\n",
       "</div>"
      ],
      "text/plain": [
       "   jjhklb(C|2)         #nbxh(C|50) hydm(C|8)  djjg(C|20)  zczb(N|21|6)  \\\n",
       "0            3  160000020664661198     I6490   421087999         100.0   \n",
       "1            3  160000020664665571     H6210   420710999         110.0   \n",
       "\n",
       "   jyzt(C|4)     clrq(D)  qylx(C|6)  tslx(C|2)      new  \n",
       "0        1.0  2020-09-09       1130          6  2020-09  \n",
       "1        1.0  2020-09-09       1151          6  2020-09  "
      ]
     },
     "execution_count": 10,
     "metadata": {},
     "output_type": "execute_result"
    }
   ],
   "source": [
    "new_file[:2]"
   ]
  },
  {
   "cell_type": "code",
   "execution_count": 11,
   "metadata": {
    "ExecuteTime": {
     "end_time": "2022-06-30T02:16:21.702629Z",
     "start_time": "2022-06-30T02:16:21.591926Z"
    }
   },
   "outputs": [
    {
     "name": "stdout",
     "output_type": "stream",
     "text": [
      "1    1780723\n",
      "Name: jyzt(C|4), dtype: int64\n",
      "0.0    46300\n",
      "Name: jyzt(C|4), dtype: int64\n"
     ]
    }
   ],
   "source": [
    "# 主体登记表的经营状态填补为1\n",
    "new_file['jyzt(C|4)'].fillna(value=1.0, inplace=True)\n",
    "\n",
    "# 注吊销表的经营状态为0\n",
    "new_revoke['jyzt(C|4)'] = 0.0\n",
    "\n",
    "# jyzt大于1的全部调整为1\n",
    "new_file['jyzt(C|4)'] = new_file['jyzt(C|4)'].astype(np.float)\n",
    "new_file.loc[new_file['jyzt(C|4)'] > 0, 'jyzt(C|4)'] = 1\n",
    "new_file.loc[new_file['jyzt(C|4)'] == 0, 'jyzt(C|4)'] = 0\n",
    "new_file['jyzt(C|4)'] = new_file['jyzt(C|4)'].astype(np.int64)\n",
    "print(new_file['jyzt(C|4)'].value_counts())\n",
    "print(new_revoke['jyzt(C|4)'].value_counts())"
   ]
  },
  {
   "cell_type": "code",
   "execution_count": 12,
   "metadata": {
    "ExecuteTime": {
     "end_time": "2022-06-30T02:16:21.718587Z",
     "start_time": "2022-06-30T02:16:21.704625Z"
    }
   },
   "outputs": [
    {
     "data": {
      "text/html": [
       "<div>\n",
       "<style scoped>\n",
       "    .dataframe tbody tr th:only-of-type {\n",
       "        vertical-align: middle;\n",
       "    }\n",
       "\n",
       "    .dataframe tbody tr th {\n",
       "        vertical-align: top;\n",
       "    }\n",
       "\n",
       "    .dataframe thead th {\n",
       "        text-align: right;\n",
       "    }\n",
       "</style>\n",
       "<table border=\"1\" class=\"dataframe\">\n",
       "  <thead>\n",
       "    <tr style=\"text-align: right;\">\n",
       "      <th></th>\n",
       "      <th>jjhklb(C|2)</th>\n",
       "      <th>#nbxh(C|50)</th>\n",
       "      <th>hydm(C|8)</th>\n",
       "      <th>djjg(C|20)</th>\n",
       "      <th>zczb(N|21|6)</th>\n",
       "      <th>jyzt(C|4)</th>\n",
       "      <th>clrq(D)</th>\n",
       "      <th>qylx(C|6)</th>\n",
       "      <th>tslx(C|2)</th>\n",
       "      <th>new</th>\n",
       "    </tr>\n",
       "  </thead>\n",
       "  <tbody>\n",
       "    <tr>\n",
       "      <th>0</th>\n",
       "      <td>3</td>\n",
       "      <td>160000020664661198</td>\n",
       "      <td>I6490</td>\n",
       "      <td>421087999</td>\n",
       "      <td>100.0</td>\n",
       "      <td>1</td>\n",
       "      <td>2020-09-09</td>\n",
       "      <td>1130</td>\n",
       "      <td>6</td>\n",
       "      <td>2020-09</td>\n",
       "    </tr>\n",
       "    <tr>\n",
       "      <th>1</th>\n",
       "      <td>3</td>\n",
       "      <td>160000020664665571</td>\n",
       "      <td>H6210</td>\n",
       "      <td>420710999</td>\n",
       "      <td>110.0</td>\n",
       "      <td>1</td>\n",
       "      <td>2020-09-09</td>\n",
       "      <td>1151</td>\n",
       "      <td>6</td>\n",
       "      <td>2020-09</td>\n",
       "    </tr>\n",
       "  </tbody>\n",
       "</table>\n",
       "</div>"
      ],
      "text/plain": [
       "   jjhklb(C|2)         #nbxh(C|50) hydm(C|8)  djjg(C|20)  zczb(N|21|6)  \\\n",
       "0            3  160000020664661198     I6490   421087999         100.0   \n",
       "1            3  160000020664665571     H6210   420710999         110.0   \n",
       "\n",
       "   jyzt(C|4)     clrq(D)  qylx(C|6)  tslx(C|2)      new  \n",
       "0          1  2020-09-09       1130          6  2020-09  \n",
       "1          1  2020-09-09       1151          6  2020-09  "
      ]
     },
     "execution_count": 12,
     "metadata": {},
     "output_type": "execute_result"
    }
   ],
   "source": [
    "new_file[:2]"
   ]
  },
  {
   "cell_type": "code",
   "execution_count": 13,
   "metadata": {
    "ExecuteTime": {
     "end_time": "2022-06-30T02:16:21.734545Z",
     "start_time": "2022-06-30T02:16:21.720581Z"
    }
   },
   "outputs": [
    {
     "data": {
      "text/html": [
       "<div>\n",
       "<style scoped>\n",
       "    .dataframe tbody tr th:only-of-type {\n",
       "        vertical-align: middle;\n",
       "    }\n",
       "\n",
       "    .dataframe tbody tr th {\n",
       "        vertical-align: top;\n",
       "    }\n",
       "\n",
       "    .dataframe thead th {\n",
       "        text-align: right;\n",
       "    }\n",
       "</style>\n",
       "<table border=\"1\" class=\"dataframe\">\n",
       "  <thead>\n",
       "    <tr style=\"text-align: right;\">\n",
       "      <th></th>\n",
       "      <th>jjhklb(C|2)</th>\n",
       "      <th>#nbxh(C|50)</th>\n",
       "      <th>hydm(C|8)</th>\n",
       "      <th>djjg(C|20)</th>\n",
       "      <th>zczb(N|21|6)</th>\n",
       "      <th>jyzt(C|4)</th>\n",
       "      <th>clrq(D)</th>\n",
       "      <th>qylx(C|6)</th>\n",
       "      <th>tslx(C|2)</th>\n",
       "      <th>new</th>\n",
       "    </tr>\n",
       "  </thead>\n",
       "  <tbody>\n",
       "    <tr>\n",
       "      <th>287</th>\n",
       "      <td>3</td>\n",
       "      <td>142000000022876134</td>\n",
       "      <td>F5261</td>\n",
       "      <td>420222999</td>\n",
       "      <td>200.0</td>\n",
       "      <td>0.0</td>\n",
       "      <td>2014-10-21</td>\n",
       "      <td>1151</td>\n",
       "      <td>7</td>\n",
       "      <td>2014-10</td>\n",
       "    </tr>\n",
       "    <tr>\n",
       "      <th>461</th>\n",
       "      <td>3</td>\n",
       "      <td>142000000024104254</td>\n",
       "      <td>F5219</td>\n",
       "      <td>421125008</td>\n",
       "      <td>10.0</td>\n",
       "      <td>0.0</td>\n",
       "      <td>2014-10-28</td>\n",
       "      <td>4540</td>\n",
       "      <td>7</td>\n",
       "      <td>2014-10</td>\n",
       "    </tr>\n",
       "  </tbody>\n",
       "</table>\n",
       "</div>"
      ],
      "text/plain": [
       "     jjhklb(C|2)         #nbxh(C|50) hydm(C|8)  djjg(C|20)  zczb(N|21|6)  \\\n",
       "287            3  142000000022876134     F5261   420222999         200.0   \n",
       "461            3  142000000024104254     F5219   421125008          10.0   \n",
       "\n",
       "     jyzt(C|4)     clrq(D)  qylx(C|6)  tslx(C|2)      new  \n",
       "287        0.0  2014-10-21       1151          7  2014-10  \n",
       "461        0.0  2014-10-28       4540          7  2014-10  "
      ]
     },
     "execution_count": 13,
     "metadata": {},
     "output_type": "execute_result"
    }
   ],
   "source": [
    "new_revoke[:2]"
   ]
  },
  {
   "cell_type": "markdown",
   "metadata": {},
   "source": [
    "## 合并两表"
   ]
  },
  {
   "cell_type": "code",
   "execution_count": 14,
   "metadata": {
    "ExecuteTime": {
     "end_time": "2022-06-30T02:16:22.558112Z",
     "start_time": "2022-06-30T02:16:21.736539Z"
    }
   },
   "outputs": [
    {
     "name": "stdout",
     "output_type": "stream",
     "text": [
      "<class 'pandas.core.frame.DataFrame'>\n",
      "Int64Index: 1827023 entries, 0 to 3018574\n",
      "Data columns (total 10 columns):\n",
      " #   Column        Non-Null Count    Dtype  \n",
      "---  ------        --------------    -----  \n",
      " 0   jjhklb(C|2)   1827023 non-null  int64  \n",
      " 1   #nbxh(C|50)   1827023 non-null  int64  \n",
      " 2   hydm(C|8)     1827023 non-null  object \n",
      " 3   djjg(C|20)    1827023 non-null  int64  \n",
      " 4   zczb(N|21|6)  1827020 non-null  float64\n",
      " 5   jyzt(C|4)     1827023 non-null  float64\n",
      " 6   clrq(D)       1827023 non-null  object \n",
      " 7   qylx(C|6)     1827023 non-null  int64  \n",
      " 8   tslx(C|2)     1827023 non-null  int64  \n",
      " 9   new           1827023 non-null  object \n",
      "dtypes: float64(2), int64(5), object(3)\n",
      "memory usage: 153.3+ MB\n",
      "None\n"
     ]
    }
   ],
   "source": [
    "new_file = pd.concat([new_file, new_revoke])\n",
    "print(new_file.info(null_counts = True))"
   ]
  },
  {
   "cell_type": "markdown",
   "metadata": {},
   "source": [
    "## 更改列名"
   ]
  },
  {
   "cell_type": "code",
   "execution_count": 15,
   "metadata": {
    "ExecuteTime": {
     "end_time": "2022-06-30T02:16:23.193960Z",
     "start_time": "2022-06-30T02:16:22.559149Z"
    }
   },
   "outputs": [
    {
     "name": "stdout",
     "output_type": "stream",
     "text": [
      "<class 'pandas.core.frame.DataFrame'>\n",
      "Int64Index: 1827023 entries, 0 to 3018574\n",
      "Data columns (total 10 columns):\n",
      " #   Column  Non-Null Count    Dtype  \n",
      "---  ------  --------------    -----  \n",
      " 0   jjhklb  1827023 non-null  int64  \n",
      " 1   nbxh    1827023 non-null  int64  \n",
      " 2   hydm    1827023 non-null  object \n",
      " 3   djjg    1827023 non-null  int64  \n",
      " 4   zczb    1827020 non-null  float64\n",
      " 5   jyzt    1827023 non-null  float64\n",
      " 6   clrq    1827023 non-null  object \n",
      " 7   qylx    1827023 non-null  int64  \n",
      " 8   tslx    1827023 non-null  int64  \n",
      " 9   new     1827023 non-null  object \n",
      "dtypes: float64(2), int64(5), object(3)\n",
      "memory usage: 153.3+ MB\n",
      "None\n"
     ]
    },
    {
     "data": {
      "text/html": [
       "<div>\n",
       "<style scoped>\n",
       "    .dataframe tbody tr th:only-of-type {\n",
       "        vertical-align: middle;\n",
       "    }\n",
       "\n",
       "    .dataframe tbody tr th {\n",
       "        vertical-align: top;\n",
       "    }\n",
       "\n",
       "    .dataframe thead th {\n",
       "        text-align: right;\n",
       "    }\n",
       "</style>\n",
       "<table border=\"1\" class=\"dataframe\">\n",
       "  <thead>\n",
       "    <tr style=\"text-align: right;\">\n",
       "      <th></th>\n",
       "      <th>jjhklb</th>\n",
       "      <th>nbxh</th>\n",
       "      <th>hydm</th>\n",
       "      <th>djjg</th>\n",
       "      <th>zczb</th>\n",
       "      <th>jyzt</th>\n",
       "      <th>clrq</th>\n",
       "      <th>qylx</th>\n",
       "      <th>tslx</th>\n",
       "      <th>new</th>\n",
       "    </tr>\n",
       "  </thead>\n",
       "  <tbody>\n",
       "    <tr>\n",
       "      <th>0</th>\n",
       "      <td>3</td>\n",
       "      <td>160000020664661198</td>\n",
       "      <td>I6490</td>\n",
       "      <td>421087999</td>\n",
       "      <td>100.0</td>\n",
       "      <td>1.0</td>\n",
       "      <td>2020-09-09</td>\n",
       "      <td>1130</td>\n",
       "      <td>6</td>\n",
       "      <td>2020-09</td>\n",
       "    </tr>\n",
       "    <tr>\n",
       "      <th>1</th>\n",
       "      <td>3</td>\n",
       "      <td>160000020664665571</td>\n",
       "      <td>H6210</td>\n",
       "      <td>420710999</td>\n",
       "      <td>110.0</td>\n",
       "      <td>1.0</td>\n",
       "      <td>2020-09-09</td>\n",
       "      <td>1151</td>\n",
       "      <td>6</td>\n",
       "      <td>2020-09</td>\n",
       "    </tr>\n",
       "  </tbody>\n",
       "</table>\n",
       "</div>"
      ],
      "text/plain": [
       "   jjhklb                nbxh   hydm       djjg   zczb  jyzt        clrq  \\\n",
       "0       3  160000020664661198  I6490  421087999  100.0   1.0  2020-09-09   \n",
       "1       3  160000020664665571  H6210  420710999  110.0   1.0  2020-09-09   \n",
       "\n",
       "   qylx  tslx      new  \n",
       "0  1130     6  2020-09  \n",
       "1  1151     6  2020-09  "
      ]
     },
     "execution_count": 15,
     "metadata": {},
     "output_type": "execute_result"
    }
   ],
   "source": [
    "new_file.rename(\n",
    "    columns={'jjhklb(C|2)': 'jjhklb', '#nbxh(C|50)': 'nbxh', 'hydm(C|8)':'hydm', 'djjg(C|20)':'djjg', \n",
    "             'zczb(N|21|6)':'zczb', 'jyzt(C|4)':'jyzt', 'clrq(D)':'clrq', 'qylx(C|6)':'qylx', 'tslx(C|2)':'tslx'}, \n",
    "    inplace=True)\n",
    "print(new_file.info(null_counts = True))\n",
    "new_file[:2]"
   ]
  },
  {
   "cell_type": "markdown",
   "metadata": {},
   "source": [
    "## 缺失值填补"
   ]
  },
  {
   "cell_type": "markdown",
   "metadata": {},
   "source": [
    "`jjhklb`填补为众数"
   ]
  },
  {
   "cell_type": "code",
   "execution_count": 16,
   "metadata": {
    "ExecuteTime": {
     "end_time": "2022-06-30T02:16:23.224877Z",
     "start_time": "2022-06-30T02:16:23.195927Z"
    }
   },
   "outputs": [],
   "source": [
    "new_file['jjhklb'].fillna(new_file['jjhklb'].mode()[0], inplace=True)"
   ]
  },
  {
   "cell_type": "markdown",
   "metadata": {},
   "source": [
    "`hydm`填补为众数"
   ]
  },
  {
   "cell_type": "code",
   "execution_count": 17,
   "metadata": {
    "ExecuteTime": {
     "end_time": "2022-06-30T02:16:23.382029Z",
     "start_time": "2022-06-30T02:16:23.226845Z"
    }
   },
   "outputs": [],
   "source": [
    "new_file['hydm'].fillna(new_file['hydm'].mode()[0], inplace=True)"
   ]
  },
  {
   "cell_type": "markdown",
   "metadata": {},
   "source": [
    "`djjg`填补为临近值"
   ]
  },
  {
   "cell_type": "code",
   "execution_count": 18,
   "metadata": {
    "ExecuteTime": {
     "end_time": "2022-06-30T02:16:23.397985Z",
     "start_time": "2022-06-30T02:16:23.384050Z"
    }
   },
   "outputs": [],
   "source": [
    "# 用前值填补\n",
    "new_file['djjg'].fillna(method = 'ffill', inplace = True)"
   ]
  },
  {
   "cell_type": "markdown",
   "metadata": {},
   "source": [
    "`zczb`填补为众数"
   ]
  },
  {
   "cell_type": "code",
   "execution_count": 19,
   "metadata": {
    "ExecuteTime": {
     "end_time": "2022-06-30T02:16:23.445858Z",
     "start_time": "2022-06-30T02:16:23.399980Z"
    }
   },
   "outputs": [],
   "source": [
    "new_file['zczb'].fillna(new_file['zczb'].mode()[0], inplace=True)"
   ]
  },
  {
   "cell_type": "markdown",
   "metadata": {
    "ExecuteTime": {
     "start_time": "2022-03-07T08:42:18.609Z"
    }
   },
   "source": [
    "`jyzt`填补为***0***"
   ]
  },
  {
   "cell_type": "code",
   "execution_count": 20,
   "metadata": {
    "ExecuteTime": {
     "end_time": "2022-06-30T02:16:23.461815Z",
     "start_time": "2022-06-30T02:16:23.447852Z"
    }
   },
   "outputs": [],
   "source": [
    "new_file['jyzt'].fillna(value = '0', inplace=True)"
   ]
  },
  {
   "cell_type": "markdown",
   "metadata": {},
   "source": [
    "`clrq`填补为众数"
   ]
  },
  {
   "cell_type": "code",
   "execution_count": 21,
   "metadata": {
    "ExecuteTime": {
     "end_time": "2022-06-30T02:16:23.651335Z",
     "start_time": "2022-06-30T02:16:23.463810Z"
    }
   },
   "outputs": [],
   "source": [
    "new_file['clrq'].fillna(new_file['clrq'].mode()[0], inplace=True)"
   ]
  },
  {
   "cell_type": "code",
   "execution_count": 22,
   "metadata": {
    "ExecuteTime": {
     "end_time": "2022-06-30T02:16:24.300971Z",
     "start_time": "2022-06-30T02:16:23.653302Z"
    }
   },
   "outputs": [
    {
     "name": "stdout",
     "output_type": "stream",
     "text": [
      "<class 'pandas.core.frame.DataFrame'>\n",
      "Int64Index: 1827023 entries, 0 to 3018574\n",
      "Data columns (total 10 columns):\n",
      " #   Column  Non-Null Count    Dtype  \n",
      "---  ------  --------------    -----  \n",
      " 0   jjhklb  1827023 non-null  int64  \n",
      " 1   nbxh    1827023 non-null  int64  \n",
      " 2   hydm    1827023 non-null  object \n",
      " 3   djjg    1827023 non-null  int64  \n",
      " 4   zczb    1827023 non-null  float64\n",
      " 5   jyzt    1827023 non-null  float64\n",
      " 6   clrq    1827023 non-null  object \n",
      " 7   qylx    1827023 non-null  int64  \n",
      " 8   tslx    1827023 non-null  int64  \n",
      " 9   new     1827023 non-null  object \n",
      "dtypes: float64(2), int64(5), object(3)\n",
      "memory usage: 153.3+ MB\n"
     ]
    }
   ],
   "source": [
    "new_file.info(null_counts = True)"
   ]
  },
  {
   "cell_type": "markdown",
   "metadata": {},
   "source": [
    "## 类型转换"
   ]
  },
  {
   "cell_type": "markdown",
   "metadata": {},
   "source": [
    "登记机关转换为int后再转为str"
   ]
  },
  {
   "cell_type": "code",
   "execution_count": 23,
   "metadata": {
    "ExecuteTime": {
     "end_time": "2022-06-30T02:16:24.331889Z",
     "start_time": "2022-06-30T02:16:24.303964Z"
    }
   },
   "outputs": [],
   "source": [
    "new_file['djjg'] = new_file['djjg'].astype(np.int64)"
   ]
  },
  {
   "cell_type": "code",
   "execution_count": 24,
   "metadata": {
    "ExecuteTime": {
     "end_time": "2022-06-30T02:16:24.978481Z",
     "start_time": "2022-06-30T02:16:24.333884Z"
    }
   },
   "outputs": [
    {
     "name": "stdout",
     "output_type": "stream",
     "text": [
      "<class 'pandas.core.frame.DataFrame'>\n",
      "Int64Index: 1827023 entries, 0 to 3018574\n",
      "Data columns (total 10 columns):\n",
      " #   Column  Non-Null Count    Dtype  \n",
      "---  ------  --------------    -----  \n",
      " 0   jjhklb  1827023 non-null  int64  \n",
      " 1   nbxh    1827023 non-null  int64  \n",
      " 2   hydm    1827023 non-null  object \n",
      " 3   djjg    1827023 non-null  int64  \n",
      " 4   zczb    1827023 non-null  float64\n",
      " 5   jyzt    1827023 non-null  float64\n",
      " 6   clrq    1827023 non-null  object \n",
      " 7   qylx    1827023 non-null  int64  \n",
      " 8   tslx    1827023 non-null  int64  \n",
      " 9   new     1827023 non-null  object \n",
      "dtypes: float64(2), int64(5), object(3)\n",
      "memory usage: 153.3+ MB\n"
     ]
    }
   ],
   "source": [
    "new_file.info(null_counts = True)"
   ]
  },
  {
   "cell_type": "markdown",
   "metadata": {},
   "source": [
    "## 行业代码只提取第一个"
   ]
  },
  {
   "cell_type": "code",
   "execution_count": 25,
   "metadata": {
    "ExecuteTime": {
     "end_time": "2022-06-30T02:16:25.692714Z",
     "start_time": "2022-06-30T02:16:24.980476Z"
    }
   },
   "outputs": [
    {
     "data": {
      "text/html": [
       "<div>\n",
       "<style scoped>\n",
       "    .dataframe tbody tr th:only-of-type {\n",
       "        vertical-align: middle;\n",
       "    }\n",
       "\n",
       "    .dataframe tbody tr th {\n",
       "        vertical-align: top;\n",
       "    }\n",
       "\n",
       "    .dataframe thead th {\n",
       "        text-align: right;\n",
       "    }\n",
       "</style>\n",
       "<table border=\"1\" class=\"dataframe\">\n",
       "  <thead>\n",
       "    <tr style=\"text-align: right;\">\n",
       "      <th></th>\n",
       "      <th>jjhklb</th>\n",
       "      <th>nbxh</th>\n",
       "      <th>hydm</th>\n",
       "      <th>djjg</th>\n",
       "      <th>zczb</th>\n",
       "      <th>jyzt</th>\n",
       "      <th>clrq</th>\n",
       "      <th>qylx</th>\n",
       "      <th>tslx</th>\n",
       "      <th>new</th>\n",
       "    </tr>\n",
       "  </thead>\n",
       "  <tbody>\n",
       "    <tr>\n",
       "      <th>0</th>\n",
       "      <td>3</td>\n",
       "      <td>160000020664661198</td>\n",
       "      <td>I</td>\n",
       "      <td>421087999</td>\n",
       "      <td>100.0</td>\n",
       "      <td>1.0</td>\n",
       "      <td>2020-09-09</td>\n",
       "      <td>1130</td>\n",
       "      <td>6</td>\n",
       "      <td>2020-09</td>\n",
       "    </tr>\n",
       "    <tr>\n",
       "      <th>1</th>\n",
       "      <td>3</td>\n",
       "      <td>160000020664665571</td>\n",
       "      <td>H</td>\n",
       "      <td>420710999</td>\n",
       "      <td>110.0</td>\n",
       "      <td>1.0</td>\n",
       "      <td>2020-09-09</td>\n",
       "      <td>1151</td>\n",
       "      <td>6</td>\n",
       "      <td>2020-09</td>\n",
       "    </tr>\n",
       "  </tbody>\n",
       "</table>\n",
       "</div>"
      ],
      "text/plain": [
       "   jjhklb                nbxh hydm       djjg   zczb  jyzt        clrq  qylx  \\\n",
       "0       3  160000020664661198    I  421087999  100.0   1.0  2020-09-09  1130   \n",
       "1       3  160000020664665571    H  420710999  110.0   1.0  2020-09-09  1151   \n",
       "\n",
       "   tslx      new  \n",
       "0     6  2020-09  \n",
       "1     6  2020-09  "
      ]
     },
     "execution_count": 25,
     "metadata": {},
     "output_type": "execute_result"
    }
   ],
   "source": [
    "new_file['hydm'] = new_file['hydm'].str[0]\n",
    "new_file[:2]"
   ]
  },
  {
   "cell_type": "code",
   "execution_count": 26,
   "metadata": {
    "ExecuteTime": {
     "end_time": "2022-06-30T02:16:25.724629Z",
     "start_time": "2022-06-30T02:16:25.694709Z"
    }
   },
   "outputs": [],
   "source": [
    "new_file['nbxh'] = new_file['nbxh'].astype(np.int64)"
   ]
  },
  {
   "cell_type": "markdown",
   "metadata": {},
   "source": [
    "## 设置nbxh为索引"
   ]
  },
  {
   "cell_type": "code",
   "execution_count": 27,
   "metadata": {
    "ExecuteTime": {
     "end_time": "2022-06-30T02:16:25.740614Z",
     "start_time": "2022-06-30T02:16:25.726623Z"
    }
   },
   "outputs": [
    {
     "data": {
      "text/html": [
       "<div>\n",
       "<style scoped>\n",
       "    .dataframe tbody tr th:only-of-type {\n",
       "        vertical-align: middle;\n",
       "    }\n",
       "\n",
       "    .dataframe tbody tr th {\n",
       "        vertical-align: top;\n",
       "    }\n",
       "\n",
       "    .dataframe thead th {\n",
       "        text-align: right;\n",
       "    }\n",
       "</style>\n",
       "<table border=\"1\" class=\"dataframe\">\n",
       "  <thead>\n",
       "    <tr style=\"text-align: right;\">\n",
       "      <th></th>\n",
       "      <th>jjhklb</th>\n",
       "      <th>hydm</th>\n",
       "      <th>djjg</th>\n",
       "      <th>zczb</th>\n",
       "      <th>jyzt</th>\n",
       "      <th>clrq</th>\n",
       "      <th>qylx</th>\n",
       "      <th>tslx</th>\n",
       "      <th>new</th>\n",
       "    </tr>\n",
       "    <tr>\n",
       "      <th>nbxh</th>\n",
       "      <th></th>\n",
       "      <th></th>\n",
       "      <th></th>\n",
       "      <th></th>\n",
       "      <th></th>\n",
       "      <th></th>\n",
       "      <th></th>\n",
       "      <th></th>\n",
       "      <th></th>\n",
       "    </tr>\n",
       "  </thead>\n",
       "  <tbody>\n",
       "    <tr>\n",
       "      <th>160000020664661198</th>\n",
       "      <td>3</td>\n",
       "      <td>I</td>\n",
       "      <td>421087999</td>\n",
       "      <td>100.0</td>\n",
       "      <td>1.0</td>\n",
       "      <td>2020-09-09</td>\n",
       "      <td>1130</td>\n",
       "      <td>6</td>\n",
       "      <td>2020-09</td>\n",
       "    </tr>\n",
       "    <tr>\n",
       "      <th>160000020664665571</th>\n",
       "      <td>3</td>\n",
       "      <td>H</td>\n",
       "      <td>420710999</td>\n",
       "      <td>110.0</td>\n",
       "      <td>1.0</td>\n",
       "      <td>2020-09-09</td>\n",
       "      <td>1151</td>\n",
       "      <td>6</td>\n",
       "      <td>2020-09</td>\n",
       "    </tr>\n",
       "  </tbody>\n",
       "</table>\n",
       "</div>"
      ],
      "text/plain": [
       "                    jjhklb hydm       djjg   zczb  jyzt        clrq  qylx  \\\n",
       "nbxh                                                                        \n",
       "160000020664661198       3    I  421087999  100.0   1.0  2020-09-09  1130   \n",
       "160000020664665571       3    H  420710999  110.0   1.0  2020-09-09  1151   \n",
       "\n",
       "                    tslx      new  \n",
       "nbxh                               \n",
       "160000020664661198     6  2020-09  \n",
       "160000020664665571     6  2020-09  "
      ]
     },
     "execution_count": 27,
     "metadata": {},
     "output_type": "execute_result"
    }
   ],
   "source": [
    "new_file.set_index('nbxh', inplace=True)\n",
    "new_file[:2]"
   ]
  },
  {
   "cell_type": "markdown",
   "metadata": {},
   "source": [
    "# 分类"
   ]
  },
  {
   "cell_type": "code",
   "execution_count": 28,
   "metadata": {
    "ExecuteTime": {
     "end_time": "2022-06-30T02:16:26.372195Z",
     "start_time": "2022-06-30T02:16:25.747595Z"
    }
   },
   "outputs": [
    {
     "name": "stdout",
     "output_type": "stream",
     "text": [
      "<class 'pandas.core.frame.DataFrame'>\n",
      "Int64Index: 1827023 entries, 160000020664661198 to 442010000000612152\n",
      "Data columns (total 9 columns):\n",
      " #   Column  Non-Null Count    Dtype  \n",
      "---  ------  --------------    -----  \n",
      " 0   jjhklb  1827023 non-null  int64  \n",
      " 1   hydm    1827023 non-null  object \n",
      " 2   djjg    1827023 non-null  int64  \n",
      " 3   zczb    1827023 non-null  float64\n",
      " 4   jyzt    1827023 non-null  float64\n",
      " 5   clrq    1827023 non-null  object \n",
      " 6   qylx    1827023 non-null  int64  \n",
      " 7   tslx    1827023 non-null  int64  \n",
      " 8   new     1827023 non-null  object \n",
      "dtypes: float64(2), int64(4), object(3)\n",
      "memory usage: 139.4+ MB\n"
     ]
    }
   ],
   "source": [
    "new_file.info(verbose = True, null_counts = True)"
   ]
  },
  {
   "cell_type": "markdown",
   "metadata": {},
   "source": [
    "## 划分企业年限"
   ]
  },
  {
   "cell_type": "markdown",
   "metadata": {},
   "source": [
    "总会有些特殊情况"
   ]
  },
  {
   "cell_type": "code",
   "execution_count": 29,
   "metadata": {
    "ExecuteTime": {
     "end_time": "2022-06-30T02:16:27.023535Z",
     "start_time": "2022-06-30T02:16:26.374191Z"
    }
   },
   "outputs": [],
   "source": [
    "new_file['time'] = 2022 - new_file['clrq'].str[:4].astype(np.int64)"
   ]
  },
  {
   "cell_type": "markdown",
   "metadata": {
    "ExecuteTime": {
     "end_time": "2022-04-14T11:37:10.645185Z",
     "start_time": "2022-04-14T11:37:09.586760Z"
    }
   },
   "source": [
    "```python\n",
    "new_file['time_scale'] = None\n",
    "new_file.loc[new_file['time'] <= 1, 'time_scale'] = '1'\n",
    "new_file.loc[((new_file['time'] > 1) & (new_file['time'] <= 2)), 'time_scale'] = '2'\n",
    "new_file.loc[((new_file['time'] > 2) & (new_file['time'] <= 3)), 'time_scale'] = '3'\n",
    "new_file.loc[((new_file['time'] > 3) & (new_file['time'] <= 4)), 'time_scale'] = '4'\n",
    "new_file.loc[((new_file['time'] > 4) & (new_file['time'] <= 5)), 'time_scale'] = '5'\n",
    "new_file.loc[((new_file['time'] > 5) & (new_file['time'] <= 6)), 'time_scale'] = '6'\n",
    "new_file.loc[((new_file['time'] > 6) & (new_file['time'] <= 7)), 'time_scale'] = '7'\n",
    "new_file.loc[((new_file['time'] > 7) & (new_file['time'] <= 8)), 'time_scale'] = '8'\n",
    "new_file.loc[((new_file['time'] > 8) & (new_file['time'] <= 9)), 'time_scale'] = '9'\n",
    "new_file.loc[((new_file['time'] > 9) & (new_file['time'] <= 10)), 'time_scale'] = '10'\n",
    "new_file.loc[new_file['time'] > 10, 'time_scale'] = '11'\n",
    "```\n",
    "采用新的划分\n",
    "> 1年以内/1-5年/5年以上/10年以上"
   ]
  },
  {
   "cell_type": "code",
   "execution_count": 30,
   "metadata": {
    "ExecuteTime": {
     "end_time": "2022-06-30T02:16:27.118322Z",
     "start_time": "2022-06-30T02:16:27.024532Z"
    }
   },
   "outputs": [],
   "source": [
    "new_file['time_scale'] = None\n",
    "new_file.loc[new_file['time'] <= 1, 'time_scale'] = '1'\n",
    "new_file.loc[((new_file['time'] > 1) & (new_file['time'] <= 5)), 'time_scale'] = '2'\n",
    "new_file.loc[((new_file['time'] > 5) & (new_file['time'] <= 10)), 'time_scale'] = '3'\n",
    "new_file.loc[new_file['time'] > 10, 'time_scale'] = '4'"
   ]
  },
  {
   "cell_type": "code",
   "execution_count": 31,
   "metadata": {
    "ExecuteTime": {
     "end_time": "2022-06-30T02:16:27.484025Z",
     "start_time": "2022-06-30T02:16:27.120317Z"
    }
   },
   "outputs": [],
   "source": [
    "new_file.drop(['clrq', 'time'], axis=1, inplace=True)"
   ]
  },
  {
   "cell_type": "code",
   "execution_count": 32,
   "metadata": {
    "ExecuteTime": {
     "end_time": "2022-06-30T02:16:27.499979Z",
     "start_time": "2022-06-30T02:16:27.486016Z"
    }
   },
   "outputs": [
    {
     "data": {
      "text/html": [
       "<div>\n",
       "<style scoped>\n",
       "    .dataframe tbody tr th:only-of-type {\n",
       "        vertical-align: middle;\n",
       "    }\n",
       "\n",
       "    .dataframe tbody tr th {\n",
       "        vertical-align: top;\n",
       "    }\n",
       "\n",
       "    .dataframe thead th {\n",
       "        text-align: right;\n",
       "    }\n",
       "</style>\n",
       "<table border=\"1\" class=\"dataframe\">\n",
       "  <thead>\n",
       "    <tr style=\"text-align: right;\">\n",
       "      <th></th>\n",
       "      <th>jjhklb</th>\n",
       "      <th>hydm</th>\n",
       "      <th>djjg</th>\n",
       "      <th>zczb</th>\n",
       "      <th>jyzt</th>\n",
       "      <th>qylx</th>\n",
       "      <th>tslx</th>\n",
       "      <th>new</th>\n",
       "      <th>time_scale</th>\n",
       "    </tr>\n",
       "    <tr>\n",
       "      <th>nbxh</th>\n",
       "      <th></th>\n",
       "      <th></th>\n",
       "      <th></th>\n",
       "      <th></th>\n",
       "      <th></th>\n",
       "      <th></th>\n",
       "      <th></th>\n",
       "      <th></th>\n",
       "      <th></th>\n",
       "    </tr>\n",
       "  </thead>\n",
       "  <tbody>\n",
       "    <tr>\n",
       "      <th>160000020664661198</th>\n",
       "      <td>3</td>\n",
       "      <td>I</td>\n",
       "      <td>421087999</td>\n",
       "      <td>100.0</td>\n",
       "      <td>1.0</td>\n",
       "      <td>1130</td>\n",
       "      <td>6</td>\n",
       "      <td>2020-09</td>\n",
       "      <td>2</td>\n",
       "    </tr>\n",
       "    <tr>\n",
       "      <th>160000020664665571</th>\n",
       "      <td>3</td>\n",
       "      <td>H</td>\n",
       "      <td>420710999</td>\n",
       "      <td>110.0</td>\n",
       "      <td>1.0</td>\n",
       "      <td>1151</td>\n",
       "      <td>6</td>\n",
       "      <td>2020-09</td>\n",
       "      <td>2</td>\n",
       "    </tr>\n",
       "  </tbody>\n",
       "</table>\n",
       "</div>"
      ],
      "text/plain": [
       "                    jjhklb hydm       djjg   zczb  jyzt  qylx  tslx      new  \\\n",
       "nbxh                                                                           \n",
       "160000020664661198       3    I  421087999  100.0   1.0  1130     6  2020-09   \n",
       "160000020664665571       3    H  420710999  110.0   1.0  1151     6  2020-09   \n",
       "\n",
       "                   time_scale  \n",
       "nbxh                           \n",
       "160000020664661198          2  \n",
       "160000020664665571          2  "
      ]
     },
     "execution_count": 32,
     "metadata": {},
     "output_type": "execute_result"
    }
   ],
   "source": [
    "new_file[:2]"
   ]
  },
  {
   "cell_type": "markdown",
   "metadata": {},
   "source": [
    "## 地区分类"
   ]
  },
  {
   "cell_type": "code",
   "execution_count": 33,
   "metadata": {
    "ExecuteTime": {
     "end_time": "2022-06-30T02:16:28.165891Z",
     "start_time": "2022-06-30T02:16:27.501974Z"
    }
   },
   "outputs": [
    {
     "name": "stdout",
     "output_type": "stream",
     "text": [
      "<class 'pandas.core.frame.DataFrame'>\n",
      "Int64Index: 1827023 entries, 160000020664661198 to 442010000000612152\n",
      "Data columns (total 10 columns):\n",
      " #   Column      Dtype  \n",
      "---  ------      -----  \n",
      " 0   jjhklb      int64  \n",
      " 1   hydm        object \n",
      " 2   djjg        object \n",
      " 3   zczb        float64\n",
      " 4   jyzt        float64\n",
      " 5   qylx        int64  \n",
      " 6   tslx        int64  \n",
      " 7   new         object \n",
      " 8   time_scale  object \n",
      " 9   city        object \n",
      "dtypes: float64(2), int64(3), object(5)\n",
      "memory usage: 153.3+ MB\n"
     ]
    }
   ],
   "source": [
    "new_file['city'] = None\n",
    "new_file['djjg'] = new_file['djjg'].astype(str)\n",
    "new_file.info()"
   ]
  },
  {
   "cell_type": "code",
   "execution_count": 34,
   "metadata": {
    "ExecuteTime": {
     "end_time": "2022-06-30T02:16:36.989898Z",
     "start_time": "2022-06-30T02:16:28.167887Z"
    }
   },
   "outputs": [],
   "source": [
    "new_file.loc[(new_file['djjg'].str[:4] == '4201'), 'city'] = '武汉市'\n",
    "new_file.loc[(new_file['djjg'].str[:4] == '4202'), 'city'] = '黄石市'\n",
    "new_file.loc[(new_file['djjg'].str[:4] == '4203'), 'city'] = '十堰市'\n",
    "new_file.loc[(new_file['djjg'].str[:4] == '4205'), 'city'] = '宜昌市'\n",
    "new_file.loc[(new_file['djjg'].str[:4] == '4206'), 'city'] = '襄阳市'\n",
    "new_file.loc[(new_file['djjg'].str[:4] == '4207'), 'city'] = '鄂州市'\n",
    "new_file.loc[(new_file['djjg'].str[:4] == '4208'), 'city'] = '荆门市'\n",
    "new_file.loc[(new_file['djjg'].str[:4] == '4209'), 'city'] = '孝感市'\n",
    "new_file.loc[(new_file['djjg'].str[:4] == '4210'), 'city'] = '荆州市'\n",
    "new_file.loc[(new_file['djjg'].str[:4] == '4211'), 'city'] = '黄冈市'\n",
    "\n",
    "new_file.loc[(new_file['djjg'].str[:4] == '4212'), 'city'] = '咸宁市'\n",
    "new_file.loc[(new_file['djjg'].str[:4] == '4223'), 'city'] = '咸宁市'\n",
    "\n",
    "new_file.loc[(new_file['djjg'].str[:4] == '4213'), 'city'] = '随州市'\n",
    "new_file.loc[(new_file['djjg'].str[:4] == '4228'), 'city'] = '恩施州'\n",
    "new_file.loc[(new_file['djjg'].str[:6] == '429004'), 'city'] = '仙桃市'\n",
    "new_file.loc[(new_file['djjg'].str[:6] == '429005'), 'city'] = '潜江市'\n",
    "new_file.loc[(new_file['djjg'].str[:6] == '429006'), 'city'] = '天门市'\n",
    "new_file.loc[(new_file['djjg'].str[:6] == '429021'), 'city'] = '神农架林区'\n",
    "\n",
    "new_file.loc[(new_file['djjg'] == '429900'), 'city'] = '武汉市'"
   ]
  },
  {
   "cell_type": "code",
   "execution_count": 35,
   "metadata": {
    "ExecuteTime": {
     "end_time": "2022-06-30T02:16:37.986908Z",
     "start_time": "2022-06-30T02:16:36.990891Z"
    }
   },
   "outputs": [
    {
     "name": "stdout",
     "output_type": "stream",
     "text": [
      "<class 'pandas.core.frame.DataFrame'>\n",
      "Int64Index: 1827023 entries, 160000020664661198 to 442010000000612152\n",
      "Data columns (total 10 columns):\n",
      " #   Column      Non-Null Count    Dtype  \n",
      "---  ------      --------------    -----  \n",
      " 0   jjhklb      1827023 non-null  int64  \n",
      " 1   hydm        1827023 non-null  object \n",
      " 2   djjg        1827023 non-null  object \n",
      " 3   zczb        1827023 non-null  float64\n",
      " 4   jyzt        1827023 non-null  float64\n",
      " 5   qylx        1827023 non-null  int64  \n",
      " 6   tslx        1827023 non-null  int64  \n",
      " 7   new         1827023 non-null  object \n",
      " 8   time_scale  1827023 non-null  object \n",
      " 9   city        1827023 non-null  object \n",
      "dtypes: float64(2), int64(3), object(5)\n",
      "memory usage: 153.3+ MB\n"
     ]
    }
   ],
   "source": [
    "new_file.info(null_counts = True)"
   ]
  },
  {
   "cell_type": "code",
   "execution_count": 36,
   "metadata": {
    "ExecuteTime": {
     "end_time": "2022-06-30T02:16:38.351606Z",
     "start_time": "2022-06-30T02:16:37.988903Z"
    }
   },
   "outputs": [],
   "source": [
    "new_file.drop(['djjg'], axis=1, inplace=True)"
   ]
  },
  {
   "cell_type": "code",
   "execution_count": 37,
   "metadata": {
    "ExecuteTime": {
     "end_time": "2022-06-30T02:16:39.144077Z",
     "start_time": "2022-06-30T02:16:38.353564Z"
    }
   },
   "outputs": [
    {
     "name": "stdout",
     "output_type": "stream",
     "text": [
      "<class 'pandas.core.frame.DataFrame'>\n",
      "Int64Index: 1827023 entries, 160000020664661198 to 442010000000612152\n",
      "Data columns (total 9 columns):\n",
      " #   Column      Non-Null Count    Dtype  \n",
      "---  ------      --------------    -----  \n",
      " 0   jjhklb      1827023 non-null  int64  \n",
      " 1   hydm        1827023 non-null  object \n",
      " 2   zczb        1827023 non-null  float64\n",
      " 3   jyzt        1827023 non-null  float64\n",
      " 4   qylx        1827023 non-null  int64  \n",
      " 5   tslx        1827023 non-null  int64  \n",
      " 6   new         1827023 non-null  object \n",
      " 7   time_scale  1827023 non-null  object \n",
      " 8   city        1827023 non-null  object \n",
      "dtypes: float64(2), int64(3), object(4)\n",
      "memory usage: 139.4+ MB\n"
     ]
    }
   ],
   "source": [
    "new_file.info(null_counts = True)"
   ]
  },
  {
   "cell_type": "markdown",
   "metadata": {},
   "source": [
    "## 三次产业分类"
   ]
  },
  {
   "cell_type": "code",
   "execution_count": 38,
   "metadata": {
    "ExecuteTime": {
     "end_time": "2022-06-30T02:16:41.077004Z",
     "start_time": "2022-06-30T02:16:39.145073Z"
    }
   },
   "outputs": [],
   "source": [
    "new_file['three'] = None\n",
    "new_file.loc[new_file['hydm'] == 'A', 'three'] = '1'\n",
    "second = ['B', 'C', 'D', 'E']\n",
    "for i in second:\n",
    "    new_file.loc[new_file['hydm'] == i, 'three'] = '2'\n",
    "third = ['F', 'G', 'H', 'I', 'J', 'K', 'L', 'M', 'N', 'O', 'P', 'Q', 'R', 'S', 'T', 'Z']\n",
    "for i in third:\n",
    "    new_file.loc[new_file['hydm'] == i, 'three'] = '3'"
   ]
  },
  {
   "cell_type": "code",
   "execution_count": 39,
   "metadata": {
    "ExecuteTime": {
     "end_time": "2022-06-30T02:16:42.073756Z",
     "start_time": "2022-06-30T02:16:41.077996Z"
    }
   },
   "outputs": [
    {
     "name": "stdout",
     "output_type": "stream",
     "text": [
      "<class 'pandas.core.frame.DataFrame'>\n",
      "Int64Index: 1827023 entries, 160000020664661198 to 442010000000612152\n",
      "Data columns (total 10 columns):\n",
      " #   Column      Non-Null Count    Dtype  \n",
      "---  ------      --------------    -----  \n",
      " 0   jjhklb      1827023 non-null  int64  \n",
      " 1   hydm        1827023 non-null  object \n",
      " 2   zczb        1827023 non-null  float64\n",
      " 3   jyzt        1827023 non-null  float64\n",
      " 4   qylx        1827023 non-null  int64  \n",
      " 5   tslx        1827023 non-null  int64  \n",
      " 6   new         1827023 non-null  object \n",
      " 7   time_scale  1827023 non-null  object \n",
      " 8   city        1827023 non-null  object \n",
      " 9   three       1827023 non-null  object \n",
      "dtypes: float64(2), int64(3), object(5)\n",
      "memory usage: 153.3+ MB\n"
     ]
    }
   ],
   "source": [
    "new_file.info(null_counts = True)"
   ]
  },
  {
   "cell_type": "markdown",
   "metadata": {},
   "source": [
    "## 规模分类"
   ]
  },
  {
   "cell_type": "code",
   "execution_count": 40,
   "metadata": {
    "ExecuteTime": {
     "end_time": "2022-06-30T02:16:42.169532Z",
     "start_time": "2022-06-30T02:16:42.075751Z"
    }
   },
   "outputs": [],
   "source": [
    "new_file['scale'] = None\n",
    "new_file.loc[new_file['zczb'] <= 100, 'scale'] = '1'\n",
    "new_file.loc[((new_file['zczb'] > 100) & (new_file['zczb'] <= 1_000)), 'scale'] = '2'\n",
    "new_file.loc[((new_file['zczb'] > 1_000) & (new_file['zczb'] <= 10_000)), 'scale'] = '3'\n",
    "new_file.loc[((new_file['zczb'] > 10_000) & (new_file['zczb'] <= 20_000)), 'scale'] = '4'\n",
    "new_file.loc[new_file['zczb'] > 20_000, 'scale'] = '5'"
   ]
  },
  {
   "cell_type": "code",
   "execution_count": 41,
   "metadata": {
    "ExecuteTime": {
     "end_time": "2022-06-30T02:16:43.338887Z",
     "start_time": "2022-06-30T02:16:42.170502Z"
    }
   },
   "outputs": [
    {
     "name": "stdout",
     "output_type": "stream",
     "text": [
      "<class 'pandas.core.frame.DataFrame'>\n",
      "Int64Index: 1827023 entries, 160000020664661198 to 442010000000612152\n",
      "Data columns (total 11 columns):\n",
      " #   Column      Non-Null Count    Dtype  \n",
      "---  ------      --------------    -----  \n",
      " 0   jjhklb      1827023 non-null  int64  \n",
      " 1   hydm        1827023 non-null  object \n",
      " 2   zczb        1827023 non-null  float64\n",
      " 3   jyzt        1827023 non-null  float64\n",
      " 4   qylx        1827023 non-null  int64  \n",
      " 5   tslx        1827023 non-null  int64  \n",
      " 6   new         1827023 non-null  object \n",
      " 7   time_scale  1827023 non-null  object \n",
      " 8   city        1827023 non-null  object \n",
      " 9   three       1827023 non-null  object \n",
      " 10  scale       1827023 non-null  object \n",
      "dtypes: float64(2), int64(3), object(6)\n",
      "memory usage: 167.3+ MB\n"
     ]
    }
   ],
   "source": [
    "new_file.info(null_counts = True)"
   ]
  },
  {
   "cell_type": "code",
   "execution_count": 42,
   "metadata": {
    "ExecuteTime": {
     "end_time": "2022-06-30T02:16:43.354845Z",
     "start_time": "2022-06-30T02:16:43.340881Z"
    }
   },
   "outputs": [
    {
     "data": {
      "text/html": [
       "<div>\n",
       "<style scoped>\n",
       "    .dataframe tbody tr th:only-of-type {\n",
       "        vertical-align: middle;\n",
       "    }\n",
       "\n",
       "    .dataframe tbody tr th {\n",
       "        vertical-align: top;\n",
       "    }\n",
       "\n",
       "    .dataframe thead th {\n",
       "        text-align: right;\n",
       "    }\n",
       "</style>\n",
       "<table border=\"1\" class=\"dataframe\">\n",
       "  <thead>\n",
       "    <tr style=\"text-align: right;\">\n",
       "      <th></th>\n",
       "      <th>jjhklb</th>\n",
       "      <th>hydm</th>\n",
       "      <th>zczb</th>\n",
       "      <th>jyzt</th>\n",
       "      <th>qylx</th>\n",
       "      <th>tslx</th>\n",
       "      <th>new</th>\n",
       "      <th>time_scale</th>\n",
       "      <th>city</th>\n",
       "      <th>three</th>\n",
       "      <th>scale</th>\n",
       "    </tr>\n",
       "    <tr>\n",
       "      <th>nbxh</th>\n",
       "      <th></th>\n",
       "      <th></th>\n",
       "      <th></th>\n",
       "      <th></th>\n",
       "      <th></th>\n",
       "      <th></th>\n",
       "      <th></th>\n",
       "      <th></th>\n",
       "      <th></th>\n",
       "      <th></th>\n",
       "      <th></th>\n",
       "    </tr>\n",
       "  </thead>\n",
       "  <tbody>\n",
       "    <tr>\n",
       "      <th>160000020664661198</th>\n",
       "      <td>3</td>\n",
       "      <td>I</td>\n",
       "      <td>100.0</td>\n",
       "      <td>1.0</td>\n",
       "      <td>1130</td>\n",
       "      <td>6</td>\n",
       "      <td>2020-09</td>\n",
       "      <td>2</td>\n",
       "      <td>荆州市</td>\n",
       "      <td>3</td>\n",
       "      <td>1</td>\n",
       "    </tr>\n",
       "    <tr>\n",
       "      <th>160000020664665571</th>\n",
       "      <td>3</td>\n",
       "      <td>H</td>\n",
       "      <td>110.0</td>\n",
       "      <td>1.0</td>\n",
       "      <td>1151</td>\n",
       "      <td>6</td>\n",
       "      <td>2020-09</td>\n",
       "      <td>2</td>\n",
       "      <td>鄂州市</td>\n",
       "      <td>3</td>\n",
       "      <td>2</td>\n",
       "    </tr>\n",
       "  </tbody>\n",
       "</table>\n",
       "</div>"
      ],
      "text/plain": [
       "                    jjhklb hydm   zczb  jyzt  qylx  tslx      new time_scale  \\\n",
       "nbxh                                                                           \n",
       "160000020664661198       3    I  100.0   1.0  1130     6  2020-09          2   \n",
       "160000020664665571       3    H  110.0   1.0  1151     6  2020-09          2   \n",
       "\n",
       "                   city three scale  \n",
       "nbxh                                 \n",
       "160000020664661198  荆州市     3     1  \n",
       "160000020664665571  鄂州市     3     2  "
      ]
     },
     "execution_count": 42,
     "metadata": {},
     "output_type": "execute_result"
    }
   ],
   "source": [
    "new_file[:2]"
   ]
  },
  {
   "cell_type": "code",
   "execution_count": 43,
   "metadata": {
    "ExecuteTime": {
     "end_time": "2022-06-30T02:16:44.542639Z",
     "start_time": "2022-06-30T02:16:43.355843Z"
    }
   },
   "outputs": [
    {
     "name": "stdout",
     "output_type": "stream",
     "text": [
      "<class 'pandas.core.frame.DataFrame'>\n",
      "Int64Index: 1827023 entries, 160000020664661198 to 442010000000612152\n",
      "Data columns (total 11 columns):\n",
      " #   Column      Non-Null Count    Dtype  \n",
      "---  ------      --------------    -----  \n",
      " 0   jjhklb      1827023 non-null  int64  \n",
      " 1   hydm        1827023 non-null  object \n",
      " 2   zczb        1827023 non-null  float64\n",
      " 3   jyzt        1827023 non-null  float64\n",
      " 4   qylx        1827023 non-null  int64  \n",
      " 5   tslx        1827023 non-null  int64  \n",
      " 6   new         1827023 non-null  object \n",
      " 7   time_scale  1827023 non-null  object \n",
      " 8   city        1827023 non-null  object \n",
      " 9   three       1827023 non-null  object \n",
      " 10  scale       1827023 non-null  object \n",
      "dtypes: float64(2), int64(3), object(6)\n",
      "memory usage: 167.3+ MB\n",
      "None\n"
     ]
    },
    {
     "data": {
      "text/html": [
       "<div>\n",
       "<style scoped>\n",
       "    .dataframe tbody tr th:only-of-type {\n",
       "        vertical-align: middle;\n",
       "    }\n",
       "\n",
       "    .dataframe tbody tr th {\n",
       "        vertical-align: top;\n",
       "    }\n",
       "\n",
       "    .dataframe thead th {\n",
       "        text-align: right;\n",
       "    }\n",
       "</style>\n",
       "<table border=\"1\" class=\"dataframe\">\n",
       "  <thead>\n",
       "    <tr style=\"text-align: right;\">\n",
       "      <th></th>\n",
       "      <th>jjhklb</th>\n",
       "      <th>hydm</th>\n",
       "      <th>zczb</th>\n",
       "      <th>jyzt</th>\n",
       "      <th>qylx</th>\n",
       "      <th>tslx</th>\n",
       "      <th>new</th>\n",
       "      <th>time_scale</th>\n",
       "      <th>city</th>\n",
       "      <th>three</th>\n",
       "      <th>scale</th>\n",
       "    </tr>\n",
       "    <tr>\n",
       "      <th>nbxh</th>\n",
       "      <th></th>\n",
       "      <th></th>\n",
       "      <th></th>\n",
       "      <th></th>\n",
       "      <th></th>\n",
       "      <th></th>\n",
       "      <th></th>\n",
       "      <th></th>\n",
       "      <th></th>\n",
       "      <th></th>\n",
       "      <th></th>\n",
       "    </tr>\n",
       "  </thead>\n",
       "  <tbody>\n",
       "    <tr>\n",
       "      <th>160000020664661198</th>\n",
       "      <td>3</td>\n",
       "      <td>I</td>\n",
       "      <td>100.0</td>\n",
       "      <td>1.0</td>\n",
       "      <td>1130</td>\n",
       "      <td>6</td>\n",
       "      <td>2020-09</td>\n",
       "      <td>2</td>\n",
       "      <td>荆州市</td>\n",
       "      <td>3</td>\n",
       "      <td>1</td>\n",
       "    </tr>\n",
       "    <tr>\n",
       "      <th>160000020664665571</th>\n",
       "      <td>3</td>\n",
       "      <td>H</td>\n",
       "      <td>110.0</td>\n",
       "      <td>1.0</td>\n",
       "      <td>1151</td>\n",
       "      <td>6</td>\n",
       "      <td>2020-09</td>\n",
       "      <td>2</td>\n",
       "      <td>鄂州市</td>\n",
       "      <td>3</td>\n",
       "      <td>2</td>\n",
       "    </tr>\n",
       "  </tbody>\n",
       "</table>\n",
       "</div>"
      ],
      "text/plain": [
       "                    jjhklb hydm   zczb  jyzt  qylx  tslx      new time_scale  \\\n",
       "nbxh                                                                           \n",
       "160000020664661198       3    I  100.0   1.0  1130     6  2020-09          2   \n",
       "160000020664665571       3    H  110.0   1.0  1151     6  2020-09          2   \n",
       "\n",
       "                   city three scale  \n",
       "nbxh                                 \n",
       "160000020664661198  荆州市     3     1  \n",
       "160000020664665571  鄂州市     3     2  "
      ]
     },
     "execution_count": 43,
     "metadata": {},
     "output_type": "execute_result"
    }
   ],
   "source": [
    "# new_file.drop(['zczb'], axis=1, inplace=True)\n",
    "print(new_file.info(null_counts = True))\n",
    "new_file[:2]"
   ]
  },
  {
   "cell_type": "markdown",
   "metadata": {},
   "source": [
    "## 是否为外商投资"
   ]
  },
  {
   "cell_type": "code",
   "execution_count": 44,
   "metadata": {
    "ExecuteTime": {
     "end_time": "2022-06-30T02:16:46.173962Z",
     "start_time": "2022-06-30T02:16:44.543636Z"
    }
   },
   "outputs": [
    {
     "name": "stdout",
     "output_type": "stream",
     "text": [
      "0    1822960\n",
      "1       4063\n",
      "Name: foreign, dtype: int64\n",
      "<class 'pandas.core.frame.DataFrame'>\n",
      "Int64Index: 1827023 entries, 160000020664661198 to 442010000000612152\n",
      "Data columns (total 12 columns):\n",
      " #   Column      Non-Null Count    Dtype  \n",
      "---  ------      --------------    -----  \n",
      " 0   jjhklb      1827023 non-null  int64  \n",
      " 1   hydm        1827023 non-null  object \n",
      " 2   zczb        1827023 non-null  float64\n",
      " 3   jyzt        1827023 non-null  float64\n",
      " 4   qylx        1827023 non-null  int64  \n",
      " 5   tslx        1827023 non-null  int64  \n",
      " 6   new         1827023 non-null  object \n",
      " 7   time_scale  1827023 non-null  object \n",
      " 8   city        1827023 non-null  object \n",
      " 9   three       1827023 non-null  object \n",
      " 10  scale       1827023 non-null  object \n",
      " 11  foreign     1827023 non-null  int64  \n",
      "dtypes: float64(2), int64(4), object(6)\n",
      "memory usage: 181.2+ MB\n",
      "None\n"
     ]
    },
    {
     "data": {
      "text/html": [
       "<div>\n",
       "<style scoped>\n",
       "    .dataframe tbody tr th:only-of-type {\n",
       "        vertical-align: middle;\n",
       "    }\n",
       "\n",
       "    .dataframe tbody tr th {\n",
       "        vertical-align: top;\n",
       "    }\n",
       "\n",
       "    .dataframe thead th {\n",
       "        text-align: right;\n",
       "    }\n",
       "</style>\n",
       "<table border=\"1\" class=\"dataframe\">\n",
       "  <thead>\n",
       "    <tr style=\"text-align: right;\">\n",
       "      <th></th>\n",
       "      <th>jjhklb</th>\n",
       "      <th>hydm</th>\n",
       "      <th>zczb</th>\n",
       "      <th>jyzt</th>\n",
       "      <th>qylx</th>\n",
       "      <th>tslx</th>\n",
       "      <th>new</th>\n",
       "      <th>time_scale</th>\n",
       "      <th>city</th>\n",
       "      <th>three</th>\n",
       "      <th>scale</th>\n",
       "      <th>foreign</th>\n",
       "    </tr>\n",
       "    <tr>\n",
       "      <th>nbxh</th>\n",
       "      <th></th>\n",
       "      <th></th>\n",
       "      <th></th>\n",
       "      <th></th>\n",
       "      <th></th>\n",
       "      <th></th>\n",
       "      <th></th>\n",
       "      <th></th>\n",
       "      <th></th>\n",
       "      <th></th>\n",
       "      <th></th>\n",
       "      <th></th>\n",
       "    </tr>\n",
       "  </thead>\n",
       "  <tbody>\n",
       "    <tr>\n",
       "      <th>160000020664661198</th>\n",
       "      <td>3</td>\n",
       "      <td>I</td>\n",
       "      <td>100.0</td>\n",
       "      <td>1.0</td>\n",
       "      <td>1130</td>\n",
       "      <td>6</td>\n",
       "      <td>2020-09</td>\n",
       "      <td>2</td>\n",
       "      <td>荆州市</td>\n",
       "      <td>3</td>\n",
       "      <td>1</td>\n",
       "      <td>0</td>\n",
       "    </tr>\n",
       "    <tr>\n",
       "      <th>160000020664665571</th>\n",
       "      <td>3</td>\n",
       "      <td>H</td>\n",
       "      <td>110.0</td>\n",
       "      <td>1.0</td>\n",
       "      <td>1151</td>\n",
       "      <td>6</td>\n",
       "      <td>2020-09</td>\n",
       "      <td>2</td>\n",
       "      <td>鄂州市</td>\n",
       "      <td>3</td>\n",
       "      <td>2</td>\n",
       "      <td>0</td>\n",
       "    </tr>\n",
       "  </tbody>\n",
       "</table>\n",
       "</div>"
      ],
      "text/plain": [
       "                    jjhklb hydm   zczb  jyzt  qylx  tslx      new time_scale  \\\n",
       "nbxh                                                                           \n",
       "160000020664661198       3    I  100.0   1.0  1130     6  2020-09          2   \n",
       "160000020664665571       3    H  110.0   1.0  1151     6  2020-09          2   \n",
       "\n",
       "                   city three scale  foreign  \n",
       "nbxh                                          \n",
       "160000020664661198  荆州市     3     1        0  \n",
       "160000020664665571  鄂州市     3     2        0  "
      ]
     },
     "execution_count": 44,
     "metadata": {},
     "output_type": "execute_result"
    }
   ],
   "source": [
    "foreign_investment = [1122, 1123, 1211, 2123, 2211, 5000, 5320, 1121, 5310, 1120, \n",
    "                      2221, 5180, 5260, 5820, 5840, 1221, 2120, 5400, 5800, 2121, \n",
    "                      2122, 5250]\n",
    "new_file['foreign'] = None\n",
    "for i in foreign_investment:\n",
    "    new_file.loc[new_file['qylx'] == i, 'foreign'] = 1\n",
    "new_file['foreign'].fillna(value=0, inplace=True)\n",
    "print(new_file['foreign'].value_counts())\n",
    "print(new_file.info(null_counts = True))\n",
    "new_file[:2]"
   ]
  },
  {
   "cell_type": "markdown",
   "metadata": {},
   "source": [
    "# 添加特征"
   ]
  },
  {
   "cell_type": "markdown",
   "metadata": {},
   "source": [
    "## 添加特征X1_2、X3、X4"
   ]
  },
  {
   "cell_type": "markdown",
   "metadata": {},
   "source": [
    "这三个特征赋值为1"
   ]
  },
  {
   "cell_type": "code",
   "execution_count": 45,
   "metadata": {
    "ExecuteTime": {
     "end_time": "2022-06-30T02:16:46.189920Z",
     "start_time": "2022-06-30T02:16:46.174959Z"
    }
   },
   "outputs": [],
   "source": [
    "new_file['X1_2'] = 1\n",
    "new_file['X3'] = 1\n",
    "new_file['X4'] = 1"
   ]
  },
  {
   "cell_type": "code",
   "execution_count": 46,
   "metadata": {
    "ExecuteTime": {
     "end_time": "2022-06-30T02:16:47.378123Z",
     "start_time": "2022-06-30T02:16:46.191913Z"
    }
   },
   "outputs": [
    {
     "name": "stdout",
     "output_type": "stream",
     "text": [
      "<class 'pandas.core.frame.DataFrame'>\n",
      "Int64Index: 1827023 entries, 160000020664661198 to 442010000000612152\n",
      "Data columns (total 15 columns):\n",
      " #   Column      Non-Null Count    Dtype  \n",
      "---  ------      --------------    -----  \n",
      " 0   jjhklb      1827023 non-null  int64  \n",
      " 1   hydm        1827023 non-null  object \n",
      " 2   zczb        1827023 non-null  float64\n",
      " 3   jyzt        1827023 non-null  float64\n",
      " 4   qylx        1827023 non-null  int64  \n",
      " 5   tslx        1827023 non-null  int64  \n",
      " 6   new         1827023 non-null  object \n",
      " 7   time_scale  1827023 non-null  object \n",
      " 8   city        1827023 non-null  object \n",
      " 9   three       1827023 non-null  object \n",
      " 10  scale       1827023 non-null  object \n",
      " 11  foreign     1827023 non-null  int64  \n",
      " 12  X1_2        1827023 non-null  int64  \n",
      " 13  X3          1827023 non-null  int64  \n",
      " 14  X4          1827023 non-null  int64  \n",
      "dtypes: float64(2), int64(7), object(6)\n",
      "memory usage: 223.0+ MB\n"
     ]
    }
   ],
   "source": [
    "new_file.info(null_counts = True)"
   ]
  },
  {
   "cell_type": "markdown",
   "metadata": {},
   "source": [
    "## 将固定企业类型的公积金赋值为0"
   ]
  },
  {
   "cell_type": "markdown",
   "metadata": {},
   "source": [
    "让企业类型为1151 4540 2151的公积金那里给0"
   ]
  },
  {
   "cell_type": "code",
   "execution_count": 47,
   "metadata": {
    "ExecuteTime": {
     "end_time": "2022-06-30T02:16:47.409040Z",
     "start_time": "2022-06-30T02:16:47.380117Z"
    }
   },
   "outputs": [
    {
     "data": {
      "text/plain": [
       "1    1827023\n",
       "Name: X4, dtype: int64"
      ]
     },
     "execution_count": 47,
     "metadata": {},
     "output_type": "execute_result"
    }
   ],
   "source": [
    "new_file['X4'].value_counts()"
   ]
  },
  {
   "cell_type": "code",
   "execution_count": 48,
   "metadata": {
    "ExecuteTime": {
     "end_time": "2022-06-30T02:16:48.090874Z",
     "start_time": "2022-06-30T02:16:47.411036Z"
    }
   },
   "outputs": [
    {
     "name": "stderr",
     "output_type": "stream",
     "text": [
      "100%|████████████████████████████████████████████████████████████████████████████████████| 3/3 [00:00<00:00,  4.63it/s]\n"
     ]
    },
    {
     "data": {
      "text/plain": [
       "1    1089698\n",
       "0     737325\n",
       "Name: X4, dtype: int64"
      ]
     },
     "execution_count": 48,
     "metadata": {},
     "output_type": "execute_result"
    }
   ],
   "source": [
    "for i in tqdm([1151, 4540, 2125]):\n",
    "    new_file.loc[new_file[(new_file['qylx'] == i)].index, 'X4'] = 0\n",
    "new_file['X4'].value_counts()"
   ]
  },
  {
   "cell_type": "code",
   "execution_count": 49,
   "metadata": {
    "ExecuteTime": {
     "end_time": "2022-06-30T02:16:48.138743Z",
     "start_time": "2022-06-30T02:16:48.092865Z"
    }
   },
   "outputs": [
    {
     "data": {
      "text/plain": [
       "0.5964336519025759"
      ]
     },
     "execution_count": 49,
     "metadata": {},
     "output_type": "execute_result"
    }
   ],
   "source": [
    "new_file['X4'].value_counts()[1] / (new_file['X4'].value_counts()[1] + new_file['X4'].value_counts()[0])"
   ]
  },
  {
   "cell_type": "code",
   "execution_count": 50,
   "metadata": {
    "ExecuteTime": {
     "end_time": "2022-06-30T02:16:48.154700Z",
     "start_time": "2022-06-30T02:16:48.140738Z"
    }
   },
   "outputs": [
    {
     "data": {
      "text/html": [
       "<div>\n",
       "<style scoped>\n",
       "    .dataframe tbody tr th:only-of-type {\n",
       "        vertical-align: middle;\n",
       "    }\n",
       "\n",
       "    .dataframe tbody tr th {\n",
       "        vertical-align: top;\n",
       "    }\n",
       "\n",
       "    .dataframe thead th {\n",
       "        text-align: right;\n",
       "    }\n",
       "</style>\n",
       "<table border=\"1\" class=\"dataframe\">\n",
       "  <thead>\n",
       "    <tr style=\"text-align: right;\">\n",
       "      <th></th>\n",
       "      <th>jjhklb</th>\n",
       "      <th>hydm</th>\n",
       "      <th>zczb</th>\n",
       "      <th>jyzt</th>\n",
       "      <th>qylx</th>\n",
       "      <th>tslx</th>\n",
       "      <th>new</th>\n",
       "      <th>time_scale</th>\n",
       "      <th>city</th>\n",
       "      <th>three</th>\n",
       "      <th>scale</th>\n",
       "      <th>foreign</th>\n",
       "      <th>X1_2</th>\n",
       "      <th>X3</th>\n",
       "      <th>X4</th>\n",
       "    </tr>\n",
       "    <tr>\n",
       "      <th>nbxh</th>\n",
       "      <th></th>\n",
       "      <th></th>\n",
       "      <th></th>\n",
       "      <th></th>\n",
       "      <th></th>\n",
       "      <th></th>\n",
       "      <th></th>\n",
       "      <th></th>\n",
       "      <th></th>\n",
       "      <th></th>\n",
       "      <th></th>\n",
       "      <th></th>\n",
       "      <th></th>\n",
       "      <th></th>\n",
       "      <th></th>\n",
       "    </tr>\n",
       "  </thead>\n",
       "  <tbody>\n",
       "    <tr>\n",
       "      <th>160000020664661198</th>\n",
       "      <td>3</td>\n",
       "      <td>I</td>\n",
       "      <td>100.0</td>\n",
       "      <td>1.0</td>\n",
       "      <td>1130</td>\n",
       "      <td>6</td>\n",
       "      <td>2020-09</td>\n",
       "      <td>2</td>\n",
       "      <td>荆州市</td>\n",
       "      <td>3</td>\n",
       "      <td>1</td>\n",
       "      <td>0</td>\n",
       "      <td>1</td>\n",
       "      <td>1</td>\n",
       "      <td>1</td>\n",
       "    </tr>\n",
       "    <tr>\n",
       "      <th>160000020664665571</th>\n",
       "      <td>3</td>\n",
       "      <td>H</td>\n",
       "      <td>110.0</td>\n",
       "      <td>1.0</td>\n",
       "      <td>1151</td>\n",
       "      <td>6</td>\n",
       "      <td>2020-09</td>\n",
       "      <td>2</td>\n",
       "      <td>鄂州市</td>\n",
       "      <td>3</td>\n",
       "      <td>2</td>\n",
       "      <td>0</td>\n",
       "      <td>1</td>\n",
       "      <td>1</td>\n",
       "      <td>0</td>\n",
       "    </tr>\n",
       "  </tbody>\n",
       "</table>\n",
       "</div>"
      ],
      "text/plain": [
       "                    jjhklb hydm   zczb  jyzt  qylx  tslx      new time_scale  \\\n",
       "nbxh                                                                           \n",
       "160000020664661198       3    I  100.0   1.0  1130     6  2020-09          2   \n",
       "160000020664665571       3    H  110.0   1.0  1151     6  2020-09          2   \n",
       "\n",
       "                   city three scale  foreign  X1_2  X3  X4  \n",
       "nbxh                                                        \n",
       "160000020664661198  荆州市     3     1        0     1   1   1  \n",
       "160000020664665571  鄂州市     3     2        0     1   1   0  "
      ]
     },
     "execution_count": 50,
     "metadata": {},
     "output_type": "execute_result"
    }
   ],
   "source": [
    "new_file[:2]"
   ]
  },
  {
   "cell_type": "markdown",
   "metadata": {},
   "source": [
    "## 添加特征X5、X6、X12、X13、X15（来自企业变更表）"
   ]
  },
  {
   "cell_type": "markdown",
   "metadata": {},
   "source": [
    "- X5：企业变更备案次数\n",
    "- X6：企业变更备案类别数 \n",
    "- X12：投资资本类变更类型数 \n",
    "- X13：投资资本类变更次数\n",
    "- X15：分支机构注吊销数量 "
   ]
  },
  {
   "cell_type": "markdown",
   "metadata": {},
   "source": [
    "### 读取企业变更表"
   ]
  },
  {
   "cell_type": "code",
   "execution_count": 51,
   "metadata": {
    "ExecuteTime": {
     "end_time": "2022-06-30T02:16:48.423675Z",
     "start_time": "2022-06-30T02:16:48.156695Z"
    }
   },
   "outputs": [
    {
     "name": "stdout",
     "output_type": "stream",
     "text": [
      "<class 'pandas.core.frame.DataFrame'>\n",
      "RangeIndex: 473416 entries, 0 to 473415\n",
      "Data columns (total 3 columns):\n",
      " #   Column      Non-Null Count   Dtype \n",
      "---  ------      --------------   ----- \n",
      " 0   nbxh(C|50)  473416 non-null  int64 \n",
      " 1   bgsx(C|10)  473416 non-null  int64 \n",
      " 2   cqrq(D)     473416 non-null  object\n",
      "dtypes: int64(2), object(1)\n",
      "memory usage: 10.8+ MB\n",
      "None\n"
     ]
    },
    {
     "data": {
      "text/html": [
       "<div>\n",
       "<style scoped>\n",
       "    .dataframe tbody tr th:only-of-type {\n",
       "        vertical-align: middle;\n",
       "    }\n",
       "\n",
       "    .dataframe tbody tr th {\n",
       "        vertical-align: top;\n",
       "    }\n",
       "\n",
       "    .dataframe thead th {\n",
       "        text-align: right;\n",
       "    }\n",
       "</style>\n",
       "<table border=\"1\" class=\"dataframe\">\n",
       "  <thead>\n",
       "    <tr style=\"text-align: right;\">\n",
       "      <th></th>\n",
       "      <th>nbxh(C|50)</th>\n",
       "      <th>bgsx(C|10)</th>\n",
       "      <th>cqrq(D)</th>\n",
       "    </tr>\n",
       "  </thead>\n",
       "  <tbody>\n",
       "    <tr>\n",
       "      <th>0</th>\n",
       "      <td>160000021416568559</td>\n",
       "      <td>930</td>\n",
       "      <td>2022-04-11</td>\n",
       "    </tr>\n",
       "    <tr>\n",
       "      <th>1</th>\n",
       "      <td>160000020835375502</td>\n",
       "      <td>120</td>\n",
       "      <td>2022-04-22</td>\n",
       "    </tr>\n",
       "  </tbody>\n",
       "</table>\n",
       "</div>"
      ],
      "text/plain": [
       "           nbxh(C|50)  bgsx(C|10)     cqrq(D)\n",
       "0  160000021416568559         930  2022-04-11\n",
       "1  160000020835375502         120  2022-04-22"
      ]
     },
     "execution_count": 51,
     "metadata": {},
     "output_type": "execute_result"
    }
   ],
   "source": [
    "qybg_file = pd.read_csv('./第二季度活跃度涉及表/企业变更.csv')\n",
    "print(qybg_file.info(null_counts = True))\n",
    "qybg_file[:2]"
   ]
  },
  {
   "cell_type": "markdown",
   "metadata": {},
   "source": [
    "### 提取特征X5"
   ]
  },
  {
   "cell_type": "code",
   "execution_count": 52,
   "metadata": {
    "ExecuteTime": {
     "end_time": "2022-06-30T02:16:48.470584Z",
     "start_time": "2022-06-30T02:16:48.425670Z"
    }
   },
   "outputs": [
    {
     "data": {
      "text/plain": [
       "160000020206916831    30\n",
       "420000000008858270    29\n",
       "160000020431956539    25\n",
       "24250000012459150     25\n",
       "142000007015403746    24\n",
       "                      ..\n",
       "2422300000043095       1\n",
       "160000020714839105     1\n",
       "160000021160123145     1\n",
       "142000006962406035     1\n",
       "160000020195452028     1\n",
       "Name: nbxh(C|50), Length: 138927, dtype: int64"
      ]
     },
     "execution_count": 52,
     "metadata": {},
     "output_type": "execute_result"
    }
   ],
   "source": [
    "nums = qybg_file['nbxh(C|50)'].value_counts()\n",
    "nums"
   ]
  },
  {
   "cell_type": "markdown",
   "metadata": {},
   "source": [
    "#### nums为series,将其变为dataframes"
   ]
  },
  {
   "cell_type": "code",
   "execution_count": 53,
   "metadata": {
    "ExecuteTime": {
     "end_time": "2022-06-30T02:16:48.502464Z",
     "start_time": "2022-06-30T02:16:48.472545Z"
    }
   },
   "outputs": [
    {
     "name": "stdout",
     "output_type": "stream",
     "text": [
      "                 nbxh  X5\n",
      "0  160000020206916831  30\n",
      "1  420000000008858270  29\n",
      "                    X5\n",
      "nbxh                  \n",
      "160000020206916831  30\n",
      "420000000008858270  29\n",
      "<class 'pandas.core.frame.DataFrame'>\n",
      "Int64Index: 138927 entries, 160000020206916831 to 160000020195452028\n",
      "Data columns (total 1 columns):\n",
      " #   Column  Non-Null Count   Dtype\n",
      "---  ------  --------------   -----\n",
      " 0   X5      138927 non-null  int64\n",
      "dtypes: int64(1)\n",
      "memory usage: 2.1 MB\n",
      "None\n"
     ]
    }
   ],
   "source": [
    "dict_nums = {'nbxh':nums.index, 'X5':nums.values}\n",
    "df_nums = pd.DataFrame(dict_nums)\n",
    "print(df_nums[:2])\n",
    "df_nums.set_index('nbxh', inplace=True)\n",
    "print(df_nums[:2])\n",
    "print(df_nums.info(null_counts = True))"
   ]
  },
  {
   "cell_type": "markdown",
   "metadata": {},
   "source": [
    "#### join"
   ]
  },
  {
   "cell_type": "code",
   "execution_count": 54,
   "metadata": {
    "ExecuteTime": {
     "end_time": "2022-06-30T02:16:49.845363Z",
     "start_time": "2022-06-30T02:16:48.504459Z"
    }
   },
   "outputs": [
    {
     "name": "stdout",
     "output_type": "stream",
     "text": [
      "<class 'pandas.core.frame.DataFrame'>\n",
      "Int64Index: 1827023 entries, 160000020664661198 to 442010000000612152\n",
      "Data columns (total 16 columns):\n",
      " #   Column      Non-Null Count    Dtype  \n",
      "---  ------      --------------    -----  \n",
      " 0   jjhklb      1827023 non-null  int64  \n",
      " 1   hydm        1827023 non-null  object \n",
      " 2   zczb        1827023 non-null  float64\n",
      " 3   jyzt        1827023 non-null  float64\n",
      " 4   qylx        1827023 non-null  int64  \n",
      " 5   tslx        1827023 non-null  int64  \n",
      " 6   new         1827023 non-null  object \n",
      " 7   time_scale  1827023 non-null  object \n",
      " 8   city        1827023 non-null  object \n",
      " 9   three       1827023 non-null  object \n",
      " 10  scale       1827023 non-null  object \n",
      " 11  foreign     1827023 non-null  int64  \n",
      " 12  X1_2        1827023 non-null  int64  \n",
      " 13  X3          1827023 non-null  int64  \n",
      " 14  X4          1827023 non-null  int64  \n",
      " 15  X5          90175 non-null    float64\n",
      "dtypes: float64(3), int64(7), object(6)\n",
      "memory usage: 301.5+ MB\n"
     ]
    }
   ],
   "source": [
    "new_file = new_file.join(df_nums)\n",
    "new_file.info(null_counts = True)"
   ]
  },
  {
   "cell_type": "code",
   "execution_count": 55,
   "metadata": {
    "ExecuteTime": {
     "end_time": "2022-06-30T02:16:51.037803Z",
     "start_time": "2022-06-30T02:16:49.846869Z"
    }
   },
   "outputs": [
    {
     "name": "stdout",
     "output_type": "stream",
     "text": [
      "<class 'pandas.core.frame.DataFrame'>\n",
      "Int64Index: 1827023 entries, 160000020664661198 to 442010000000612152\n",
      "Data columns (total 16 columns):\n",
      " #   Column      Non-Null Count    Dtype  \n",
      "---  ------      --------------    -----  \n",
      " 0   jjhklb      1827023 non-null  int64  \n",
      " 1   hydm        1827023 non-null  object \n",
      " 2   zczb        1827023 non-null  float64\n",
      " 3   jyzt        1827023 non-null  float64\n",
      " 4   qylx        1827023 non-null  int64  \n",
      " 5   tslx        1827023 non-null  int64  \n",
      " 6   new         1827023 non-null  object \n",
      " 7   time_scale  1827023 non-null  object \n",
      " 8   city        1827023 non-null  object \n",
      " 9   three       1827023 non-null  object \n",
      " 10  scale       1827023 non-null  object \n",
      " 11  foreign     1827023 non-null  int64  \n",
      " 12  X1_2        1827023 non-null  int64  \n",
      " 13  X3          1827023 non-null  int64  \n",
      " 14  X4          1827023 non-null  int64  \n",
      " 15  X5          1827023 non-null  float64\n",
      "dtypes: float64(3), int64(7), object(6)\n",
      "memory usage: 301.5+ MB\n"
     ]
    }
   ],
   "source": [
    "# 缺失值填补\n",
    "new_file['X5'].fillna(value=0, inplace=True)\n",
    "new_file.info(null_counts = True)"
   ]
  },
  {
   "cell_type": "markdown",
   "metadata": {},
   "source": [
    "### 提取特征X6"
   ]
  },
  {
   "cell_type": "code",
   "execution_count": 56,
   "metadata": {
    "ExecuteTime": {
     "end_time": "2022-06-30T02:16:51.117561Z",
     "start_time": "2022-06-30T02:16:51.039770Z"
    }
   },
   "outputs": [
    {
     "data": {
      "text/plain": [
       "nbxh(C|50)\n",
       "2420200000000226      3\n",
       "2420200000000227      1\n",
       "2420200000000416      2\n",
       "2420200000001172      3\n",
       "2420200000001639      3\n",
       "                     ..\n",
       "442010000019652153    2\n",
       "442010000019652202    3\n",
       "442010000019652289    1\n",
       "442010000019652470    2\n",
       "442010000019652505    4\n",
       "Length: 138927, dtype: int64"
      ]
     },
     "execution_count": 56,
     "metadata": {},
     "output_type": "execute_result"
    }
   ],
   "source": [
    "qybg_file.drop(['cqrq(D)'], axis=1, inplace=True)\n",
    "qybg_grouped = qybg_file.groupby('nbxh(C|50)')\n",
    "qybg_grouped.size()"
   ]
  },
  {
   "cell_type": "markdown",
   "metadata": {},
   "source": [
    "#### 统计每个nbxh的每个变更事项出现次数"
   ]
  },
  {
   "cell_type": "code",
   "execution_count": 57,
   "metadata": {
    "ExecuteTime": {
     "end_time": "2022-06-30T02:16:52.161972Z",
     "start_time": "2022-06-30T02:16:51.119556Z"
    }
   },
   "outputs": [
    {
     "name": "stdout",
     "output_type": "stream",
     "text": [
      "455696\n"
     ]
    },
    {
     "data": {
      "text/plain": [
       "[[2420200000000226, 112],\n",
       " [2420200000000226, 113],\n",
       " [2420200000000226, 939],\n",
       " [2420200000000227, 129],\n",
       " [2420200000000416, 113]]"
      ]
     },
     "execution_count": 57,
     "metadata": {},
     "output_type": "execute_result"
    }
   ],
   "source": [
    "cate = qybg_grouped['bgsx(C|10)'].value_counts()\n",
    "list_cate = list(cate.index)\n",
    "print(len(list_cate))\n",
    "res_cate = [list(ele) for ele in list_cate]\n",
    "res_cate[:5]"
   ]
  },
  {
   "cell_type": "code",
   "execution_count": 58,
   "metadata": {
    "ExecuteTime": {
     "end_time": "2022-06-30T02:16:52.337153Z",
     "start_time": "2022-06-30T02:16:52.163966Z"
    }
   },
   "outputs": [
    {
     "name": "stdout",
     "output_type": "stream",
     "text": [
      "[2420200000000226, 2420200000000226, 2420200000000226, 2420200000000227, 2420200000000416]\n"
     ]
    },
    {
     "data": {
      "text/html": [
       "<div>\n",
       "<style scoped>\n",
       "    .dataframe tbody tr th:only-of-type {\n",
       "        vertical-align: middle;\n",
       "    }\n",
       "\n",
       "    .dataframe tbody tr th {\n",
       "        vertical-align: top;\n",
       "    }\n",
       "\n",
       "    .dataframe thead th {\n",
       "        text-align: right;\n",
       "    }\n",
       "</style>\n",
       "<table border=\"1\" class=\"dataframe\">\n",
       "  <thead>\n",
       "    <tr style=\"text-align: right;\">\n",
       "      <th></th>\n",
       "      <th>0</th>\n",
       "    </tr>\n",
       "  </thead>\n",
       "  <tbody>\n",
       "    <tr>\n",
       "      <th>0</th>\n",
       "      <td>2420200000000226</td>\n",
       "    </tr>\n",
       "    <tr>\n",
       "      <th>1</th>\n",
       "      <td>2420200000000226</td>\n",
       "    </tr>\n",
       "    <tr>\n",
       "      <th>2</th>\n",
       "      <td>2420200000000226</td>\n",
       "    </tr>\n",
       "    <tr>\n",
       "      <th>3</th>\n",
       "      <td>2420200000000227</td>\n",
       "    </tr>\n",
       "    <tr>\n",
       "      <th>4</th>\n",
       "      <td>2420200000000416</td>\n",
       "    </tr>\n",
       "  </tbody>\n",
       "</table>\n",
       "</div>"
      ],
      "text/plain": [
       "                  0\n",
       "0  2420200000000226\n",
       "1  2420200000000226\n",
       "2  2420200000000226\n",
       "3  2420200000000227\n",
       "4  2420200000000416"
      ]
     },
     "execution_count": 58,
     "metadata": {},
     "output_type": "execute_result"
    }
   ],
   "source": [
    "indexs = [i[0] for i in res_cate] \n",
    "print(indexs[:5])\n",
    "df_indexs = pd.DataFrame(indexs)\n",
    "df_indexs[:5]"
   ]
  },
  {
   "cell_type": "code",
   "execution_count": 59,
   "metadata": {
    "ExecuteTime": {
     "end_time": "2022-06-30T02:16:52.383030Z",
     "start_time": "2022-06-30T02:16:52.338150Z"
    }
   },
   "outputs": [],
   "source": [
    "nums = df_indexs[0].value_counts()"
   ]
  },
  {
   "cell_type": "markdown",
   "metadata": {},
   "source": [
    "####  nums为series,将其变为dataframes"
   ]
  },
  {
   "cell_type": "code",
   "execution_count": 60,
   "metadata": {
    "ExecuteTime": {
     "end_time": "2022-06-30T02:16:52.414115Z",
     "start_time": "2022-06-30T02:16:52.385025Z"
    }
   },
   "outputs": [
    {
     "name": "stdout",
     "output_type": "stream",
     "text": [
      "                 nbxh  X6\n",
      "0  160000021576073799  22\n",
      "1  160000021576846707  20\n",
      "                    X6\n",
      "nbxh                  \n",
      "160000021576073799  22\n",
      "160000021576846707  20\n",
      "<class 'pandas.core.frame.DataFrame'>\n",
      "Int64Index: 138927 entries, 160000021576073799 to 160000021348725203\n",
      "Data columns (total 1 columns):\n",
      " #   Column  Non-Null Count   Dtype\n",
      "---  ------  --------------   -----\n",
      " 0   X6      138927 non-null  int64\n",
      "dtypes: int64(1)\n",
      "memory usage: 2.1 MB\n"
     ]
    }
   ],
   "source": [
    "dict_nums = {'nbxh':nums.index, 'X6':nums.values}\n",
    "df_nums = pd.DataFrame(dict_nums)\n",
    "print(df_nums[:2])\n",
    "df_nums.set_index('nbxh', inplace=True)\n",
    "print(df_nums[:2])\n",
    "df_nums.info(null_counts = True)"
   ]
  },
  {
   "cell_type": "markdown",
   "metadata": {},
   "source": [
    "#### join"
   ]
  },
  {
   "cell_type": "code",
   "execution_count": 61,
   "metadata": {
    "ExecuteTime": {
     "end_time": "2022-06-30T02:16:53.812036Z",
     "start_time": "2022-06-30T02:16:52.416114Z"
    }
   },
   "outputs": [
    {
     "name": "stdout",
     "output_type": "stream",
     "text": [
      "<class 'pandas.core.frame.DataFrame'>\n",
      "Int64Index: 1827023 entries, 160000020664661198 to 442010000000612152\n",
      "Data columns (total 17 columns):\n",
      " #   Column      Non-Null Count    Dtype  \n",
      "---  ------      --------------    -----  \n",
      " 0   jjhklb      1827023 non-null  int64  \n",
      " 1   hydm        1827023 non-null  object \n",
      " 2   zczb        1827023 non-null  float64\n",
      " 3   jyzt        1827023 non-null  float64\n",
      " 4   qylx        1827023 non-null  int64  \n",
      " 5   tslx        1827023 non-null  int64  \n",
      " 6   new         1827023 non-null  object \n",
      " 7   time_scale  1827023 non-null  object \n",
      " 8   city        1827023 non-null  object \n",
      " 9   three       1827023 non-null  object \n",
      " 10  scale       1827023 non-null  object \n",
      " 11  foreign     1827023 non-null  int64  \n",
      " 12  X1_2        1827023 non-null  int64  \n",
      " 13  X3          1827023 non-null  int64  \n",
      " 14  X4          1827023 non-null  int64  \n",
      " 15  X5          1827023 non-null  float64\n",
      " 16  X6          90175 non-null    float64\n",
      "dtypes: float64(4), int64(7), object(6)\n",
      "memory usage: 315.4+ MB\n"
     ]
    }
   ],
   "source": [
    "new_file = new_file.join(df_nums)\n",
    "new_file.info(null_counts = True)"
   ]
  },
  {
   "cell_type": "code",
   "execution_count": 62,
   "metadata": {
    "ExecuteTime": {
     "end_time": "2022-06-30T02:16:55.016252Z",
     "start_time": "2022-06-30T02:16:53.814030Z"
    }
   },
   "outputs": [
    {
     "name": "stdout",
     "output_type": "stream",
     "text": [
      "<class 'pandas.core.frame.DataFrame'>\n",
      "Int64Index: 1827023 entries, 160000020664661198 to 442010000000612152\n",
      "Data columns (total 17 columns):\n",
      " #   Column      Non-Null Count    Dtype  \n",
      "---  ------      --------------    -----  \n",
      " 0   jjhklb      1827023 non-null  int64  \n",
      " 1   hydm        1827023 non-null  object \n",
      " 2   zczb        1827023 non-null  float64\n",
      " 3   jyzt        1827023 non-null  float64\n",
      " 4   qylx        1827023 non-null  int64  \n",
      " 5   tslx        1827023 non-null  int64  \n",
      " 6   new         1827023 non-null  object \n",
      " 7   time_scale  1827023 non-null  object \n",
      " 8   city        1827023 non-null  object \n",
      " 9   three       1827023 non-null  object \n",
      " 10  scale       1827023 non-null  object \n",
      " 11  foreign     1827023 non-null  int64  \n",
      " 12  X1_2        1827023 non-null  int64  \n",
      " 13  X3          1827023 non-null  int64  \n",
      " 14  X4          1827023 non-null  int64  \n",
      " 15  X5          1827023 non-null  float64\n",
      " 16  X6          1827023 non-null  float64\n",
      "dtypes: float64(4), int64(7), object(6)\n",
      "memory usage: 315.4+ MB\n"
     ]
    }
   ],
   "source": [
    "# 缺失值填补\n",
    "new_file['X6'].fillna(value=0, inplace=True)\n",
    "new_file.info(null_counts = True)"
   ]
  },
  {
   "cell_type": "markdown",
   "metadata": {},
   "source": [
    "### X12、X13（保留变更事项与投资资本相关列）"
   ]
  },
  {
   "cell_type": "markdown",
   "metadata": {},
   "source": [
    "  也就是保存bgsx(C|10) ==120, 170, 700, 134, 118, 155, 117, 127, 136, 154, 914, 131, 923的列"
   ]
  },
  {
   "cell_type": "code",
   "execution_count": 63,
   "metadata": {
    "ExecuteTime": {
     "end_time": "2022-06-30T02:16:55.064146Z",
     "start_time": "2022-06-30T02:16:55.018246Z"
    }
   },
   "outputs": [
    {
     "name": "stdout",
     "output_type": "stream",
     "text": [
      "            nbxh(C|50)  bgsx(C|10)\n",
      "1   160000020835375502         120\n",
      "9   142000005818305375         120\n",
      "18  160000021001631363         120\n",
      "35  420000000009129390         120\n",
      "41  160000005565778818         120\n",
      "<class 'pandas.core.frame.DataFrame'>\n",
      "Int64Index: 45922 entries, 1 to 454962\n",
      "Data columns (total 2 columns):\n",
      " #   Column      Non-Null Count  Dtype\n",
      "---  ------      --------------  -----\n",
      " 0   nbxh(C|50)  45922 non-null  int64\n",
      " 1   bgsx(C|10)  45922 non-null  int64\n",
      "dtypes: int64(2)\n",
      "memory usage: 1.1 MB\n"
     ]
    }
   ],
   "source": [
    "bgsx_M = [120, 170, 700, 134, 118, 155, 117, 127, 136, 154, 914, 131, 923]\n",
    "for i in bgsx_M:\n",
    "    if i == 120:\n",
    "        qybg_file_M = qybg_file[qybg_file['bgsx(C|10)'] == i]\n",
    "    else:\n",
    "        qybg_file_M = pd.concat([qybg_file_M, qybg_file[qybg_file['bgsx(C|10)'] == i]])\n",
    "        \n",
    "print(qybg_file_M[:5])\n",
    "qybg_file_M.info(null_counts = True)"
   ]
  },
  {
   "cell_type": "markdown",
   "metadata": {},
   "source": [
    "### 提取特征X12"
   ]
  },
  {
   "cell_type": "code",
   "execution_count": 64,
   "metadata": {
    "ExecuteTime": {
     "end_time": "2022-06-30T02:16:55.080103Z",
     "start_time": "2022-06-30T02:16:55.066140Z"
    }
   },
   "outputs": [
    {
     "data": {
      "text/plain": [
       "nbxh(C|50)\n",
       "2420200000063069      1\n",
       "2420200000124998      1\n",
       "2420300000001949      1\n",
       "2420300000007467      1\n",
       "2420300000034121      1\n",
       "                     ..\n",
       "442010000019329563    1\n",
       "442010000019329910    2\n",
       "442010000019329968    1\n",
       "442010000019652470    1\n",
       "442010000019652505    1\n",
       "Length: 32190, dtype: int64"
      ]
     },
     "execution_count": 64,
     "metadata": {},
     "output_type": "execute_result"
    }
   ],
   "source": [
    "qybg_grouped = qybg_file_M.groupby('nbxh(C|50)')\n",
    "qybg_grouped.size()"
   ]
  },
  {
   "cell_type": "markdown",
   "metadata": {},
   "source": [
    "#### 统计每个nbxh的每个变更事项出现次数"
   ]
  },
  {
   "cell_type": "code",
   "execution_count": 65,
   "metadata": {
    "ExecuteTime": {
     "end_time": "2022-06-30T02:16:55.159889Z",
     "start_time": "2022-06-30T02:16:55.081102Z"
    }
   },
   "outputs": [
    {
     "name": "stdout",
     "output_type": "stream",
     "text": [
      "43347\n"
     ]
    },
    {
     "data": {
      "text/plain": [
       "[[2420200000063069, 131],\n",
       " [2420200000124998, 131],\n",
       " [2420300000001949, 131],\n",
       " [2420300000007467, 131],\n",
       " [2420300000034121, 117]]"
      ]
     },
     "execution_count": 65,
     "metadata": {},
     "output_type": "execute_result"
    }
   ],
   "source": [
    "cate = qybg_grouped['bgsx(C|10)'].value_counts()\n",
    "# 层次化索引cate.index变列表\n",
    "list_cate = list(cate.index)\n",
    "print(len(list_cate))\n",
    "res_cate = [list(ele) for ele in list_cate]\n",
    "res_cate[:5]"
   ]
  },
  {
   "cell_type": "markdown",
   "metadata": {},
   "source": [
    "现在获取nbxh的重复次数，就是该nbxh变更事项的类别数"
   ]
  },
  {
   "cell_type": "code",
   "execution_count": 66,
   "metadata": {
    "ExecuteTime": {
     "end_time": "2022-06-30T02:16:55.190836Z",
     "start_time": "2022-06-30T02:16:55.161886Z"
    }
   },
   "outputs": [
    {
     "name": "stdout",
     "output_type": "stream",
     "text": [
      "[2420200000063069, 2420200000124998, 2420300000001949, 2420300000007467, 2420300000034121]\n"
     ]
    },
    {
     "data": {
      "text/html": [
       "<div>\n",
       "<style scoped>\n",
       "    .dataframe tbody tr th:only-of-type {\n",
       "        vertical-align: middle;\n",
       "    }\n",
       "\n",
       "    .dataframe tbody tr th {\n",
       "        vertical-align: top;\n",
       "    }\n",
       "\n",
       "    .dataframe thead th {\n",
       "        text-align: right;\n",
       "    }\n",
       "</style>\n",
       "<table border=\"1\" class=\"dataframe\">\n",
       "  <thead>\n",
       "    <tr style=\"text-align: right;\">\n",
       "      <th></th>\n",
       "      <th>0</th>\n",
       "    </tr>\n",
       "  </thead>\n",
       "  <tbody>\n",
       "    <tr>\n",
       "      <th>0</th>\n",
       "      <td>2420200000063069</td>\n",
       "    </tr>\n",
       "    <tr>\n",
       "      <th>1</th>\n",
       "      <td>2420200000124998</td>\n",
       "    </tr>\n",
       "    <tr>\n",
       "      <th>2</th>\n",
       "      <td>2420300000001949</td>\n",
       "    </tr>\n",
       "    <tr>\n",
       "      <th>3</th>\n",
       "      <td>2420300000007467</td>\n",
       "    </tr>\n",
       "    <tr>\n",
       "      <th>4</th>\n",
       "      <td>2420300000034121</td>\n",
       "    </tr>\n",
       "  </tbody>\n",
       "</table>\n",
       "</div>"
      ],
      "text/plain": [
       "                  0\n",
       "0  2420200000063069\n",
       "1  2420200000124998\n",
       "2  2420300000001949\n",
       "3  2420300000007467\n",
       "4  2420300000034121"
      ]
     },
     "execution_count": 66,
     "metadata": {},
     "output_type": "execute_result"
    }
   ],
   "source": [
    "indexs = [i[0] for i in res_cate] \n",
    "print(indexs[:5])\n",
    "df_indexs = pd.DataFrame(indexs)\n",
    "df_indexs[:5]"
   ]
  },
  {
   "cell_type": "code",
   "execution_count": 67,
   "metadata": {
    "ExecuteTime": {
     "end_time": "2022-06-30T02:16:55.206766Z",
     "start_time": "2022-06-30T02:16:55.192802Z"
    }
   },
   "outputs": [
    {
     "data": {
      "text/plain": [
       "24250000012763663     5\n",
       "160000005621699893    5\n",
       "24250000013034958     5\n",
       "24250000012620222     5\n",
       "160000020172953176    4\n",
       "Name: 0, dtype: int64"
      ]
     },
     "execution_count": 67,
     "metadata": {},
     "output_type": "execute_result"
    }
   ],
   "source": [
    "nums = df_indexs[0].value_counts()\n",
    "nums[:5]"
   ]
  },
  {
   "cell_type": "markdown",
   "metadata": {},
   "source": [
    "#### nums为series,将其变为dataframes"
   ]
  },
  {
   "cell_type": "code",
   "execution_count": 68,
   "metadata": {
    "ExecuteTime": {
     "end_time": "2022-06-30T02:16:55.238784Z",
     "start_time": "2022-06-30T02:16:55.208760Z"
    }
   },
   "outputs": [
    {
     "name": "stdout",
     "output_type": "stream",
     "text": [
      "                    X12\n",
      "nbxh                   \n",
      "24250000012763663     5\n",
      "160000005621699893    5\n",
      "<class 'pandas.core.frame.DataFrame'>\n",
      "Int64Index: 32190 entries, 24250000012763663 to 442010000019652505\n",
      "Data columns (total 1 columns):\n",
      " #   Column  Non-Null Count  Dtype\n",
      "---  ------  --------------  -----\n",
      " 0   X12     32190 non-null  int64\n",
      "dtypes: int64(1)\n",
      "memory usage: 503.0 KB\n"
     ]
    }
   ],
   "source": [
    "dict_nums = {'nbxh':nums.index, 'X12':nums.values}\n",
    "df_nums = pd.DataFrame(dict_nums)\n",
    "df_nums.set_index('nbxh', inplace=True)\n",
    "print(df_nums[:2])\n",
    "df_nums.info(null_counts = True)"
   ]
  },
  {
   "cell_type": "markdown",
   "metadata": {},
   "source": [
    "####  join"
   ]
  },
  {
   "cell_type": "code",
   "execution_count": 69,
   "metadata": {
    "ExecuteTime": {
     "end_time": "2022-06-30T02:16:56.645038Z",
     "start_time": "2022-06-30T02:16:55.241286Z"
    }
   },
   "outputs": [
    {
     "name": "stdout",
     "output_type": "stream",
     "text": [
      "<class 'pandas.core.frame.DataFrame'>\n",
      "Int64Index: 1827023 entries, 160000020664661198 to 442010000000612152\n",
      "Data columns (total 18 columns):\n",
      " #   Column      Non-Null Count    Dtype  \n",
      "---  ------      --------------    -----  \n",
      " 0   jjhklb      1827023 non-null  int64  \n",
      " 1   hydm        1827023 non-null  object \n",
      " 2   zczb        1827023 non-null  float64\n",
      " 3   jyzt        1827023 non-null  float64\n",
      " 4   qylx        1827023 non-null  int64  \n",
      " 5   tslx        1827023 non-null  int64  \n",
      " 6   new         1827023 non-null  object \n",
      " 7   time_scale  1827023 non-null  object \n",
      " 8   city        1827023 non-null  object \n",
      " 9   three       1827023 non-null  object \n",
      " 10  scale       1827023 non-null  object \n",
      " 11  foreign     1827023 non-null  int64  \n",
      " 12  X1_2        1827023 non-null  int64  \n",
      " 13  X3          1827023 non-null  int64  \n",
      " 14  X4          1827023 non-null  int64  \n",
      " 15  X5          1827023 non-null  float64\n",
      " 16  X6          1827023 non-null  float64\n",
      " 17  X12         30236 non-null    float64\n",
      "dtypes: float64(5), int64(7), object(6)\n",
      "memory usage: 329.3+ MB\n"
     ]
    }
   ],
   "source": [
    "new_file = new_file.join(df_nums)\n",
    "new_file.info(null_counts = True)"
   ]
  },
  {
   "cell_type": "code",
   "execution_count": 70,
   "metadata": {
    "ExecuteTime": {
     "end_time": "2022-06-30T02:16:57.847867Z",
     "start_time": "2022-06-30T02:16:56.647033Z"
    }
   },
   "outputs": [
    {
     "name": "stdout",
     "output_type": "stream",
     "text": [
      "<class 'pandas.core.frame.DataFrame'>\n",
      "Int64Index: 1827023 entries, 160000020664661198 to 442010000000612152\n",
      "Data columns (total 18 columns):\n",
      " #   Column      Non-Null Count    Dtype  \n",
      "---  ------      --------------    -----  \n",
      " 0   jjhklb      1827023 non-null  int64  \n",
      " 1   hydm        1827023 non-null  object \n",
      " 2   zczb        1827023 non-null  float64\n",
      " 3   jyzt        1827023 non-null  float64\n",
      " 4   qylx        1827023 non-null  int64  \n",
      " 5   tslx        1827023 non-null  int64  \n",
      " 6   new         1827023 non-null  object \n",
      " 7   time_scale  1827023 non-null  object \n",
      " 8   city        1827023 non-null  object \n",
      " 9   three       1827023 non-null  object \n",
      " 10  scale       1827023 non-null  object \n",
      " 11  foreign     1827023 non-null  int64  \n",
      " 12  X1_2        1827023 non-null  int64  \n",
      " 13  X3          1827023 non-null  int64  \n",
      " 14  X4          1827023 non-null  int64  \n",
      " 15  X5          1827023 non-null  float64\n",
      " 16  X6          1827023 non-null  float64\n",
      " 17  X12         1827023 non-null  float64\n",
      "dtypes: float64(5), int64(7), object(6)\n",
      "memory usage: 329.3+ MB\n"
     ]
    }
   ],
   "source": [
    "# 缺失值填补\n",
    "new_file['X12'].fillna(value=0, inplace=True)\n",
    "new_file.info(null_counts = True)"
   ]
  },
  {
   "cell_type": "markdown",
   "metadata": {},
   "source": [
    "### 提取特征X13"
   ]
  },
  {
   "cell_type": "code",
   "execution_count": 71,
   "metadata": {
    "ExecuteTime": {
     "end_time": "2022-06-30T02:16:57.863335Z",
     "start_time": "2022-06-30T02:16:57.850369Z"
    }
   },
   "outputs": [
    {
     "data": {
      "text/plain": [
       "420000000009154211    8\n",
       "420000000008712869    8\n",
       "420000000009170665    8\n",
       "160000005621699893    8\n",
       "160000020198293551    7\n",
       "Name: nbxh(C|50), dtype: int64"
      ]
     },
     "execution_count": 71,
     "metadata": {},
     "output_type": "execute_result"
    }
   ],
   "source": [
    "nums = qybg_file_M['nbxh(C|50)'].value_counts()\n",
    "nums[:5]"
   ]
  },
  {
   "cell_type": "markdown",
   "metadata": {},
   "source": [
    "#### nums为series,将其变为dataframes"
   ]
  },
  {
   "cell_type": "code",
   "execution_count": 72,
   "metadata": {
    "ExecuteTime": {
     "end_time": "2022-06-30T02:16:57.894251Z",
     "start_time": "2022-06-30T02:16:57.865330Z"
    }
   },
   "outputs": [
    {
     "name": "stdout",
     "output_type": "stream",
     "text": [
      "                 nbxh  X13\n",
      "0  420000000009154211    8\n",
      "1  420000000008712869    8\n",
      "                    X13\n",
      "nbxh                   \n",
      "420000000009154211    8\n",
      "420000000008712869    8\n",
      "<class 'pandas.core.frame.DataFrame'>\n",
      "Int64Index: 32190 entries, 420000000009154211 to 420000000009198838\n",
      "Data columns (total 1 columns):\n",
      " #   Column  Non-Null Count  Dtype\n",
      "---  ------  --------------  -----\n",
      " 0   X13     32190 non-null  int64\n",
      "dtypes: int64(1)\n",
      "memory usage: 503.0 KB\n",
      "None\n"
     ]
    }
   ],
   "source": [
    "dict_nums = {'nbxh':nums.index, 'X13':nums.values}\n",
    "df_nums = pd.DataFrame(dict_nums)\n",
    "print(df_nums[:2])\n",
    "df_nums.set_index('nbxh', inplace=True)\n",
    "print(df_nums[:2])\n",
    "print(df_nums.info(null_counts = True))"
   ]
  },
  {
   "cell_type": "markdown",
   "metadata": {},
   "source": [
    "#### join"
   ]
  },
  {
   "cell_type": "code",
   "execution_count": 73,
   "metadata": {
    "ExecuteTime": {
     "end_time": "2022-06-30T02:16:59.305268Z",
     "start_time": "2022-06-30T02:16:57.896246Z"
    }
   },
   "outputs": [
    {
     "name": "stdout",
     "output_type": "stream",
     "text": [
      "<class 'pandas.core.frame.DataFrame'>\n",
      "Int64Index: 1827023 entries, 160000020664661198 to 442010000000612152\n",
      "Data columns (total 19 columns):\n",
      " #   Column      Non-Null Count    Dtype  \n",
      "---  ------      --------------    -----  \n",
      " 0   jjhklb      1827023 non-null  int64  \n",
      " 1   hydm        1827023 non-null  object \n",
      " 2   zczb        1827023 non-null  float64\n",
      " 3   jyzt        1827023 non-null  float64\n",
      " 4   qylx        1827023 non-null  int64  \n",
      " 5   tslx        1827023 non-null  int64  \n",
      " 6   new         1827023 non-null  object \n",
      " 7   time_scale  1827023 non-null  object \n",
      " 8   city        1827023 non-null  object \n",
      " 9   three       1827023 non-null  object \n",
      " 10  scale       1827023 non-null  object \n",
      " 11  foreign     1827023 non-null  int64  \n",
      " 12  X1_2        1827023 non-null  int64  \n",
      " 13  X3          1827023 non-null  int64  \n",
      " 14  X4          1827023 non-null  int64  \n",
      " 15  X5          1827023 non-null  float64\n",
      " 16  X6          1827023 non-null  float64\n",
      " 17  X12         1827023 non-null  float64\n",
      " 18  X13         30236 non-null    float64\n",
      "dtypes: float64(6), int64(7), object(6)\n",
      "memory usage: 343.3+ MB\n"
     ]
    }
   ],
   "source": [
    "new_file = new_file.join(df_nums)\n",
    "new_file.info(null_counts = True)"
   ]
  },
  {
   "cell_type": "code",
   "execution_count": 74,
   "metadata": {
    "ExecuteTime": {
     "end_time": "2022-06-30T02:17:00.511734Z",
     "start_time": "2022-06-30T02:16:59.307258Z"
    }
   },
   "outputs": [
    {
     "name": "stdout",
     "output_type": "stream",
     "text": [
      "<class 'pandas.core.frame.DataFrame'>\n",
      "Int64Index: 1827023 entries, 160000020664661198 to 442010000000612152\n",
      "Data columns (total 19 columns):\n",
      " #   Column      Non-Null Count    Dtype  \n",
      "---  ------      --------------    -----  \n",
      " 0   jjhklb      1827023 non-null  int64  \n",
      " 1   hydm        1827023 non-null  object \n",
      " 2   zczb        1827023 non-null  float64\n",
      " 3   jyzt        1827023 non-null  float64\n",
      " 4   qylx        1827023 non-null  int64  \n",
      " 5   tslx        1827023 non-null  int64  \n",
      " 6   new         1827023 non-null  object \n",
      " 7   time_scale  1827023 non-null  object \n",
      " 8   city        1827023 non-null  object \n",
      " 9   three       1827023 non-null  object \n",
      " 10  scale       1827023 non-null  object \n",
      " 11  foreign     1827023 non-null  int64  \n",
      " 12  X1_2        1827023 non-null  int64  \n",
      " 13  X3          1827023 non-null  int64  \n",
      " 14  X4          1827023 non-null  int64  \n",
      " 15  X5          1827023 non-null  float64\n",
      " 16  X6          1827023 non-null  float64\n",
      " 17  X12         1827023 non-null  float64\n",
      " 18  X13         1827023 non-null  float64\n",
      "dtypes: float64(6), int64(7), object(6)\n",
      "memory usage: 343.3+ MB\n"
     ]
    }
   ],
   "source": [
    "# 缺失值填补\n",
    "new_file['X13'].fillna(value=0, inplace=True)\n",
    "new_file.info(null_counts = True)"
   ]
  },
  {
   "cell_type": "markdown",
   "metadata": {},
   "source": [
    "### 提取特征X15（本月没有）"
   ]
  },
  {
   "cell_type": "markdown",
   "metadata": {},
   "source": [
    "`企业变更表`中`bgsx(C|10)`变更事项`165`为撤销分支机构，可提取`X15`"
   ]
  },
  {
   "cell_type": "code",
   "execution_count": 75,
   "metadata": {
    "ExecuteTime": {
     "end_time": "2022-06-30T02:17:00.527730Z",
     "start_time": "2022-06-30T02:17:00.513757Z"
    }
   },
   "outputs": [
    {
     "data": {
      "text/html": [
       "<div>\n",
       "<style scoped>\n",
       "    .dataframe tbody tr th:only-of-type {\n",
       "        vertical-align: middle;\n",
       "    }\n",
       "\n",
       "    .dataframe tbody tr th {\n",
       "        vertical-align: top;\n",
       "    }\n",
       "\n",
       "    .dataframe thead th {\n",
       "        text-align: right;\n",
       "    }\n",
       "</style>\n",
       "<table border=\"1\" class=\"dataframe\">\n",
       "  <thead>\n",
       "    <tr style=\"text-align: right;\">\n",
       "      <th></th>\n",
       "      <th>nbxh(C|50)</th>\n",
       "      <th>bgsx(C|10)</th>\n",
       "    </tr>\n",
       "  </thead>\n",
       "  <tbody>\n",
       "  </tbody>\n",
       "</table>\n",
       "</div>"
      ],
      "text/plain": [
       "Empty DataFrame\n",
       "Columns: [nbxh(C|50), bgsx(C|10)]\n",
       "Index: []"
      ]
     },
     "execution_count": 75,
     "metadata": {},
     "output_type": "execute_result"
    }
   ],
   "source": [
    "qybg_file[qybg_file['bgsx(C|10)'] == 165]"
   ]
  },
  {
   "cell_type": "markdown",
   "metadata": {},
   "source": [
    "#### 将X15列赋值为0"
   ]
  },
  {
   "cell_type": "code",
   "execution_count": 76,
   "metadata": {
    "ExecuteTime": {
     "end_time": "2022-06-30T02:17:01.719176Z",
     "start_time": "2022-06-30T02:17:00.529689Z"
    }
   },
   "outputs": [
    {
     "name": "stdout",
     "output_type": "stream",
     "text": [
      "<class 'pandas.core.frame.DataFrame'>\n",
      "Int64Index: 1827023 entries, 160000020664661198 to 442010000000612152\n",
      "Data columns (total 20 columns):\n",
      " #   Column      Non-Null Count    Dtype  \n",
      "---  ------      --------------    -----  \n",
      " 0   jjhklb      1827023 non-null  int64  \n",
      " 1   hydm        1827023 non-null  object \n",
      " 2   zczb        1827023 non-null  float64\n",
      " 3   jyzt        1827023 non-null  float64\n",
      " 4   qylx        1827023 non-null  int64  \n",
      " 5   tslx        1827023 non-null  int64  \n",
      " 6   new         1827023 non-null  object \n",
      " 7   time_scale  1827023 non-null  object \n",
      " 8   city        1827023 non-null  object \n",
      " 9   three       1827023 non-null  object \n",
      " 10  scale       1827023 non-null  object \n",
      " 11  foreign     1827023 non-null  int64  \n",
      " 12  X1_2        1827023 non-null  int64  \n",
      " 13  X3          1827023 non-null  int64  \n",
      " 14  X4          1827023 non-null  int64  \n",
      " 15  X5          1827023 non-null  float64\n",
      " 16  X6          1827023 non-null  float64\n",
      " 17  X12         1827023 non-null  float64\n",
      " 18  X13         1827023 non-null  float64\n",
      " 19  X15         1827023 non-null  int64  \n",
      "dtypes: float64(6), int64(8), object(6)\n",
      "memory usage: 357.2+ MB\n"
     ]
    }
   ],
   "source": [
    "new_file['X15'] = 0\n",
    "new_file.info(null_counts = True)"
   ]
  },
  {
   "cell_type": "markdown",
   "metadata": {},
   "source": [
    "## 添加特征X7(分支机构开设数量，来自分支机构表)"
   ]
  },
  {
   "cell_type": "markdown",
   "metadata": {},
   "source": [
    "### 读取文件"
   ]
  },
  {
   "cell_type": "code",
   "execution_count": 77,
   "metadata": {
    "ExecuteTime": {
     "end_time": "2022-06-30T02:17:01.814920Z",
     "start_time": "2022-06-30T02:17:01.720146Z"
    }
   },
   "outputs": [
    {
     "name": "stdout",
     "output_type": "stream",
     "text": [
      "<class 'pandas.core.frame.DataFrame'>\n",
      "RangeIndex: 8038 entries, 0 to 8037\n",
      "Data columns (total 11 columns):\n",
      " #   Column           Non-Null Count  Dtype  \n",
      "---  ------           --------------  -----  \n",
      " 0   nbxh(C|50)       8038 non-null   int64  \n",
      " 1   qymc(C|300)      8038 non-null   object \n",
      " 2   uniscid(C|50)    8038 non-null   object \n",
      " 3   zch(C|50)        8037 non-null   float64\n",
      " 4   fzrxm(C|500)     8038 non-null   object \n",
      " 5   ENTNAME(C|301)   8018 non-null   object \n",
      " 6   LEREP(C|151)     4179 non-null   object \n",
      " 7   REGCAP(N|18|6)   3947 non-null   float64\n",
      " 8   ACCONAM(N|18|6)  0 non-null      float64\n",
      " 9   OPLOC(C|451)     3872 non-null   object \n",
      " 10  OPSCOPE(C|3001)  3918 non-null   object \n",
      "dtypes: float64(3), int64(1), object(7)\n",
      "memory usage: 690.9+ KB\n",
      "None\n"
     ]
    },
    {
     "data": {
      "text/html": [
       "<div>\n",
       "<style scoped>\n",
       "    .dataframe tbody tr th:only-of-type {\n",
       "        vertical-align: middle;\n",
       "    }\n",
       "\n",
       "    .dataframe tbody tr th {\n",
       "        vertical-align: top;\n",
       "    }\n",
       "\n",
       "    .dataframe thead th {\n",
       "        text-align: right;\n",
       "    }\n",
       "</style>\n",
       "<table border=\"1\" class=\"dataframe\">\n",
       "  <thead>\n",
       "    <tr style=\"text-align: right;\">\n",
       "      <th></th>\n",
       "      <th>nbxh(C|50)</th>\n",
       "      <th>qymc(C|300)</th>\n",
       "      <th>uniscid(C|50)</th>\n",
       "      <th>zch(C|50)</th>\n",
       "      <th>fzrxm(C|500)</th>\n",
       "      <th>ENTNAME(C|301)</th>\n",
       "      <th>LEREP(C|151)</th>\n",
       "      <th>REGCAP(N|18|6)</th>\n",
       "      <th>ACCONAM(N|18|6)</th>\n",
       "      <th>OPLOC(C|451)</th>\n",
       "      <th>OPSCOPE(C|3001)</th>\n",
       "    </tr>\n",
       "  </thead>\n",
       "  <tbody>\n",
       "    <tr>\n",
       "      <th>0</th>\n",
       "      <td>160000020462414055</td>\n",
       "      <td>北京润昌保险代理有限公司湖北分公司蕲春营业部</td>\n",
       "      <td>91421126MA49GDNK5T</td>\n",
       "      <td>4.211260e+14</td>\n",
       "      <td>张红梅</td>\n",
       "      <td>北京润昌保险代理有限公司</td>\n",
       "      <td>万金坤</td>\n",
       "      <td>5000.0</td>\n",
       "      <td>NaN</td>\n",
       "      <td>北京市平谷区迎宾街1号院26幢2层</td>\n",
       "      <td>保险代理业务。</td>\n",
       "    </tr>\n",
       "    <tr>\n",
       "      <th>1</th>\n",
       "      <td>160000020462421635</td>\n",
       "      <td>湖北鄂武建设工程有限公司长阳分公司</td>\n",
       "      <td>91420528MA49GDNYXM</td>\n",
       "      <td>4.205280e+14</td>\n",
       "      <td>丁开红</td>\n",
       "      <td>湖北鄂武建设工程有限公司</td>\n",
       "      <td>田志敏</td>\n",
       "      <td>10000.0</td>\n",
       "      <td>NaN</td>\n",
       "      <td>武汉市汉南区纱帽街汉南大道353号</td>\n",
       "      <td>房屋建筑工程、市政工程、机电设备安装工程、地基与基础工程、钢结构工程、土石方工程施工，室内外...</td>\n",
       "    </tr>\n",
       "  </tbody>\n",
       "</table>\n",
       "</div>"
      ],
      "text/plain": [
       "           nbxh(C|50)             qymc(C|300)       uniscid(C|50)  \\\n",
       "0  160000020462414055  北京润昌保险代理有限公司湖北分公司蕲春营业部  91421126MA49GDNK5T   \n",
       "1  160000020462421635       湖北鄂武建设工程有限公司长阳分公司  91420528MA49GDNYXM   \n",
       "\n",
       "      zch(C|50) fzrxm(C|500) ENTNAME(C|301) LEREP(C|151)  REGCAP(N|18|6)  \\\n",
       "0  4.211260e+14          张红梅   北京润昌保险代理有限公司          万金坤          5000.0   \n",
       "1  4.205280e+14          丁开红   湖北鄂武建设工程有限公司          田志敏         10000.0   \n",
       "\n",
       "   ACCONAM(N|18|6)       OPLOC(C|451)  \\\n",
       "0              NaN  北京市平谷区迎宾街1号院26幢2层   \n",
       "1              NaN  武汉市汉南区纱帽街汉南大道353号   \n",
       "\n",
       "                                     OPSCOPE(C|3001)  \n",
       "0                                            保险代理业务。  \n",
       "1  房屋建筑工程、市政工程、机电设备安装工程、地基与基础工程、钢结构工程、土石方工程施工，室内外...  "
      ]
     },
     "execution_count": 77,
     "metadata": {},
     "output_type": "execute_result"
    }
   ],
   "source": [
    "fzjg_file = pd.read_csv('./第二季度活跃度涉及表/分支机构.csv')\n",
    "print(fzjg_file.info(null_counts = True))\n",
    "fzjg_file[:2]"
   ]
  },
  {
   "cell_type": "code",
   "execution_count": 78,
   "metadata": {
    "ExecuteTime": {
     "end_time": "2022-06-30T02:17:01.830850Z",
     "start_time": "2022-06-30T02:17:01.816888Z"
    }
   },
   "outputs": [
    {
     "data": {
      "text/plain": [
       "湖北益丰大药房连锁有限公司        94\n",
       "中国联合网络通信有限公司         77\n",
       "湖北吴都药业连锁有限公司         58\n",
       "襄阳瑞之林药业连锁有限公司        51\n",
       "武汉吉家正念房地产经纪服务有限公司    48\n",
       "Name: ENTNAME(C|301), dtype: int64"
      ]
     },
     "execution_count": 78,
     "metadata": {},
     "output_type": "execute_result"
    }
   ],
   "source": [
    "nums_fzjg = fzjg_file['ENTNAME(C|301)'].value_counts()\n",
    "nums_fzjg[:5]"
   ]
  },
  {
   "cell_type": "markdown",
   "metadata": {},
   "source": [
    "### fzjg_nums为series,将其变为dataframes"
   ]
  },
  {
   "cell_type": "code",
   "execution_count": 79,
   "metadata": {
    "ExecuteTime": {
     "end_time": "2022-06-30T02:17:01.862311Z",
     "start_time": "2022-06-30T02:17:01.832843Z"
    }
   },
   "outputs": [
    {
     "name": "stdout",
     "output_type": "stream",
     "text": [
      "             ENTNAME  X7\n",
      "0      湖北益丰大药房连锁有限公司  94\n",
      "1       中国联合网络通信有限公司  77\n",
      "2       湖北吴都药业连锁有限公司  58\n",
      "3      襄阳瑞之林药业连锁有限公司  51\n",
      "4  武汉吉家正念房地产经纪服务有限公司  48\n",
      "<class 'pandas.core.frame.DataFrame'>\n",
      "RangeIndex: 3471 entries, 0 to 3470\n",
      "Data columns (total 2 columns):\n",
      " #   Column   Non-Null Count  Dtype \n",
      "---  ------   --------------  ----- \n",
      " 0   ENTNAME  3471 non-null   object\n",
      " 1   X7       3471 non-null   int64 \n",
      "dtypes: int64(1), object(1)\n",
      "memory usage: 54.4+ KB\n"
     ]
    }
   ],
   "source": [
    "dict_nums_fzjg = {'ENTNAME':nums_fzjg.index, 'X7':nums_fzjg.values}\n",
    "df_nums_fzjg = pd.DataFrame(dict_nums_fzjg)\n",
    "print(df_nums_fzjg[:5])\n",
    "df_nums_fzjg.info(null_counts = True)"
   ]
  },
  {
   "cell_type": "markdown",
   "metadata": {},
   "source": [
    "### 找到对应的nbxh"
   ]
  },
  {
   "cell_type": "code",
   "execution_count": 80,
   "metadata": {
    "ExecuteTime": {
     "end_time": "2022-06-30T02:17:08.093066Z",
     "start_time": "2022-06-30T02:17:01.864308Z"
    }
   },
   "outputs": [
    {
     "name": "stdout",
     "output_type": "stream",
     "text": [
      "<class 'pandas.core.frame.DataFrame'>\n",
      "RangeIndex: 3471 entries, 0 to 3470\n",
      "Data columns (total 2 columns):\n",
      " #   Column   Non-Null Count  Dtype \n",
      "---  ------   --------------  ----- \n",
      " 0   ENTNAME  3471 non-null   object\n",
      " 1   X7       3471 non-null   int64 \n",
      "dtypes: int64(1), object(1)\n",
      "memory usage: 54.4+ KB\n",
      "None\n",
      "<class 'pandas.core.frame.DataFrame'>\n",
      "Index: 3485 entries, 91330304MA285UDC8A to 龙腾国信工程咨询有限公司\n",
      "Data columns (total 2 columns):\n",
      " #   Column       Non-Null Count  Dtype  \n",
      "---  ------       --------------  -----  \n",
      " 0   X7           3485 non-null   int64  \n",
      " 1   #nbxh(C|50)  2196 non-null   float64\n",
      "dtypes: float64(1), int64(1)\n",
      "memory usage: 81.7+ KB\n",
      "None\n",
      "<class 'pandas.core.frame.DataFrame'>\n",
      "RangeIndex: 3485 entries, 0 to 3484\n",
      "Data columns (total 3 columns):\n",
      " #   Column       Non-Null Count  Dtype  \n",
      "---  ------       --------------  -----  \n",
      " 0   index        3485 non-null   object \n",
      " 1   X7           3485 non-null   int64  \n",
      " 2   #nbxh(C|50)  2196 non-null   float64\n",
      "dtypes: float64(1), int64(1), object(1)\n",
      "memory usage: 81.8+ KB\n",
      "None\n",
      "<class 'pandas.core.frame.DataFrame'>\n",
      "Int64Index: 3471 entries, 0 to 3484\n",
      "Data columns (total 3 columns):\n",
      " #   Column       Non-Null Count  Dtype  \n",
      "---  ------       --------------  -----  \n",
      " 0   index        3471 non-null   object \n",
      " 1   X7           3471 non-null   int64  \n",
      " 2   #nbxh(C|50)  2182 non-null   float64\n",
      "dtypes: float64(1), int64(1), object(1)\n",
      "memory usage: 108.5+ KB\n",
      "None\n"
     ]
    }
   ],
   "source": [
    "print(df_nums_fzjg.info(null_counts = True))\n",
    "\n",
    "df_nums_fzjg.set_index('ENTNAME', inplace=True)# 以企业名称为索引进行join操作\n",
    "temp_name = file[['#nbxh(C|50)', 'qymc(C|300)']]# 提取内部序号和企业名称\n",
    "temp_name.set_index('qymc(C|300)', inplace=True)# 企业名称为索引\n",
    "df_nums_fzjg = df_nums_fzjg.join(temp_name)\n",
    "print(df_nums_fzjg.info(null_counts = True))\n",
    "\n",
    "df_nums_fzjg = df_nums_fzjg.reset_index()# 重设索引，且不替换掉企业名称\n",
    "print(df_nums_fzjg.info(null_counts = True))\n",
    "\n",
    "df_nums_fzjg.drop_duplicates(subset=['index'], keep='first', inplace=True)# 去除重复，join带来的重复，需要思考\n",
    "print(df_nums_fzjg.info(null_counts = True))"
   ]
  },
  {
   "cell_type": "markdown",
   "metadata": {},
   "source": [
    "### 删除空值"
   ]
  },
  {
   "cell_type": "code",
   "execution_count": 81,
   "metadata": {
    "ExecuteTime": {
     "end_time": "2022-06-30T02:17:08.124953Z",
     "start_time": "2022-06-30T02:17:08.095035Z"
    }
   },
   "outputs": [
    {
     "name": "stdout",
     "output_type": "stream",
     "text": [
      "<class 'pandas.core.frame.DataFrame'>\n",
      "Int64Index: 2182 entries, 442010000000549824 to 24250000012915656\n",
      "Data columns (total 1 columns):\n",
      " #   Column  Non-Null Count  Dtype\n",
      "---  ------  --------------  -----\n",
      " 0   X7      2182 non-null   int64\n",
      "dtypes: int64(1)\n",
      "memory usage: 34.1 KB\n",
      "None\n"
     ]
    },
    {
     "data": {
      "text/html": [
       "<div>\n",
       "<style scoped>\n",
       "    .dataframe tbody tr th:only-of-type {\n",
       "        vertical-align: middle;\n",
       "    }\n",
       "\n",
       "    .dataframe tbody tr th {\n",
       "        vertical-align: top;\n",
       "    }\n",
       "\n",
       "    .dataframe thead th {\n",
       "        text-align: right;\n",
       "    }\n",
       "</style>\n",
       "<table border=\"1\" class=\"dataframe\">\n",
       "  <thead>\n",
       "    <tr style=\"text-align: right;\">\n",
       "      <th></th>\n",
       "      <th>X7</th>\n",
       "    </tr>\n",
       "    <tr>\n",
       "      <th>#nbxh(C|50)</th>\n",
       "      <th></th>\n",
       "    </tr>\n",
       "  </thead>\n",
       "  <tbody>\n",
       "    <tr>\n",
       "      <th>442010000000549824</th>\n",
       "      <td>2</td>\n",
       "    </tr>\n",
       "    <tr>\n",
       "      <th>24250000012580616</th>\n",
       "      <td>2</td>\n",
       "    </tr>\n",
       "    <tr>\n",
       "      <th>24250000012681928</th>\n",
       "      <td>1</td>\n",
       "    </tr>\n",
       "    <tr>\n",
       "      <th>142000000081993328</th>\n",
       "      <td>2</td>\n",
       "    </tr>\n",
       "    <tr>\n",
       "      <th>142000007019985168</th>\n",
       "      <td>1</td>\n",
       "    </tr>\n",
       "  </tbody>\n",
       "</table>\n",
       "</div>"
      ],
      "text/plain": [
       "                    X7\n",
       "#nbxh(C|50)           \n",
       "442010000000549824   2\n",
       "24250000012580616    2\n",
       "24250000012681928    1\n",
       "142000000081993328   2\n",
       "142000007019985168   1"
      ]
     },
     "execution_count": 81,
     "metadata": {},
     "output_type": "execute_result"
    }
   ],
   "source": [
    "df_nums_fzjg.dropna(inplace=True)\n",
    "df_nums_fzjg['#nbxh(C|50)'] = df_nums_fzjg['#nbxh(C|50)'].astype(np.int64)\n",
    "df_nums_fzjg.set_index('#nbxh(C|50)', inplace=True)\n",
    "df_nums_fzjg.drop(['index'], axis=1, inplace=True)\n",
    "print(df_nums_fzjg.info(null_counts = True))\n",
    "df_nums_fzjg[:5]"
   ]
  },
  {
   "cell_type": "markdown",
   "metadata": {},
   "source": [
    "### join"
   ]
  },
  {
   "cell_type": "code",
   "execution_count": 82,
   "metadata": {
    "ExecuteTime": {
     "end_time": "2022-06-30T02:17:10.936411Z",
     "start_time": "2022-06-30T02:17:08.141908Z"
    }
   },
   "outputs": [
    {
     "name": "stdout",
     "output_type": "stream",
     "text": [
      "<class 'pandas.core.frame.DataFrame'>\n",
      "Int64Index: 1827036 entries, 2420200000050231 to 442010000019652554\n",
      "Data columns (total 21 columns):\n",
      " #   Column      Non-Null Count    Dtype  \n",
      "---  ------      --------------    -----  \n",
      " 0   jjhklb      1827036 non-null  int64  \n",
      " 1   hydm        1827036 non-null  object \n",
      " 2   zczb        1827036 non-null  float64\n",
      " 3   jyzt        1827036 non-null  float64\n",
      " 4   qylx        1827036 non-null  int64  \n",
      " 5   tslx        1827036 non-null  int64  \n",
      " 6   new         1827036 non-null  object \n",
      " 7   time_scale  1827036 non-null  object \n",
      " 8   city        1827036 non-null  object \n",
      " 9   three       1827036 non-null  object \n",
      " 10  scale       1827036 non-null  object \n",
      " 11  foreign     1827036 non-null  int64  \n",
      " 12  X1_2        1827036 non-null  int64  \n",
      " 13  X3          1827036 non-null  int64  \n",
      " 14  X4          1827036 non-null  int64  \n",
      " 15  X5          1827036 non-null  float64\n",
      " 16  X6          1827036 non-null  float64\n",
      " 17  X12         1827036 non-null  float64\n",
      " 18  X13         1827036 non-null  float64\n",
      " 19  X15         1827036 non-null  int64  \n",
      " 20  X7          530 non-null      float64\n",
      "dtypes: float64(7), int64(8), object(6)\n",
      "memory usage: 306.7+ MB\n"
     ]
    }
   ],
   "source": [
    "new_file = new_file.join(df_nums_fzjg)\n",
    "new_file.info(null_counts = True)"
   ]
  },
  {
   "cell_type": "code",
   "execution_count": 83,
   "metadata": {
    "ExecuteTime": {
     "end_time": "2022-06-30T02:17:12.156194Z",
     "start_time": "2022-06-30T02:17:10.938381Z"
    }
   },
   "outputs": [
    {
     "name": "stdout",
     "output_type": "stream",
     "text": [
      "<class 'pandas.core.frame.DataFrame'>\n",
      "Int64Index: 1827036 entries, 2420200000050231 to 442010000019652554\n",
      "Data columns (total 21 columns):\n",
      " #   Column      Non-Null Count    Dtype  \n",
      "---  ------      --------------    -----  \n",
      " 0   jjhklb      1827036 non-null  int64  \n",
      " 1   hydm        1827036 non-null  object \n",
      " 2   zczb        1827036 non-null  float64\n",
      " 3   jyzt        1827036 non-null  float64\n",
      " 4   qylx        1827036 non-null  int64  \n",
      " 5   tslx        1827036 non-null  int64  \n",
      " 6   new         1827036 non-null  object \n",
      " 7   time_scale  1827036 non-null  object \n",
      " 8   city        1827036 non-null  object \n",
      " 9   three       1827036 non-null  object \n",
      " 10  scale       1827036 non-null  object \n",
      " 11  foreign     1827036 non-null  int64  \n",
      " 12  X1_2        1827036 non-null  int64  \n",
      " 13  X3          1827036 non-null  int64  \n",
      " 14  X4          1827036 non-null  int64  \n",
      " 15  X5          1827036 non-null  float64\n",
      " 16  X6          1827036 non-null  float64\n",
      " 17  X12         1827036 non-null  float64\n",
      " 18  X13         1827036 non-null  float64\n",
      " 19  X15         1827036 non-null  int64  \n",
      " 20  X7          1827036 non-null  float64\n",
      "dtypes: float64(7), int64(8), object(6)\n",
      "memory usage: 306.7+ MB\n"
     ]
    }
   ],
   "source": [
    "# 缺失值填补\n",
    "new_file['X7'].fillna(value=0, inplace=True)\n",
    "new_file.info(null_counts = True)"
   ]
  },
  {
   "cell_type": "markdown",
   "metadata": {},
   "source": [
    "## 添加特征X10、 X11（来自企业关系人表）"
   ]
  },
  {
   "cell_type": "markdown",
   "metadata": {},
   "source": [
    "- X10 投资次数     \n",
    "- X11 投资总额 "
   ]
  },
  {
   "cell_type": "code",
   "execution_count": 84,
   "metadata": {
    "ExecuteTime": {
     "end_time": "2022-06-30T02:17:12.188109Z",
     "start_time": "2022-06-30T02:17:12.158189Z"
    }
   },
   "outputs": [
    {
     "name": "stdout",
     "output_type": "stream",
     "text": [
      "<class 'pandas.core.frame.DataFrame'>\n",
      "RangeIndex: 1818 entries, 0 to 1817\n",
      "Data columns (total 6 columns):\n",
      " #   Column           Non-Null Count  Dtype  \n",
      "---  ------           --------------  -----  \n",
      " 0   nbxh             705 non-null    float64\n",
      " 1   tze              285 non-null    float64\n",
      " 2   zrrlx(C|2)       1818 non-null   int64  \n",
      " 3   person_id(C|45)  1818 non-null   int64  \n",
      " 4   rjcze(N|18|6)    1818 non-null   float64\n",
      " 5   czsj(D)          1818 non-null   object \n",
      "dtypes: float64(3), int64(2), object(1)\n",
      "memory usage: 85.3+ KB\n"
     ]
    },
    {
     "data": {
      "text/html": [
       "<div>\n",
       "<style scoped>\n",
       "    .dataframe tbody tr th:only-of-type {\n",
       "        vertical-align: middle;\n",
       "    }\n",
       "\n",
       "    .dataframe tbody tr th {\n",
       "        vertical-align: top;\n",
       "    }\n",
       "\n",
       "    .dataframe thead th {\n",
       "        text-align: right;\n",
       "    }\n",
       "</style>\n",
       "<table border=\"1\" class=\"dataframe\">\n",
       "  <thead>\n",
       "    <tr style=\"text-align: right;\">\n",
       "      <th></th>\n",
       "      <th>nbxh</th>\n",
       "      <th>tze</th>\n",
       "      <th>zrrlx(C|2)</th>\n",
       "      <th>person_id(C|45)</th>\n",
       "      <th>rjcze(N|18|6)</th>\n",
       "      <th>czsj(D)</th>\n",
       "    </tr>\n",
       "  </thead>\n",
       "  <tbody>\n",
       "    <tr>\n",
       "      <th>0</th>\n",
       "      <td>NaN</td>\n",
       "      <td>NaN</td>\n",
       "      <td>4</td>\n",
       "      <td>160000021464782794</td>\n",
       "      <td>50.0000</td>\n",
       "      <td>2022-04-02</td>\n",
       "    </tr>\n",
       "    <tr>\n",
       "      <th>1</th>\n",
       "      <td>NaN</td>\n",
       "      <td>10.00</td>\n",
       "      <td>4</td>\n",
       "      <td>4420100002313980</td>\n",
       "      <td>10.0000</td>\n",
       "      <td>2022-04-09</td>\n",
       "    </tr>\n",
       "    <tr>\n",
       "      <th>2</th>\n",
       "      <td>NaN</td>\n",
       "      <td>NaN</td>\n",
       "      <td>4</td>\n",
       "      <td>160000021503755692</td>\n",
       "      <td>418.5972</td>\n",
       "      <td>2022-04-20</td>\n",
       "    </tr>\n",
       "    <tr>\n",
       "      <th>3</th>\n",
       "      <td>NaN</td>\n",
       "      <td>NaN</td>\n",
       "      <td>4</td>\n",
       "      <td>160000021504411628</td>\n",
       "      <td>499.0000</td>\n",
       "      <td>2022-04-21</td>\n",
       "    </tr>\n",
       "    <tr>\n",
       "      <th>4</th>\n",
       "      <td>NaN</td>\n",
       "      <td>30.15</td>\n",
       "      <td>4</td>\n",
       "      <td>4420100002829092</td>\n",
       "      <td>30.1500</td>\n",
       "      <td>2022-04-10</td>\n",
       "    </tr>\n",
       "    <tr>\n",
       "      <th>5</th>\n",
       "      <td>NaN</td>\n",
       "      <td>NaN</td>\n",
       "      <td>4</td>\n",
       "      <td>160000021505538814</td>\n",
       "      <td>100.0000</td>\n",
       "      <td>2022-04-19</td>\n",
       "    </tr>\n",
       "    <tr>\n",
       "      <th>6</th>\n",
       "      <td>NaN</td>\n",
       "      <td>NaN</td>\n",
       "      <td>4</td>\n",
       "      <td>160000021483565123</td>\n",
       "      <td>368.0000</td>\n",
       "      <td>2022-04-11</td>\n",
       "    </tr>\n",
       "    <tr>\n",
       "      <th>7</th>\n",
       "      <td>NaN</td>\n",
       "      <td>NaN</td>\n",
       "      <td>4</td>\n",
       "      <td>160000021486657357</td>\n",
       "      <td>8181.5891</td>\n",
       "      <td>2022-04-08</td>\n",
       "    </tr>\n",
       "    <tr>\n",
       "      <th>8</th>\n",
       "      <td>NaN</td>\n",
       "      <td>NaN</td>\n",
       "      <td>4</td>\n",
       "      <td>160000021512747392</td>\n",
       "      <td>485.0000</td>\n",
       "      <td>2022-04-02</td>\n",
       "    </tr>\n",
       "    <tr>\n",
       "      <th>9</th>\n",
       "      <td>NaN</td>\n",
       "      <td>NaN</td>\n",
       "      <td>4</td>\n",
       "      <td>160000021481001196</td>\n",
       "      <td>450.0000</td>\n",
       "      <td>2022-04-06</td>\n",
       "    </tr>\n",
       "  </tbody>\n",
       "</table>\n",
       "</div>"
      ],
      "text/plain": [
       "   nbxh    tze  zrrlx(C|2)     person_id(C|45)  rjcze(N|18|6)     czsj(D)\n",
       "0   NaN    NaN           4  160000021464782794        50.0000  2022-04-02\n",
       "1   NaN  10.00           4    4420100002313980        10.0000  2022-04-09\n",
       "2   NaN    NaN           4  160000021503755692       418.5972  2022-04-20\n",
       "3   NaN    NaN           4  160000021504411628       499.0000  2022-04-21\n",
       "4   NaN  30.15           4    4420100002829092        30.1500  2022-04-10\n",
       "5   NaN    NaN           4  160000021505538814       100.0000  2022-04-19\n",
       "6   NaN    NaN           4  160000021483565123       368.0000  2022-04-11\n",
       "7   NaN    NaN           4  160000021486657357      8181.5891  2022-04-08\n",
       "8   NaN    NaN           4  160000021512747392       485.0000  2022-04-02\n",
       "9   NaN    NaN           4  160000021481001196       450.0000  2022-04-06"
      ]
     },
     "execution_count": 84,
     "metadata": {},
     "output_type": "execute_result"
    }
   ],
   "source": [
    "invest = pd.read_csv('./第二季度活跃度涉及表/企业关系人.csv')\n",
    "invest.rename(columns = {'tznbxh(C|250)':'nbxh', 'tze(N|18|6)':'tze'}, inplace=True)\n",
    "invest.info(null_counts = True)\n",
    "invest[:10]"
   ]
  },
  {
   "cell_type": "code",
   "execution_count": 85,
   "metadata": {
    "ExecuteTime": {
     "end_time": "2022-06-30T02:17:12.204067Z",
     "start_time": "2022-06-30T02:17:12.190105Z"
    }
   },
   "outputs": [
    {
     "data": {
      "text/html": [
       "<div>\n",
       "<style scoped>\n",
       "    .dataframe tbody tr th:only-of-type {\n",
       "        vertical-align: middle;\n",
       "    }\n",
       "\n",
       "    .dataframe tbody tr th {\n",
       "        vertical-align: top;\n",
       "    }\n",
       "\n",
       "    .dataframe thead th {\n",
       "        text-align: right;\n",
       "    }\n",
       "</style>\n",
       "<table border=\"1\" class=\"dataframe\">\n",
       "  <thead>\n",
       "    <tr style=\"text-align: right;\">\n",
       "      <th></th>\n",
       "      <th>nbxh</th>\n",
       "      <th>tze</th>\n",
       "      <th>zrrlx(C|2)</th>\n",
       "      <th>person_id(C|45)</th>\n",
       "      <th>rjcze(N|18|6)</th>\n",
       "      <th>czsj(D)</th>\n",
       "    </tr>\n",
       "  </thead>\n",
       "  <tbody>\n",
       "    <tr>\n",
       "      <th>410</th>\n",
       "      <td>160000021166295872</td>\n",
       "      <td>8.000</td>\n",
       "      <td>4</td>\n",
       "      <td>4420100002742478</td>\n",
       "      <td>8.000</td>\n",
       "      <td>2022-04-15</td>\n",
       "    </tr>\n",
       "    <tr>\n",
       "      <th>499</th>\n",
       "      <td>2422800000972160</td>\n",
       "      <td>15.000</td>\n",
       "      <td>4</td>\n",
       "      <td>4420100002541739</td>\n",
       "      <td>15.000</td>\n",
       "      <td>2022-04-01</td>\n",
       "    </tr>\n",
       "    <tr>\n",
       "      <th>650</th>\n",
       "      <td>420000000008897664</td>\n",
       "      <td>99.000</td>\n",
       "      <td>4</td>\n",
       "      <td>4420100003078093</td>\n",
       "      <td>99.000</td>\n",
       "      <td>2022-05-27</td>\n",
       "    </tr>\n",
       "    <tr>\n",
       "      <th>790</th>\n",
       "      <td>420000000008897664</td>\n",
       "      <td>1.000</td>\n",
       "      <td>4</td>\n",
       "      <td>4420100003078441</td>\n",
       "      <td>1.000</td>\n",
       "      <td>2022-05-27</td>\n",
       "    </tr>\n",
       "    <tr>\n",
       "      <th>885</th>\n",
       "      <td>420000000008897664</td>\n",
       "      <td>1.000</td>\n",
       "      <td>4</td>\n",
       "      <td>4420100003078346</td>\n",
       "      <td>1.000</td>\n",
       "      <td>2022-05-27</td>\n",
       "    </tr>\n",
       "    <tr>\n",
       "      <th>...</th>\n",
       "      <td>...</td>\n",
       "      <td>...</td>\n",
       "      <td>...</td>\n",
       "      <td>...</td>\n",
       "      <td>...</td>\n",
       "      <td>...</td>\n",
       "    </tr>\n",
       "    <tr>\n",
       "      <th>1797</th>\n",
       "      <td>4420100002874152</td>\n",
       "      <td>3.400</td>\n",
       "      <td>4</td>\n",
       "      <td>4420100002874152</td>\n",
       "      <td>3.400</td>\n",
       "      <td>2022-06-10</td>\n",
       "    </tr>\n",
       "    <tr>\n",
       "      <th>1798</th>\n",
       "      <td>4420100002931464</td>\n",
       "      <td>90.000</td>\n",
       "      <td>4</td>\n",
       "      <td>4420100002931464</td>\n",
       "      <td>90.000</td>\n",
       "      <td>2022-06-01</td>\n",
       "    </tr>\n",
       "    <tr>\n",
       "      <th>1800</th>\n",
       "      <td>4420100002736601</td>\n",
       "      <td>2.400</td>\n",
       "      <td>4</td>\n",
       "      <td>4420100002736601</td>\n",
       "      <td>2.400</td>\n",
       "      <td>2022-06-17</td>\n",
       "    </tr>\n",
       "    <tr>\n",
       "      <th>1803</th>\n",
       "      <td>4420100002316152</td>\n",
       "      <td>10.000</td>\n",
       "      <td>4</td>\n",
       "      <td>4420100002316152</td>\n",
       "      <td>10.000</td>\n",
       "      <td>2022-06-03</td>\n",
       "    </tr>\n",
       "    <tr>\n",
       "      <th>1811</th>\n",
       "      <td>160000020660639776</td>\n",
       "      <td>165.000</td>\n",
       "      <td>4</td>\n",
       "      <td>160000020660639776</td>\n",
       "      <td>165.000</td>\n",
       "      <td>2022-06-01</td>\n",
       "    </tr>\n",
       "  </tbody>\n",
       "</table>\n",
       "<p>93 rows × 6 columns</p>\n",
       "</div>"
      ],
      "text/plain": [
       "                    nbxh     tze  zrrlx(C|2)     person_id(C|45)  \\\n",
       "410   160000021166295872   8.000           4    4420100002742478   \n",
       "499     2422800000972160  15.000           4    4420100002541739   \n",
       "650   420000000008897664  99.000           4    4420100003078093   \n",
       "790   420000000008897664   1.000           4    4420100003078441   \n",
       "885   420000000008897664   1.000           4    4420100003078346   \n",
       "...                  ...     ...         ...                 ...   \n",
       "1797    4420100002874152   3.400           4    4420100002874152   \n",
       "1798    4420100002931464  90.000           4    4420100002931464   \n",
       "1800    4420100002736601   2.400           4    4420100002736601   \n",
       "1803    4420100002316152  10.000           4    4420100002316152   \n",
       "1811  160000020660639776 165.000           4  160000020660639776   \n",
       "\n",
       "      rjcze(N|18|6)     czsj(D)  \n",
       "410           8.000  2022-04-15  \n",
       "499          15.000  2022-04-01  \n",
       "650          99.000  2022-05-27  \n",
       "790           1.000  2022-05-27  \n",
       "885           1.000  2022-05-27  \n",
       "...             ...         ...  \n",
       "1797          3.400  2022-06-10  \n",
       "1798         90.000  2022-06-01  \n",
       "1800          2.400  2022-06-17  \n",
       "1803         10.000  2022-06-03  \n",
       "1811        165.000  2022-06-01  \n",
       "\n",
       "[93 rows x 6 columns]"
      ]
     },
     "execution_count": 85,
     "metadata": {},
     "output_type": "execute_result"
    }
   ],
   "source": [
    "# 不显示科学计数法\n",
    "pd.set_option('display.float_format', lambda x: '%.3f' % x)\n",
    "invest = invest.dropna()\n",
    "invest['nbxh'] = invest['nbxh'].astype(np.int64)\n",
    "invest"
   ]
  },
  {
   "cell_type": "markdown",
   "metadata": {},
   "source": [
    "### 提取特征X10"
   ]
  },
  {
   "cell_type": "code",
   "execution_count": 86,
   "metadata": {
    "ExecuteTime": {
     "end_time": "2022-06-30T02:17:12.220024Z",
     "start_time": "2022-06-30T02:17:12.206062Z"
    }
   },
   "outputs": [
    {
     "data": {
      "text/plain": [
       "420000000008897664    4\n",
       "420000000008992512    2\n",
       "160000020660639776    2\n",
       "160000004623389568    2\n",
       "160000003565088864    2\n",
       "                     ..\n",
       "4420100002863721      1\n",
       "4420100002539613      1\n",
       "4420100002997623      1\n",
       "160000007730437088    1\n",
       "4420100002316152      1\n",
       "Name: nbxh, Length: 80, dtype: int64"
      ]
     },
     "execution_count": 86,
     "metadata": {},
     "output_type": "execute_result"
    }
   ],
   "source": [
    "nums = invest['nbxh'].value_counts()\n",
    "nums"
   ]
  },
  {
   "cell_type": "markdown",
   "metadata": {},
   "source": [
    "#### nums为series,将其变为dataframes"
   ]
  },
  {
   "cell_type": "code",
   "execution_count": 87,
   "metadata": {
    "ExecuteTime": {
     "end_time": "2022-06-30T02:17:12.251482Z",
     "start_time": "2022-06-30T02:17:12.222020Z"
    }
   },
   "outputs": [
    {
     "name": "stdout",
     "output_type": "stream",
     "text": [
      "                 nbxh  X10\n",
      "0  420000000008897664    4\n",
      "1  420000000008992512    2\n",
      "                    X10\n",
      "nbxh                   \n",
      "420000000008897664    4\n",
      "420000000008992512    2\n",
      "<class 'pandas.core.frame.DataFrame'>\n",
      "Int64Index: 80 entries, 420000000008897664 to 4420100002316152\n",
      "Data columns (total 1 columns):\n",
      " #   Column  Non-Null Count  Dtype\n",
      "---  ------  --------------  -----\n",
      " 0   X10     80 non-null     int64\n",
      "dtypes: int64(1)\n",
      "memory usage: 1.2 KB\n",
      "None\n"
     ]
    }
   ],
   "source": [
    "dict_nums = {'nbxh':nums.index, 'X10':nums.values}\n",
    "df_nums = pd.DataFrame(dict_nums)\n",
    "print(df_nums[:2])\n",
    "df_nums.set_index('nbxh', inplace=True)\n",
    "print(df_nums[:2])\n",
    "print(df_nums.info(null_counts = True))"
   ]
  },
  {
   "cell_type": "markdown",
   "metadata": {},
   "source": [
    "#### join"
   ]
  },
  {
   "cell_type": "code",
   "execution_count": 88,
   "metadata": {
    "ExecuteTime": {
     "end_time": "2022-06-30T02:17:14.823748Z",
     "start_time": "2022-06-30T02:17:12.253478Z"
    }
   },
   "outputs": [
    {
     "name": "stdout",
     "output_type": "stream",
     "text": [
      "<class 'pandas.core.frame.DataFrame'>\n",
      "Int64Index: 1827036 entries, 2420200000050231 to 442010000019652554\n",
      "Data columns (total 22 columns):\n",
      " #   Column      Non-Null Count    Dtype  \n",
      "---  ------      --------------    -----  \n",
      " 0   jjhklb      1827036 non-null  int64  \n",
      " 1   hydm        1827036 non-null  object \n",
      " 2   zczb        1827036 non-null  float64\n",
      " 3   jyzt        1827036 non-null  float64\n",
      " 4   qylx        1827036 non-null  int64  \n",
      " 5   tslx        1827036 non-null  int64  \n",
      " 6   new         1827036 non-null  object \n",
      " 7   time_scale  1827036 non-null  object \n",
      " 8   city        1827036 non-null  object \n",
      " 9   three       1827036 non-null  object \n",
      " 10  scale       1827036 non-null  object \n",
      " 11  foreign     1827036 non-null  int64  \n",
      " 12  X1_2        1827036 non-null  int64  \n",
      " 13  X3          1827036 non-null  int64  \n",
      " 14  X4          1827036 non-null  int64  \n",
      " 15  X5          1827036 non-null  float64\n",
      " 16  X6          1827036 non-null  float64\n",
      " 17  X12         1827036 non-null  float64\n",
      " 18  X13         1827036 non-null  float64\n",
      " 19  X15         1827036 non-null  int64  \n",
      " 20  X7          1827036 non-null  float64\n",
      " 21  X10         1 non-null        float64\n",
      "dtypes: float64(8), int64(8), object(6)\n",
      "memory usage: 320.6+ MB\n"
     ]
    }
   ],
   "source": [
    "new_file = new_file.join(df_nums)\n",
    "new_file.info(null_counts = True)"
   ]
  },
  {
   "cell_type": "code",
   "execution_count": 89,
   "metadata": {
    "ExecuteTime": {
     "end_time": "2022-06-30T02:17:16.048168Z",
     "start_time": "2022-06-30T02:17:14.825739Z"
    }
   },
   "outputs": [
    {
     "name": "stdout",
     "output_type": "stream",
     "text": [
      "<class 'pandas.core.frame.DataFrame'>\n",
      "Int64Index: 1827036 entries, 2420200000050231 to 442010000019652554\n",
      "Data columns (total 22 columns):\n",
      " #   Column      Non-Null Count    Dtype  \n",
      "---  ------      --------------    -----  \n",
      " 0   jjhklb      1827036 non-null  int64  \n",
      " 1   hydm        1827036 non-null  object \n",
      " 2   zczb        1827036 non-null  float64\n",
      " 3   jyzt        1827036 non-null  float64\n",
      " 4   qylx        1827036 non-null  int64  \n",
      " 5   tslx        1827036 non-null  int64  \n",
      " 6   new         1827036 non-null  object \n",
      " 7   time_scale  1827036 non-null  object \n",
      " 8   city        1827036 non-null  object \n",
      " 9   three       1827036 non-null  object \n",
      " 10  scale       1827036 non-null  object \n",
      " 11  foreign     1827036 non-null  int64  \n",
      " 12  X1_2        1827036 non-null  int64  \n",
      " 13  X3          1827036 non-null  int64  \n",
      " 14  X4          1827036 non-null  int64  \n",
      " 15  X5          1827036 non-null  float64\n",
      " 16  X6          1827036 non-null  float64\n",
      " 17  X12         1827036 non-null  float64\n",
      " 18  X13         1827036 non-null  float64\n",
      " 19  X15         1827036 non-null  int64  \n",
      " 20  X7          1827036 non-null  float64\n",
      " 21  X10         1827036 non-null  float64\n",
      "dtypes: float64(8), int64(8), object(6)\n",
      "memory usage: 320.6+ MB\n"
     ]
    }
   ],
   "source": [
    "# 缺失值填补\n",
    "new_file['X10'].fillna(value=0, inplace=True)\n",
    "new_file.info(null_counts = True)"
   ]
  },
  {
   "cell_type": "markdown",
   "metadata": {},
   "source": [
    "### 提取特征X11"
   ]
  },
  {
   "cell_type": "code",
   "execution_count": 90,
   "metadata": {
    "ExecuteTime": {
     "end_time": "2022-06-30T02:17:16.064210Z",
     "start_time": "2022-06-30T02:17:16.050158Z"
    }
   },
   "outputs": [
    {
     "data": {
      "text/plain": [
       "nbxh\n",
       "2422800000972160      15.000\n",
       "2422800000972938      30.000\n",
       "4420100002178112     100.000\n",
       "4420100002225622      50.000\n",
       "4420100002225623     450.000\n",
       "                       ...  \n",
       "160000020780243424   300.000\n",
       "160000020984842400    50.000\n",
       "160000021166295872     8.000\n",
       "420000000008897664   102.000\n",
       "420000000008992512   600.000\n",
       "Name: tze, Length: 80, dtype: float64"
      ]
     },
     "execution_count": 90,
     "metadata": {},
     "output_type": "execute_result"
    }
   ],
   "source": [
    "sums = invest.groupby('nbxh')['tze'].agg('sum')\n",
    "sums"
   ]
  },
  {
   "cell_type": "markdown",
   "metadata": {},
   "source": [
    "#### sums为series,将其变为dataframes"
   ]
  },
  {
   "cell_type": "code",
   "execution_count": 91,
   "metadata": {
    "ExecuteTime": {
     "end_time": "2022-06-30T02:17:16.095635Z",
     "start_time": "2022-06-30T02:17:16.065715Z"
    }
   },
   "outputs": [
    {
     "name": "stdout",
     "output_type": "stream",
     "text": [
      "               nbxh    X11\n",
      "0  2422800000972160 15.000\n",
      "1  2422800000972938 30.000\n",
      "                    X11\n",
      "nbxh                   \n",
      "2422800000972160 15.000\n",
      "2422800000972938 30.000\n",
      "<class 'pandas.core.frame.DataFrame'>\n",
      "Int64Index: 80 entries, 2422800000972160 to 420000000008992512\n",
      "Data columns (total 1 columns):\n",
      " #   Column  Non-Null Count  Dtype  \n",
      "---  ------  --------------  -----  \n",
      " 0   X11     80 non-null     float64\n",
      "dtypes: float64(1)\n",
      "memory usage: 1.2 KB\n",
      "None\n"
     ]
    }
   ],
   "source": [
    "dict_sums = {'nbxh':sums.index, 'X11':sums.values}\n",
    "df_sums = pd.DataFrame(dict_sums)\n",
    "print(df_sums[:2])\n",
    "df_sums.set_index('nbxh', inplace=True)\n",
    "print(df_sums[:2])\n",
    "print(df_sums.info(null_counts = True))"
   ]
  },
  {
   "cell_type": "markdown",
   "metadata": {},
   "source": [
    "#### join"
   ]
  },
  {
   "cell_type": "code",
   "execution_count": 92,
   "metadata": {
    "ExecuteTime": {
     "end_time": "2022-06-30T02:17:17.840276Z",
     "start_time": "2022-06-30T02:17:16.097629Z"
    }
   },
   "outputs": [
    {
     "name": "stdout",
     "output_type": "stream",
     "text": [
      "<class 'pandas.core.frame.DataFrame'>\n",
      "Int64Index: 1827036 entries, 2420200000050231 to 442010000019652554\n",
      "Data columns (total 23 columns):\n",
      " #   Column      Non-Null Count    Dtype  \n",
      "---  ------      --------------    -----  \n",
      " 0   jjhklb      1827036 non-null  int64  \n",
      " 1   hydm        1827036 non-null  object \n",
      " 2   zczb        1827036 non-null  float64\n",
      " 3   jyzt        1827036 non-null  float64\n",
      " 4   qylx        1827036 non-null  int64  \n",
      " 5   tslx        1827036 non-null  int64  \n",
      " 6   new         1827036 non-null  object \n",
      " 7   time_scale  1827036 non-null  object \n",
      " 8   city        1827036 non-null  object \n",
      " 9   three       1827036 non-null  object \n",
      " 10  scale       1827036 non-null  object \n",
      " 11  foreign     1827036 non-null  int64  \n",
      " 12  X1_2        1827036 non-null  int64  \n",
      " 13  X3          1827036 non-null  int64  \n",
      " 14  X4          1827036 non-null  int64  \n",
      " 15  X5          1827036 non-null  float64\n",
      " 16  X6          1827036 non-null  float64\n",
      " 17  X12         1827036 non-null  float64\n",
      " 18  X13         1827036 non-null  float64\n",
      " 19  X15         1827036 non-null  int64  \n",
      " 20  X7          1827036 non-null  float64\n",
      " 21  X10         1827036 non-null  float64\n",
      " 22  X11         1 non-null        float64\n",
      "dtypes: float64(9), int64(8), object(6)\n",
      "memory usage: 334.5+ MB\n"
     ]
    }
   ],
   "source": [
    "new_file = new_file.join(df_sums)\n",
    "new_file.info(null_counts = True)"
   ]
  },
  {
   "cell_type": "code",
   "execution_count": 93,
   "metadata": {
    "ExecuteTime": {
     "end_time": "2022-06-30T02:17:19.075015Z",
     "start_time": "2022-06-30T02:17:17.841922Z"
    }
   },
   "outputs": [
    {
     "name": "stdout",
     "output_type": "stream",
     "text": [
      "<class 'pandas.core.frame.DataFrame'>\n",
      "Int64Index: 1827036 entries, 2420200000050231 to 442010000019652554\n",
      "Data columns (total 23 columns):\n",
      " #   Column      Non-Null Count    Dtype  \n",
      "---  ------      --------------    -----  \n",
      " 0   jjhklb      1827036 non-null  int64  \n",
      " 1   hydm        1827036 non-null  object \n",
      " 2   zczb        1827036 non-null  float64\n",
      " 3   jyzt        1827036 non-null  float64\n",
      " 4   qylx        1827036 non-null  int64  \n",
      " 5   tslx        1827036 non-null  int64  \n",
      " 6   new         1827036 non-null  object \n",
      " 7   time_scale  1827036 non-null  object \n",
      " 8   city        1827036 non-null  object \n",
      " 9   three       1827036 non-null  object \n",
      " 10  scale       1827036 non-null  object \n",
      " 11  foreign     1827036 non-null  int64  \n",
      " 12  X1_2        1827036 non-null  int64  \n",
      " 13  X3          1827036 non-null  int64  \n",
      " 14  X4          1827036 non-null  int64  \n",
      " 15  X5          1827036 non-null  float64\n",
      " 16  X6          1827036 non-null  float64\n",
      " 17  X12         1827036 non-null  float64\n",
      " 18  X13         1827036 non-null  float64\n",
      " 19  X15         1827036 non-null  int64  \n",
      " 20  X7          1827036 non-null  float64\n",
      " 21  X10         1827036 non-null  float64\n",
      " 22  X11         1827036 non-null  float64\n",
      "dtypes: float64(9), int64(8), object(6)\n",
      "memory usage: 334.5+ MB\n"
     ]
    }
   ],
   "source": [
    "# 缺失值填补\n",
    "new_file['X11'].fillna(value=0, inplace=True)\n",
    "new_file.info(null_counts = True)"
   ]
  },
  {
   "cell_type": "markdown",
   "metadata": {},
   "source": [
    "## 添加特征X14（迁移申请次数，来自迁移表）"
   ]
  },
  {
   "cell_type": "markdown",
   "metadata": {},
   "source": [
    "### 读取并查看"
   ]
  },
  {
   "cell_type": "code",
   "execution_count": 94,
   "metadata": {
    "ExecuteTime": {
     "end_time": "2022-06-30T02:17:19.217174Z",
     "start_time": "2022-06-30T02:17:19.076980Z"
    },
    "scrolled": false
   },
   "outputs": [
    {
     "name": "stdout",
     "output_type": "stream",
     "text": [
      "<class 'pandas.core.frame.DataFrame'>\n",
      "RangeIndex: 8602 entries, 0 to 8601\n",
      "Data columns (total 34 columns):\n",
      " #   Column                    Non-Null Count  Dtype  \n",
      "---  ------                    --------------  -----  \n",
      " 0   ID(C|75)                  8602 non-null   int64  \n",
      " 1   MARPRID(C|75)             8602 non-null   int64  \n",
      " 2   ENTNAME(C|500)            8602 non-null   object \n",
      " 3   LEREP(C|300)              4785 non-null   object \n",
      " 4   REGCAP(N|18|6)            4410 non-null   float64\n",
      " 5   ACCONAM(N|18|6)           16 non-null     float64\n",
      " 6   CURRENCY(C|5)             307 non-null    float64\n",
      " 7   OPLOC(C|500)              4621 non-null   object \n",
      " 8   OPSCOPE(C|4000)           4589 non-null   object \n",
      " 9   ENTTYPE(C|10)             8537 non-null   float64\n",
      " 10  ENTTYPEITEM(C|10)         8199 non-null   float64\n",
      " 11  OPFROM(P)                 8181 non-null   object \n",
      " 12  OPTO(P)                   1567 non-null   object \n",
      " 13  REGNO(C|75)               1606 non-null   object \n",
      " 14  EMAIL(C|200)              38 non-null     object \n",
      " 15  COUNTRY(C|5)              1 non-null      float64\n",
      " 16  INSYSSIGN(N|10|0)         8602 non-null   int64  \n",
      " 17  BATCH(C|1)                8602 non-null   int64  \n",
      " 18  MODIDATE(P)               8602 non-null   object \n",
      " 19  ESTDATE(P)                4603 non-null   object \n",
      " 20  PROVCODE(C|75)            8602 non-null   int64  \n",
      " 21  REMARK(C|2000)            63 non-null     object \n",
      " 22  REGORGNAME(C|200)         8602 non-null   object \n",
      " 23  FORENTNAME(C|300)         0 non-null      float64\n",
      " 24  STUFFTYPE(C|10)           8602 non-null   int64  \n",
      " 25  STUFFNAME(C|75)           8602 non-null   object \n",
      " 26  SURPERFROM(P)             0 non-null      float64\n",
      " 27  SURPERTO(P)               0 non-null      float64\n",
      " 28  FORENTAUTSIGNNAME(C|300)  0 non-null      float64\n",
      " 29  FORENLIAFOR(C|5)          0 non-null      float64\n",
      " 30  UNISCID(C|75)             8570 non-null   object \n",
      " 31  ACCOUNTTYPE(C|5)          2041 non-null   float64\n",
      " 32  DISTCODE(C|50)            1086 non-null   float64\n",
      " 33  BUSIADDRESS(C|500)        3388 non-null   object \n",
      "dtypes: float64(13), int64(6), object(15)\n",
      "memory usage: 2.2+ MB\n",
      "None\n"
     ]
    },
    {
     "data": {
      "text/html": [
       "<div>\n",
       "<style scoped>\n",
       "    .dataframe tbody tr th:only-of-type {\n",
       "        vertical-align: middle;\n",
       "    }\n",
       "\n",
       "    .dataframe tbody tr th {\n",
       "        vertical-align: top;\n",
       "    }\n",
       "\n",
       "    .dataframe thead th {\n",
       "        text-align: right;\n",
       "    }\n",
       "</style>\n",
       "<table border=\"1\" class=\"dataframe\">\n",
       "  <thead>\n",
       "    <tr style=\"text-align: right;\">\n",
       "      <th></th>\n",
       "      <th>ID(C|75)</th>\n",
       "      <th>MARPRID(C|75)</th>\n",
       "      <th>ENTNAME(C|500)</th>\n",
       "      <th>LEREP(C|300)</th>\n",
       "      <th>REGCAP(N|18|6)</th>\n",
       "      <th>ACCONAM(N|18|6)</th>\n",
       "      <th>CURRENCY(C|5)</th>\n",
       "      <th>OPLOC(C|500)</th>\n",
       "      <th>OPSCOPE(C|4000)</th>\n",
       "      <th>ENTTYPE(C|10)</th>\n",
       "      <th>...</th>\n",
       "      <th>STUFFTYPE(C|10)</th>\n",
       "      <th>STUFFNAME(C|75)</th>\n",
       "      <th>SURPERFROM(P)</th>\n",
       "      <th>SURPERTO(P)</th>\n",
       "      <th>FORENTAUTSIGNNAME(C|300)</th>\n",
       "      <th>FORENLIAFOR(C|5)</th>\n",
       "      <th>UNISCID(C|75)</th>\n",
       "      <th>ACCOUNTTYPE(C|5)</th>\n",
       "      <th>DISTCODE(C|50)</th>\n",
       "      <th>BUSIADDRESS(C|500)</th>\n",
       "    </tr>\n",
       "  </thead>\n",
       "  <tbody>\n",
       "    <tr>\n",
       "      <th>0</th>\n",
       "      <td>160000021461771286</td>\n",
       "      <td>24250000012460114</td>\n",
       "      <td>新十建设集团有限公司</td>\n",
       "      <td>王建东</td>\n",
       "      <td>50059.000</td>\n",
       "      <td>NaN</td>\n",
       "      <td>NaN</td>\n",
       "      <td>武汉市新洲区邾城街齐安大道352号（邾城街道办事处院内）</td>\n",
       "      <td>建筑工程施工总承包壹级，市政公用工程施工总承包贰级，钢结构工程专业承包贰级，地基基础工程专业...</td>\n",
       "      <td>1100.000</td>\n",
       "      <td>...</td>\n",
       "      <td>8</td>\n",
       "      <td>隶属企业</td>\n",
       "      <td>NaN</td>\n",
       "      <td>NaN</td>\n",
       "      <td>NaN</td>\n",
       "      <td>NaN</td>\n",
       "      <td>91420117178364864Y</td>\n",
       "      <td>1.000</td>\n",
       "      <td>420117.000</td>\n",
       "      <td>武汉市新洲区邾城街齐安大道352号（邾城街道办事处院内）</td>\n",
       "    </tr>\n",
       "    <tr>\n",
       "      <th>1</th>\n",
       "      <td>160000021461828012</td>\n",
       "      <td>160000012277492502</td>\n",
       "      <td>中国石油天然气股份有限公司</td>\n",
       "      <td>戴厚良</td>\n",
       "      <td>18302097.000</td>\n",
       "      <td>NaN</td>\n",
       "      <td>NaN</td>\n",
       "      <td>北京市东城区安德路16号</td>\n",
       "      <td>石油天然气勘查、开采（有效期以许可证为准）；煤层气、页岩气开采、勘察（仅限外埠经营，经营项目...</td>\n",
       "      <td>1200.000</td>\n",
       "      <td>...</td>\n",
       "      <td>8</td>\n",
       "      <td>隶属企业</td>\n",
       "      <td>NaN</td>\n",
       "      <td>NaN</td>\n",
       "      <td>NaN</td>\n",
       "      <td>NaN</td>\n",
       "      <td>91110000710925462X</td>\n",
       "      <td>NaN</td>\n",
       "      <td>NaN</td>\n",
       "      <td>NaN</td>\n",
       "    </tr>\n",
       "    <tr>\n",
       "      <th>2</th>\n",
       "      <td>160000021461931043</td>\n",
       "      <td>160000021461930976</td>\n",
       "      <td>湖北鑫民建设集团有限公司</td>\n",
       "      <td>李晖</td>\n",
       "      <td>30100.000</td>\n",
       "      <td>NaN</td>\n",
       "      <td>NaN</td>\n",
       "      <td>宜昌市点军区江南大道99号四楼401室</td>\n",
       "      <td>建筑工程、公路工程、铁路工程、港口与航道工程、水利水电工程、电力工程、矿山工程、冶金工程、石...</td>\n",
       "      <td>1100.000</td>\n",
       "      <td>...</td>\n",
       "      <td>8</td>\n",
       "      <td>隶属企业</td>\n",
       "      <td>NaN</td>\n",
       "      <td>NaN</td>\n",
       "      <td>NaN</td>\n",
       "      <td>NaN</td>\n",
       "      <td>91420102682323965F</td>\n",
       "      <td>1.000</td>\n",
       "      <td>NaN</td>\n",
       "      <td>宜昌市点军区江南大道99号四楼401室</td>\n",
       "    </tr>\n",
       "  </tbody>\n",
       "</table>\n",
       "<p>3 rows × 34 columns</p>\n",
       "</div>"
      ],
      "text/plain": [
       "             ID(C|75)       MARPRID(C|75) ENTNAME(C|500) LEREP(C|300)  \\\n",
       "0  160000021461771286   24250000012460114     新十建设集团有限公司          王建东   \n",
       "1  160000021461828012  160000012277492502  中国石油天然气股份有限公司          戴厚良   \n",
       "2  160000021461931043  160000021461930976   湖北鑫民建设集团有限公司           李晖   \n",
       "\n",
       "   REGCAP(N|18|6)  ACCONAM(N|18|6)  CURRENCY(C|5)  \\\n",
       "0       50059.000              NaN            NaN   \n",
       "1    18302097.000              NaN            NaN   \n",
       "2       30100.000              NaN            NaN   \n",
       "\n",
       "                   OPLOC(C|500)  \\\n",
       "0  武汉市新洲区邾城街齐安大道352号（邾城街道办事处院内）   \n",
       "1                  北京市东城区安德路16号   \n",
       "2           宜昌市点军区江南大道99号四楼401室   \n",
       "\n",
       "                                     OPSCOPE(C|4000)  ENTTYPE(C|10)  ...  \\\n",
       "0  建筑工程施工总承包壹级，市政公用工程施工总承包贰级，钢结构工程专业承包贰级，地基基础工程专业...       1100.000  ...   \n",
       "1  石油天然气勘查、开采（有效期以许可证为准）；煤层气、页岩气开采、勘察（仅限外埠经营，经营项目...       1200.000  ...   \n",
       "2  建筑工程、公路工程、铁路工程、港口与航道工程、水利水电工程、电力工程、矿山工程、冶金工程、石...       1100.000  ...   \n",
       "\n",
       "   STUFFTYPE(C|10) STUFFNAME(C|75) SURPERFROM(P) SURPERTO(P)  \\\n",
       "0                8            隶属企业           NaN         NaN   \n",
       "1                8            隶属企业           NaN         NaN   \n",
       "2                8            隶属企业           NaN         NaN   \n",
       "\n",
       "  FORENTAUTSIGNNAME(C|300)  FORENLIAFOR(C|5)       UNISCID(C|75)  \\\n",
       "0                      NaN               NaN  91420117178364864Y   \n",
       "1                      NaN               NaN  91110000710925462X   \n",
       "2                      NaN               NaN  91420102682323965F   \n",
       "\n",
       "   ACCOUNTTYPE(C|5) DISTCODE(C|50)             BUSIADDRESS(C|500)  \n",
       "0             1.000     420117.000  武汉市新洲区邾城街齐安大道352号（邾城街道办事处院内）   \n",
       "1               NaN            NaN                            NaN  \n",
       "2             1.000            NaN            宜昌市点军区江南大道99号四楼401室  \n",
       "\n",
       "[3 rows x 34 columns]"
      ]
     },
     "execution_count": 94,
     "metadata": {},
     "output_type": "execute_result"
    }
   ],
   "source": [
    "qycs_file = pd.read_csv('./第二季度活跃度涉及表/迁移.csv')\n",
    "print(qycs_file.info(null_counts = True))\n",
    "qycs_file[:3]"
   ]
  },
  {
   "cell_type": "markdown",
   "metadata": {},
   "source": [
    "`MARPRID(C|75)`为 主体标识，查看在file中是否存在相应的内部序号"
   ]
  },
  {
   "cell_type": "code",
   "execution_count": 95,
   "metadata": {
    "ExecuteTime": {
     "end_time": "2022-06-30T02:17:36.672311Z",
     "start_time": "2022-06-30T02:17:19.219169Z"
    },
    "scrolled": true
   },
   "outputs": [
    {
     "name": "stderr",
     "output_type": "stream",
     "text": [
      "100%|█████████████████████████████████████████████████████████████████████████████| 8602/8602 [00:17<00:00, 493.43it/s]\n"
     ]
    },
    {
     "data": {
      "text/plain": [
       "8273"
      ]
     },
     "execution_count": 95,
     "metadata": {},
     "output_type": "execute_result"
    }
   ],
   "source": [
    "nbxh_list =   file['#nbxh(C|50)'].values\n",
    "temp_sum = 0\n",
    "for i in tqdm(qycs_file['MARPRID(C|75)']):\n",
    "    if i in nbxh_list:\n",
    "        temp_sum = temp_sum + 1\n",
    "temp_sum"
   ]
  },
  {
   "cell_type": "markdown",
   "metadata": {},
   "source": [
    "可以看出绝大多数企业还是可以在主体登记表中找到的"
   ]
  },
  {
   "cell_type": "code",
   "execution_count": 96,
   "metadata": {
    "ExecuteTime": {
     "end_time": "2022-06-30T02:17:36.688266Z",
     "start_time": "2022-06-30T02:17:36.674303Z"
    }
   },
   "outputs": [
    {
     "data": {
      "text/plain": [
       "24250000012853421     3\n",
       "24250000012834578     3\n",
       "24250000012813144     3\n",
       "24250000012545876     3\n",
       "160000021013776418    2\n",
       "                     ..\n",
       "142000000039639987    1\n",
       "24250000012348845     1\n",
       "24250000012350178     1\n",
       "24250000012347366     1\n",
       "160000021672886396    1\n",
       "Name: MARPRID(C|75), Length: 8559, dtype: int64"
      ]
     },
     "execution_count": 96,
     "metadata": {},
     "output_type": "execute_result"
    }
   ],
   "source": [
    "nums = qycs_file['MARPRID(C|75)'].value_counts()\n",
    "nums"
   ]
  },
  {
   "cell_type": "markdown",
   "metadata": {},
   "source": [
    "### sums为series,将其变为dataframes"
   ]
  },
  {
   "cell_type": "code",
   "execution_count": 97,
   "metadata": {
    "ExecuteTime": {
     "end_time": "2022-06-30T02:17:36.720179Z",
     "start_time": "2022-06-30T02:17:36.690261Z"
    }
   },
   "outputs": [
    {
     "name": "stdout",
     "output_type": "stream",
     "text": [
      "                nbxh  X14\n",
      "0  24250000012853421    3\n",
      "1  24250000012834578    3\n",
      "                   X14\n",
      "nbxh                  \n",
      "24250000012853421    3\n",
      "24250000012834578    3\n",
      "<class 'pandas.core.frame.DataFrame'>\n",
      "Int64Index: 8559 entries, 24250000012853421 to 160000021672886396\n",
      "Data columns (total 1 columns):\n",
      " #   Column  Non-Null Count  Dtype\n",
      "---  ------  --------------  -----\n",
      " 0   X14     8559 non-null   int64\n",
      "dtypes: int64(1)\n",
      "memory usage: 133.7 KB\n",
      "None\n"
     ]
    }
   ],
   "source": [
    "dict_nums = {'nbxh':nums.index, 'X14':nums.values}\n",
    "df_nums = pd.DataFrame(dict_nums)\n",
    "print(df_nums[:2])\n",
    "df_nums.set_index('nbxh', inplace=True)\n",
    "print(df_nums[:2])\n",
    "print(df_nums.info(null_counts = True))"
   ]
  },
  {
   "cell_type": "markdown",
   "metadata": {},
   "source": [
    "### join"
   ]
  },
  {
   "cell_type": "code",
   "execution_count": 98,
   "metadata": {
    "ExecuteTime": {
     "end_time": "2022-06-30T02:17:39.308653Z",
     "start_time": "2022-06-30T02:17:36.721780Z"
    }
   },
   "outputs": [
    {
     "name": "stdout",
     "output_type": "stream",
     "text": [
      "<class 'pandas.core.frame.DataFrame'>\n",
      "Int64Index: 1827036 entries, 2420200000050231 to 442010000019652554\n",
      "Data columns (total 24 columns):\n",
      " #   Column      Non-Null Count    Dtype  \n",
      "---  ------      --------------    -----  \n",
      " 0   jjhklb      1827036 non-null  int64  \n",
      " 1   hydm        1827036 non-null  object \n",
      " 2   zczb        1827036 non-null  float64\n",
      " 3   jyzt        1827036 non-null  float64\n",
      " 4   qylx        1827036 non-null  int64  \n",
      " 5   tslx        1827036 non-null  int64  \n",
      " 6   new         1827036 non-null  object \n",
      " 7   time_scale  1827036 non-null  object \n",
      " 8   city        1827036 non-null  object \n",
      " 9   three       1827036 non-null  object \n",
      " 10  scale       1827036 non-null  object \n",
      " 11  foreign     1827036 non-null  int64  \n",
      " 12  X1_2        1827036 non-null  int64  \n",
      " 13  X3          1827036 non-null  int64  \n",
      " 14  X4          1827036 non-null  int64  \n",
      " 15  X5          1827036 non-null  float64\n",
      " 16  X6          1827036 non-null  float64\n",
      " 17  X12         1827036 non-null  float64\n",
      " 18  X13         1827036 non-null  float64\n",
      " 19  X15         1827036 non-null  int64  \n",
      " 20  X7          1827036 non-null  float64\n",
      " 21  X10         1827036 non-null  float64\n",
      " 22  X11         1827036 non-null  float64\n",
      " 23  X14         8414 non-null     float64\n",
      "dtypes: float64(10), int64(8), object(6)\n",
      "memory usage: 348.5+ MB\n"
     ]
    }
   ],
   "source": [
    "new_file = new_file.join(df_nums)\n",
    "new_file.info(null_counts = True)"
   ]
  },
  {
   "cell_type": "code",
   "execution_count": 99,
   "metadata": {
    "ExecuteTime": {
     "end_time": "2022-06-30T02:17:40.541745Z",
     "start_time": "2022-06-30T02:17:39.310649Z"
    }
   },
   "outputs": [
    {
     "name": "stdout",
     "output_type": "stream",
     "text": [
      "<class 'pandas.core.frame.DataFrame'>\n",
      "Int64Index: 1827036 entries, 2420200000050231 to 442010000019652554\n",
      "Data columns (total 24 columns):\n",
      " #   Column      Non-Null Count    Dtype  \n",
      "---  ------      --------------    -----  \n",
      " 0   jjhklb      1827036 non-null  int64  \n",
      " 1   hydm        1827036 non-null  object \n",
      " 2   zczb        1827036 non-null  float64\n",
      " 3   jyzt        1827036 non-null  float64\n",
      " 4   qylx        1827036 non-null  int64  \n",
      " 5   tslx        1827036 non-null  int64  \n",
      " 6   new         1827036 non-null  object \n",
      " 7   time_scale  1827036 non-null  object \n",
      " 8   city        1827036 non-null  object \n",
      " 9   three       1827036 non-null  object \n",
      " 10  scale       1827036 non-null  object \n",
      " 11  foreign     1827036 non-null  int64  \n",
      " 12  X1_2        1827036 non-null  int64  \n",
      " 13  X3          1827036 non-null  int64  \n",
      " 14  X4          1827036 non-null  int64  \n",
      " 15  X5          1827036 non-null  float64\n",
      " 16  X6          1827036 non-null  float64\n",
      " 17  X12         1827036 non-null  float64\n",
      " 18  X13         1827036 non-null  float64\n",
      " 19  X15         1827036 non-null  int64  \n",
      " 20  X7          1827036 non-null  float64\n",
      " 21  X10         1827036 non-null  float64\n",
      " 22  X11         1827036 non-null  float64\n",
      " 23  X14         1827036 non-null  float64\n",
      "dtypes: float64(10), int64(8), object(6)\n",
      "memory usage: 348.5+ MB\n"
     ]
    }
   ],
   "source": [
    "# 缺失值填补\n",
    "new_file['X14'].fillna(value=0, inplace=True)\n",
    "new_file.info(null_counts = True)"
   ]
  },
  {
   "cell_type": "markdown",
   "metadata": {},
   "source": [
    "## 添加特征X8、X9、X16、X17、X18"
   ]
  },
  {
   "cell_type": "markdown",
   "metadata": {},
   "source": [
    "这些特征无来源，都赋值为0"
   ]
  },
  {
   "cell_type": "code",
   "execution_count": 100,
   "metadata": {
    "ExecuteTime": {
     "end_time": "2022-06-30T02:17:41.795108Z",
     "start_time": "2022-06-30T02:17:40.543679Z"
    }
   },
   "outputs": [
    {
     "name": "stdout",
     "output_type": "stream",
     "text": [
      "<class 'pandas.core.frame.DataFrame'>\n",
      "Int64Index: 1827036 entries, 2420200000050231 to 442010000019652554\n",
      "Data columns (total 29 columns):\n",
      " #   Column      Non-Null Count    Dtype  \n",
      "---  ------      --------------    -----  \n",
      " 0   jjhklb      1827036 non-null  int64  \n",
      " 1   hydm        1827036 non-null  object \n",
      " 2   zczb        1827036 non-null  float64\n",
      " 3   jyzt        1827036 non-null  float64\n",
      " 4   qylx        1827036 non-null  int64  \n",
      " 5   tslx        1827036 non-null  int64  \n",
      " 6   new         1827036 non-null  object \n",
      " 7   time_scale  1827036 non-null  object \n",
      " 8   city        1827036 non-null  object \n",
      " 9   three       1827036 non-null  object \n",
      " 10  scale       1827036 non-null  object \n",
      " 11  foreign     1827036 non-null  int64  \n",
      " 12  X1_2        1827036 non-null  int64  \n",
      " 13  X3          1827036 non-null  int64  \n",
      " 14  X4          1827036 non-null  int64  \n",
      " 15  X5          1827036 non-null  float64\n",
      " 16  X6          1827036 non-null  float64\n",
      " 17  X12         1827036 non-null  float64\n",
      " 18  X13         1827036 non-null  float64\n",
      " 19  X15         1827036 non-null  int64  \n",
      " 20  X7          1827036 non-null  float64\n",
      " 21  X10         1827036 non-null  float64\n",
      " 22  X11         1827036 non-null  float64\n",
      " 23  X14         1827036 non-null  float64\n",
      " 24  X8          1827036 non-null  int64  \n",
      " 25  X9          1827036 non-null  int64  \n",
      " 26  X16         1827036 non-null  int64  \n",
      " 27  X17         1827036 non-null  int64  \n",
      " 28  X18         1827036 non-null  int64  \n",
      "dtypes: float64(10), int64(13), object(6)\n",
      "memory usage: 418.2+ MB\n"
     ]
    }
   ],
   "source": [
    "new_file['X8'] = 0\n",
    "new_file['X9'] = 0\n",
    "new_file['X16'] = 0\n",
    "new_file['X17'] = 0\n",
    "new_file['X18'] = 0\n",
    "new_file.info(null_counts = True)"
   ]
  },
  {
   "cell_type": "markdown",
   "metadata": {},
   "source": [
    "# 调整顺序"
   ]
  },
  {
   "cell_type": "code",
   "execution_count": 101,
   "metadata": {
    "ExecuteTime": {
     "end_time": "2022-06-30T02:17:43.093607Z",
     "start_time": "2022-06-30T02:17:41.797104Z"
    }
   },
   "outputs": [
    {
     "name": "stdout",
     "output_type": "stream",
     "text": [
      "<class 'pandas.core.frame.DataFrame'>\n",
      "Int64Index: 1827036 entries, 2420200000050231 to 442010000019652554\n",
      "Data columns (total 29 columns):\n",
      " #   Column      Non-Null Count    Dtype  \n",
      "---  ------      --------------    -----  \n",
      " 0   jjhklb      1827036 non-null  int64  \n",
      " 1   hydm        1827036 non-null  object \n",
      " 2   zczb        1827036 non-null  float64\n",
      " 3   jyzt        1827036 non-null  float64\n",
      " 4   qylx        1827036 non-null  int64  \n",
      " 5   tslx        1827036 non-null  int64  \n",
      " 6   new         1827036 non-null  object \n",
      " 7   time_scale  1827036 non-null  object \n",
      " 8   city        1827036 non-null  object \n",
      " 9   three       1827036 non-null  object \n",
      " 10  scale       1827036 non-null  object \n",
      " 11  foreign     1827036 non-null  int64  \n",
      " 12  X1_2        1827036 non-null  int64  \n",
      " 13  X3          1827036 non-null  int64  \n",
      " 14  X4          1827036 non-null  int64  \n",
      " 15  X5          1827036 non-null  float64\n",
      " 16  X6          1827036 non-null  float64\n",
      " 17  X7          1827036 non-null  float64\n",
      " 18  X8          1827036 non-null  int64  \n",
      " 19  X9          1827036 non-null  int64  \n",
      " 20  X10         1827036 non-null  float64\n",
      " 21  X11         1827036 non-null  float64\n",
      " 22  X12         1827036 non-null  float64\n",
      " 23  X13         1827036 non-null  float64\n",
      " 24  X14         1827036 non-null  float64\n",
      " 25  X15         1827036 non-null  int64  \n",
      " 26  X16         1827036 non-null  int64  \n",
      " 27  X17         1827036 non-null  int64  \n",
      " 28  X18         1827036 non-null  int64  \n",
      "dtypes: float64(10), int64(13), object(6)\n",
      "memory usage: 418.2+ MB\n"
     ]
    }
   ],
   "source": [
    "col_num = new_file.shape[1]\n",
    "new_file.insert(col_num-12, 'X7', new_file.pop('X7'))\n",
    "new_file.insert(col_num-11, 'X8', new_file.pop('X8'))\n",
    "new_file.insert(col_num-10, 'X9', new_file.pop('X9'))\n",
    "new_file.insert(col_num-9, 'X10', new_file.pop('X10'))\n",
    "new_file.insert(col_num-8, 'X11', new_file.pop('X11'))\n",
    "new_file.insert(col_num-7, 'X12', new_file.pop('X12'))\n",
    "new_file.insert(col_num-6, 'X13', new_file.pop('X13'))\n",
    "new_file.insert(col_num-5, 'X14', new_file.pop('X14'))\n",
    "new_file.insert(col_num-4, 'X15', new_file.pop('X15'))\n",
    "new_file.insert(col_num-3, 'X16', new_file.pop('X16'))\n",
    "new_file.insert(col_num-2, 'X17', new_file.pop('X17'))\n",
    "new_file.insert(col_num-1, 'X18', new_file.pop('X18'))\n",
    "new_file.info(null_counts = True)"
   ]
  },
  {
   "cell_type": "code",
   "execution_count": 102,
   "metadata": {
    "ExecuteTime": {
     "end_time": "2022-06-30T02:17:43.124553Z",
     "start_time": "2022-06-30T02:17:43.095602Z"
    }
   },
   "outputs": [
    {
     "data": {
      "text/html": [
       "<div>\n",
       "<style scoped>\n",
       "    .dataframe tbody tr th:only-of-type {\n",
       "        vertical-align: middle;\n",
       "    }\n",
       "\n",
       "    .dataframe tbody tr th {\n",
       "        vertical-align: top;\n",
       "    }\n",
       "\n",
       "    .dataframe thead th {\n",
       "        text-align: right;\n",
       "    }\n",
       "</style>\n",
       "<table border=\"1\" class=\"dataframe\">\n",
       "  <thead>\n",
       "    <tr style=\"text-align: right;\">\n",
       "      <th></th>\n",
       "      <th>jjhklb</th>\n",
       "      <th>hydm</th>\n",
       "      <th>zczb</th>\n",
       "      <th>jyzt</th>\n",
       "      <th>qylx</th>\n",
       "      <th>tslx</th>\n",
       "      <th>new</th>\n",
       "      <th>time_scale</th>\n",
       "      <th>city</th>\n",
       "      <th>three</th>\n",
       "      <th>...</th>\n",
       "      <th>X9</th>\n",
       "      <th>X10</th>\n",
       "      <th>X11</th>\n",
       "      <th>X12</th>\n",
       "      <th>X13</th>\n",
       "      <th>X14</th>\n",
       "      <th>X15</th>\n",
       "      <th>X16</th>\n",
       "      <th>X17</th>\n",
       "      <th>X18</th>\n",
       "    </tr>\n",
       "  </thead>\n",
       "  <tbody>\n",
       "    <tr>\n",
       "      <th>2420200000050231</th>\n",
       "      <td>3</td>\n",
       "      <td>R</td>\n",
       "      <td>50.000</td>\n",
       "      <td>1.000</td>\n",
       "      <td>4540</td>\n",
       "      <td>6</td>\n",
       "      <td>2007-04</td>\n",
       "      <td>4</td>\n",
       "      <td>黄石市</td>\n",
       "      <td>3</td>\n",
       "      <td>...</td>\n",
       "      <td>0</td>\n",
       "      <td>0.000</td>\n",
       "      <td>0.000</td>\n",
       "      <td>0.000</td>\n",
       "      <td>0.000</td>\n",
       "      <td>0.000</td>\n",
       "      <td>0</td>\n",
       "      <td>0</td>\n",
       "      <td>0</td>\n",
       "      <td>0</td>\n",
       "    </tr>\n",
       "    <tr>\n",
       "      <th>2422800000117935</th>\n",
       "      <td>3</td>\n",
       "      <td>Z</td>\n",
       "      <td>1.000</td>\n",
       "      <td>1.000</td>\n",
       "      <td>2130</td>\n",
       "      <td>6</td>\n",
       "      <td>2014-01</td>\n",
       "      <td>3</td>\n",
       "      <td>恩施州</td>\n",
       "      <td>3</td>\n",
       "      <td>...</td>\n",
       "      <td>0</td>\n",
       "      <td>0.000</td>\n",
       "      <td>0.000</td>\n",
       "      <td>0.000</td>\n",
       "      <td>0.000</td>\n",
       "      <td>0.000</td>\n",
       "      <td>0</td>\n",
       "      <td>0</td>\n",
       "      <td>0</td>\n",
       "      <td>0</td>\n",
       "    </tr>\n",
       "    <tr>\n",
       "      <th>3420800000070431</th>\n",
       "      <td>3</td>\n",
       "      <td>C</td>\n",
       "      <td>300.000</td>\n",
       "      <td>1.000</td>\n",
       "      <td>4540</td>\n",
       "      <td>6</td>\n",
       "      <td>2003-08</td>\n",
       "      <td>4</td>\n",
       "      <td>荆门市</td>\n",
       "      <td>2</td>\n",
       "      <td>...</td>\n",
       "      <td>0</td>\n",
       "      <td>0.000</td>\n",
       "      <td>0.000</td>\n",
       "      <td>0.000</td>\n",
       "      <td>0.000</td>\n",
       "      <td>0.000</td>\n",
       "      <td>0</td>\n",
       "      <td>0</td>\n",
       "      <td>0</td>\n",
       "      <td>0</td>\n",
       "    </tr>\n",
       "    <tr>\n",
       "      <th>3421100000105274</th>\n",
       "      <td>3</td>\n",
       "      <td>H</td>\n",
       "      <td>8.000</td>\n",
       "      <td>1.000</td>\n",
       "      <td>4540</td>\n",
       "      <td>6</td>\n",
       "      <td>2013-11</td>\n",
       "      <td>3</td>\n",
       "      <td>黄冈市</td>\n",
       "      <td>3</td>\n",
       "      <td>...</td>\n",
       "      <td>0</td>\n",
       "      <td>0.000</td>\n",
       "      <td>0.000</td>\n",
       "      <td>0.000</td>\n",
       "      <td>0.000</td>\n",
       "      <td>0.000</td>\n",
       "      <td>0</td>\n",
       "      <td>0</td>\n",
       "      <td>0</td>\n",
       "      <td>0</td>\n",
       "    </tr>\n",
       "    <tr>\n",
       "      <th>3429004000003400</th>\n",
       "      <td>3</td>\n",
       "      <td>Z</td>\n",
       "      <td>1.000</td>\n",
       "      <td>1.000</td>\n",
       "      <td>4540</td>\n",
       "      <td>6</td>\n",
       "      <td>2010-09</td>\n",
       "      <td>4</td>\n",
       "      <td>仙桃市</td>\n",
       "      <td>3</td>\n",
       "      <td>...</td>\n",
       "      <td>0</td>\n",
       "      <td>0.000</td>\n",
       "      <td>0.000</td>\n",
       "      <td>0.000</td>\n",
       "      <td>0.000</td>\n",
       "      <td>0.000</td>\n",
       "      <td>0</td>\n",
       "      <td>0</td>\n",
       "      <td>0</td>\n",
       "      <td>0</td>\n",
       "    </tr>\n",
       "    <tr>\n",
       "      <th>3431300000047415</th>\n",
       "      <td>1</td>\n",
       "      <td>Z</td>\n",
       "      <td>3.000</td>\n",
       "      <td>1.000</td>\n",
       "      <td>2140</td>\n",
       "      <td>6</td>\n",
       "      <td>2012-09</td>\n",
       "      <td>3</td>\n",
       "      <td>随州市</td>\n",
       "      <td>3</td>\n",
       "      <td>...</td>\n",
       "      <td>0</td>\n",
       "      <td>0.000</td>\n",
       "      <td>0.000</td>\n",
       "      <td>0.000</td>\n",
       "      <td>0.000</td>\n",
       "      <td>0.000</td>\n",
       "      <td>0</td>\n",
       "      <td>0</td>\n",
       "      <td>0</td>\n",
       "      <td>0</td>\n",
       "    </tr>\n",
       "    <tr>\n",
       "      <th>3431300000051288</th>\n",
       "      <td>1</td>\n",
       "      <td>Z</td>\n",
       "      <td>2.000</td>\n",
       "      <td>0.000</td>\n",
       "      <td>2122</td>\n",
       "      <td>7</td>\n",
       "      <td>2007-09</td>\n",
       "      <td>4</td>\n",
       "      <td>随州市</td>\n",
       "      <td>3</td>\n",
       "      <td>...</td>\n",
       "      <td>0</td>\n",
       "      <td>0.000</td>\n",
       "      <td>0.000</td>\n",
       "      <td>0.000</td>\n",
       "      <td>0.000</td>\n",
       "      <td>0.000</td>\n",
       "      <td>0</td>\n",
       "      <td>0</td>\n",
       "      <td>0</td>\n",
       "      <td>0</td>\n",
       "    </tr>\n",
       "    <tr>\n",
       "      <th>4420100000000138</th>\n",
       "      <td>3</td>\n",
       "      <td>L</td>\n",
       "      <td>1000.000</td>\n",
       "      <td>1.000</td>\n",
       "      <td>1100</td>\n",
       "      <td>9</td>\n",
       "      <td>2003-11</td>\n",
       "      <td>4</td>\n",
       "      <td>黄石市</td>\n",
       "      <td>3</td>\n",
       "      <td>...</td>\n",
       "      <td>0</td>\n",
       "      <td>0.000</td>\n",
       "      <td>0.000</td>\n",
       "      <td>0.000</td>\n",
       "      <td>0.000</td>\n",
       "      <td>0.000</td>\n",
       "      <td>0</td>\n",
       "      <td>0</td>\n",
       "      <td>0</td>\n",
       "      <td>0</td>\n",
       "    </tr>\n",
       "    <tr>\n",
       "      <th>4420100000000144</th>\n",
       "      <td>3</td>\n",
       "      <td>L</td>\n",
       "      <td>1000.000</td>\n",
       "      <td>1.000</td>\n",
       "      <td>1100</td>\n",
       "      <td>9</td>\n",
       "      <td>1997-03</td>\n",
       "      <td>4</td>\n",
       "      <td>武汉市</td>\n",
       "      <td>3</td>\n",
       "      <td>...</td>\n",
       "      <td>0</td>\n",
       "      <td>0.000</td>\n",
       "      <td>0.000</td>\n",
       "      <td>0.000</td>\n",
       "      <td>0.000</td>\n",
       "      <td>0.000</td>\n",
       "      <td>0</td>\n",
       "      <td>0</td>\n",
       "      <td>0</td>\n",
       "      <td>0</td>\n",
       "    </tr>\n",
       "    <tr>\n",
       "      <th>4420100000000243</th>\n",
       "      <td>3</td>\n",
       "      <td>E</td>\n",
       "      <td>150.000</td>\n",
       "      <td>1.000</td>\n",
       "      <td>1100</td>\n",
       "      <td>9</td>\n",
       "      <td>2002-04</td>\n",
       "      <td>4</td>\n",
       "      <td>武汉市</td>\n",
       "      <td>2</td>\n",
       "      <td>...</td>\n",
       "      <td>0</td>\n",
       "      <td>0.000</td>\n",
       "      <td>0.000</td>\n",
       "      <td>0.000</td>\n",
       "      <td>0.000</td>\n",
       "      <td>0.000</td>\n",
       "      <td>0</td>\n",
       "      <td>0</td>\n",
       "      <td>0</td>\n",
       "      <td>0</td>\n",
       "    </tr>\n",
       "  </tbody>\n",
       "</table>\n",
       "<p>10 rows × 29 columns</p>\n",
       "</div>"
      ],
      "text/plain": [
       "                  jjhklb hydm     zczb  jyzt  qylx  tslx      new time_scale  \\\n",
       "2420200000050231       3    R   50.000 1.000  4540     6  2007-04          4   \n",
       "2422800000117935       3    Z    1.000 1.000  2130     6  2014-01          3   \n",
       "3420800000070431       3    C  300.000 1.000  4540     6  2003-08          4   \n",
       "3421100000105274       3    H    8.000 1.000  4540     6  2013-11          3   \n",
       "3429004000003400       3    Z    1.000 1.000  4540     6  2010-09          4   \n",
       "3431300000047415       1    Z    3.000 1.000  2140     6  2012-09          3   \n",
       "3431300000051288       1    Z    2.000 0.000  2122     7  2007-09          4   \n",
       "4420100000000138       3    L 1000.000 1.000  1100     9  2003-11          4   \n",
       "4420100000000144       3    L 1000.000 1.000  1100     9  1997-03          4   \n",
       "4420100000000243       3    E  150.000 1.000  1100     9  2002-04          4   \n",
       "\n",
       "                 city three  ... X9   X10   X11   X12   X13   X14  X15  X16  \\\n",
       "2420200000050231  黄石市     3  ...  0 0.000 0.000 0.000 0.000 0.000    0    0   \n",
       "2422800000117935  恩施州     3  ...  0 0.000 0.000 0.000 0.000 0.000    0    0   \n",
       "3420800000070431  荆门市     2  ...  0 0.000 0.000 0.000 0.000 0.000    0    0   \n",
       "3421100000105274  黄冈市     3  ...  0 0.000 0.000 0.000 0.000 0.000    0    0   \n",
       "3429004000003400  仙桃市     3  ...  0 0.000 0.000 0.000 0.000 0.000    0    0   \n",
       "3431300000047415  随州市     3  ...  0 0.000 0.000 0.000 0.000 0.000    0    0   \n",
       "3431300000051288  随州市     3  ...  0 0.000 0.000 0.000 0.000 0.000    0    0   \n",
       "4420100000000138  黄石市     3  ...  0 0.000 0.000 0.000 0.000 0.000    0    0   \n",
       "4420100000000144  武汉市     3  ...  0 0.000 0.000 0.000 0.000 0.000    0    0   \n",
       "4420100000000243  武汉市     2  ...  0 0.000 0.000 0.000 0.000 0.000    0    0   \n",
       "\n",
       "                  X17  X18  \n",
       "2420200000050231    0    0  \n",
       "2422800000117935    0    0  \n",
       "3420800000070431    0    0  \n",
       "3421100000105274    0    0  \n",
       "3429004000003400    0    0  \n",
       "3431300000047415    0    0  \n",
       "3431300000051288    0    0  \n",
       "4420100000000138    0    0  \n",
       "4420100000000144    0    0  \n",
       "4420100000000243    0    0  \n",
       "\n",
       "[10 rows x 29 columns]"
      ]
     },
     "execution_count": 102,
     "metadata": {},
     "output_type": "execute_result"
    }
   ],
   "source": [
    "new_file[:10]"
   ]
  },
  {
   "cell_type": "markdown",
   "metadata": {},
   "source": [
    "# 去除重复值"
   ]
  },
  {
   "cell_type": "markdown",
   "metadata": {},
   "source": [
    "## 重设索引"
   ]
  },
  {
   "cell_type": "code",
   "execution_count": 103,
   "metadata": {
    "ExecuteTime": {
     "end_time": "2022-06-30T02:17:43.425356Z",
     "start_time": "2022-06-30T02:17:43.126520Z"
    }
   },
   "outputs": [
    {
     "data": {
      "text/plain": [
       "21"
      ]
     },
     "execution_count": 103,
     "metadata": {},
     "output_type": "execute_result"
    }
   ],
   "source": [
    "del file\n",
    "gc.collect()"
   ]
  },
  {
   "cell_type": "code",
   "execution_count": 104,
   "metadata": {
    "ExecuteTime": {
     "end_time": "2022-06-30T02:17:45.248510Z",
     "start_time": "2022-06-30T02:17:43.427351Z"
    }
   },
   "outputs": [
    {
     "name": "stdout",
     "output_type": "stream",
     "text": [
      "<class 'pandas.core.frame.DataFrame'>\n",
      "RangeIndex: 1827036 entries, 0 to 1827035\n",
      "Data columns (total 30 columns):\n",
      " #   Column      Non-Null Count    Dtype  \n",
      "---  ------      --------------    -----  \n",
      " 0   index       1827036 non-null  int64  \n",
      " 1   jjhklb      1827036 non-null  int64  \n",
      " 2   hydm        1827036 non-null  object \n",
      " 3   zczb        1827036 non-null  float64\n",
      " 4   jyzt        1827036 non-null  float64\n",
      " 5   qylx        1827036 non-null  int64  \n",
      " 6   tslx        1827036 non-null  int64  \n",
      " 7   new         1827036 non-null  object \n",
      " 8   time_scale  1827036 non-null  object \n",
      " 9   city        1827036 non-null  object \n",
      " 10  three       1827036 non-null  object \n",
      " 11  scale       1827036 non-null  object \n",
      " 12  foreign     1827036 non-null  int64  \n",
      " 13  X1_2        1827036 non-null  int64  \n",
      " 14  X3          1827036 non-null  int64  \n",
      " 15  X4          1827036 non-null  int64  \n",
      " 16  X5          1827036 non-null  float64\n",
      " 17  X6          1827036 non-null  float64\n",
      " 18  X7          1827036 non-null  float64\n",
      " 19  X8          1827036 non-null  int64  \n",
      " 20  X9          1827036 non-null  int64  \n",
      " 21  X10         1827036 non-null  float64\n",
      " 22  X11         1827036 non-null  float64\n",
      " 23  X12         1827036 non-null  float64\n",
      " 24  X13         1827036 non-null  float64\n",
      " 25  X14         1827036 non-null  float64\n",
      " 26  X15         1827036 non-null  int64  \n",
      " 27  X16         1827036 non-null  int64  \n",
      " 28  X17         1827036 non-null  int64  \n",
      " 29  X18         1827036 non-null  int64  \n",
      "dtypes: float64(10), int64(14), object(6)\n",
      "memory usage: 418.2+ MB\n",
      "None\n"
     ]
    },
    {
     "data": {
      "text/html": [
       "<div>\n",
       "<style scoped>\n",
       "    .dataframe tbody tr th:only-of-type {\n",
       "        vertical-align: middle;\n",
       "    }\n",
       "\n",
       "    .dataframe tbody tr th {\n",
       "        vertical-align: top;\n",
       "    }\n",
       "\n",
       "    .dataframe thead th {\n",
       "        text-align: right;\n",
       "    }\n",
       "</style>\n",
       "<table border=\"1\" class=\"dataframe\">\n",
       "  <thead>\n",
       "    <tr style=\"text-align: right;\">\n",
       "      <th></th>\n",
       "      <th>index</th>\n",
       "      <th>jjhklb</th>\n",
       "      <th>hydm</th>\n",
       "      <th>zczb</th>\n",
       "      <th>jyzt</th>\n",
       "      <th>qylx</th>\n",
       "      <th>tslx</th>\n",
       "      <th>new</th>\n",
       "      <th>time_scale</th>\n",
       "      <th>city</th>\n",
       "      <th>...</th>\n",
       "      <th>X9</th>\n",
       "      <th>X10</th>\n",
       "      <th>X11</th>\n",
       "      <th>X12</th>\n",
       "      <th>X13</th>\n",
       "      <th>X14</th>\n",
       "      <th>X15</th>\n",
       "      <th>X16</th>\n",
       "      <th>X17</th>\n",
       "      <th>X18</th>\n",
       "    </tr>\n",
       "  </thead>\n",
       "  <tbody>\n",
       "    <tr>\n",
       "      <th>0</th>\n",
       "      <td>2420200000050231</td>\n",
       "      <td>3</td>\n",
       "      <td>R</td>\n",
       "      <td>50.000</td>\n",
       "      <td>1.000</td>\n",
       "      <td>4540</td>\n",
       "      <td>6</td>\n",
       "      <td>2007-04</td>\n",
       "      <td>4</td>\n",
       "      <td>黄石市</td>\n",
       "      <td>...</td>\n",
       "      <td>0</td>\n",
       "      <td>0.000</td>\n",
       "      <td>0.000</td>\n",
       "      <td>0.000</td>\n",
       "      <td>0.000</td>\n",
       "      <td>0.000</td>\n",
       "      <td>0</td>\n",
       "      <td>0</td>\n",
       "      <td>0</td>\n",
       "      <td>0</td>\n",
       "    </tr>\n",
       "    <tr>\n",
       "      <th>1</th>\n",
       "      <td>2422800000117935</td>\n",
       "      <td>3</td>\n",
       "      <td>Z</td>\n",
       "      <td>1.000</td>\n",
       "      <td>1.000</td>\n",
       "      <td>2130</td>\n",
       "      <td>6</td>\n",
       "      <td>2014-01</td>\n",
       "      <td>3</td>\n",
       "      <td>恩施州</td>\n",
       "      <td>...</td>\n",
       "      <td>0</td>\n",
       "      <td>0.000</td>\n",
       "      <td>0.000</td>\n",
       "      <td>0.000</td>\n",
       "      <td>0.000</td>\n",
       "      <td>0.000</td>\n",
       "      <td>0</td>\n",
       "      <td>0</td>\n",
       "      <td>0</td>\n",
       "      <td>0</td>\n",
       "    </tr>\n",
       "  </tbody>\n",
       "</table>\n",
       "<p>2 rows × 30 columns</p>\n",
       "</div>"
      ],
      "text/plain": [
       "              index  jjhklb hydm   zczb  jyzt  qylx  tslx      new time_scale  \\\n",
       "0  2420200000050231       3    R 50.000 1.000  4540     6  2007-04          4   \n",
       "1  2422800000117935       3    Z  1.000 1.000  2130     6  2014-01          3   \n",
       "\n",
       "  city  ... X9   X10   X11   X12   X13   X14  X15  X16  X17  X18  \n",
       "0  黄石市  ...  0 0.000 0.000 0.000 0.000 0.000    0    0    0    0  \n",
       "1  恩施州  ...  0 0.000 0.000 0.000 0.000 0.000    0    0    0    0  \n",
       "\n",
       "[2 rows x 30 columns]"
      ]
     },
     "execution_count": 104,
     "metadata": {},
     "output_type": "execute_result"
    }
   ],
   "source": [
    "new_file = new_file.reset_index()\n",
    "print(new_file.info(null_counts = True))\n",
    "new_file[:2]"
   ]
  },
  {
   "cell_type": "markdown",
   "metadata": {},
   "source": [
    "## 统计重复"
   ]
  },
  {
   "cell_type": "code",
   "execution_count": 105,
   "metadata": {
    "ExecuteTime": {
     "end_time": "2022-06-30T02:17:45.676153Z",
     "start_time": "2022-06-30T02:17:45.250481Z"
    }
   },
   "outputs": [
    {
     "data": {
      "text/plain": [
       "420000000009275200    3\n",
       "420000000008824832    3\n",
       "420000000008710208    2\n",
       "420000000009152960    2\n",
       "24250000012758688     2\n",
       "                     ..\n",
       "142000010157566539    1\n",
       "142000010157563223    1\n",
       "142000010157562826    1\n",
       "142000010157562622    1\n",
       "442010000019652554    1\n",
       "Name: nbxh, Length: 1827023, dtype: int64"
      ]
     },
     "execution_count": 105,
     "metadata": {},
     "output_type": "execute_result"
    }
   ],
   "source": [
    "new_file.rename(\n",
    "    columns={'index': 'nbxh' }, \n",
    "    inplace=True)\n",
    "re_nums = new_file['nbxh'].value_counts()\n",
    "re_nums"
   ]
  },
  {
   "cell_type": "markdown",
   "metadata": {},
   "source": [
    "## 删除重复"
   ]
  },
  {
   "cell_type": "code",
   "execution_count": 106,
   "metadata": {
    "ExecuteTime": {
     "end_time": "2022-06-30T02:17:47.600470Z",
     "start_time": "2022-06-30T02:17:45.678145Z"
    }
   },
   "outputs": [
    {
     "name": "stdout",
     "output_type": "stream",
     "text": [
      "<class 'pandas.core.frame.DataFrame'>\n",
      "Int64Index: 1827023 entries, 0 to 1827035\n",
      "Data columns (total 30 columns):\n",
      " #   Column      Non-Null Count    Dtype  \n",
      "---  ------      --------------    -----  \n",
      " 0   nbxh        1827023 non-null  int64  \n",
      " 1   jjhklb      1827023 non-null  int64  \n",
      " 2   hydm        1827023 non-null  object \n",
      " 3   zczb        1827023 non-null  float64\n",
      " 4   jyzt        1827023 non-null  float64\n",
      " 5   qylx        1827023 non-null  int64  \n",
      " 6   tslx        1827023 non-null  int64  \n",
      " 7   new         1827023 non-null  object \n",
      " 8   time_scale  1827023 non-null  object \n",
      " 9   city        1827023 non-null  object \n",
      " 10  three       1827023 non-null  object \n",
      " 11  scale       1827023 non-null  object \n",
      " 12  foreign     1827023 non-null  int64  \n",
      " 13  X1_2        1827023 non-null  int64  \n",
      " 14  X3          1827023 non-null  int64  \n",
      " 15  X4          1827023 non-null  int64  \n",
      " 16  X5          1827023 non-null  float64\n",
      " 17  X6          1827023 non-null  float64\n",
      " 18  X7          1827023 non-null  float64\n",
      " 19  X8          1827023 non-null  int64  \n",
      " 20  X9          1827023 non-null  int64  \n",
      " 21  X10         1827023 non-null  float64\n",
      " 22  X11         1827023 non-null  float64\n",
      " 23  X12         1827023 non-null  float64\n",
      " 24  X13         1827023 non-null  float64\n",
      " 25  X14         1827023 non-null  float64\n",
      " 26  X15         1827023 non-null  int64  \n",
      " 27  X16         1827023 non-null  int64  \n",
      " 28  X17         1827023 non-null  int64  \n",
      " 29  X18         1827023 non-null  int64  \n",
      "dtypes: float64(10), int64(14), object(6)\n",
      "memory usage: 432.1+ MB\n"
     ]
    }
   ],
   "source": [
    "new_file.drop_duplicates(subset=['nbxh'], keep='first', inplace=True)\n",
    "new_file.info(null_counts = True)"
   ]
  },
  {
   "cell_type": "markdown",
   "metadata": {},
   "source": [
    "# 保存"
   ]
  },
  {
   "cell_type": "code",
   "execution_count": 107,
   "metadata": {
    "ExecuteTime": {
     "end_time": "2022-06-30T02:18:03.260355Z",
     "start_time": "2022-06-30T02:17:47.602462Z"
    }
   },
   "outputs": [],
   "source": [
    "path = './DataCleaning_quarterTwo_1.csv'\n",
    "new_file.to_csv(path, index=False)"
   ]
  }
 ],
 "metadata": {
  "hide_input": false,
  "kernelspec": {
   "display_name": "Python 3 (ipykernel)",
   "language": "python",
   "name": "python3"
  },
  "language_info": {
   "codemirror_mode": {
    "name": "ipython",
    "version": 3
   },
   "file_extension": ".py",
   "mimetype": "text/x-python",
   "name": "python",
   "nbconvert_exporter": "python",
   "pygments_lexer": "ipython3",
   "version": "3.8.0"
  },
  "toc": {
   "base_numbering": 1,
   "nav_menu": {},
   "number_sections": true,
   "sideBar": true,
   "skip_h1_title": false,
   "title_cell": "Table of Contents",
   "title_sidebar": "Contents",
   "toc_cell": true,
   "toc_position": {
    "height": "calc(100% - 180px)",
    "left": "10px",
    "top": "150px",
    "width": "208.949px"
   },
   "toc_section_display": true,
   "toc_window_display": true
  },
  "varInspector": {
   "cols": {
    "lenName": 16,
    "lenType": 16,
    "lenVar": 40
   },
   "kernels_config": {
    "python": {
     "delete_cmd_postfix": "",
     "delete_cmd_prefix": "del ",
     "library": "var_list.py",
     "varRefreshCmd": "print(var_dic_list())"
    },
    "r": {
     "delete_cmd_postfix": ") ",
     "delete_cmd_prefix": "rm(",
     "library": "var_list.r",
     "varRefreshCmd": "cat(var_dic_list()) "
    }
   },
   "types_to_exclude": [
    "module",
    "function",
    "builtin_function_or_method",
    "instance",
    "_Feature"
   ],
   "window_display": false
  }
 },
 "nbformat": 4,
 "nbformat_minor": 2
}
