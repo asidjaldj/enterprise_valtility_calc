{
 "cells": [
  {
   "cell_type": "markdown",
   "metadata": {
    "toc": true
   },
   "source": [
    "<h1>Table of Contents<span class=\"tocSkip\"></span></h1>\n",
    "<div class=\"toc\"><ul class=\"toc-item\"><li><span><a href=\"#读取\" data-toc-modified-id=\"读取-1\"><span class=\"toc-item-num\">1&nbsp;&nbsp;</span>读取</a></span><ul class=\"toc-item\"><li><span><a href=\"#调整参数X18(临时更改)\" data-toc-modified-id=\"调整参数X18(临时更改)-1.1\"><span class=\"toc-item-num\">1.1&nbsp;&nbsp;</span>调整参数X18(临时更改)</a></span></li></ul></li><li><span><a href=\"#划分行业\" data-toc-modified-id=\"划分行业-2\"><span class=\"toc-item-num\">2&nbsp;&nbsp;</span>划分行业</a></span></li><li><span><a href=\"#异常值处理\" data-toc-modified-id=\"异常值处理-3\"><span class=\"toc-item-num\">3&nbsp;&nbsp;</span>异常值处理</a></span><ul class=\"toc-item\"><li><span><a href=\"#计算均值和标准差\" data-toc-modified-id=\"计算均值和标准差-3.1\"><span class=\"toc-item-num\">3.1&nbsp;&nbsp;</span>计算均值和标准差</a></span></li><li><span><a href=\"#空值填充\" data-toc-modified-id=\"空值填充-3.2\"><span class=\"toc-item-num\">3.2&nbsp;&nbsp;</span>空值填充</a></span></li><li><span><a href=\"#计算取值范围\" data-toc-modified-id=\"计算取值范围-3.3\"><span class=\"toc-item-num\">3.3&nbsp;&nbsp;</span>计算取值范围</a></span></li><li><span><a href=\"#将非0的数据标准化\" data-toc-modified-id=\"将非0的数据标准化-3.4\"><span class=\"toc-item-num\">3.4&nbsp;&nbsp;</span>将非0的数据标准化</a></span></li><li><span><a href=\"#重新计算平均值\" data-toc-modified-id=\"重新计算平均值-3.5\"><span class=\"toc-item-num\">3.5&nbsp;&nbsp;</span>重新计算平均值</a></span></li><li><span><a href=\"#join\" data-toc-modified-id=\"join-3.6\"><span class=\"toc-item-num\">3.6&nbsp;&nbsp;</span>join</a></span></li></ul></li><li><span><a href=\"#行业指标调节参数计算\" data-toc-modified-id=\"行业指标调节参数计算-4\"><span class=\"toc-item-num\">4&nbsp;&nbsp;</span>行业指标调节参数计算</a></span><ul class=\"toc-item\"><li><span><a href=\"#调节参数计算\" data-toc-modified-id=\"调节参数计算-4.1\"><span class=\"toc-item-num\">4.1&nbsp;&nbsp;</span>调节参数计算</a></span></li><li><span><a href=\"#调节参数存储\" data-toc-modified-id=\"调节参数存储-4.2\"><span class=\"toc-item-num\">4.2&nbsp;&nbsp;</span>调节参数存储</a></span><ul class=\"toc-item\"><li><span><a href=\"#保存\" data-toc-modified-id=\"保存-4.2.1\"><span class=\"toc-item-num\">4.2.1&nbsp;&nbsp;</span>保存</a></span></li></ul></li></ul></li><li><span><a href=\"#企业规模调节参数\" data-toc-modified-id=\"企业规模调节参数-5\"><span class=\"toc-item-num\">5&nbsp;&nbsp;</span>企业规模调节参数</a></span><ul class=\"toc-item\"><li><span><a href=\"#划分规模\" data-toc-modified-id=\"划分规模-5.1\"><span class=\"toc-item-num\">5.1&nbsp;&nbsp;</span>划分规模</a></span></li><li><span><a href=\"#按规模计算平均值\" data-toc-modified-id=\"按规模计算平均值-5.2\"><span class=\"toc-item-num\">5.2&nbsp;&nbsp;</span>按规模计算平均值</a></span></li><li><span><a href=\"#调节参数计算\" data-toc-modified-id=\"调节参数计算-5.3\"><span class=\"toc-item-num\">5.3&nbsp;&nbsp;</span>调节参数计算</a></span></li><li><span><a href=\"#调节参数存储\" data-toc-modified-id=\"调节参数存储-5.4\"><span class=\"toc-item-num\">5.4&nbsp;&nbsp;</span>调节参数存储</a></span><ul class=\"toc-item\"><li><span><a href=\"#保存\" data-toc-modified-id=\"保存-5.4.1\"><span class=\"toc-item-num\">5.4.1&nbsp;&nbsp;</span>保存</a></span></li></ul></li></ul></li><li><span><a href=\"#归一化处理(min-max标准化)\" data-toc-modified-id=\"归一化处理(min-max标准化)-6\"><span class=\"toc-item-num\">6&nbsp;&nbsp;</span>归一化处理(min-max标准化)</a></span></li><li><span><a href=\"#保存\" data-toc-modified-id=\"保存-7\"><span class=\"toc-item-num\">7&nbsp;&nbsp;</span>保存</a></span></li></ul></div>"
   ]
  },
  {
   "cell_type": "code",
   "execution_count": 1,
   "metadata": {
    "ExecuteTime": {
     "end_time": "2022-06-30T02:27:14.385255Z",
     "start_time": "2022-06-30T02:27:14.094003Z"
    }
   },
   "outputs": [],
   "source": [
    "import pandas as pd\n",
    "import numpy as np\n",
    "import warnings\n",
    "from tqdm import tqdm\n",
    "warnings.filterwarnings(\"ignore\")"
   ]
  },
  {
   "cell_type": "markdown",
   "metadata": {},
   "source": [
    "# 读取"
   ]
  },
  {
   "cell_type": "code",
   "execution_count": 2,
   "metadata": {
    "ExecuteTime": {
     "end_time": "2022-06-30T02:27:19.162505Z",
     "start_time": "2022-06-30T02:27:14.387246Z"
    },
    "scrolled": true
   },
   "outputs": [
    {
     "name": "stdout",
     "output_type": "stream",
     "text": [
      "<class 'pandas.core.frame.DataFrame'>\n",
      "Int64Index: 1827023 entries, 2420200000050231 to 442010000019652554\n",
      "Data columns (total 29 columns):\n",
      " #   Column      Non-Null Count    Dtype  \n",
      "---  ------      --------------    -----  \n",
      " 0   jjhklb      1827023 non-null  int64  \n",
      " 1   hydm        1827023 non-null  object \n",
      " 2   zczb        1827023 non-null  float64\n",
      " 3   jyzt        1827023 non-null  float64\n",
      " 4   qylx        1827023 non-null  int64  \n",
      " 5   tslx        1827023 non-null  int64  \n",
      " 6   new         1827023 non-null  object \n",
      " 7   time_scale  1827023 non-null  int64  \n",
      " 8   city        1827023 non-null  object \n",
      " 9   three       1827023 non-null  int64  \n",
      " 10  scale       1827023 non-null  int64  \n",
      " 11  foreign     1827023 non-null  int64  \n",
      " 12  X1_2        1827023 non-null  int64  \n",
      " 13  X3          1827023 non-null  int64  \n",
      " 14  X4          1827023 non-null  int64  \n",
      " 15  X5          1827023 non-null  float64\n",
      " 16  X6          1827023 non-null  float64\n",
      " 17  X7          1827023 non-null  float64\n",
      " 18  X8          1827023 non-null  int64  \n",
      " 19  X9          1827023 non-null  int64  \n",
      " 20  X10         1827023 non-null  float64\n",
      " 21  X11         1827023 non-null  float64\n",
      " 22  X12         1827023 non-null  float64\n",
      " 23  X13         1827023 non-null  float64\n",
      " 24  X14         1827023 non-null  float64\n",
      " 25  X15         1827023 non-null  int64  \n",
      " 26  X16         1827023 non-null  int64  \n",
      " 27  X17         1827023 non-null  int64  \n",
      " 28  X18         1827023 non-null  int64  \n",
      "dtypes: float64(10), int64(16), object(3)\n",
      "memory usage: 418.2+ MB\n",
      "None\n"
     ]
    },
    {
     "data": {
      "text/html": [
       "<div>\n",
       "<style scoped>\n",
       "    .dataframe tbody tr th:only-of-type {\n",
       "        vertical-align: middle;\n",
       "    }\n",
       "\n",
       "    .dataframe tbody tr th {\n",
       "        vertical-align: top;\n",
       "    }\n",
       "\n",
       "    .dataframe thead th {\n",
       "        text-align: right;\n",
       "    }\n",
       "</style>\n",
       "<table border=\"1\" class=\"dataframe\">\n",
       "  <thead>\n",
       "    <tr style=\"text-align: right;\">\n",
       "      <th></th>\n",
       "      <th>jjhklb</th>\n",
       "      <th>hydm</th>\n",
       "      <th>zczb</th>\n",
       "      <th>jyzt</th>\n",
       "      <th>qylx</th>\n",
       "      <th>tslx</th>\n",
       "      <th>new</th>\n",
       "      <th>time_scale</th>\n",
       "      <th>city</th>\n",
       "      <th>three</th>\n",
       "      <th>...</th>\n",
       "      <th>X9</th>\n",
       "      <th>X10</th>\n",
       "      <th>X11</th>\n",
       "      <th>X12</th>\n",
       "      <th>X13</th>\n",
       "      <th>X14</th>\n",
       "      <th>X15</th>\n",
       "      <th>X16</th>\n",
       "      <th>X17</th>\n",
       "      <th>X18</th>\n",
       "    </tr>\n",
       "    <tr>\n",
       "      <th>nbxh</th>\n",
       "      <th></th>\n",
       "      <th></th>\n",
       "      <th></th>\n",
       "      <th></th>\n",
       "      <th></th>\n",
       "      <th></th>\n",
       "      <th></th>\n",
       "      <th></th>\n",
       "      <th></th>\n",
       "      <th></th>\n",
       "      <th></th>\n",
       "      <th></th>\n",
       "      <th></th>\n",
       "      <th></th>\n",
       "      <th></th>\n",
       "      <th></th>\n",
       "      <th></th>\n",
       "      <th></th>\n",
       "      <th></th>\n",
       "      <th></th>\n",
       "      <th></th>\n",
       "    </tr>\n",
       "  </thead>\n",
       "  <tbody>\n",
       "    <tr>\n",
       "      <th>2420200000050231</th>\n",
       "      <td>3</td>\n",
       "      <td>R</td>\n",
       "      <td>50.0</td>\n",
       "      <td>1.0</td>\n",
       "      <td>4540</td>\n",
       "      <td>6</td>\n",
       "      <td>2007-04</td>\n",
       "      <td>4</td>\n",
       "      <td>黄石市</td>\n",
       "      <td>3</td>\n",
       "      <td>...</td>\n",
       "      <td>0</td>\n",
       "      <td>0.0</td>\n",
       "      <td>0.0</td>\n",
       "      <td>0.0</td>\n",
       "      <td>0.0</td>\n",
       "      <td>0.0</td>\n",
       "      <td>0</td>\n",
       "      <td>0</td>\n",
       "      <td>0</td>\n",
       "      <td>0</td>\n",
       "    </tr>\n",
       "    <tr>\n",
       "      <th>2422800000117935</th>\n",
       "      <td>3</td>\n",
       "      <td>Z</td>\n",
       "      <td>1.0</td>\n",
       "      <td>1.0</td>\n",
       "      <td>2130</td>\n",
       "      <td>6</td>\n",
       "      <td>2014-01</td>\n",
       "      <td>3</td>\n",
       "      <td>恩施州</td>\n",
       "      <td>3</td>\n",
       "      <td>...</td>\n",
       "      <td>0</td>\n",
       "      <td>0.0</td>\n",
       "      <td>0.0</td>\n",
       "      <td>0.0</td>\n",
       "      <td>0.0</td>\n",
       "      <td>0.0</td>\n",
       "      <td>0</td>\n",
       "      <td>0</td>\n",
       "      <td>0</td>\n",
       "      <td>0</td>\n",
       "    </tr>\n",
       "  </tbody>\n",
       "</table>\n",
       "<p>2 rows × 29 columns</p>\n",
       "</div>"
      ],
      "text/plain": [
       "                  jjhklb hydm  zczb  jyzt  qylx  tslx      new  time_scale  \\\n",
       "nbxh                                                                         \n",
       "2420200000050231       3    R  50.0   1.0  4540     6  2007-04           4   \n",
       "2422800000117935       3    Z   1.0   1.0  2130     6  2014-01           3   \n",
       "\n",
       "                 city  three  ...  X9  X10  X11  X12  X13  X14  X15  X16  X17  \\\n",
       "nbxh                          ...                                               \n",
       "2420200000050231  黄石市      3  ...   0  0.0  0.0  0.0  0.0  0.0    0    0    0   \n",
       "2422800000117935  恩施州      3  ...   0  0.0  0.0  0.0  0.0  0.0    0    0    0   \n",
       "\n",
       "                  X18  \n",
       "nbxh                   \n",
       "2420200000050231    0  \n",
       "2422800000117935    0  \n",
       "\n",
       "[2 rows x 29 columns]"
      ]
     },
     "execution_count": 2,
     "metadata": {},
     "output_type": "execute_result"
    }
   ],
   "source": [
    "path_dc = './DataCleaning_quarterTwo_1.csv'\n",
    "dc = pd.read_csv(path_dc, index_col=[0])\n",
    "print(dc.info(null_counts = True))\n",
    "dc[:2]"
   ]
  },
  {
   "cell_type": "markdown",
   "metadata": {},
   "source": [
    "## 调整参数X18(临时更改)"
   ]
  },
  {
   "cell_type": "code",
   "execution_count": 3,
   "metadata": {
    "ExecuteTime": {
     "end_time": "2022-06-30T02:27:19.274179Z",
     "start_time": "2022-06-30T02:27:19.165471Z"
    }
   },
   "outputs": [
    {
     "name": "stdout",
     "output_type": "stream",
     "text": [
      "4    183429\n",
      "2    183274\n",
      "7    183248\n",
      "0    183217\n",
      "8    182526\n",
      "1    182409\n",
      "5    182299\n",
      "3    182268\n",
      "9    182209\n",
      "6    182144\n",
      "Name: X18, dtype: int64\n"
     ]
    }
   ],
   "source": [
    "dc['X18'] = np.random.randint(0, 10, len(dc))\n",
    "print(dc['X18'].value_counts())"
   ]
  },
  {
   "cell_type": "markdown",
   "metadata": {},
   "source": [
    "# 划分行业"
   ]
  },
  {
   "cell_type": "code",
   "execution_count": 4,
   "metadata": {
    "ExecuteTime": {
     "end_time": "2022-06-30T02:27:19.369924Z",
     "start_time": "2022-06-30T02:27:19.277172Z"
    }
   },
   "outputs": [
    {
     "data": {
      "text/plain": [
       "hydm\n",
       "A     83587\n",
       "B      4053\n",
       "C    142456\n",
       "D     10656\n",
       "E    249286\n",
       "F    551560\n",
       "G     51460\n",
       "H     32671\n",
       "I     90482\n",
       "J     17776\n",
       "K     56253\n",
       "L    234961\n",
       "M    171634\n",
       "N     12671\n",
       "O     46886\n",
       "P     10531\n",
       "Q      7132\n",
       "R     41103\n",
       "S       203\n",
       "T        15\n",
       "Z     11647\n",
       "dtype: int64"
      ]
     },
     "execution_count": 4,
     "metadata": {},
     "output_type": "execute_result"
    }
   ],
   "source": [
    "grouped = dc.groupby('hydm')\n",
    "grouped.size()"
   ]
  },
  {
   "cell_type": "code",
   "execution_count": 5,
   "metadata": {
    "ExecuteTime": {
     "end_time": "2022-06-30T02:27:20.066308Z",
     "start_time": "2022-06-30T02:27:19.371918Z"
    }
   },
   "outputs": [],
   "source": [
    "group_A = grouped.get_group('A').reset_index()\n",
    "group_B = grouped.get_group('B').reset_index()\n",
    "group_C = grouped.get_group('C').reset_index()\n",
    "group_D = grouped.get_group('D').reset_index()\n",
    "group_E = grouped.get_group('E').reset_index()\n",
    "group_F = grouped.get_group('F').reset_index()\n",
    "group_G = grouped.get_group('G').reset_index()\n",
    "group_H = grouped.get_group('H').reset_index()\n",
    "group_I = grouped.get_group('I').reset_index()\n",
    "group_J = grouped.get_group('J').reset_index()\n",
    "group_K = grouped.get_group('K').reset_index()\n",
    "group_L = grouped.get_group('L').reset_index()\n",
    "group_M = grouped.get_group('M').reset_index()\n",
    "group_N = grouped.get_group('N').reset_index()\n",
    "group_O = grouped.get_group('O').reset_index()\n",
    "group_P = grouped.get_group('P').reset_index()\n",
    "group_Q = grouped.get_group('Q').reset_index()\n",
    "group_R = grouped.get_group('R').reset_index()\n",
    "group_S = grouped.get_group('S').reset_index()\n",
    "group_T = grouped.get_group('T').reset_index()\n",
    "group_Z = grouped.get_group('Z').reset_index()"
   ]
  },
  {
   "cell_type": "markdown",
   "metadata": {},
   "source": [
    "# 异常值处理"
   ]
  },
  {
   "cell_type": "markdown",
   "metadata": {},
   "source": [
    "定义超出 1.5 倍标准差范围的指标值为`异常值`     \n",
    "对于这些企业的指标取值，令其`等于` ***1.5 倍标准差***    \n",
    "为避免不同行业中各指标的取值差异比较大导致误判，**分行业**进行异常处理。\n",
    "\n",
    "> 由于存在大量的缺失值并填充为0，故只挑选!=0的值进行异常值计算\n",
    ">> 最后处理异常值的时候也只处理有值的位置"
   ]
  },
  {
   "cell_type": "markdown",
   "metadata": {},
   "source": [
    "共有8个特征包含真实值\n",
    "- X5\n",
    "- X6\n",
    "- X7\n",
    "- X10\n",
    "- X11\n",
    "- X12\n",
    "- X13\n",
    "- X14\n",
    "> 临时使X18包含随机数"
   ]
  },
  {
   "cell_type": "markdown",
   "metadata": {},
   "source": [
    "## 计算均值和标准差"
   ]
  },
  {
   "cell_type": "code",
   "execution_count": 6,
   "metadata": {
    "ExecuteTime": {
     "end_time": "2022-06-30T02:27:20.082256Z",
     "start_time": "2022-06-30T02:27:20.067299Z"
    }
   },
   "outputs": [
    {
     "name": "stdout",
     "output_type": "stream",
     "text": [
      "['A', 'B', 'C', 'D', 'E', 'F', 'G', 'H', 'I', 'J', 'K', 'L', 'M', 'N', 'O', 'P', 'Q', 'R', 'S', 'T', 'Z']\n"
     ]
    }
   ],
   "source": [
    "feature_list = ['X5', 'X6', 'X7', 'X10', 'X11', 'X12', 'X13', 'X14', 'X18']\n",
    "alphabet = [chr(i) for i in range(65, 85)] # 'B' - 'T'\n",
    "alphabet.append(chr(90)) # \"Z\"\n",
    "print(alphabet)"
   ]
  },
  {
   "cell_type": "code",
   "execution_count": 7,
   "metadata": {
    "ExecuteTime": {
     "end_time": "2022-06-30T02:27:20.098210Z",
     "start_time": "2022-06-30T02:27:20.084248Z"
    }
   },
   "outputs": [],
   "source": [
    "X5_mean, X5_std = [], []\n",
    "X6_mean, X6_std = [], []\n",
    "X7_mean, X7_std = [], []\n",
    "X10_mean, X10_std = [], []\n",
    "X11_mean, X11_std = [], []\n",
    "X12_mean, X12_std = [], []\n",
    "X13_mean, X13_std = [], []\n",
    "X14_mean, X14_std = [], []\n",
    "\n",
    "X18_mean, X18_std = [], []"
   ]
  },
  {
   "cell_type": "code",
   "execution_count": 8,
   "metadata": {
    "ExecuteTime": {
     "end_time": "2022-06-30T02:27:21.143857Z",
     "start_time": "2022-06-30T02:27:20.100204Z"
    }
   },
   "outputs": [
    {
     "name": "stderr",
     "output_type": "stream",
     "text": [
      "100%|████████████████████████████████████████████████████████████████████████████████████| 9/9 [00:01<00:00,  8.81it/s]\n"
     ]
    }
   ],
   "source": [
    "for i in tqdm(feature_list):\n",
    "    # 一下语句把固定的string改为变量名\n",
    "    temp_mean = np.str(i) + '_mean'\n",
    "    temp_std = np.str(i) + '_std'\n",
    "    for j in alphabet:\n",
    "        temp_alpha = 'group_' + np.str(j)\n",
    "        eval(temp_mean).append(eval(temp_alpha)[eval(temp_alpha)[i] > 0][i].mean())\n",
    "        # eval(temp_alpha)[eval(temp_alpha)[i] > 0][i]\n",
    "        '''\n",
    "        举例\n",
    "        group_A[group_A['X5'] > 0]\n",
    "        # dataframe\n",
    "        group_A[group_A['X5'] > 0]['X5']\n",
    "        # series\n",
    "        '''\n",
    "        eval(temp_std).append(eval(temp_alpha)[eval(temp_alpha)[i] > 0][i].std())"
   ]
  },
  {
   "cell_type": "markdown",
   "metadata": {},
   "source": [
    "## 空值填充"
   ]
  },
  {
   "cell_type": "code",
   "execution_count": 9,
   "metadata": {
    "ExecuteTime": {
     "end_time": "2022-06-30T02:27:21.159838Z",
     "start_time": "2022-06-30T02:27:21.144854Z"
    }
   },
   "outputs": [],
   "source": [
    "def fill_nan(temp_list):\n",
    "    temp_list_nan = np.isnan(temp_list)\n",
    "    for i in range(len(temp_list)):\n",
    "        if temp_list_nan[i] == True:\n",
    "            temp_list[i] = 0"
   ]
  },
  {
   "cell_type": "code",
   "execution_count": 10,
   "metadata": {
    "ExecuteTime": {
     "end_time": "2022-06-30T02:27:21.174984Z",
     "start_time": "2022-06-30T02:27:21.162827Z"
    }
   },
   "outputs": [],
   "source": [
    "for i in feature_list:\n",
    "    # 一下语句把固定的string改为变量名\n",
    "    temp_mean = np.str(i) + '_mean'\n",
    "    temp_std = np.str(i) + '_std'\n",
    "    fill_nan(eval(temp_mean))\n",
    "    fill_nan(eval(temp_std))"
   ]
  },
  {
   "cell_type": "markdown",
   "metadata": {},
   "source": [
    "## 计算取值范围"
   ]
  },
  {
   "cell_type": "code",
   "execution_count": 11,
   "metadata": {
    "ExecuteTime": {
     "end_time": "2022-06-30T02:27:21.190892Z",
     "start_time": "2022-06-30T02:27:21.176929Z"
    }
   },
   "outputs": [],
   "source": [
    "X5_min = np.array(X5_mean) - 1.5 * np.array(X5_std)\n",
    "X5_max = np.array(X5_mean) + 1.5 * np.array(X5_std)\n",
    "X6_min = np.array(X6_mean) - 1.5 * np.array(X6_std)\n",
    "X6_max = np.array(X6_mean) + 1.5 * np.array(X6_std)\n",
    "X7_min = np.array(X7_mean) - 1.5 * np.array(X7_std)\n",
    "X7_max = np.array(X7_mean) + 1.5 * np.array(X7_std)\n",
    "X10_min = np.array(X10_mean) - 1.5 * np.array(X10_std)\n",
    "X10_max = np.array(X10_mean) + 1.5 * np.array(X10_std)\n",
    "X11_min = np.array(X11_mean) - 1.5 * np.array(X11_std)\n",
    "X11_max = np.array(X11_mean) + 1.5 * np.array(X11_std)\n",
    "X12_min = np.array(X12_mean) - 1.5 * np.array(X12_std)\n",
    "X12_max = np.array(X12_mean) + 1.5 * np.array(X12_std)\n",
    "X13_min = np.array(X13_mean) - 1.5 * np.array(X13_std)\n",
    "X13_max = np.array(X13_mean) + 1.5 * np.array(X13_std)\n",
    "X14_min = np.array(X14_mean) - 1.5 * np.array(X14_std)\n",
    "X14_max = np.array(X14_mean) + 1.5 * np.array(X14_std)\n",
    "\n",
    "X18_min = np.array(X18_mean) - 1.5 * np.array(X18_std)\n",
    "X18_max = np.array(X18_mean) + 1.5 * np.array(X18_std)"
   ]
  },
  {
   "cell_type": "markdown",
   "metadata": {},
   "source": [
    "## 将非0的数据标准化"
   ]
  },
  {
   "cell_type": "code",
   "execution_count": 12,
   "metadata": {
    "ExecuteTime": {
     "end_time": "2022-06-30T02:27:21.413296Z",
     "start_time": "2022-06-30T02:27:21.192886Z"
    }
   },
   "outputs": [
    {
     "name": "stderr",
     "output_type": "stream",
     "text": [
      "100%|████████████████████████████████████████████████████████████████████████████████████| 9/9 [00:00<00:00, 44.90it/s]\n"
     ]
    }
   ],
   "source": [
    "for i in tqdm(feature_list):\n",
    "    for j in range(len(alphabet)):\n",
    "        temp_max = np.str(i) + '_max'\n",
    "        temp_min = np.str(i) + '_min'\n",
    "        temp_alpha = 'group_' + np.str(alphabet[j])\n",
    "        eval(temp_alpha).loc[(eval(temp_alpha)[i] > 0) & (eval(temp_alpha)[i] < eval(temp_min)[j]), i] = eval(temp_min)[j]\n",
    "        eval(temp_alpha).loc[eval(temp_alpha)[i] > eval(temp_max)[j], i] = eval(temp_max)[j]"
   ]
  },
  {
   "cell_type": "markdown",
   "metadata": {},
   "source": [
    "## 重新计算平均值\n",
    "\n",
    "> 计算调节指标时需要用到，由于这一步更改了列名称，固放到前面"
   ]
  },
  {
   "cell_type": "code",
   "execution_count": 13,
   "metadata": {
    "ExecuteTime": {
     "end_time": "2022-06-30T02:27:21.523003Z",
     "start_time": "2022-06-30T02:27:21.415291Z"
    }
   },
   "outputs": [
    {
     "name": "stderr",
     "output_type": "stream",
     "text": [
      "100%|███████████████████████████████████████████████████████████████████████████████████| 9/9 [00:00<00:00, 101.36it/s]\n"
     ]
    }
   ],
   "source": [
    "X5_mean = []\n",
    "X6_mean = []\n",
    "X7_mean = []\n",
    "X10_mean = []\n",
    "X11_mean = []\n",
    "X12_mean = []\n",
    "X13_mean = []\n",
    "X14_mean = []\n",
    "\n",
    "X18_mean = []\n",
    "\n",
    "for i in tqdm(feature_list):\n",
    "    # 一下语句把固定的string改为变量名\n",
    "    temp_mean = np.str(i) + '_mean'\n",
    "    for j in alphabet:\n",
    "        temp_alpha = 'group_' + np.str(j)\n",
    "        eval(temp_mean).append(eval(temp_alpha)[i].mean())"
   ]
  },
  {
   "cell_type": "markdown",
   "metadata": {},
   "source": [
    "## join"
   ]
  },
  {
   "cell_type": "markdown",
   "metadata": {},
   "source": [
    "按行业分类的数据已经经过了异常值处理，现在要将此数据放入到原文件`dc`中"
   ]
  },
  {
   "cell_type": "code",
   "execution_count": 14,
   "metadata": {
    "ExecuteTime": {
     "end_time": "2022-06-30T02:27:21.824350Z",
     "start_time": "2022-06-30T02:27:21.524999Z"
    }
   },
   "outputs": [],
   "source": [
    "# 由于要使用join函数，先将蓄更改的同名的列置为空值\n",
    "for i in feature_list:\n",
    "    dc[i] = None"
   ]
  },
  {
   "cell_type": "code",
   "execution_count": 15,
   "metadata": {
    "ExecuteTime": {
     "end_time": "2022-06-30T02:28:18.537254Z",
     "start_time": "2022-06-30T02:27:21.825340Z"
    }
   },
   "outputs": [
    {
     "name": "stderr",
     "output_type": "stream",
     "text": [
      "100%|██████████████████████████████████████████████████████████████████████████████████| 21/21 [00:56<00:00,  2.70s/it]\n"
     ]
    }
   ],
   "source": [
    "for i in tqdm(alphabet):\n",
    "    temp_alpha = 'group_' + np.str(i)\n",
    "    eval(temp_alpha).set_index('nbxh', inplace=True)\n",
    "    globals()[temp_alpha] = eval(temp_alpha)[feature_list]# 提取出需要更改的列\n",
    "    # 更改列名\n",
    "    eval(temp_alpha).rename(\n",
    "        columns={'X5': 'X5_fill', 'X6': 'X6_fill', 'X7':'X7_fill', 'X10':'X10_fill', \n",
    "                 'X11': 'X11_fill', 'X12': 'X12_fill', 'X13':'X13_fill', 'X14':'X14_fill', 'X18':'X18_fill'}, \n",
    "        inplace=True)\n",
    "    dc = dc.join(eval(temp_alpha))\n",
    "    dc['X5'].fillna(dc['X5_fill'], inplace=True)\n",
    "    dc.drop(['X5_fill'], axis=1, inplace=True)\n",
    "    dc['X6'].fillna(dc['X6_fill'], inplace=True)\n",
    "    dc.drop(['X6_fill'], axis=1, inplace=True)\n",
    "    dc['X7'].fillna(dc['X7_fill'], inplace=True)\n",
    "    dc.drop(['X7_fill'], axis=1, inplace=True)\n",
    "    dc['X10'].fillna(dc['X10_fill'], inplace=True)\n",
    "    dc.drop(['X10_fill'], axis=1, inplace=True)\n",
    "    dc['X11'].fillna(dc['X11_fill'], inplace=True)\n",
    "    dc.drop(['X11_fill'], axis=1, inplace=True)\n",
    "    dc['X12'].fillna(dc['X12_fill'], inplace=True)\n",
    "    dc.drop(['X12_fill'], axis=1, inplace=True)\n",
    "    dc['X13'].fillna(dc['X13_fill'], inplace=True)\n",
    "    dc.drop(['X13_fill'], axis=1, inplace=True)\n",
    "    dc['X14'].fillna(dc['X14_fill'], inplace=True)\n",
    "    dc.drop(['X14_fill'], axis=1, inplace=True)\n",
    "    \n",
    "    dc['X18'].fillna(dc['X18_fill'], inplace=True)\n",
    "    dc.drop(['X18_fill'], axis=1, inplace=True)"
   ]
  },
  {
   "cell_type": "markdown",
   "metadata": {},
   "source": [
    "# 行业指标调节参数计算"
   ]
  },
  {
   "cell_type": "code",
   "execution_count": 16,
   "metadata": {
    "ExecuteTime": {
     "end_time": "2022-06-30T02:28:18.600088Z",
     "start_time": "2022-06-30T02:28:18.539250Z"
    }
   },
   "outputs": [],
   "source": [
    "X5_mean_all = dc['X5'].mean()\n",
    "X6_mean_all = dc['X6'].mean()\n",
    "X7_mean_all = dc['X7'].mean()\n",
    "X10_mean_all = dc['X10'].mean()\n",
    "X11_mean_all = dc['X11'].mean()\n",
    "X12_mean_all = dc['X12'].mean()\n",
    "X13_mean_all = dc['X13'].mean()\n",
    "X14_mean_all = dc['X14'].mean()\n",
    "\n",
    "X18_mean_all = dc['X18'].mean()"
   ]
  },
  {
   "cell_type": "markdown",
   "metadata": {},
   "source": [
    "## 调节参数计算"
   ]
  },
  {
   "cell_type": "code",
   "execution_count": 17,
   "metadata": {
    "ExecuteTime": {
     "end_time": "2022-06-30T02:28:18.616043Z",
     "start_time": "2022-06-30T02:28:18.602080Z"
    }
   },
   "outputs": [],
   "source": [
    "# 定义列表用来存储行业调节参数\n",
    "a_5 = []\n",
    "a_6 = []\n",
    "a_7 = []\n",
    "a_10 = []\n",
    "a_11 = []\n",
    "a_12 = []\n",
    "a_13 = []\n",
    "a_14 = []\n",
    "\n",
    "a_18 = []"
   ]
  },
  {
   "cell_type": "code",
   "execution_count": 18,
   "metadata": {
    "ExecuteTime": {
     "end_time": "2022-06-30T02:28:18.632003Z",
     "start_time": "2022-06-30T02:28:18.618038Z"
    }
   },
   "outputs": [],
   "source": [
    "industry_num = 21\n",
    "def industry_parameter(temp_mean_all, temp_mean, temp_list):\n",
    "    for i in range(industry_num):\n",
    "        if temp_mean[i] != 0:\n",
    "            temp_list.append(temp_mean_all / temp_mean[i])\n",
    "        else:\n",
    "            temp_list.append(1) "
   ]
  },
  {
   "cell_type": "code",
   "execution_count": 19,
   "metadata": {
    "ExecuteTime": {
     "end_time": "2022-06-30T02:28:18.647957Z",
     "start_time": "2022-06-30T02:28:18.633994Z"
    }
   },
   "outputs": [],
   "source": [
    "industry_parameter(X5_mean_all, X5_mean, a_5)\n",
    "industry_parameter(X6_mean_all, X6_mean, a_6)\n",
    "industry_parameter(X7_mean_all, X7_mean, a_7)\n",
    "industry_parameter(X10_mean_all, X10_mean, a_10)\n",
    "industry_parameter(X11_mean_all, X11_mean, a_11)\n",
    "industry_parameter(X12_mean_all, X12_mean, a_12)\n",
    "industry_parameter(X13_mean_all, X13_mean, a_13)\n",
    "industry_parameter(X14_mean_all, X14_mean, a_14)\n",
    "industry_parameter(X18_mean_all, X18_mean, a_18)"
   ]
  },
  {
   "cell_type": "markdown",
   "metadata": {},
   "source": [
    "## 调节参数存储"
   ]
  },
  {
   "cell_type": "code",
   "execution_count": 20,
   "metadata": {
    "ExecuteTime": {
     "end_time": "2022-06-30T02:28:18.663934Z",
     "start_time": "2022-06-30T02:28:18.649952Z"
    }
   },
   "outputs": [],
   "source": [
    "para_1 = pd.DataFrame(data=None, \n",
    "                      columns=['I_1_2', 'I_3', 'I_4', 'I_5', 'I_6', 'I_7', 'I_8', 'I_9', 'I_10', 'I_11', 'I_12', 'I_13', 'I_14', 'I_15', 'I_16', 'I_17', 'I_18'],\n",
    "                      index=alphabet)"
   ]
  },
  {
   "cell_type": "code",
   "execution_count": 21,
   "metadata": {
    "ExecuteTime": {
     "end_time": "2022-06-30T02:28:18.695849Z",
     "start_time": "2022-06-30T02:28:18.665929Z"
    }
   },
   "outputs": [
    {
     "data": {
      "text/html": [
       "<div>\n",
       "<style scoped>\n",
       "    .dataframe tbody tr th:only-of-type {\n",
       "        vertical-align: middle;\n",
       "    }\n",
       "\n",
       "    .dataframe tbody tr th {\n",
       "        vertical-align: top;\n",
       "    }\n",
       "\n",
       "    .dataframe thead th {\n",
       "        text-align: right;\n",
       "    }\n",
       "</style>\n",
       "<table border=\"1\" class=\"dataframe\">\n",
       "  <thead>\n",
       "    <tr style=\"text-align: right;\">\n",
       "      <th></th>\n",
       "      <th>I_1_2</th>\n",
       "      <th>I_3</th>\n",
       "      <th>I_4</th>\n",
       "      <th>I_5</th>\n",
       "      <th>I_6</th>\n",
       "      <th>I_7</th>\n",
       "      <th>I_8</th>\n",
       "      <th>I_9</th>\n",
       "      <th>I_10</th>\n",
       "      <th>I_11</th>\n",
       "      <th>I_12</th>\n",
       "      <th>I_13</th>\n",
       "      <th>I_14</th>\n",
       "      <th>I_15</th>\n",
       "      <th>I_16</th>\n",
       "      <th>I_17</th>\n",
       "      <th>I_18</th>\n",
       "    </tr>\n",
       "  </thead>\n",
       "  <tbody>\n",
       "    <tr>\n",
       "      <th>A</th>\n",
       "      <td>NaN</td>\n",
       "      <td>NaN</td>\n",
       "      <td>NaN</td>\n",
       "      <td>NaN</td>\n",
       "      <td>NaN</td>\n",
       "      <td>NaN</td>\n",
       "      <td>NaN</td>\n",
       "      <td>NaN</td>\n",
       "      <td>NaN</td>\n",
       "      <td>NaN</td>\n",
       "      <td>NaN</td>\n",
       "      <td>NaN</td>\n",
       "      <td>NaN</td>\n",
       "      <td>NaN</td>\n",
       "      <td>NaN</td>\n",
       "      <td>NaN</td>\n",
       "      <td>NaN</td>\n",
       "    </tr>\n",
       "    <tr>\n",
       "      <th>B</th>\n",
       "      <td>NaN</td>\n",
       "      <td>NaN</td>\n",
       "      <td>NaN</td>\n",
       "      <td>NaN</td>\n",
       "      <td>NaN</td>\n",
       "      <td>NaN</td>\n",
       "      <td>NaN</td>\n",
       "      <td>NaN</td>\n",
       "      <td>NaN</td>\n",
       "      <td>NaN</td>\n",
       "      <td>NaN</td>\n",
       "      <td>NaN</td>\n",
       "      <td>NaN</td>\n",
       "      <td>NaN</td>\n",
       "      <td>NaN</td>\n",
       "      <td>NaN</td>\n",
       "      <td>NaN</td>\n",
       "    </tr>\n",
       "    <tr>\n",
       "      <th>C</th>\n",
       "      <td>NaN</td>\n",
       "      <td>NaN</td>\n",
       "      <td>NaN</td>\n",
       "      <td>NaN</td>\n",
       "      <td>NaN</td>\n",
       "      <td>NaN</td>\n",
       "      <td>NaN</td>\n",
       "      <td>NaN</td>\n",
       "      <td>NaN</td>\n",
       "      <td>NaN</td>\n",
       "      <td>NaN</td>\n",
       "      <td>NaN</td>\n",
       "      <td>NaN</td>\n",
       "      <td>NaN</td>\n",
       "      <td>NaN</td>\n",
       "      <td>NaN</td>\n",
       "      <td>NaN</td>\n",
       "    </tr>\n",
       "    <tr>\n",
       "      <th>D</th>\n",
       "      <td>NaN</td>\n",
       "      <td>NaN</td>\n",
       "      <td>NaN</td>\n",
       "      <td>NaN</td>\n",
       "      <td>NaN</td>\n",
       "      <td>NaN</td>\n",
       "      <td>NaN</td>\n",
       "      <td>NaN</td>\n",
       "      <td>NaN</td>\n",
       "      <td>NaN</td>\n",
       "      <td>NaN</td>\n",
       "      <td>NaN</td>\n",
       "      <td>NaN</td>\n",
       "      <td>NaN</td>\n",
       "      <td>NaN</td>\n",
       "      <td>NaN</td>\n",
       "      <td>NaN</td>\n",
       "    </tr>\n",
       "    <tr>\n",
       "      <th>E</th>\n",
       "      <td>NaN</td>\n",
       "      <td>NaN</td>\n",
       "      <td>NaN</td>\n",
       "      <td>NaN</td>\n",
       "      <td>NaN</td>\n",
       "      <td>NaN</td>\n",
       "      <td>NaN</td>\n",
       "      <td>NaN</td>\n",
       "      <td>NaN</td>\n",
       "      <td>NaN</td>\n",
       "      <td>NaN</td>\n",
       "      <td>NaN</td>\n",
       "      <td>NaN</td>\n",
       "      <td>NaN</td>\n",
       "      <td>NaN</td>\n",
       "      <td>NaN</td>\n",
       "      <td>NaN</td>\n",
       "    </tr>\n",
       "    <tr>\n",
       "      <th>F</th>\n",
       "      <td>NaN</td>\n",
       "      <td>NaN</td>\n",
       "      <td>NaN</td>\n",
       "      <td>NaN</td>\n",
       "      <td>NaN</td>\n",
       "      <td>NaN</td>\n",
       "      <td>NaN</td>\n",
       "      <td>NaN</td>\n",
       "      <td>NaN</td>\n",
       "      <td>NaN</td>\n",
       "      <td>NaN</td>\n",
       "      <td>NaN</td>\n",
       "      <td>NaN</td>\n",
       "      <td>NaN</td>\n",
       "      <td>NaN</td>\n",
       "      <td>NaN</td>\n",
       "      <td>NaN</td>\n",
       "    </tr>\n",
       "    <tr>\n",
       "      <th>G</th>\n",
       "      <td>NaN</td>\n",
       "      <td>NaN</td>\n",
       "      <td>NaN</td>\n",
       "      <td>NaN</td>\n",
       "      <td>NaN</td>\n",
       "      <td>NaN</td>\n",
       "      <td>NaN</td>\n",
       "      <td>NaN</td>\n",
       "      <td>NaN</td>\n",
       "      <td>NaN</td>\n",
       "      <td>NaN</td>\n",
       "      <td>NaN</td>\n",
       "      <td>NaN</td>\n",
       "      <td>NaN</td>\n",
       "      <td>NaN</td>\n",
       "      <td>NaN</td>\n",
       "      <td>NaN</td>\n",
       "    </tr>\n",
       "    <tr>\n",
       "      <th>H</th>\n",
       "      <td>NaN</td>\n",
       "      <td>NaN</td>\n",
       "      <td>NaN</td>\n",
       "      <td>NaN</td>\n",
       "      <td>NaN</td>\n",
       "      <td>NaN</td>\n",
       "      <td>NaN</td>\n",
       "      <td>NaN</td>\n",
       "      <td>NaN</td>\n",
       "      <td>NaN</td>\n",
       "      <td>NaN</td>\n",
       "      <td>NaN</td>\n",
       "      <td>NaN</td>\n",
       "      <td>NaN</td>\n",
       "      <td>NaN</td>\n",
       "      <td>NaN</td>\n",
       "      <td>NaN</td>\n",
       "    </tr>\n",
       "    <tr>\n",
       "      <th>I</th>\n",
       "      <td>NaN</td>\n",
       "      <td>NaN</td>\n",
       "      <td>NaN</td>\n",
       "      <td>NaN</td>\n",
       "      <td>NaN</td>\n",
       "      <td>NaN</td>\n",
       "      <td>NaN</td>\n",
       "      <td>NaN</td>\n",
       "      <td>NaN</td>\n",
       "      <td>NaN</td>\n",
       "      <td>NaN</td>\n",
       "      <td>NaN</td>\n",
       "      <td>NaN</td>\n",
       "      <td>NaN</td>\n",
       "      <td>NaN</td>\n",
       "      <td>NaN</td>\n",
       "      <td>NaN</td>\n",
       "    </tr>\n",
       "    <tr>\n",
       "      <th>J</th>\n",
       "      <td>NaN</td>\n",
       "      <td>NaN</td>\n",
       "      <td>NaN</td>\n",
       "      <td>NaN</td>\n",
       "      <td>NaN</td>\n",
       "      <td>NaN</td>\n",
       "      <td>NaN</td>\n",
       "      <td>NaN</td>\n",
       "      <td>NaN</td>\n",
       "      <td>NaN</td>\n",
       "      <td>NaN</td>\n",
       "      <td>NaN</td>\n",
       "      <td>NaN</td>\n",
       "      <td>NaN</td>\n",
       "      <td>NaN</td>\n",
       "      <td>NaN</td>\n",
       "      <td>NaN</td>\n",
       "    </tr>\n",
       "    <tr>\n",
       "      <th>K</th>\n",
       "      <td>NaN</td>\n",
       "      <td>NaN</td>\n",
       "      <td>NaN</td>\n",
       "      <td>NaN</td>\n",
       "      <td>NaN</td>\n",
       "      <td>NaN</td>\n",
       "      <td>NaN</td>\n",
       "      <td>NaN</td>\n",
       "      <td>NaN</td>\n",
       "      <td>NaN</td>\n",
       "      <td>NaN</td>\n",
       "      <td>NaN</td>\n",
       "      <td>NaN</td>\n",
       "      <td>NaN</td>\n",
       "      <td>NaN</td>\n",
       "      <td>NaN</td>\n",
       "      <td>NaN</td>\n",
       "    </tr>\n",
       "    <tr>\n",
       "      <th>L</th>\n",
       "      <td>NaN</td>\n",
       "      <td>NaN</td>\n",
       "      <td>NaN</td>\n",
       "      <td>NaN</td>\n",
       "      <td>NaN</td>\n",
       "      <td>NaN</td>\n",
       "      <td>NaN</td>\n",
       "      <td>NaN</td>\n",
       "      <td>NaN</td>\n",
       "      <td>NaN</td>\n",
       "      <td>NaN</td>\n",
       "      <td>NaN</td>\n",
       "      <td>NaN</td>\n",
       "      <td>NaN</td>\n",
       "      <td>NaN</td>\n",
       "      <td>NaN</td>\n",
       "      <td>NaN</td>\n",
       "    </tr>\n",
       "    <tr>\n",
       "      <th>M</th>\n",
       "      <td>NaN</td>\n",
       "      <td>NaN</td>\n",
       "      <td>NaN</td>\n",
       "      <td>NaN</td>\n",
       "      <td>NaN</td>\n",
       "      <td>NaN</td>\n",
       "      <td>NaN</td>\n",
       "      <td>NaN</td>\n",
       "      <td>NaN</td>\n",
       "      <td>NaN</td>\n",
       "      <td>NaN</td>\n",
       "      <td>NaN</td>\n",
       "      <td>NaN</td>\n",
       "      <td>NaN</td>\n",
       "      <td>NaN</td>\n",
       "      <td>NaN</td>\n",
       "      <td>NaN</td>\n",
       "    </tr>\n",
       "    <tr>\n",
       "      <th>N</th>\n",
       "      <td>NaN</td>\n",
       "      <td>NaN</td>\n",
       "      <td>NaN</td>\n",
       "      <td>NaN</td>\n",
       "      <td>NaN</td>\n",
       "      <td>NaN</td>\n",
       "      <td>NaN</td>\n",
       "      <td>NaN</td>\n",
       "      <td>NaN</td>\n",
       "      <td>NaN</td>\n",
       "      <td>NaN</td>\n",
       "      <td>NaN</td>\n",
       "      <td>NaN</td>\n",
       "      <td>NaN</td>\n",
       "      <td>NaN</td>\n",
       "      <td>NaN</td>\n",
       "      <td>NaN</td>\n",
       "    </tr>\n",
       "    <tr>\n",
       "      <th>O</th>\n",
       "      <td>NaN</td>\n",
       "      <td>NaN</td>\n",
       "      <td>NaN</td>\n",
       "      <td>NaN</td>\n",
       "      <td>NaN</td>\n",
       "      <td>NaN</td>\n",
       "      <td>NaN</td>\n",
       "      <td>NaN</td>\n",
       "      <td>NaN</td>\n",
       "      <td>NaN</td>\n",
       "      <td>NaN</td>\n",
       "      <td>NaN</td>\n",
       "      <td>NaN</td>\n",
       "      <td>NaN</td>\n",
       "      <td>NaN</td>\n",
       "      <td>NaN</td>\n",
       "      <td>NaN</td>\n",
       "    </tr>\n",
       "    <tr>\n",
       "      <th>P</th>\n",
       "      <td>NaN</td>\n",
       "      <td>NaN</td>\n",
       "      <td>NaN</td>\n",
       "      <td>NaN</td>\n",
       "      <td>NaN</td>\n",
       "      <td>NaN</td>\n",
       "      <td>NaN</td>\n",
       "      <td>NaN</td>\n",
       "      <td>NaN</td>\n",
       "      <td>NaN</td>\n",
       "      <td>NaN</td>\n",
       "      <td>NaN</td>\n",
       "      <td>NaN</td>\n",
       "      <td>NaN</td>\n",
       "      <td>NaN</td>\n",
       "      <td>NaN</td>\n",
       "      <td>NaN</td>\n",
       "    </tr>\n",
       "    <tr>\n",
       "      <th>Q</th>\n",
       "      <td>NaN</td>\n",
       "      <td>NaN</td>\n",
       "      <td>NaN</td>\n",
       "      <td>NaN</td>\n",
       "      <td>NaN</td>\n",
       "      <td>NaN</td>\n",
       "      <td>NaN</td>\n",
       "      <td>NaN</td>\n",
       "      <td>NaN</td>\n",
       "      <td>NaN</td>\n",
       "      <td>NaN</td>\n",
       "      <td>NaN</td>\n",
       "      <td>NaN</td>\n",
       "      <td>NaN</td>\n",
       "      <td>NaN</td>\n",
       "      <td>NaN</td>\n",
       "      <td>NaN</td>\n",
       "    </tr>\n",
       "    <tr>\n",
       "      <th>R</th>\n",
       "      <td>NaN</td>\n",
       "      <td>NaN</td>\n",
       "      <td>NaN</td>\n",
       "      <td>NaN</td>\n",
       "      <td>NaN</td>\n",
       "      <td>NaN</td>\n",
       "      <td>NaN</td>\n",
       "      <td>NaN</td>\n",
       "      <td>NaN</td>\n",
       "      <td>NaN</td>\n",
       "      <td>NaN</td>\n",
       "      <td>NaN</td>\n",
       "      <td>NaN</td>\n",
       "      <td>NaN</td>\n",
       "      <td>NaN</td>\n",
       "      <td>NaN</td>\n",
       "      <td>NaN</td>\n",
       "    </tr>\n",
       "    <tr>\n",
       "      <th>S</th>\n",
       "      <td>NaN</td>\n",
       "      <td>NaN</td>\n",
       "      <td>NaN</td>\n",
       "      <td>NaN</td>\n",
       "      <td>NaN</td>\n",
       "      <td>NaN</td>\n",
       "      <td>NaN</td>\n",
       "      <td>NaN</td>\n",
       "      <td>NaN</td>\n",
       "      <td>NaN</td>\n",
       "      <td>NaN</td>\n",
       "      <td>NaN</td>\n",
       "      <td>NaN</td>\n",
       "      <td>NaN</td>\n",
       "      <td>NaN</td>\n",
       "      <td>NaN</td>\n",
       "      <td>NaN</td>\n",
       "    </tr>\n",
       "    <tr>\n",
       "      <th>T</th>\n",
       "      <td>NaN</td>\n",
       "      <td>NaN</td>\n",
       "      <td>NaN</td>\n",
       "      <td>NaN</td>\n",
       "      <td>NaN</td>\n",
       "      <td>NaN</td>\n",
       "      <td>NaN</td>\n",
       "      <td>NaN</td>\n",
       "      <td>NaN</td>\n",
       "      <td>NaN</td>\n",
       "      <td>NaN</td>\n",
       "      <td>NaN</td>\n",
       "      <td>NaN</td>\n",
       "      <td>NaN</td>\n",
       "      <td>NaN</td>\n",
       "      <td>NaN</td>\n",
       "      <td>NaN</td>\n",
       "    </tr>\n",
       "    <tr>\n",
       "      <th>Z</th>\n",
       "      <td>NaN</td>\n",
       "      <td>NaN</td>\n",
       "      <td>NaN</td>\n",
       "      <td>NaN</td>\n",
       "      <td>NaN</td>\n",
       "      <td>NaN</td>\n",
       "      <td>NaN</td>\n",
       "      <td>NaN</td>\n",
       "      <td>NaN</td>\n",
       "      <td>NaN</td>\n",
       "      <td>NaN</td>\n",
       "      <td>NaN</td>\n",
       "      <td>NaN</td>\n",
       "      <td>NaN</td>\n",
       "      <td>NaN</td>\n",
       "      <td>NaN</td>\n",
       "      <td>NaN</td>\n",
       "    </tr>\n",
       "  </tbody>\n",
       "</table>\n",
       "</div>"
      ],
      "text/plain": [
       "  I_1_2  I_3  I_4  I_5  I_6  I_7  I_8  I_9 I_10 I_11 I_12 I_13 I_14 I_15 I_16  \\\n",
       "A   NaN  NaN  NaN  NaN  NaN  NaN  NaN  NaN  NaN  NaN  NaN  NaN  NaN  NaN  NaN   \n",
       "B   NaN  NaN  NaN  NaN  NaN  NaN  NaN  NaN  NaN  NaN  NaN  NaN  NaN  NaN  NaN   \n",
       "C   NaN  NaN  NaN  NaN  NaN  NaN  NaN  NaN  NaN  NaN  NaN  NaN  NaN  NaN  NaN   \n",
       "D   NaN  NaN  NaN  NaN  NaN  NaN  NaN  NaN  NaN  NaN  NaN  NaN  NaN  NaN  NaN   \n",
       "E   NaN  NaN  NaN  NaN  NaN  NaN  NaN  NaN  NaN  NaN  NaN  NaN  NaN  NaN  NaN   \n",
       "F   NaN  NaN  NaN  NaN  NaN  NaN  NaN  NaN  NaN  NaN  NaN  NaN  NaN  NaN  NaN   \n",
       "G   NaN  NaN  NaN  NaN  NaN  NaN  NaN  NaN  NaN  NaN  NaN  NaN  NaN  NaN  NaN   \n",
       "H   NaN  NaN  NaN  NaN  NaN  NaN  NaN  NaN  NaN  NaN  NaN  NaN  NaN  NaN  NaN   \n",
       "I   NaN  NaN  NaN  NaN  NaN  NaN  NaN  NaN  NaN  NaN  NaN  NaN  NaN  NaN  NaN   \n",
       "J   NaN  NaN  NaN  NaN  NaN  NaN  NaN  NaN  NaN  NaN  NaN  NaN  NaN  NaN  NaN   \n",
       "K   NaN  NaN  NaN  NaN  NaN  NaN  NaN  NaN  NaN  NaN  NaN  NaN  NaN  NaN  NaN   \n",
       "L   NaN  NaN  NaN  NaN  NaN  NaN  NaN  NaN  NaN  NaN  NaN  NaN  NaN  NaN  NaN   \n",
       "M   NaN  NaN  NaN  NaN  NaN  NaN  NaN  NaN  NaN  NaN  NaN  NaN  NaN  NaN  NaN   \n",
       "N   NaN  NaN  NaN  NaN  NaN  NaN  NaN  NaN  NaN  NaN  NaN  NaN  NaN  NaN  NaN   \n",
       "O   NaN  NaN  NaN  NaN  NaN  NaN  NaN  NaN  NaN  NaN  NaN  NaN  NaN  NaN  NaN   \n",
       "P   NaN  NaN  NaN  NaN  NaN  NaN  NaN  NaN  NaN  NaN  NaN  NaN  NaN  NaN  NaN   \n",
       "Q   NaN  NaN  NaN  NaN  NaN  NaN  NaN  NaN  NaN  NaN  NaN  NaN  NaN  NaN  NaN   \n",
       "R   NaN  NaN  NaN  NaN  NaN  NaN  NaN  NaN  NaN  NaN  NaN  NaN  NaN  NaN  NaN   \n",
       "S   NaN  NaN  NaN  NaN  NaN  NaN  NaN  NaN  NaN  NaN  NaN  NaN  NaN  NaN  NaN   \n",
       "T   NaN  NaN  NaN  NaN  NaN  NaN  NaN  NaN  NaN  NaN  NaN  NaN  NaN  NaN  NaN   \n",
       "Z   NaN  NaN  NaN  NaN  NaN  NaN  NaN  NaN  NaN  NaN  NaN  NaN  NaN  NaN  NaN   \n",
       "\n",
       "  I_17 I_18  \n",
       "A  NaN  NaN  \n",
       "B  NaN  NaN  \n",
       "C  NaN  NaN  \n",
       "D  NaN  NaN  \n",
       "E  NaN  NaN  \n",
       "F  NaN  NaN  \n",
       "G  NaN  NaN  \n",
       "H  NaN  NaN  \n",
       "I  NaN  NaN  \n",
       "J  NaN  NaN  \n",
       "K  NaN  NaN  \n",
       "L  NaN  NaN  \n",
       "M  NaN  NaN  \n",
       "N  NaN  NaN  \n",
       "O  NaN  NaN  \n",
       "P  NaN  NaN  \n",
       "Q  NaN  NaN  \n",
       "R  NaN  NaN  \n",
       "S  NaN  NaN  \n",
       "T  NaN  NaN  \n",
       "Z  NaN  NaN  "
      ]
     },
     "execution_count": 21,
     "metadata": {},
     "output_type": "execute_result"
    }
   ],
   "source": [
    "para_1"
   ]
  },
  {
   "cell_type": "code",
   "execution_count": 22,
   "metadata": {
    "ExecuteTime": {
     "end_time": "2022-06-30T02:28:18.711806Z",
     "start_time": "2022-06-30T02:28:18.697844Z"
    }
   },
   "outputs": [],
   "source": [
    "para_1['I_5'] = a_5\n",
    "para_1['I_6'] = a_6\n",
    "para_1['I_7'] = a_7\n",
    "para_1['I_6'] = a_10\n",
    "para_1['I_11'] = a_11\n",
    "para_1['I_12'] = a_12\n",
    "para_1['I_13'] = a_13\n",
    "para_1['I_14'] = a_14\n",
    "\n",
    "para_1['I_18'] = a_18"
   ]
  },
  {
   "cell_type": "code",
   "execution_count": 23,
   "metadata": {
    "ExecuteTime": {
     "end_time": "2022-06-30T02:28:18.727764Z",
     "start_time": "2022-06-30T02:28:18.713810Z"
    }
   },
   "outputs": [],
   "source": [
    "para_1.fillna(value=1, inplace=True)"
   ]
  },
  {
   "cell_type": "code",
   "execution_count": 24,
   "metadata": {
    "ExecuteTime": {
     "end_time": "2022-06-30T02:28:18.759679Z",
     "start_time": "2022-06-30T02:28:18.728761Z"
    }
   },
   "outputs": [
    {
     "data": {
      "text/html": [
       "<div>\n",
       "<style scoped>\n",
       "    .dataframe tbody tr th:only-of-type {\n",
       "        vertical-align: middle;\n",
       "    }\n",
       "\n",
       "    .dataframe tbody tr th {\n",
       "        vertical-align: top;\n",
       "    }\n",
       "\n",
       "    .dataframe thead th {\n",
       "        text-align: right;\n",
       "    }\n",
       "</style>\n",
       "<table border=\"1\" class=\"dataframe\">\n",
       "  <thead>\n",
       "    <tr style=\"text-align: right;\">\n",
       "      <th></th>\n",
       "      <th>I_1_2</th>\n",
       "      <th>I_3</th>\n",
       "      <th>I_4</th>\n",
       "      <th>I_5</th>\n",
       "      <th>I_6</th>\n",
       "      <th>I_7</th>\n",
       "      <th>I_8</th>\n",
       "      <th>I_9</th>\n",
       "      <th>I_10</th>\n",
       "      <th>I_11</th>\n",
       "      <th>I_12</th>\n",
       "      <th>I_13</th>\n",
       "      <th>I_14</th>\n",
       "      <th>I_15</th>\n",
       "      <th>I_16</th>\n",
       "      <th>I_17</th>\n",
       "      <th>I_18</th>\n",
       "    </tr>\n",
       "  </thead>\n",
       "  <tbody>\n",
       "    <tr>\n",
       "      <th>A</th>\n",
       "      <td>1</td>\n",
       "      <td>1</td>\n",
       "      <td>1</td>\n",
       "      <td>1.978303</td>\n",
       "      <td>1.000000</td>\n",
       "      <td>1.450562</td>\n",
       "      <td>1</td>\n",
       "      <td>1</td>\n",
       "      <td>1</td>\n",
       "      <td>1.000000</td>\n",
       "      <td>2.097394</td>\n",
       "      <td>2.083647</td>\n",
       "      <td>1.510394</td>\n",
       "      <td>1</td>\n",
       "      <td>1</td>\n",
       "      <td>1</td>\n",
       "      <td>0.998879</td>\n",
       "    </tr>\n",
       "    <tr>\n",
       "      <th>B</th>\n",
       "      <td>1</td>\n",
       "      <td>1</td>\n",
       "      <td>1</td>\n",
       "      <td>1.289234</td>\n",
       "      <td>1.000000</td>\n",
       "      <td>1.000000</td>\n",
       "      <td>1</td>\n",
       "      <td>1</td>\n",
       "      <td>1</td>\n",
       "      <td>1.000000</td>\n",
       "      <td>1.247905</td>\n",
       "      <td>1.135235</td>\n",
       "      <td>2.667904</td>\n",
       "      <td>1</td>\n",
       "      <td>1</td>\n",
       "      <td>1</td>\n",
       "      <td>1.004093</td>\n",
       "    </tr>\n",
       "    <tr>\n",
       "      <th>C</th>\n",
       "      <td>1</td>\n",
       "      <td>1</td>\n",
       "      <td>1</td>\n",
       "      <td>1.058908</td>\n",
       "      <td>1.000000</td>\n",
       "      <td>0.663964</td>\n",
       "      <td>1</td>\n",
       "      <td>1</td>\n",
       "      <td>1</td>\n",
       "      <td>1.000000</td>\n",
       "      <td>0.920723</td>\n",
       "      <td>0.915734</td>\n",
       "      <td>3.750890</td>\n",
       "      <td>1</td>\n",
       "      <td>1</td>\n",
       "      <td>1</td>\n",
       "      <td>0.999527</td>\n",
       "    </tr>\n",
       "    <tr>\n",
       "      <th>D</th>\n",
       "      <td>1</td>\n",
       "      <td>1</td>\n",
       "      <td>1</td>\n",
       "      <td>0.944195</td>\n",
       "      <td>1.000000</td>\n",
       "      <td>0.507686</td>\n",
       "      <td>1</td>\n",
       "      <td>1</td>\n",
       "      <td>1</td>\n",
       "      <td>1.000000</td>\n",
       "      <td>1.124056</td>\n",
       "      <td>1.125592</td>\n",
       "      <td>0.389686</td>\n",
       "      <td>1</td>\n",
       "      <td>1</td>\n",
       "      <td>1</td>\n",
       "      <td>0.985332</td>\n",
       "    </tr>\n",
       "    <tr>\n",
       "      <th>E</th>\n",
       "      <td>1</td>\n",
       "      <td>1</td>\n",
       "      <td>1</td>\n",
       "      <td>0.935678</td>\n",
       "      <td>1.000000</td>\n",
       "      <td>0.978687</td>\n",
       "      <td>1</td>\n",
       "      <td>1</td>\n",
       "      <td>1</td>\n",
       "      <td>1.000000</td>\n",
       "      <td>0.863557</td>\n",
       "      <td>0.862135</td>\n",
       "      <td>0.727364</td>\n",
       "      <td>1</td>\n",
       "      <td>1</td>\n",
       "      <td>1</td>\n",
       "      <td>0.999382</td>\n",
       "    </tr>\n",
       "    <tr>\n",
       "      <th>F</th>\n",
       "      <td>1</td>\n",
       "      <td>1</td>\n",
       "      <td>1</td>\n",
       "      <td>1.250299</td>\n",
       "      <td>1.000000</td>\n",
       "      <td>0.975942</td>\n",
       "      <td>1</td>\n",
       "      <td>1</td>\n",
       "      <td>1</td>\n",
       "      <td>1.000000</td>\n",
       "      <td>1.388019</td>\n",
       "      <td>1.393393</td>\n",
       "      <td>0.920263</td>\n",
       "      <td>1</td>\n",
       "      <td>1</td>\n",
       "      <td>1</td>\n",
       "      <td>1.000938</td>\n",
       "    </tr>\n",
       "    <tr>\n",
       "      <th>G</th>\n",
       "      <td>1</td>\n",
       "      <td>1</td>\n",
       "      <td>1</td>\n",
       "      <td>0.849113</td>\n",
       "      <td>1.000000</td>\n",
       "      <td>1.014035</td>\n",
       "      <td>1</td>\n",
       "      <td>1</td>\n",
       "      <td>1</td>\n",
       "      <td>1.000000</td>\n",
       "      <td>1.028075</td>\n",
       "      <td>1.033862</td>\n",
       "      <td>0.795692</td>\n",
       "      <td>1</td>\n",
       "      <td>1</td>\n",
       "      <td>1</td>\n",
       "      <td>1.000799</td>\n",
       "    </tr>\n",
       "    <tr>\n",
       "      <th>H</th>\n",
       "      <td>1</td>\n",
       "      <td>1</td>\n",
       "      <td>1</td>\n",
       "      <td>1.174423</td>\n",
       "      <td>1.000000</td>\n",
       "      <td>0.844239</td>\n",
       "      <td>1</td>\n",
       "      <td>1</td>\n",
       "      <td>1</td>\n",
       "      <td>1.000000</td>\n",
       "      <td>1.257724</td>\n",
       "      <td>1.253172</td>\n",
       "      <td>0.570023</td>\n",
       "      <td>1</td>\n",
       "      <td>1</td>\n",
       "      <td>1</td>\n",
       "      <td>1.008774</td>\n",
       "    </tr>\n",
       "    <tr>\n",
       "      <th>I</th>\n",
       "      <td>1</td>\n",
       "      <td>1</td>\n",
       "      <td>1</td>\n",
       "      <td>0.833604</td>\n",
       "      <td>1.000000</td>\n",
       "      <td>1.051559</td>\n",
       "      <td>1</td>\n",
       "      <td>1</td>\n",
       "      <td>1</td>\n",
       "      <td>1.000000</td>\n",
       "      <td>0.816644</td>\n",
       "      <td>0.818977</td>\n",
       "      <td>1.033493</td>\n",
       "      <td>1</td>\n",
       "      <td>1</td>\n",
       "      <td>1</td>\n",
       "      <td>0.999004</td>\n",
       "    </tr>\n",
       "    <tr>\n",
       "      <th>J</th>\n",
       "      <td>1</td>\n",
       "      <td>1</td>\n",
       "      <td>1</td>\n",
       "      <td>0.584896</td>\n",
       "      <td>1.000000</td>\n",
       "      <td>0.611796</td>\n",
       "      <td>1</td>\n",
       "      <td>1</td>\n",
       "      <td>1</td>\n",
       "      <td>1.000000</td>\n",
       "      <td>1.875924</td>\n",
       "      <td>1.843071</td>\n",
       "      <td>0.238046</td>\n",
       "      <td>1</td>\n",
       "      <td>1</td>\n",
       "      <td>1</td>\n",
       "      <td>0.994502</td>\n",
       "    </tr>\n",
       "    <tr>\n",
       "      <th>K</th>\n",
       "      <td>1</td>\n",
       "      <td>1</td>\n",
       "      <td>1</td>\n",
       "      <td>0.907061</td>\n",
       "      <td>1.000000</td>\n",
       "      <td>0.525003</td>\n",
       "      <td>1</td>\n",
       "      <td>1</td>\n",
       "      <td>1</td>\n",
       "      <td>1.000000</td>\n",
       "      <td>0.919030</td>\n",
       "      <td>0.919356</td>\n",
       "      <td>1.415501</td>\n",
       "      <td>1</td>\n",
       "      <td>1</td>\n",
       "      <td>1</td>\n",
       "      <td>1.005918</td>\n",
       "    </tr>\n",
       "    <tr>\n",
       "      <th>L</th>\n",
       "      <td>1</td>\n",
       "      <td>1</td>\n",
       "      <td>1</td>\n",
       "      <td>0.872548</td>\n",
       "      <td>0.128603</td>\n",
       "      <td>0.962771</td>\n",
       "      <td>1</td>\n",
       "      <td>1</td>\n",
       "      <td>1</td>\n",
       "      <td>0.128603</td>\n",
       "      <td>0.834264</td>\n",
       "      <td>0.836717</td>\n",
       "      <td>1.156349</td>\n",
       "      <td>1</td>\n",
       "      <td>1</td>\n",
       "      <td>1</td>\n",
       "      <td>0.999809</td>\n",
       "    </tr>\n",
       "    <tr>\n",
       "      <th>M</th>\n",
       "      <td>1</td>\n",
       "      <td>1</td>\n",
       "      <td>1</td>\n",
       "      <td>0.705307</td>\n",
       "      <td>1.000000</td>\n",
       "      <td>1.893373</td>\n",
       "      <td>1</td>\n",
       "      <td>1</td>\n",
       "      <td>1</td>\n",
       "      <td>1.000000</td>\n",
       "      <td>0.639991</td>\n",
       "      <td>0.639660</td>\n",
       "      <td>1.221732</td>\n",
       "      <td>1</td>\n",
       "      <td>1</td>\n",
       "      <td>1</td>\n",
       "      <td>1.000529</td>\n",
       "    </tr>\n",
       "    <tr>\n",
       "      <th>N</th>\n",
       "      <td>1</td>\n",
       "      <td>1</td>\n",
       "      <td>1</td>\n",
       "      <td>0.886648</td>\n",
       "      <td>1.000000</td>\n",
       "      <td>1.000000</td>\n",
       "      <td>1</td>\n",
       "      <td>1</td>\n",
       "      <td>1</td>\n",
       "      <td>1.000000</td>\n",
       "      <td>0.873911</td>\n",
       "      <td>0.856901</td>\n",
       "      <td>1.144807</td>\n",
       "      <td>1</td>\n",
       "      <td>1</td>\n",
       "      <td>1</td>\n",
       "      <td>0.997649</td>\n",
       "    </tr>\n",
       "    <tr>\n",
       "      <th>O</th>\n",
       "      <td>1</td>\n",
       "      <td>1</td>\n",
       "      <td>1</td>\n",
       "      <td>1.270474</td>\n",
       "      <td>1.000000</td>\n",
       "      <td>1.610536</td>\n",
       "      <td>1</td>\n",
       "      <td>1</td>\n",
       "      <td>1</td>\n",
       "      <td>1.000000</td>\n",
       "      <td>1.227886</td>\n",
       "      <td>1.227852</td>\n",
       "      <td>1.298691</td>\n",
       "      <td>1</td>\n",
       "      <td>1</td>\n",
       "      <td>1</td>\n",
       "      <td>0.993040</td>\n",
       "    </tr>\n",
       "    <tr>\n",
       "      <th>P</th>\n",
       "      <td>1</td>\n",
       "      <td>1</td>\n",
       "      <td>1</td>\n",
       "      <td>0.892950</td>\n",
       "      <td>1.000000</td>\n",
       "      <td>3.010385</td>\n",
       "      <td>1</td>\n",
       "      <td>1</td>\n",
       "      <td>1</td>\n",
       "      <td>1.000000</td>\n",
       "      <td>0.935034</td>\n",
       "      <td>0.942992</td>\n",
       "      <td>1.276961</td>\n",
       "      <td>1</td>\n",
       "      <td>1</td>\n",
       "      <td>1</td>\n",
       "      <td>0.992163</td>\n",
       "    </tr>\n",
       "    <tr>\n",
       "      <th>Q</th>\n",
       "      <td>1</td>\n",
       "      <td>1</td>\n",
       "      <td>1</td>\n",
       "      <td>0.795029</td>\n",
       "      <td>1.000000</td>\n",
       "      <td>2.038749</td>\n",
       "      <td>1</td>\n",
       "      <td>1</td>\n",
       "      <td>1</td>\n",
       "      <td>1.000000</td>\n",
       "      <td>0.885958</td>\n",
       "      <td>0.861969</td>\n",
       "      <td>0.513479</td>\n",
       "      <td>1</td>\n",
       "      <td>1</td>\n",
       "      <td>1</td>\n",
       "      <td>1.003949</td>\n",
       "    </tr>\n",
       "    <tr>\n",
       "      <th>R</th>\n",
       "      <td>1</td>\n",
       "      <td>1</td>\n",
       "      <td>1</td>\n",
       "      <td>0.861443</td>\n",
       "      <td>1.000000</td>\n",
       "      <td>2.136305</td>\n",
       "      <td>1</td>\n",
       "      <td>1</td>\n",
       "      <td>1</td>\n",
       "      <td>1.000000</td>\n",
       "      <td>0.879120</td>\n",
       "      <td>0.882303</td>\n",
       "      <td>1.721760</td>\n",
       "      <td>1</td>\n",
       "      <td>1</td>\n",
       "      <td>1</td>\n",
       "      <td>0.997937</td>\n",
       "    </tr>\n",
       "    <tr>\n",
       "      <th>S</th>\n",
       "      <td>1</td>\n",
       "      <td>1</td>\n",
       "      <td>1</td>\n",
       "      <td>1.377391</td>\n",
       "      <td>1.000000</td>\n",
       "      <td>1.000000</td>\n",
       "      <td>1</td>\n",
       "      <td>1</td>\n",
       "      <td>1</td>\n",
       "      <td>1.000000</td>\n",
       "      <td>4.525884</td>\n",
       "      <td>4.671129</td>\n",
       "      <td>0.233845</td>\n",
       "      <td>1</td>\n",
       "      <td>1</td>\n",
       "      <td>1</td>\n",
       "      <td>1.012338</td>\n",
       "    </tr>\n",
       "    <tr>\n",
       "      <th>T</th>\n",
       "      <td>1</td>\n",
       "      <td>1</td>\n",
       "      <td>1</td>\n",
       "      <td>1.000000</td>\n",
       "      <td>1.000000</td>\n",
       "      <td>1.000000</td>\n",
       "      <td>1</td>\n",
       "      <td>1</td>\n",
       "      <td>1</td>\n",
       "      <td>1.000000</td>\n",
       "      <td>1.000000</td>\n",
       "      <td>1.000000</td>\n",
       "      <td>1.000000</td>\n",
       "      <td>1</td>\n",
       "      <td>1</td>\n",
       "      <td>1</td>\n",
       "      <td>1.200569</td>\n",
       "    </tr>\n",
       "    <tr>\n",
       "      <th>Z</th>\n",
       "      <td>1</td>\n",
       "      <td>1</td>\n",
       "      <td>1</td>\n",
       "      <td>1.813709</td>\n",
       "      <td>1.000000</td>\n",
       "      <td>0.951258</td>\n",
       "      <td>1</td>\n",
       "      <td>1</td>\n",
       "      <td>1</td>\n",
       "      <td>1.000000</td>\n",
       "      <td>1.543613</td>\n",
       "      <td>1.459483</td>\n",
       "      <td>10.733361</td>\n",
       "      <td>1</td>\n",
       "      <td>1</td>\n",
       "      <td>1</td>\n",
       "      <td>0.993239</td>\n",
       "    </tr>\n",
       "  </tbody>\n",
       "</table>\n",
       "</div>"
      ],
      "text/plain": [
       "   I_1_2  I_3  I_4       I_5       I_6       I_7  I_8  I_9  I_10      I_11  \\\n",
       "A      1    1    1  1.978303  1.000000  1.450562    1    1     1  1.000000   \n",
       "B      1    1    1  1.289234  1.000000  1.000000    1    1     1  1.000000   \n",
       "C      1    1    1  1.058908  1.000000  0.663964    1    1     1  1.000000   \n",
       "D      1    1    1  0.944195  1.000000  0.507686    1    1     1  1.000000   \n",
       "E      1    1    1  0.935678  1.000000  0.978687    1    1     1  1.000000   \n",
       "F      1    1    1  1.250299  1.000000  0.975942    1    1     1  1.000000   \n",
       "G      1    1    1  0.849113  1.000000  1.014035    1    1     1  1.000000   \n",
       "H      1    1    1  1.174423  1.000000  0.844239    1    1     1  1.000000   \n",
       "I      1    1    1  0.833604  1.000000  1.051559    1    1     1  1.000000   \n",
       "J      1    1    1  0.584896  1.000000  0.611796    1    1     1  1.000000   \n",
       "K      1    1    1  0.907061  1.000000  0.525003    1    1     1  1.000000   \n",
       "L      1    1    1  0.872548  0.128603  0.962771    1    1     1  0.128603   \n",
       "M      1    1    1  0.705307  1.000000  1.893373    1    1     1  1.000000   \n",
       "N      1    1    1  0.886648  1.000000  1.000000    1    1     1  1.000000   \n",
       "O      1    1    1  1.270474  1.000000  1.610536    1    1     1  1.000000   \n",
       "P      1    1    1  0.892950  1.000000  3.010385    1    1     1  1.000000   \n",
       "Q      1    1    1  0.795029  1.000000  2.038749    1    1     1  1.000000   \n",
       "R      1    1    1  0.861443  1.000000  2.136305    1    1     1  1.000000   \n",
       "S      1    1    1  1.377391  1.000000  1.000000    1    1     1  1.000000   \n",
       "T      1    1    1  1.000000  1.000000  1.000000    1    1     1  1.000000   \n",
       "Z      1    1    1  1.813709  1.000000  0.951258    1    1     1  1.000000   \n",
       "\n",
       "       I_12      I_13       I_14  I_15  I_16  I_17      I_18  \n",
       "A  2.097394  2.083647   1.510394     1     1     1  0.998879  \n",
       "B  1.247905  1.135235   2.667904     1     1     1  1.004093  \n",
       "C  0.920723  0.915734   3.750890     1     1     1  0.999527  \n",
       "D  1.124056  1.125592   0.389686     1     1     1  0.985332  \n",
       "E  0.863557  0.862135   0.727364     1     1     1  0.999382  \n",
       "F  1.388019  1.393393   0.920263     1     1     1  1.000938  \n",
       "G  1.028075  1.033862   0.795692     1     1     1  1.000799  \n",
       "H  1.257724  1.253172   0.570023     1     1     1  1.008774  \n",
       "I  0.816644  0.818977   1.033493     1     1     1  0.999004  \n",
       "J  1.875924  1.843071   0.238046     1     1     1  0.994502  \n",
       "K  0.919030  0.919356   1.415501     1     1     1  1.005918  \n",
       "L  0.834264  0.836717   1.156349     1     1     1  0.999809  \n",
       "M  0.639991  0.639660   1.221732     1     1     1  1.000529  \n",
       "N  0.873911  0.856901   1.144807     1     1     1  0.997649  \n",
       "O  1.227886  1.227852   1.298691     1     1     1  0.993040  \n",
       "P  0.935034  0.942992   1.276961     1     1     1  0.992163  \n",
       "Q  0.885958  0.861969   0.513479     1     1     1  1.003949  \n",
       "R  0.879120  0.882303   1.721760     1     1     1  0.997937  \n",
       "S  4.525884  4.671129   0.233845     1     1     1  1.012338  \n",
       "T  1.000000  1.000000   1.000000     1     1     1  1.200569  \n",
       "Z  1.543613  1.459483  10.733361     1     1     1  0.993239  "
      ]
     },
     "execution_count": 24,
     "metadata": {},
     "output_type": "execute_result"
    }
   ],
   "source": [
    "para_1"
   ]
  },
  {
   "cell_type": "markdown",
   "metadata": {},
   "source": [
    "### 保存"
   ]
  },
  {
   "cell_type": "code",
   "execution_count": 25,
   "metadata": {
    "ExecuteTime": {
     "end_time": "2022-06-30T02:28:18.775636Z",
     "start_time": "2022-06-30T02:28:18.761673Z"
    }
   },
   "outputs": [],
   "source": [
    "path_para = './para_half_1.csv'\n",
    "para_1.to_csv(path_para)"
   ]
  },
  {
   "cell_type": "markdown",
   "metadata": {},
   "source": [
    "# 企业规模调节参数"
   ]
  },
  {
   "cell_type": "markdown",
   "metadata": {},
   "source": [
    "## 划分规模"
   ]
  },
  {
   "cell_type": "code",
   "execution_count": 26,
   "metadata": {
    "ExecuteTime": {
     "end_time": "2022-06-30T02:28:18.822736Z",
     "start_time": "2022-06-30T02:28:18.777630Z"
    }
   },
   "outputs": [
    {
     "data": {
      "text/plain": [
       "scale\n",
       "1    1108341\n",
       "2     604635\n",
       "3     103764\n",
       "4       5252\n",
       "5       5031\n",
       "dtype: int64"
      ]
     },
     "execution_count": 26,
     "metadata": {},
     "output_type": "execute_result"
    }
   ],
   "source": [
    "grouped_scale = dc.groupby('scale')\n",
    "grouped_scale.size()"
   ]
  },
  {
   "cell_type": "code",
   "execution_count": 27,
   "metadata": {
    "ExecuteTime": {
     "end_time": "2022-06-30T02:28:19.283459Z",
     "start_time": "2022-06-30T02:28:18.823689Z"
    }
   },
   "outputs": [],
   "source": [
    "group_1 = grouped_scale.get_group(1).reset_index()\n",
    "group_2 = grouped_scale.get_group(2).reset_index()\n",
    "group_3 = grouped_scale.get_group(3).reset_index()\n",
    "group_4 = grouped_scale.get_group(4).reset_index()\n",
    "group_5 = grouped_scale.get_group(5).reset_index()"
   ]
  },
  {
   "cell_type": "markdown",
   "metadata": {},
   "source": [
    "## 按规模计算平均值"
   ]
  },
  {
   "cell_type": "code",
   "execution_count": 28,
   "metadata": {
    "ExecuteTime": {
     "end_time": "2022-06-30T02:28:19.363246Z",
     "start_time": "2022-06-30T02:28:19.290440Z"
    }
   },
   "outputs": [
    {
     "name": "stderr",
     "output_type": "stream",
     "text": [
      "100%|███████████████████████████████████████████████████████████████████████████████████| 9/9 [00:00<00:00, 158.32it/s]\n"
     ]
    }
   ],
   "source": [
    "group_list = [1, 2, 3, 4, 5]\n",
    "\n",
    "X5_mean_S = []\n",
    "X6_mean_S = []\n",
    "X7_mean_S = []\n",
    "X10_mean_S = []\n",
    "X11_mean_S = []\n",
    "X12_mean_S = []\n",
    "X13_mean_S = []\n",
    "X14_mean_S = []\n",
    "\n",
    "X18_mean_S = []\n",
    "\n",
    "for i in tqdm(feature_list):\n",
    "    # 一下语句把固定的string改为变量名\n",
    "    temp_mean = np.str(i) + '_mean_S'\n",
    "    for j in group_list:\n",
    "        temp_alpha = 'group_' + np.str(j)\n",
    "        eval(temp_mean).append(eval(temp_alpha)[i].mean())"
   ]
  },
  {
   "cell_type": "markdown",
   "metadata": {},
   "source": [
    "## 调节参数计算"
   ]
  },
  {
   "cell_type": "code",
   "execution_count": 29,
   "metadata": {
    "ExecuteTime": {
     "end_time": "2022-06-30T02:28:19.379203Z",
     "start_time": "2022-06-30T02:28:19.365242Z"
    }
   },
   "outputs": [],
   "source": [
    "# 定义列表用来存储行业调节参数\n",
    "a_5_s = []\n",
    "a_6_s = []\n",
    "a_7_s = []\n",
    "a_10_s = []\n",
    "a_11_s = []\n",
    "a_12_s = []\n",
    "a_13_s = []\n",
    "a_14_s = []\n",
    "\n",
    "a_18_s = []"
   ]
  },
  {
   "cell_type": "code",
   "execution_count": 30,
   "metadata": {
    "ExecuteTime": {
     "end_time": "2022-06-30T02:28:19.395160Z",
     "start_time": "2022-06-30T02:28:19.381197Z"
    }
   },
   "outputs": [],
   "source": [
    "scale_num = 5\n",
    "def scale_parameter(temp_mean_all, temp_mean, temp_list):\n",
    "    for i in range(scale_num):\n",
    "        if temp_mean[i] != 0:\n",
    "            temp_list.append(temp_mean_all / temp_mean[i])\n",
    "        else:\n",
    "            temp_list.append(1) "
   ]
  },
  {
   "cell_type": "code",
   "execution_count": 31,
   "metadata": {
    "ExecuteTime": {
     "end_time": "2022-06-30T02:28:19.411117Z",
     "start_time": "2022-06-30T02:28:19.397155Z"
    }
   },
   "outputs": [],
   "source": [
    "scale_parameter(X5_mean_all, X5_mean_S, a_5_s)\n",
    "scale_parameter(X6_mean_all, X6_mean_S, a_6_s)\n",
    "scale_parameter(X7_mean_all, X7_mean_S, a_7_s)\n",
    "scale_parameter(X10_mean_all, X10_mean_S, a_10_s)\n",
    "scale_parameter(X11_mean_all, X11_mean_S, a_11_s)\n",
    "scale_parameter(X12_mean_all, X12_mean_S, a_12_s)\n",
    "scale_parameter(X13_mean_all, X13_mean_S, a_13_s)\n",
    "scale_parameter(X14_mean_all, X14_mean_S, a_14_s)\n",
    "\n",
    "scale_parameter(X18_mean_all, X18_mean_S, a_18_s)"
   ]
  },
  {
   "cell_type": "markdown",
   "metadata": {},
   "source": [
    "## 调节参数存储"
   ]
  },
  {
   "cell_type": "code",
   "execution_count": 32,
   "metadata": {
    "ExecuteTime": {
     "end_time": "2022-06-30T02:28:19.427077Z",
     "start_time": "2022-06-30T02:28:19.413113Z"
    }
   },
   "outputs": [],
   "source": [
    "lis = ['N1', 'N2', 'N3', 'N4', 'N5']\n",
    "para_2 = pd.DataFrame(data=None, \n",
    "                      columns=['S_1_2', 'S_3', 'S_4', 'S_5', 'S_6', 'S_7', 'S_8', 'S_9', 'S_10', 'S_11', 'S_12', 'S_13', 'S_14', 'S_15', 'S_16', 'S_17', 'S_18'],\n",
    "                      index=lis)"
   ]
  },
  {
   "cell_type": "code",
   "execution_count": 33,
   "metadata": {
    "ExecuteTime": {
     "end_time": "2022-06-30T02:28:19.457992Z",
     "start_time": "2022-06-30T02:28:19.429070Z"
    }
   },
   "outputs": [
    {
     "data": {
      "text/html": [
       "<div>\n",
       "<style scoped>\n",
       "    .dataframe tbody tr th:only-of-type {\n",
       "        vertical-align: middle;\n",
       "    }\n",
       "\n",
       "    .dataframe tbody tr th {\n",
       "        vertical-align: top;\n",
       "    }\n",
       "\n",
       "    .dataframe thead th {\n",
       "        text-align: right;\n",
       "    }\n",
       "</style>\n",
       "<table border=\"1\" class=\"dataframe\">\n",
       "  <thead>\n",
       "    <tr style=\"text-align: right;\">\n",
       "      <th></th>\n",
       "      <th>S_1_2</th>\n",
       "      <th>S_3</th>\n",
       "      <th>S_4</th>\n",
       "      <th>S_5</th>\n",
       "      <th>S_6</th>\n",
       "      <th>S_7</th>\n",
       "      <th>S_8</th>\n",
       "      <th>S_9</th>\n",
       "      <th>S_10</th>\n",
       "      <th>S_11</th>\n",
       "      <th>S_12</th>\n",
       "      <th>S_13</th>\n",
       "      <th>S_14</th>\n",
       "      <th>S_15</th>\n",
       "      <th>S_16</th>\n",
       "      <th>S_17</th>\n",
       "      <th>S_18</th>\n",
       "    </tr>\n",
       "  </thead>\n",
       "  <tbody>\n",
       "    <tr>\n",
       "      <th>N1</th>\n",
       "      <td>NaN</td>\n",
       "      <td>NaN</td>\n",
       "      <td>NaN</td>\n",
       "      <td>NaN</td>\n",
       "      <td>NaN</td>\n",
       "      <td>NaN</td>\n",
       "      <td>NaN</td>\n",
       "      <td>NaN</td>\n",
       "      <td>NaN</td>\n",
       "      <td>NaN</td>\n",
       "      <td>NaN</td>\n",
       "      <td>NaN</td>\n",
       "      <td>NaN</td>\n",
       "      <td>NaN</td>\n",
       "      <td>NaN</td>\n",
       "      <td>NaN</td>\n",
       "      <td>NaN</td>\n",
       "    </tr>\n",
       "    <tr>\n",
       "      <th>N2</th>\n",
       "      <td>NaN</td>\n",
       "      <td>NaN</td>\n",
       "      <td>NaN</td>\n",
       "      <td>NaN</td>\n",
       "      <td>NaN</td>\n",
       "      <td>NaN</td>\n",
       "      <td>NaN</td>\n",
       "      <td>NaN</td>\n",
       "      <td>NaN</td>\n",
       "      <td>NaN</td>\n",
       "      <td>NaN</td>\n",
       "      <td>NaN</td>\n",
       "      <td>NaN</td>\n",
       "      <td>NaN</td>\n",
       "      <td>NaN</td>\n",
       "      <td>NaN</td>\n",
       "      <td>NaN</td>\n",
       "    </tr>\n",
       "    <tr>\n",
       "      <th>N3</th>\n",
       "      <td>NaN</td>\n",
       "      <td>NaN</td>\n",
       "      <td>NaN</td>\n",
       "      <td>NaN</td>\n",
       "      <td>NaN</td>\n",
       "      <td>NaN</td>\n",
       "      <td>NaN</td>\n",
       "      <td>NaN</td>\n",
       "      <td>NaN</td>\n",
       "      <td>NaN</td>\n",
       "      <td>NaN</td>\n",
       "      <td>NaN</td>\n",
       "      <td>NaN</td>\n",
       "      <td>NaN</td>\n",
       "      <td>NaN</td>\n",
       "      <td>NaN</td>\n",
       "      <td>NaN</td>\n",
       "    </tr>\n",
       "    <tr>\n",
       "      <th>N4</th>\n",
       "      <td>NaN</td>\n",
       "      <td>NaN</td>\n",
       "      <td>NaN</td>\n",
       "      <td>NaN</td>\n",
       "      <td>NaN</td>\n",
       "      <td>NaN</td>\n",
       "      <td>NaN</td>\n",
       "      <td>NaN</td>\n",
       "      <td>NaN</td>\n",
       "      <td>NaN</td>\n",
       "      <td>NaN</td>\n",
       "      <td>NaN</td>\n",
       "      <td>NaN</td>\n",
       "      <td>NaN</td>\n",
       "      <td>NaN</td>\n",
       "      <td>NaN</td>\n",
       "      <td>NaN</td>\n",
       "    </tr>\n",
       "    <tr>\n",
       "      <th>N5</th>\n",
       "      <td>NaN</td>\n",
       "      <td>NaN</td>\n",
       "      <td>NaN</td>\n",
       "      <td>NaN</td>\n",
       "      <td>NaN</td>\n",
       "      <td>NaN</td>\n",
       "      <td>NaN</td>\n",
       "      <td>NaN</td>\n",
       "      <td>NaN</td>\n",
       "      <td>NaN</td>\n",
       "      <td>NaN</td>\n",
       "      <td>NaN</td>\n",
       "      <td>NaN</td>\n",
       "      <td>NaN</td>\n",
       "      <td>NaN</td>\n",
       "      <td>NaN</td>\n",
       "      <td>NaN</td>\n",
       "    </tr>\n",
       "  </tbody>\n",
       "</table>\n",
       "</div>"
      ],
      "text/plain": [
       "   S_1_2  S_3  S_4  S_5  S_6  S_7  S_8  S_9 S_10 S_11 S_12 S_13 S_14 S_15  \\\n",
       "N1   NaN  NaN  NaN  NaN  NaN  NaN  NaN  NaN  NaN  NaN  NaN  NaN  NaN  NaN   \n",
       "N2   NaN  NaN  NaN  NaN  NaN  NaN  NaN  NaN  NaN  NaN  NaN  NaN  NaN  NaN   \n",
       "N3   NaN  NaN  NaN  NaN  NaN  NaN  NaN  NaN  NaN  NaN  NaN  NaN  NaN  NaN   \n",
       "N4   NaN  NaN  NaN  NaN  NaN  NaN  NaN  NaN  NaN  NaN  NaN  NaN  NaN  NaN   \n",
       "N5   NaN  NaN  NaN  NaN  NaN  NaN  NaN  NaN  NaN  NaN  NaN  NaN  NaN  NaN   \n",
       "\n",
       "   S_16 S_17 S_18  \n",
       "N1  NaN  NaN  NaN  \n",
       "N2  NaN  NaN  NaN  \n",
       "N3  NaN  NaN  NaN  \n",
       "N4  NaN  NaN  NaN  \n",
       "N5  NaN  NaN  NaN  "
      ]
     },
     "execution_count": 33,
     "metadata": {},
     "output_type": "execute_result"
    }
   ],
   "source": [
    "para_2"
   ]
  },
  {
   "cell_type": "code",
   "execution_count": 34,
   "metadata": {
    "ExecuteTime": {
     "end_time": "2022-06-30T02:28:19.489907Z",
     "start_time": "2022-06-30T02:28:19.459987Z"
    }
   },
   "outputs": [
    {
     "data": {
      "text/html": [
       "<div>\n",
       "<style scoped>\n",
       "    .dataframe tbody tr th:only-of-type {\n",
       "        vertical-align: middle;\n",
       "    }\n",
       "\n",
       "    .dataframe tbody tr th {\n",
       "        vertical-align: top;\n",
       "    }\n",
       "\n",
       "    .dataframe thead th {\n",
       "        text-align: right;\n",
       "    }\n",
       "</style>\n",
       "<table border=\"1\" class=\"dataframe\">\n",
       "  <thead>\n",
       "    <tr style=\"text-align: right;\">\n",
       "      <th></th>\n",
       "      <th>S_1_2</th>\n",
       "      <th>S_3</th>\n",
       "      <th>S_4</th>\n",
       "      <th>S_5</th>\n",
       "      <th>S_6</th>\n",
       "      <th>S_7</th>\n",
       "      <th>S_8</th>\n",
       "      <th>S_9</th>\n",
       "      <th>S_10</th>\n",
       "      <th>S_11</th>\n",
       "      <th>S_12</th>\n",
       "      <th>S_13</th>\n",
       "      <th>S_14</th>\n",
       "      <th>S_15</th>\n",
       "      <th>S_16</th>\n",
       "      <th>S_17</th>\n",
       "      <th>S_18</th>\n",
       "    </tr>\n",
       "  </thead>\n",
       "  <tbody>\n",
       "    <tr>\n",
       "      <th>N1</th>\n",
       "      <td>1</td>\n",
       "      <td>1</td>\n",
       "      <td>1</td>\n",
       "      <td>1.396227</td>\n",
       "      <td>1.385332</td>\n",
       "      <td>1.512315</td>\n",
       "      <td>1</td>\n",
       "      <td>1</td>\n",
       "      <td>1.00000</td>\n",
       "      <td>1.00000</td>\n",
       "      <td>1.879091</td>\n",
       "      <td>1.887042</td>\n",
       "      <td>0.608735</td>\n",
       "      <td>1</td>\n",
       "      <td>1</td>\n",
       "      <td>1</td>\n",
       "      <td>0.999994</td>\n",
       "    </tr>\n",
       "    <tr>\n",
       "      <th>N2</th>\n",
       "      <td>1</td>\n",
       "      <td>1</td>\n",
       "      <td>1</td>\n",
       "      <td>0.757198</td>\n",
       "      <td>0.760318</td>\n",
       "      <td>1.006513</td>\n",
       "      <td>1</td>\n",
       "      <td>1</td>\n",
       "      <td>0.33094</td>\n",
       "      <td>0.33094</td>\n",
       "      <td>0.659953</td>\n",
       "      <td>0.660917</td>\n",
       "      <td>126.637482</td>\n",
       "      <td>1</td>\n",
       "      <td>1</td>\n",
       "      <td>1</td>\n",
       "      <td>1.000170</td>\n",
       "    </tr>\n",
       "    <tr>\n",
       "      <th>N3</th>\n",
       "      <td>1</td>\n",
       "      <td>1</td>\n",
       "      <td>1</td>\n",
       "      <td>0.503396</td>\n",
       "      <td>0.510089</td>\n",
       "      <td>0.256194</td>\n",
       "      <td>1</td>\n",
       "      <td>1</td>\n",
       "      <td>1.00000</td>\n",
       "      <td>1.00000</td>\n",
       "      <td>0.370237</td>\n",
       "      <td>0.366315</td>\n",
       "      <td>68.303087</td>\n",
       "      <td>1</td>\n",
       "      <td>1</td>\n",
       "      <td>1</td>\n",
       "      <td>0.999899</td>\n",
       "    </tr>\n",
       "    <tr>\n",
       "      <th>N4</th>\n",
       "      <td>1</td>\n",
       "      <td>1</td>\n",
       "      <td>1</td>\n",
       "      <td>0.387299</td>\n",
       "      <td>0.393095</td>\n",
       "      <td>0.146174</td>\n",
       "      <td>1</td>\n",
       "      <td>1</td>\n",
       "      <td>1.00000</td>\n",
       "      <td>1.00000</td>\n",
       "      <td>0.277971</td>\n",
       "      <td>0.273545</td>\n",
       "      <td>1.000000</td>\n",
       "      <td>1</td>\n",
       "      <td>1</td>\n",
       "      <td>1</td>\n",
       "      <td>1.002125</td>\n",
       "    </tr>\n",
       "    <tr>\n",
       "      <th>N5</th>\n",
       "      <td>1</td>\n",
       "      <td>1</td>\n",
       "      <td>1</td>\n",
       "      <td>0.335244</td>\n",
       "      <td>0.336635</td>\n",
       "      <td>0.095877</td>\n",
       "      <td>1</td>\n",
       "      <td>1</td>\n",
       "      <td>1.00000</td>\n",
       "      <td>1.00000</td>\n",
       "      <td>0.230168</td>\n",
       "      <td>0.224861</td>\n",
       "      <td>1.000000</td>\n",
       "      <td>1</td>\n",
       "      <td>1</td>\n",
       "      <td>1</td>\n",
       "      <td>0.981058</td>\n",
       "    </tr>\n",
       "  </tbody>\n",
       "</table>\n",
       "</div>"
      ],
      "text/plain": [
       "    S_1_2  S_3  S_4       S_5       S_6       S_7  S_8  S_9     S_10     S_11  \\\n",
       "N1      1    1    1  1.396227  1.385332  1.512315    1    1  1.00000  1.00000   \n",
       "N2      1    1    1  0.757198  0.760318  1.006513    1    1  0.33094  0.33094   \n",
       "N3      1    1    1  0.503396  0.510089  0.256194    1    1  1.00000  1.00000   \n",
       "N4      1    1    1  0.387299  0.393095  0.146174    1    1  1.00000  1.00000   \n",
       "N5      1    1    1  0.335244  0.336635  0.095877    1    1  1.00000  1.00000   \n",
       "\n",
       "        S_12      S_13        S_14  S_15  S_16  S_17      S_18  \n",
       "N1  1.879091  1.887042    0.608735     1     1     1  0.999994  \n",
       "N2  0.659953  0.660917  126.637482     1     1     1  1.000170  \n",
       "N3  0.370237  0.366315   68.303087     1     1     1  0.999899  \n",
       "N4  0.277971  0.273545    1.000000     1     1     1  1.002125  \n",
       "N5  0.230168  0.224861    1.000000     1     1     1  0.981058  "
      ]
     },
     "execution_count": 34,
     "metadata": {},
     "output_type": "execute_result"
    }
   ],
   "source": [
    "para_2['S_5'] = a_5_s\n",
    "para_2['S_6'] = a_6_s\n",
    "para_2['S_7'] = a_7_s\n",
    "para_2['S_10'] = a_10_s\n",
    "para_2['S_11'] = a_11_s\n",
    "para_2['S_12'] = a_12_s\n",
    "para_2['S_13'] = a_13_s\n",
    "para_2['S_14'] = a_14_s\n",
    "\n",
    "para_2['S_18'] = a_18_s\n",
    "\n",
    "para_2.fillna(value=1, inplace=True)\n",
    "para_2"
   ]
  },
  {
   "cell_type": "markdown",
   "metadata": {},
   "source": [
    "### 保存"
   ]
  },
  {
   "cell_type": "code",
   "execution_count": 35,
   "metadata": {
    "ExecuteTime": {
     "end_time": "2022-06-30T02:28:19.505865Z",
     "start_time": "2022-06-30T02:28:19.492902Z"
    }
   },
   "outputs": [],
   "source": [
    "path_para = './para_half_2.csv'\n",
    "para_2.to_csv(path_para)"
   ]
  },
  {
   "cell_type": "markdown",
   "metadata": {},
   "source": [
    "# 归一化处理(min-max标准化)"
   ]
  },
  {
   "cell_type": "code",
   "execution_count": 36,
   "metadata": {
    "ExecuteTime": {
     "end_time": "2022-06-30T02:28:20.090835Z",
     "start_time": "2022-06-30T02:28:19.507860Z"
    }
   },
   "outputs": [
    {
     "name": "stderr",
     "output_type": "stream",
     "text": [
      "100%|████████████████████████████████████████████████████████████████████████████████████| 9/9 [00:00<00:00, 16.01it/s]\n"
     ]
    }
   ],
   "source": [
    "for i in tqdm(feature_list):\n",
    "    dc[i] = (dc[i] - dc[i].min())/ (dc[i].max() - dc[i].min())"
   ]
  },
  {
   "cell_type": "code",
   "execution_count": 37,
   "metadata": {
    "ExecuteTime": {
     "end_time": "2022-06-30T02:28:20.771031Z",
     "start_time": "2022-06-30T02:28:20.092812Z"
    }
   },
   "outputs": [
    {
     "name": "stdout",
     "output_type": "stream",
     "text": [
      "<class 'pandas.core.frame.DataFrame'>\n",
      "Int64Index: 1827023 entries, 2420200000050231 to 442010000019652554\n",
      "Data columns (total 29 columns):\n",
      " #   Column      Non-Null Count    Dtype  \n",
      "---  ------      --------------    -----  \n",
      " 0   jjhklb      1827023 non-null  int64  \n",
      " 1   hydm        1827023 non-null  object \n",
      " 2   zczb        1827023 non-null  float64\n",
      " 3   jyzt        1827023 non-null  float64\n",
      " 4   qylx        1827023 non-null  int64  \n",
      " 5   tslx        1827023 non-null  int64  \n",
      " 6   new         1827023 non-null  object \n",
      " 7   time_scale  1827023 non-null  int64  \n",
      " 8   city        1827023 non-null  object \n",
      " 9   three       1827023 non-null  int64  \n",
      " 10  scale       1827023 non-null  int64  \n",
      " 11  foreign     1827023 non-null  int64  \n",
      " 12  X1_2        1827023 non-null  int64  \n",
      " 13  X3          1827023 non-null  int64  \n",
      " 14  X4          1827023 non-null  int64  \n",
      " 15  X5          1827023 non-null  float64\n",
      " 16  X6          1827023 non-null  float64\n",
      " 17  X7          1827023 non-null  float64\n",
      " 18  X8          1827023 non-null  int64  \n",
      " 19  X9          1827023 non-null  int64  \n",
      " 20  X10         1827023 non-null  float64\n",
      " 21  X11         1827023 non-null  float64\n",
      " 22  X12         1827023 non-null  float64\n",
      " 23  X13         1827023 non-null  float64\n",
      " 24  X14         1827023 non-null  float64\n",
      " 25  X15         1827023 non-null  int64  \n",
      " 26  X16         1827023 non-null  int64  \n",
      " 27  X17         1827023 non-null  int64  \n",
      " 28  X18         1827023 non-null  float64\n",
      "dtypes: float64(11), int64(15), object(3)\n",
      "memory usage: 482.7+ MB\n"
     ]
    }
   ],
   "source": [
    "dc.info(null_counts = True)"
   ]
  },
  {
   "cell_type": "code",
   "execution_count": 38,
   "metadata": {
    "ExecuteTime": {
     "end_time": "2022-06-30T02:28:21.483019Z",
     "start_time": "2022-06-30T02:28:20.772993Z"
    }
   },
   "outputs": [],
   "source": [
    "dc.fillna(value = 0.0, inplace=True)"
   ]
  },
  {
   "cell_type": "markdown",
   "metadata": {},
   "source": [
    "# 保存"
   ]
  },
  {
   "cell_type": "code",
   "execution_count": 39,
   "metadata": {
    "ExecuteTime": {
     "end_time": "2022-06-30T02:28:39.155315Z",
     "start_time": "2022-06-30T02:28:21.484914Z"
    }
   },
   "outputs": [],
   "source": [
    "path_dataclean_2 = './DataCleaning_quarterTwo_2.csv'\n",
    "dc.to_csv(path_dataclean_2)"
   ]
  }
 ],
 "metadata": {
  "hide_input": false,
  "kernelspec": {
   "display_name": "Python 3 (ipykernel)",
   "language": "python",
   "name": "python3"
  },
  "language_info": {
   "codemirror_mode": {
    "name": "ipython",
    "version": 3
   },
   "file_extension": ".py",
   "mimetype": "text/x-python",
   "name": "python",
   "nbconvert_exporter": "python",
   "pygments_lexer": "ipython3",
   "version": "3.8.0"
  },
  "toc": {
   "base_numbering": 1,
   "nav_menu": {},
   "number_sections": true,
   "sideBar": true,
   "skip_h1_title": false,
   "title_cell": "Table of Contents",
   "title_sidebar": "Contents",
   "toc_cell": true,
   "toc_position": {
    "height": "calc(100% - 180px)",
    "left": "10px",
    "top": "150px",
    "width": "384px"
   },
   "toc_section_display": true,
   "toc_window_display": true
  },
  "varInspector": {
   "cols": {
    "lenName": 16,
    "lenType": 16,
    "lenVar": 40
   },
   "kernels_config": {
    "python": {
     "delete_cmd_postfix": "",
     "delete_cmd_prefix": "del ",
     "library": "var_list.py",
     "varRefreshCmd": "print(var_dic_list())"
    },
    "r": {
     "delete_cmd_postfix": ") ",
     "delete_cmd_prefix": "rm(",
     "library": "var_list.r",
     "varRefreshCmd": "cat(var_dic_list()) "
    }
   },
   "types_to_exclude": [
    "module",
    "function",
    "builtin_function_or_method",
    "instance",
    "_Feature"
   ],
   "window_display": false
  }
 },
 "nbformat": 4,
 "nbformat_minor": 2
}
